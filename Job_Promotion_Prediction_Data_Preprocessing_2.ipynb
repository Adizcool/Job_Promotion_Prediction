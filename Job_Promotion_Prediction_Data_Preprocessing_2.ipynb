{
  "nbformat": 4,
  "nbformat_minor": 0,
  "metadata": {
    "colab": {
      "name": "Job_Promotion_Prediction_Data_Preprocessing_2.ipynb",
      "provenance": [],
      "collapsed_sections": [],
      "include_colab_link": true
    },
    "kernelspec": {
      "display_name": "Python 3",
      "language": "python",
      "name": "python3"
    },
    "language_info": {
      "codemirror_mode": {
        "name": "ipython",
        "version": 3
      },
      "file_extension": ".py",
      "mimetype": "text/x-python",
      "name": "python",
      "nbconvert_exporter": "python",
      "pygments_lexer": "ipython3",
      "version": "3.7.3"
    }
  },
  "cells": [
    {
      "cell_type": "markdown",
      "metadata": {
        "id": "view-in-github",
        "colab_type": "text"
      },
      "source": [
        "<a href=\"https://colab.research.google.com/github/Adizcool/Job_Promotion_Prediction/blob/main/Job_Promotion_Prediction_Data_Preprocessing_2.ipynb\" target=\"_parent\"><img src=\"https://colab.research.google.com/assets/colab-badge.svg\" alt=\"Open In Colab\"/></a>"
      ]
    },
    {
      "cell_type": "markdown",
      "metadata": {
        "id": "2GngkOcP4Pxi"
      },
      "source": [
        "**1) Install/ Import the required Python Packages/ Libraries**"
      ]
    },
    {
      "cell_type": "code",
      "metadata": {
        "id": "PJZqCSntal9U"
      },
      "source": [
        "#Import required python packages\n",
        "import pandas as pd\n",
        "import numpy as np\n",
        "import matplotlib.pyplot as plt\n",
        "import seaborn as sb\n",
        "from sklearn import preprocessing\n",
        "%matplotlib inline"
      ],
      "execution_count": 1,
      "outputs": []
    },
    {
      "cell_type": "markdown",
      "metadata": {
        "id": "AglVkOKL4WLi"
      },
      "source": [
        "**2) Mounting the Google Drive**"
      ]
    },
    {
      "cell_type": "code",
      "metadata": {
        "colab": {
          "base_uri": "https://localhost:8080/"
        },
        "id": "puBepcUNbuXJ",
        "outputId": "25af5d7e-fe97-4ae1-e372-8c66ea717f3a"
      },
      "source": [
        "# Mount the Google Drive\n",
        "from google.colab import drive\n",
        "drive.mount('/content/gdrive')"
      ],
      "execution_count": 2,
      "outputs": [
        {
          "output_type": "stream",
          "name": "stdout",
          "text": [
            "Mounted at /content/gdrive\n"
          ]
        }
      ]
    },
    {
      "cell_type": "markdown",
      "metadata": {
        "id": "Y3DiPDcD4eDR"
      },
      "source": [
        "**3) Read the Data file and check**"
      ]
    },
    {
      "cell_type": "code",
      "metadata": {
        "colab": {
          "base_uri": "https://localhost:8080/",
          "height": 261
        },
        "id": "aIhTjhU0al9e",
        "outputId": "d391787d-601f-4887-96ae-04d01098150b"
      },
      "source": [
        "# Read the Diabetes Data from .csv file and check the data shape (number of Rows and Columns)\n",
        "#df = pd.read_csv('gdrive/My Drive/Indi_ML_Training/Training-Sessions/MLP-Session25-05-Jun-2021/train_ctrUa4K.csv')\n",
        "df = pd.read_csv(\"gdrive/My Drive/Datasets/HR Analysis/train_HR_Analytics-Preprocessed.csv\")\n",
        "print(df.shape)\n",
        "df.head()"
      ],
      "execution_count": 3,
      "outputs": [
        {
          "output_type": "stream",
          "name": "stdout",
          "text": [
            "(5000, 20)\n"
          ]
        },
        {
          "output_type": "execute_result",
          "data": {
            "text/html": [
              "<div>\n",
              "<style scoped>\n",
              "    .dataframe tbody tr th:only-of-type {\n",
              "        vertical-align: middle;\n",
              "    }\n",
              "\n",
              "    .dataframe tbody tr th {\n",
              "        vertical-align: top;\n",
              "    }\n",
              "\n",
              "    .dataframe thead th {\n",
              "        text-align: right;\n",
              "    }\n",
              "</style>\n",
              "<table border=\"1\" class=\"dataframe\">\n",
              "  <thead>\n",
              "    <tr style=\"text-align: right;\">\n",
              "      <th></th>\n",
              "      <th>education</th>\n",
              "      <th>no_of_trainings</th>\n",
              "      <th>age</th>\n",
              "      <th>previous_year_rating</th>\n",
              "      <th>length_of_service</th>\n",
              "      <th>KPIs_met&gt;80%</th>\n",
              "      <th>awards_won?</th>\n",
              "      <th>avg_training_score</th>\n",
              "      <th>department_Finance</th>\n",
              "      <th>department_HR</th>\n",
              "      <th>department_Legal</th>\n",
              "      <th>department_Operations</th>\n",
              "      <th>department_Procurement</th>\n",
              "      <th>department_R&amp;D</th>\n",
              "      <th>department_Sales &amp; Marketing</th>\n",
              "      <th>deartment_Technology</th>\n",
              "      <th>gender_m</th>\n",
              "      <th>recruitment_channel_referred</th>\n",
              "      <th>recruitment_channel_sourcing</th>\n",
              "      <th>is_promoted</th>\n",
              "    </tr>\n",
              "  </thead>\n",
              "  <tbody>\n",
              "    <tr>\n",
              "      <th>0</th>\n",
              "      <td>1.531419</td>\n",
              "      <td>-0.406222</td>\n",
              "      <td>0.043929</td>\n",
              "      <td>1.210876</td>\n",
              "      <td>0.497985</td>\n",
              "      <td>1.013694</td>\n",
              "      <td>-0.247681</td>\n",
              "      <td>-1.226037</td>\n",
              "      <td>-0.205185</td>\n",
              "      <td>-0.202524</td>\n",
              "      <td>-0.123404</td>\n",
              "      <td>-0.513404</td>\n",
              "      <td>-0.413142</td>\n",
              "      <td>-0.131507</td>\n",
              "      <td>1.596439</td>\n",
              "      <td>-0.419095</td>\n",
              "      <td>-1.510958</td>\n",
              "      <td>-0.163383</td>\n",
              "      <td>1.182891</td>\n",
              "      <td>0</td>\n",
              "    </tr>\n",
              "    <tr>\n",
              "      <th>1</th>\n",
              "      <td>-0.664164</td>\n",
              "      <td>-0.406222</td>\n",
              "      <td>-0.622875</td>\n",
              "      <td>1.210876</td>\n",
              "      <td>-0.436058</td>\n",
              "      <td>-0.986491</td>\n",
              "      <td>-0.247681</td>\n",
              "      <td>-0.466453</td>\n",
              "      <td>-0.205185</td>\n",
              "      <td>-0.202524</td>\n",
              "      <td>-0.123404</td>\n",
              "      <td>1.947784</td>\n",
              "      <td>-0.413142</td>\n",
              "      <td>-0.131507</td>\n",
              "      <td>-0.626394</td>\n",
              "      <td>-0.419095</td>\n",
              "      <td>0.661832</td>\n",
              "      <td>-0.163383</td>\n",
              "      <td>-0.845386</td>\n",
              "      <td>0</td>\n",
              "    </tr>\n",
              "    <tr>\n",
              "      <th>2</th>\n",
              "      <td>-0.664164</td>\n",
              "      <td>-0.406222</td>\n",
              "      <td>-0.089432</td>\n",
              "      <td>-0.487645</td>\n",
              "      <td>0.264474</td>\n",
              "      <td>-0.986491</td>\n",
              "      <td>-0.247681</td>\n",
              "      <td>-1.156984</td>\n",
              "      <td>-0.205185</td>\n",
              "      <td>-0.202524</td>\n",
              "      <td>-0.123404</td>\n",
              "      <td>-0.513404</td>\n",
              "      <td>-0.413142</td>\n",
              "      <td>-0.131507</td>\n",
              "      <td>1.596439</td>\n",
              "      <td>-0.419095</td>\n",
              "      <td>0.661832</td>\n",
              "      <td>-0.163383</td>\n",
              "      <td>1.182891</td>\n",
              "      <td>0</td>\n",
              "    </tr>\n",
              "    <tr>\n",
              "      <th>3</th>\n",
              "      <td>-0.664164</td>\n",
              "      <td>1.420317</td>\n",
              "      <td>0.577372</td>\n",
              "      <td>-2.186166</td>\n",
              "      <td>0.965007</td>\n",
              "      <td>-0.986491</td>\n",
              "      <td>-0.247681</td>\n",
              "      <td>-1.156984</td>\n",
              "      <td>-0.205185</td>\n",
              "      <td>-0.202524</td>\n",
              "      <td>-0.123404</td>\n",
              "      <td>-0.513404</td>\n",
              "      <td>-0.413142</td>\n",
              "      <td>-0.131507</td>\n",
              "      <td>1.596439</td>\n",
              "      <td>-0.419095</td>\n",
              "      <td>0.661832</td>\n",
              "      <td>-0.163383</td>\n",
              "      <td>-0.845386</td>\n",
              "      <td>0</td>\n",
              "    </tr>\n",
              "    <tr>\n",
              "      <th>4</th>\n",
              "      <td>-0.664164</td>\n",
              "      <td>-0.406222</td>\n",
              "      <td>1.377536</td>\n",
              "      <td>-0.487645</td>\n",
              "      <td>-0.903080</td>\n",
              "      <td>-0.986491</td>\n",
              "      <td>-0.247681</td>\n",
              "      <td>0.431236</td>\n",
              "      <td>-0.205185</td>\n",
              "      <td>-0.202524</td>\n",
              "      <td>-0.123404</td>\n",
              "      <td>-0.513404</td>\n",
              "      <td>-0.413142</td>\n",
              "      <td>-0.131507</td>\n",
              "      <td>-0.626394</td>\n",
              "      <td>2.386093</td>\n",
              "      <td>0.661832</td>\n",
              "      <td>-0.163383</td>\n",
              "      <td>-0.845386</td>\n",
              "      <td>0</td>\n",
              "    </tr>\n",
              "  </tbody>\n",
              "</table>\n",
              "</div>"
            ],
            "text/plain": [
              "   education  no_of_trainings  ...  recruitment_channel_sourcing  is_promoted\n",
              "0   1.531419        -0.406222  ...                      1.182891            0\n",
              "1  -0.664164        -0.406222  ...                     -0.845386            0\n",
              "2  -0.664164        -0.406222  ...                      1.182891            0\n",
              "3  -0.664164         1.420317  ...                     -0.845386            0\n",
              "4  -0.664164        -0.406222  ...                     -0.845386            0\n",
              "\n",
              "[5 rows x 20 columns]"
            ]
          },
          "metadata": {},
          "execution_count": 3
        }
      ]
    },
    {
      "cell_type": "code",
      "metadata": {
        "colab": {
          "base_uri": "https://localhost:8080/"
        },
        "id": "uXs6Bq5U6otr",
        "outputId": "27cef5d5-b3e8-405b-f35f-ff5371a3a79c"
      },
      "source": [
        "df.info()"
      ],
      "execution_count": 4,
      "outputs": [
        {
          "output_type": "stream",
          "name": "stdout",
          "text": [
            "<class 'pandas.core.frame.DataFrame'>\n",
            "RangeIndex: 5000 entries, 0 to 4999\n",
            "Data columns (total 20 columns):\n",
            " #   Column                        Non-Null Count  Dtype  \n",
            "---  ------                        --------------  -----  \n",
            " 0   education                     5000 non-null   float64\n",
            " 1   no_of_trainings               5000 non-null   float64\n",
            " 2   age                           5000 non-null   float64\n",
            " 3   previous_year_rating          5000 non-null   float64\n",
            " 4   length_of_service             5000 non-null   float64\n",
            " 5   KPIs_met>80%                  5000 non-null   float64\n",
            " 6   awards_won?                   5000 non-null   float64\n",
            " 7   avg_training_score            5000 non-null   float64\n",
            " 8   department_Finance            5000 non-null   float64\n",
            " 9   department_HR                 5000 non-null   float64\n",
            " 10  department_Legal              5000 non-null   float64\n",
            " 11  department_Operations         5000 non-null   float64\n",
            " 12  department_Procurement        5000 non-null   float64\n",
            " 13  department_R&D                5000 non-null   float64\n",
            " 14  department_Sales & Marketing  5000 non-null   float64\n",
            " 15  deartment_Technology          5000 non-null   float64\n",
            " 16  gender_m                      5000 non-null   float64\n",
            " 17  recruitment_channel_referred  5000 non-null   float64\n",
            " 18  recruitment_channel_sourcing  5000 non-null   float64\n",
            " 19  is_promoted                   5000 non-null   int64  \n",
            "dtypes: float64(19), int64(1)\n",
            "memory usage: 781.4 KB\n"
          ]
        }
      ]
    },
    {
      "cell_type": "markdown",
      "metadata": {
        "id": "2n55Z7lAQgkH"
      },
      "source": [
        "##**VII) Check the Test accuracy using appropriate algorithm and Holdout Method.**"
      ]
    },
    {
      "cell_type": "markdown",
      "metadata": {
        "id": "Fem9YW14fIU6"
      },
      "source": [
        "##**Step-5: Slice X and y Values**"
      ]
    },
    {
      "cell_type": "code",
      "metadata": {
        "colab": {
          "base_uri": "https://localhost:8080/",
          "height": 243
        },
        "id": "pfwaOwx5fTwv",
        "outputId": "9a810a4d-3bc0-401c-bd36-a20a438785a7"
      },
      "source": [
        "X = df.drop(['is_promoted'], axis = 1)\n",
        "Y = df['is_promoted']\n",
        "X.head()"
      ],
      "execution_count": 5,
      "outputs": [
        {
          "output_type": "execute_result",
          "data": {
            "text/html": [
              "<div>\n",
              "<style scoped>\n",
              "    .dataframe tbody tr th:only-of-type {\n",
              "        vertical-align: middle;\n",
              "    }\n",
              "\n",
              "    .dataframe tbody tr th {\n",
              "        vertical-align: top;\n",
              "    }\n",
              "\n",
              "    .dataframe thead th {\n",
              "        text-align: right;\n",
              "    }\n",
              "</style>\n",
              "<table border=\"1\" class=\"dataframe\">\n",
              "  <thead>\n",
              "    <tr style=\"text-align: right;\">\n",
              "      <th></th>\n",
              "      <th>education</th>\n",
              "      <th>no_of_trainings</th>\n",
              "      <th>age</th>\n",
              "      <th>previous_year_rating</th>\n",
              "      <th>length_of_service</th>\n",
              "      <th>KPIs_met&gt;80%</th>\n",
              "      <th>awards_won?</th>\n",
              "      <th>avg_training_score</th>\n",
              "      <th>department_Finance</th>\n",
              "      <th>department_HR</th>\n",
              "      <th>department_Legal</th>\n",
              "      <th>department_Operations</th>\n",
              "      <th>department_Procurement</th>\n",
              "      <th>department_R&amp;D</th>\n",
              "      <th>department_Sales &amp; Marketing</th>\n",
              "      <th>deartment_Technology</th>\n",
              "      <th>gender_m</th>\n",
              "      <th>recruitment_channel_referred</th>\n",
              "      <th>recruitment_channel_sourcing</th>\n",
              "    </tr>\n",
              "  </thead>\n",
              "  <tbody>\n",
              "    <tr>\n",
              "      <th>0</th>\n",
              "      <td>1.531419</td>\n",
              "      <td>-0.406222</td>\n",
              "      <td>0.043929</td>\n",
              "      <td>1.210876</td>\n",
              "      <td>0.497985</td>\n",
              "      <td>1.013694</td>\n",
              "      <td>-0.247681</td>\n",
              "      <td>-1.226037</td>\n",
              "      <td>-0.205185</td>\n",
              "      <td>-0.202524</td>\n",
              "      <td>-0.123404</td>\n",
              "      <td>-0.513404</td>\n",
              "      <td>-0.413142</td>\n",
              "      <td>-0.131507</td>\n",
              "      <td>1.596439</td>\n",
              "      <td>-0.419095</td>\n",
              "      <td>-1.510958</td>\n",
              "      <td>-0.163383</td>\n",
              "      <td>1.182891</td>\n",
              "    </tr>\n",
              "    <tr>\n",
              "      <th>1</th>\n",
              "      <td>-0.664164</td>\n",
              "      <td>-0.406222</td>\n",
              "      <td>-0.622875</td>\n",
              "      <td>1.210876</td>\n",
              "      <td>-0.436058</td>\n",
              "      <td>-0.986491</td>\n",
              "      <td>-0.247681</td>\n",
              "      <td>-0.466453</td>\n",
              "      <td>-0.205185</td>\n",
              "      <td>-0.202524</td>\n",
              "      <td>-0.123404</td>\n",
              "      <td>1.947784</td>\n",
              "      <td>-0.413142</td>\n",
              "      <td>-0.131507</td>\n",
              "      <td>-0.626394</td>\n",
              "      <td>-0.419095</td>\n",
              "      <td>0.661832</td>\n",
              "      <td>-0.163383</td>\n",
              "      <td>-0.845386</td>\n",
              "    </tr>\n",
              "    <tr>\n",
              "      <th>2</th>\n",
              "      <td>-0.664164</td>\n",
              "      <td>-0.406222</td>\n",
              "      <td>-0.089432</td>\n",
              "      <td>-0.487645</td>\n",
              "      <td>0.264474</td>\n",
              "      <td>-0.986491</td>\n",
              "      <td>-0.247681</td>\n",
              "      <td>-1.156984</td>\n",
              "      <td>-0.205185</td>\n",
              "      <td>-0.202524</td>\n",
              "      <td>-0.123404</td>\n",
              "      <td>-0.513404</td>\n",
              "      <td>-0.413142</td>\n",
              "      <td>-0.131507</td>\n",
              "      <td>1.596439</td>\n",
              "      <td>-0.419095</td>\n",
              "      <td>0.661832</td>\n",
              "      <td>-0.163383</td>\n",
              "      <td>1.182891</td>\n",
              "    </tr>\n",
              "    <tr>\n",
              "      <th>3</th>\n",
              "      <td>-0.664164</td>\n",
              "      <td>1.420317</td>\n",
              "      <td>0.577372</td>\n",
              "      <td>-2.186166</td>\n",
              "      <td>0.965007</td>\n",
              "      <td>-0.986491</td>\n",
              "      <td>-0.247681</td>\n",
              "      <td>-1.156984</td>\n",
              "      <td>-0.205185</td>\n",
              "      <td>-0.202524</td>\n",
              "      <td>-0.123404</td>\n",
              "      <td>-0.513404</td>\n",
              "      <td>-0.413142</td>\n",
              "      <td>-0.131507</td>\n",
              "      <td>1.596439</td>\n",
              "      <td>-0.419095</td>\n",
              "      <td>0.661832</td>\n",
              "      <td>-0.163383</td>\n",
              "      <td>-0.845386</td>\n",
              "    </tr>\n",
              "    <tr>\n",
              "      <th>4</th>\n",
              "      <td>-0.664164</td>\n",
              "      <td>-0.406222</td>\n",
              "      <td>1.377536</td>\n",
              "      <td>-0.487645</td>\n",
              "      <td>-0.903080</td>\n",
              "      <td>-0.986491</td>\n",
              "      <td>-0.247681</td>\n",
              "      <td>0.431236</td>\n",
              "      <td>-0.205185</td>\n",
              "      <td>-0.202524</td>\n",
              "      <td>-0.123404</td>\n",
              "      <td>-0.513404</td>\n",
              "      <td>-0.413142</td>\n",
              "      <td>-0.131507</td>\n",
              "      <td>-0.626394</td>\n",
              "      <td>2.386093</td>\n",
              "      <td>0.661832</td>\n",
              "      <td>-0.163383</td>\n",
              "      <td>-0.845386</td>\n",
              "    </tr>\n",
              "  </tbody>\n",
              "</table>\n",
              "</div>"
            ],
            "text/plain": [
              "   education  ...  recruitment_channel_sourcing\n",
              "0   1.531419  ...                      1.182891\n",
              "1  -0.664164  ...                     -0.845386\n",
              "2  -0.664164  ...                      1.182891\n",
              "3  -0.664164  ...                     -0.845386\n",
              "4  -0.664164  ...                     -0.845386\n",
              "\n",
              "[5 rows x 19 columns]"
            ]
          },
          "metadata": {},
          "execution_count": 5
        }
      ]
    },
    {
      "cell_type": "code",
      "metadata": {
        "colab": {
          "base_uri": "https://localhost:8080/"
        },
        "id": "5ZITjuHwfem-",
        "outputId": "519d2e2d-b5d2-4860-f71b-321e90293fcb"
      },
      "source": [
        "Y.head()"
      ],
      "execution_count": 6,
      "outputs": [
        {
          "output_type": "execute_result",
          "data": {
            "text/plain": [
              "0    0\n",
              "1    0\n",
              "2    0\n",
              "3    0\n",
              "4    0\n",
              "Name: is_promoted, dtype: int64"
            ]
          },
          "metadata": {},
          "execution_count": 6
        }
      ]
    },
    {
      "cell_type": "markdown",
      "metadata": {
        "id": "j2EZEPCMfgu4"
      },
      "source": [
        "##**Step-6: Execute Train-Test-Split Command and Verify**"
      ]
    },
    {
      "cell_type": "code",
      "metadata": {
        "id": "gBNZDgNEfpZq"
      },
      "source": [
        "from sklearn.model_selection import train_test_split\n",
        "X_train, X_test, y_train, y_test = train_test_split(X, Y, test_size = 0.2, random_state = 66)"
      ],
      "execution_count": 7,
      "outputs": []
    },
    {
      "cell_type": "code",
      "metadata": {
        "colab": {
          "base_uri": "https://localhost:8080/"
        },
        "id": "--QAEH4QfyM1",
        "outputId": "6ca91ba9-42cf-49f0-88d7-683c695e5e71"
      },
      "source": [
        "print(X_train.shape)\n",
        "print(y_train.shape)\n",
        "print(X_test.shape)\n",
        "print(y_test.shape)"
      ],
      "execution_count": 8,
      "outputs": [
        {
          "output_type": "stream",
          "name": "stdout",
          "text": [
            "(4000, 19)\n",
            "(4000,)\n",
            "(1000, 19)\n",
            "(1000,)\n"
          ]
        }
      ]
    },
    {
      "cell_type": "markdown",
      "metadata": {
        "id": "jEJKsocUf_oo"
      },
      "source": [
        "##**Step-7: Learn the Data and Predict the dependent Variable values for the \"X_test\"data using \"LogisticRegression()\" algorithm**"
      ]
    },
    {
      "cell_type": "code",
      "metadata": {
        "colab": {
          "base_uri": "https://localhost:8080/"
        },
        "id": "dmkKEVZHf_06",
        "outputId": "b8f07ede-4929-4990-f85a-5dbe67b80f87"
      },
      "source": [
        "from sklearn.linear_model import LogisticRegression\n",
        "#create an instance and fit the model \n",
        "logmodel = LogisticRegression()\n",
        "logmodel.fit(X_train, y_train)"
      ],
      "execution_count": 9,
      "outputs": [
        {
          "output_type": "execute_result",
          "data": {
            "text/plain": [
              "LogisticRegression()"
            ]
          },
          "metadata": {},
          "execution_count": 9
        }
      ]
    },
    {
      "cell_type": "code",
      "metadata": {
        "colab": {
          "base_uri": "https://localhost:8080/"
        },
        "id": "T7nMzaZNgQVu",
        "outputId": "e0fe22d0-e5b2-434f-8da1-0cd82bc5b6f8"
      },
      "source": [
        "y_pred = logmodel.predict(X_test)\n",
        "y_pred"
      ],
      "execution_count": 10,
      "outputs": [
        {
          "output_type": "execute_result",
          "data": {
            "text/plain": [
              "array([0, 0, 1, 1, 1, 0, 0, 1, 0, 1, 0, 0, 1, 0, 0, 1, 1, 0, 1, 1, 0, 0,\n",
              "       0, 1, 0, 0, 1, 1, 1, 0, 1, 1, 1, 1, 1, 1, 1, 1, 0, 0, 1, 1, 1, 0,\n",
              "       1, 1, 0, 1, 1, 0, 0, 1, 0, 0, 0, 0, 0, 0, 0, 1, 1, 0, 0, 0, 0, 0,\n",
              "       1, 0, 0, 0, 0, 1, 1, 1, 0, 0, 1, 1, 0, 0, 1, 1, 1, 0, 0, 0, 0, 0,\n",
              "       0, 0, 0, 0, 0, 0, 1, 0, 0, 0, 0, 1, 1, 0, 1, 1, 0, 0, 1, 0, 1, 0,\n",
              "       1, 0, 1, 1, 0, 0, 0, 0, 1, 1, 0, 1, 1, 0, 1, 0, 0, 0, 0, 1, 1, 0,\n",
              "       0, 1, 0, 1, 0, 0, 0, 0, 0, 0, 1, 1, 1, 0, 0, 1, 1, 1, 0, 0, 0, 1,\n",
              "       0, 1, 1, 1, 1, 0, 0, 1, 0, 1, 0, 1, 1, 0, 0, 0, 1, 1, 1, 1, 1, 1,\n",
              "       0, 1, 1, 0, 1, 0, 0, 0, 1, 1, 1, 1, 1, 0, 1, 0, 0, 0, 0, 0, 1, 0,\n",
              "       0, 1, 1, 0, 0, 0, 1, 1, 0, 1, 1, 0, 0, 1, 1, 0, 1, 0, 0, 1, 1, 1,\n",
              "       1, 0, 0, 0, 1, 1, 1, 0, 0, 1, 0, 0, 0, 0, 0, 1, 1, 0, 0, 0, 0, 0,\n",
              "       0, 0, 0, 1, 0, 1, 0, 0, 0, 1, 0, 1, 1, 1, 1, 0, 1, 0, 1, 0, 1, 1,\n",
              "       0, 1, 1, 1, 0, 0, 1, 1, 1, 1, 0, 0, 0, 0, 1, 1, 0, 1, 0, 0, 1, 1,\n",
              "       0, 1, 0, 0, 1, 1, 1, 1, 0, 1, 0, 1, 1, 0, 1, 1, 1, 0, 1, 1, 0, 1,\n",
              "       1, 1, 1, 1, 1, 0, 0, 1, 1, 0, 0, 1, 0, 1, 0, 1, 1, 0, 0, 1, 0, 0,\n",
              "       0, 1, 0, 1, 1, 1, 1, 0, 1, 0, 1, 1, 1, 1, 0, 1, 1, 1, 1, 1, 1, 1,\n",
              "       1, 1, 0, 0, 1, 1, 0, 0, 0, 0, 1, 0, 1, 1, 1, 1, 1, 1, 1, 1, 1, 0,\n",
              "       0, 0, 1, 1, 1, 0, 0, 0, 1, 0, 1, 0, 0, 1, 1, 1, 0, 0, 0, 0, 1, 1,\n",
              "       0, 0, 0, 1, 0, 0, 0, 0, 0, 0, 1, 1, 0, 0, 1, 1, 1, 1, 0, 0, 0, 0,\n",
              "       1, 0, 1, 0, 1, 0, 1, 0, 1, 0, 1, 1, 0, 1, 1, 1, 1, 0, 0, 0, 0, 1,\n",
              "       0, 1, 0, 0, 1, 1, 0, 0, 1, 1, 1, 1, 0, 1, 0, 1, 0, 1, 1, 0, 1, 0,\n",
              "       1, 1, 0, 1, 1, 1, 1, 0, 0, 1, 0, 0, 1, 0, 0, 0, 1, 1, 1, 1, 1, 1,\n",
              "       0, 0, 1, 0, 1, 1, 1, 0, 0, 0, 0, 1, 1, 0, 0, 0, 0, 1, 0, 0, 0, 0,\n",
              "       0, 1, 0, 0, 1, 1, 0, 0, 1, 0, 0, 1, 1, 0, 0, 0, 1, 1, 0, 0, 0, 0,\n",
              "       0, 1, 0, 1, 0, 1, 1, 0, 1, 1, 1, 0, 1, 1, 0, 1, 0, 0, 1, 1, 0, 1,\n",
              "       1, 0, 0, 1, 0, 0, 0, 0, 1, 1, 1, 0, 1, 0, 0, 0, 1, 0, 1, 1, 0, 0,\n",
              "       0, 1, 0, 0, 1, 0, 0, 1, 1, 0, 1, 1, 1, 0, 1, 1, 1, 1, 1, 0, 1, 1,\n",
              "       0, 0, 1, 0, 0, 0, 0, 1, 1, 0, 0, 1, 0, 0, 1, 0, 1, 0, 1, 0, 1, 1,\n",
              "       0, 0, 0, 0, 1, 0, 1, 0, 1, 0, 0, 0, 1, 0, 0, 0, 0, 1, 0, 0, 1, 1,\n",
              "       1, 1, 1, 1, 1, 1, 0, 0, 0, 1, 1, 0, 1, 1, 0, 0, 1, 1, 1, 0, 0, 1,\n",
              "       0, 0, 1, 0, 0, 0, 0, 1, 0, 1, 1, 1, 1, 1, 1, 1, 1, 0, 1, 1, 0, 0,\n",
              "       0, 1, 0, 1, 0, 0, 0, 1, 0, 0, 0, 1, 1, 1, 0, 0, 1, 0, 1, 1, 1, 0,\n",
              "       1, 1, 0, 1, 1, 0, 0, 0, 0, 0, 0, 1, 0, 1, 1, 1, 0, 1, 0, 1, 0, 0,\n",
              "       0, 0, 0, 0, 1, 1, 1, 0, 0, 0, 0, 0, 0, 1, 1, 1, 0, 0, 1, 1, 1, 0,\n",
              "       1, 0, 0, 1, 0, 0, 1, 0, 0, 1, 0, 0, 0, 1, 1, 1, 1, 0, 1, 1, 1, 0,\n",
              "       0, 1, 0, 0, 1, 1, 1, 0, 0, 0, 1, 1, 0, 0, 1, 0, 1, 1, 0, 1, 0, 0,\n",
              "       1, 1, 0, 0, 1, 0, 0, 1, 0, 1, 1, 1, 0, 0, 0, 1, 1, 1, 1, 1, 1, 1,\n",
              "       0, 0, 0, 0, 1, 0, 0, 1, 0, 1, 1, 1, 1, 1, 0, 0, 1, 1, 1, 1, 0, 0,\n",
              "       1, 0, 0, 0, 1, 1, 0, 1, 1, 1, 0, 0, 0, 0, 0, 1, 1, 1, 1, 1, 1, 0,\n",
              "       1, 0, 1, 0, 0, 1, 0, 0, 1, 1, 0, 0, 1, 0, 1, 1, 0, 0, 0, 0, 1, 0,\n",
              "       1, 0, 0, 1, 0, 0, 1, 0, 1, 1, 1, 0, 0, 0, 0, 1, 1, 0, 1, 1, 1, 0,\n",
              "       1, 1, 1, 0, 0, 1, 0, 0, 0, 0, 0, 0, 1, 1, 0, 1, 1, 1, 0, 1, 1, 0,\n",
              "       1, 1, 1, 0, 1, 1, 1, 0, 1, 1, 1, 0, 0, 0, 0, 0, 1, 1, 0, 1, 1, 0,\n",
              "       1, 0, 1, 0, 1, 1, 0, 1, 0, 1, 0, 1, 0, 0, 1, 0, 0, 0, 0, 1, 0, 0,\n",
              "       0, 1, 0, 1, 0, 1, 0, 1, 0, 0, 0, 1, 1, 1, 1, 1, 0, 0, 1, 1, 1, 0,\n",
              "       0, 0, 1, 0, 0, 0, 1, 1, 1, 0])"
            ]
          },
          "metadata": {},
          "execution_count": 10
        }
      ]
    },
    {
      "cell_type": "markdown",
      "metadata": {
        "id": "_P6AEsOBgmFg"
      },
      "source": [
        "##**Step-8: Calculate the Accuracy of the Model**"
      ]
    },
    {
      "cell_type": "code",
      "metadata": {
        "colab": {
          "base_uri": "https://localhost:8080/"
        },
        "id": "JrM62_U0gtDE",
        "outputId": "1904ff7f-4f2d-43be-b6c0-12b2ae615ba8"
      },
      "source": [
        "accuracy_lr = logmodel.score(X_test, y_test)\n",
        "print(\"Accuracy of Logistic Regression on test set:\",accuracy_lr)"
      ],
      "execution_count": 11,
      "outputs": [
        {
          "output_type": "stream",
          "name": "stdout",
          "text": [
            "Accuracy of Logistic Regression on test set: 0.768\n"
          ]
        }
      ]
    },
    {
      "cell_type": "markdown",
      "metadata": {
        "id": "-aZmDuzBg1Ax"
      },
      "source": [
        "##**Step-9: Display the Confusion Matrix and Classification Report of the Model**"
      ]
    },
    {
      "cell_type": "code",
      "metadata": {
        "colab": {
          "base_uri": "https://localhost:8080/"
        },
        "id": "f2g6XZYcg1Mq",
        "outputId": "1c54fa6a-bd59-47ec-a5cd-77d91cc5b317"
      },
      "source": [
        "from sklearn.metrics import classification_report, confusion_matrix  \n",
        "print(confusion_matrix(y_test,y_pred))  \n",
        "print(classification_report(y_test,y_pred))  "
      ],
      "execution_count": 12,
      "outputs": [
        {
          "output_type": "stream",
          "name": "stdout",
          "text": [
            "[[412 138]\n",
            " [ 94 356]]\n",
            "              precision    recall  f1-score   support\n",
            "\n",
            "           0       0.81      0.75      0.78       550\n",
            "           1       0.72      0.79      0.75       450\n",
            "\n",
            "    accuracy                           0.77      1000\n",
            "   macro avg       0.77      0.77      0.77      1000\n",
            "weighted avg       0.77      0.77      0.77      1000\n",
            "\n"
          ]
        }
      ]
    },
    {
      "cell_type": "markdown",
      "metadata": {
        "id": "pEHWJk26T3XZ"
      },
      "source": [
        "##**IX) Check for Multi-collinearity and find out the new accuracy as required**"
      ]
    },
    {
      "cell_type": "markdown",
      "metadata": {
        "id": "tKsSD8k5qfsd"
      },
      "source": [
        "###**Checking for MultiCollinearity**"
      ]
    },
    {
      "cell_type": "markdown",
      "metadata": {
        "id": "ZgaVu-y_qj-H"
      },
      "source": [
        "VIF starts at 1 and has no upper limit\n",
        "\n",
        "VIF = 1, no correlation between the independent variable and the other variables\n",
        "\n",
        "VIF exceeding 5 or 10 indicates high multicollinearity between this independent variable and the others"
      ]
    },
    {
      "cell_type": "code",
      "metadata": {
        "id": "xxMFNp7HUAL4",
        "colab": {
          "base_uri": "https://localhost:8080/"
        },
        "outputId": "47519f91-d112-4bed-d485-c2a600c02244"
      },
      "source": [
        "# Import library for VIF\n",
        "from statsmodels.stats.outliers_influence import variance_inflation_factor\n",
        "\n",
        "def calc_vif(X):\n",
        "\n",
        "    # Calculating VIF\n",
        "    vif = pd.DataFrame()\n",
        "    vif[\"variables\"] = X.columns\n",
        "    vif[\"VIF\"] = [variance_inflation_factor(X.values, i) for i in range(X.shape[1])]\n",
        "\n",
        "    return(vif)"
      ],
      "execution_count": 13,
      "outputs": [
        {
          "output_type": "stream",
          "name": "stderr",
          "text": [
            "/usr/local/lib/python3.7/dist-packages/statsmodels/tools/_testing.py:19: FutureWarning: pandas.util.testing is deprecated. Use the functions in the public API at pandas.testing instead.\n",
            "  import pandas.util.testing as tm\n"
          ]
        }
      ]
    },
    {
      "cell_type": "code",
      "metadata": {
        "id": "levBaW64qxI3",
        "colab": {
          "base_uri": "https://localhost:8080/",
          "height": 645
        },
        "outputId": "468e7c74-c651-4272-e616-dc1cdf2e03fb"
      },
      "source": [
        "calc_vif(X)"
      ],
      "execution_count": 14,
      "outputs": [
        {
          "output_type": "execute_result",
          "data": {
            "text/html": [
              "<div>\n",
              "<style scoped>\n",
              "    .dataframe tbody tr th:only-of-type {\n",
              "        vertical-align: middle;\n",
              "    }\n",
              "\n",
              "    .dataframe tbody tr th {\n",
              "        vertical-align: top;\n",
              "    }\n",
              "\n",
              "    .dataframe thead th {\n",
              "        text-align: right;\n",
              "    }\n",
              "</style>\n",
              "<table border=\"1\" class=\"dataframe\">\n",
              "  <thead>\n",
              "    <tr style=\"text-align: right;\">\n",
              "      <th></th>\n",
              "      <th>variables</th>\n",
              "      <th>VIF</th>\n",
              "    </tr>\n",
              "  </thead>\n",
              "  <tbody>\n",
              "    <tr>\n",
              "      <th>0</th>\n",
              "      <td>education</td>\n",
              "      <td>1.203711</td>\n",
              "    </tr>\n",
              "    <tr>\n",
              "      <th>1</th>\n",
              "      <td>no_of_trainings</td>\n",
              "      <td>1.038746</td>\n",
              "    </tr>\n",
              "    <tr>\n",
              "      <th>2</th>\n",
              "      <td>age</td>\n",
              "      <td>2.068588</td>\n",
              "    </tr>\n",
              "    <tr>\n",
              "      <th>3</th>\n",
              "      <td>previous_year_rating</td>\n",
              "      <td>1.140835</td>\n",
              "    </tr>\n",
              "    <tr>\n",
              "      <th>4</th>\n",
              "      <td>length_of_service</td>\n",
              "      <td>1.870183</td>\n",
              "    </tr>\n",
              "    <tr>\n",
              "      <th>5</th>\n",
              "      <td>KPIs_met&gt;80%</td>\n",
              "      <td>1.111005</td>\n",
              "    </tr>\n",
              "    <tr>\n",
              "      <th>6</th>\n",
              "      <td>awards_won?</td>\n",
              "      <td>1.095883</td>\n",
              "    </tr>\n",
              "    <tr>\n",
              "      <th>7</th>\n",
              "      <td>avg_training_score</td>\n",
              "      <td>3.247848</td>\n",
              "    </tr>\n",
              "    <tr>\n",
              "      <th>8</th>\n",
              "      <td>department_Finance</td>\n",
              "      <td>1.619688</td>\n",
              "    </tr>\n",
              "    <tr>\n",
              "      <th>9</th>\n",
              "      <td>department_HR</td>\n",
              "      <td>2.018490</td>\n",
              "    </tr>\n",
              "    <tr>\n",
              "      <th>10</th>\n",
              "      <td>department_Legal</td>\n",
              "      <td>1.271776</td>\n",
              "    </tr>\n",
              "    <tr>\n",
              "      <th>11</th>\n",
              "      <td>department_Operations</td>\n",
              "      <td>3.831265</td>\n",
              "    </tr>\n",
              "    <tr>\n",
              "      <th>12</th>\n",
              "      <td>department_Procurement</td>\n",
              "      <td>2.550431</td>\n",
              "    </tr>\n",
              "    <tr>\n",
              "      <th>13</th>\n",
              "      <td>department_R&amp;D</td>\n",
              "      <td>1.152490</td>\n",
              "    </tr>\n",
              "    <tr>\n",
              "      <th>14</th>\n",
              "      <td>department_Sales &amp; Marketing</td>\n",
              "      <td>5.813208</td>\n",
              "    </tr>\n",
              "    <tr>\n",
              "      <th>15</th>\n",
              "      <td>deartment_Technology</td>\n",
              "      <td>2.196660</td>\n",
              "    </tr>\n",
              "    <tr>\n",
              "      <th>16</th>\n",
              "      <td>gender_m</td>\n",
              "      <td>1.129651</td>\n",
              "    </tr>\n",
              "    <tr>\n",
              "      <th>17</th>\n",
              "      <td>recruitment_channel_referred</td>\n",
              "      <td>1.035444</td>\n",
              "    </tr>\n",
              "    <tr>\n",
              "      <th>18</th>\n",
              "      <td>recruitment_channel_sourcing</td>\n",
              "      <td>1.021894</td>\n",
              "    </tr>\n",
              "  </tbody>\n",
              "</table>\n",
              "</div>"
            ],
            "text/plain": [
              "                       variables       VIF\n",
              "0                      education  1.203711\n",
              "1                no_of_trainings  1.038746\n",
              "2                            age  2.068588\n",
              "3           previous_year_rating  1.140835\n",
              "4              length_of_service  1.870183\n",
              "5                   KPIs_met>80%  1.111005\n",
              "6                    awards_won?  1.095883\n",
              "7             avg_training_score  3.247848\n",
              "8             department_Finance  1.619688\n",
              "9                  department_HR  2.018490\n",
              "10              department_Legal  1.271776\n",
              "11         department_Operations  3.831265\n",
              "12        department_Procurement  2.550431\n",
              "13                department_R&D  1.152490\n",
              "14  department_Sales & Marketing  5.813208\n",
              "15          deartment_Technology  2.196660\n",
              "16                      gender_m  1.129651\n",
              "17  recruitment_channel_referred  1.035444\n",
              "18  recruitment_channel_sourcing  1.021894"
            ]
          },
          "metadata": {},
          "execution_count": 14
        }
      ]
    },
    {
      "cell_type": "code",
      "metadata": {
        "id": "HDOt48VCra_S",
        "colab": {
          "base_uri": "https://localhost:8080/"
        },
        "outputId": "4500ab2a-97d1-4d86-8a41-3c4d01642555"
      },
      "source": [
        "X.shape"
      ],
      "execution_count": 15,
      "outputs": [
        {
          "output_type": "execute_result",
          "data": {
            "text/plain": [
              "(5000, 19)"
            ]
          },
          "metadata": {},
          "execution_count": 15
        }
      ]
    },
    {
      "cell_type": "code",
      "metadata": {
        "id": "Tj1Pas9Brnts"
      },
      "source": [
        "X1= X.drop(['department_Sales & Marketing'], axis=1, inplace=False)"
      ],
      "execution_count": 16,
      "outputs": []
    },
    {
      "cell_type": "code",
      "metadata": {
        "id": "SW-uRAnrrtrX",
        "colab": {
          "base_uri": "https://localhost:8080/"
        },
        "outputId": "76d67218-88f7-4700-92b8-2137022fbd4e"
      },
      "source": [
        "X1.info()"
      ],
      "execution_count": 17,
      "outputs": [
        {
          "output_type": "stream",
          "name": "stdout",
          "text": [
            "<class 'pandas.core.frame.DataFrame'>\n",
            "RangeIndex: 5000 entries, 0 to 4999\n",
            "Data columns (total 18 columns):\n",
            " #   Column                        Non-Null Count  Dtype  \n",
            "---  ------                        --------------  -----  \n",
            " 0   education                     5000 non-null   float64\n",
            " 1   no_of_trainings               5000 non-null   float64\n",
            " 2   age                           5000 non-null   float64\n",
            " 3   previous_year_rating          5000 non-null   float64\n",
            " 4   length_of_service             5000 non-null   float64\n",
            " 5   KPIs_met>80%                  5000 non-null   float64\n",
            " 6   awards_won?                   5000 non-null   float64\n",
            " 7   avg_training_score            5000 non-null   float64\n",
            " 8   department_Finance            5000 non-null   float64\n",
            " 9   department_HR                 5000 non-null   float64\n",
            " 10  department_Legal              5000 non-null   float64\n",
            " 11  department_Operations         5000 non-null   float64\n",
            " 12  department_Procurement        5000 non-null   float64\n",
            " 13  department_R&D                5000 non-null   float64\n",
            " 14  deartment_Technology          5000 non-null   float64\n",
            " 15  gender_m                      5000 non-null   float64\n",
            " 16  recruitment_channel_referred  5000 non-null   float64\n",
            " 17  recruitment_channel_sourcing  5000 non-null   float64\n",
            "dtypes: float64(18)\n",
            "memory usage: 703.2 KB\n"
          ]
        }
      ]
    },
    {
      "cell_type": "code",
      "metadata": {
        "id": "pq2Cvpy9r2Me",
        "colab": {
          "base_uri": "https://localhost:8080/",
          "height": 614
        },
        "outputId": "15d279c6-a162-4e47-e5b4-52575c5fcd7a"
      },
      "source": [
        "calc_vif(X1)"
      ],
      "execution_count": 18,
      "outputs": [
        {
          "output_type": "execute_result",
          "data": {
            "text/html": [
              "<div>\n",
              "<style scoped>\n",
              "    .dataframe tbody tr th:only-of-type {\n",
              "        vertical-align: middle;\n",
              "    }\n",
              "\n",
              "    .dataframe tbody tr th {\n",
              "        vertical-align: top;\n",
              "    }\n",
              "\n",
              "    .dataframe thead th {\n",
              "        text-align: right;\n",
              "    }\n",
              "</style>\n",
              "<table border=\"1\" class=\"dataframe\">\n",
              "  <thead>\n",
              "    <tr style=\"text-align: right;\">\n",
              "      <th></th>\n",
              "      <th>variables</th>\n",
              "      <th>VIF</th>\n",
              "    </tr>\n",
              "  </thead>\n",
              "  <tbody>\n",
              "    <tr>\n",
              "      <th>0</th>\n",
              "      <td>education</td>\n",
              "      <td>1.200882</td>\n",
              "    </tr>\n",
              "    <tr>\n",
              "      <th>1</th>\n",
              "      <td>no_of_trainings</td>\n",
              "      <td>1.032601</td>\n",
              "    </tr>\n",
              "    <tr>\n",
              "      <th>2</th>\n",
              "      <td>age</td>\n",
              "      <td>2.067615</td>\n",
              "    </tr>\n",
              "    <tr>\n",
              "      <th>3</th>\n",
              "      <td>previous_year_rating</td>\n",
              "      <td>1.138386</td>\n",
              "    </tr>\n",
              "    <tr>\n",
              "      <th>4</th>\n",
              "      <td>length_of_service</td>\n",
              "      <td>1.870152</td>\n",
              "    </tr>\n",
              "    <tr>\n",
              "      <th>5</th>\n",
              "      <td>KPIs_met&gt;80%</td>\n",
              "      <td>1.106878</td>\n",
              "    </tr>\n",
              "    <tr>\n",
              "      <th>6</th>\n",
              "      <td>awards_won?</td>\n",
              "      <td>1.053079</td>\n",
              "    </tr>\n",
              "    <tr>\n",
              "      <th>7</th>\n",
              "      <td>avg_training_score</td>\n",
              "      <td>1.547854</td>\n",
              "    </tr>\n",
              "    <tr>\n",
              "      <th>8</th>\n",
              "      <td>department_Finance</td>\n",
              "      <td>1.070916</td>\n",
              "    </tr>\n",
              "    <tr>\n",
              "      <th>9</th>\n",
              "      <td>department_HR</td>\n",
              "      <td>1.115773</td>\n",
              "    </tr>\n",
              "    <tr>\n",
              "      <th>10</th>\n",
              "      <td>department_Legal</td>\n",
              "      <td>1.030201</td>\n",
              "    </tr>\n",
              "    <tr>\n",
              "      <th>11</th>\n",
              "      <td>department_Operations</td>\n",
              "      <td>1.323697</td>\n",
              "    </tr>\n",
              "    <tr>\n",
              "      <th>12</th>\n",
              "      <td>department_Procurement</td>\n",
              "      <td>1.410920</td>\n",
              "    </tr>\n",
              "    <tr>\n",
              "      <th>13</th>\n",
              "      <td>department_R&amp;D</td>\n",
              "      <td>1.096222</td>\n",
              "    </tr>\n",
              "    <tr>\n",
              "      <th>14</th>\n",
              "      <td>deartment_Technology</td>\n",
              "      <td>1.578265</td>\n",
              "    </tr>\n",
              "    <tr>\n",
              "      <th>15</th>\n",
              "      <td>gender_m</td>\n",
              "      <td>1.129270</td>\n",
              "    </tr>\n",
              "    <tr>\n",
              "      <th>16</th>\n",
              "      <td>recruitment_channel_referred</td>\n",
              "      <td>1.035041</td>\n",
              "    </tr>\n",
              "    <tr>\n",
              "      <th>17</th>\n",
              "      <td>recruitment_channel_sourcing</td>\n",
              "      <td>1.021743</td>\n",
              "    </tr>\n",
              "  </tbody>\n",
              "</table>\n",
              "</div>"
            ],
            "text/plain": [
              "                       variables       VIF\n",
              "0                      education  1.200882\n",
              "1                no_of_trainings  1.032601\n",
              "2                            age  2.067615\n",
              "3           previous_year_rating  1.138386\n",
              "4              length_of_service  1.870152\n",
              "5                   KPIs_met>80%  1.106878\n",
              "6                    awards_won?  1.053079\n",
              "7             avg_training_score  1.547854\n",
              "8             department_Finance  1.070916\n",
              "9                  department_HR  1.115773\n",
              "10              department_Legal  1.030201\n",
              "11         department_Operations  1.323697\n",
              "12        department_Procurement  1.410920\n",
              "13                department_R&D  1.096222\n",
              "14          deartment_Technology  1.578265\n",
              "15                      gender_m  1.129270\n",
              "16  recruitment_channel_referred  1.035041\n",
              "17  recruitment_channel_sourcing  1.021743"
            ]
          },
          "metadata": {},
          "execution_count": 18
        }
      ]
    },
    {
      "cell_type": "code",
      "metadata": {
        "id": "EC7PY7_5sNle"
      },
      "source": [
        "from sklearn.model_selection import train_test_split\n",
        "X1_train, X1_test, Y1_train, Y1_test = train_test_split(X1, Y, test_size = 0.2, random_state = 66)"
      ],
      "execution_count": 19,
      "outputs": []
    },
    {
      "cell_type": "code",
      "metadata": {
        "id": "llcQy8bmtKO5",
        "colab": {
          "base_uri": "https://localhost:8080/"
        },
        "outputId": "fac48cae-a68c-4a3b-b5e0-79f350faf2f5"
      },
      "source": [
        "from sklearn.linear_model import LogisticRegression\n",
        "#create an instance and fit the model \n",
        "logmodel2 = LogisticRegression()\n",
        "logmodel2.fit(X1_train, Y1_train)"
      ],
      "execution_count": 20,
      "outputs": [
        {
          "output_type": "execute_result",
          "data": {
            "text/plain": [
              "LogisticRegression()"
            ]
          },
          "metadata": {},
          "execution_count": 20
        }
      ]
    },
    {
      "cell_type": "code",
      "metadata": {
        "id": "tfQdmIZRtwOv"
      },
      "source": [
        "#predictions\n",
        "predictions1 = logmodel2.predict(X1_test)"
      ],
      "execution_count": 21,
      "outputs": []
    },
    {
      "cell_type": "code",
      "metadata": {
        "id": "GsG16ivsuY3r",
        "colab": {
          "base_uri": "https://localhost:8080/"
        },
        "outputId": "c29c99cc-13b6-4d6d-eee7-87ef4a676d39"
      },
      "source": [
        "print(confusion_matrix(Y1_test, predictions1))\n",
        "print(classification_report(Y1_test,predictions1))"
      ],
      "execution_count": 22,
      "outputs": [
        {
          "output_type": "stream",
          "name": "stdout",
          "text": [
            "[[410 140]\n",
            " [151 299]]\n",
            "              precision    recall  f1-score   support\n",
            "\n",
            "           0       0.73      0.75      0.74       550\n",
            "           1       0.68      0.66      0.67       450\n",
            "\n",
            "    accuracy                           0.71      1000\n",
            "   macro avg       0.71      0.70      0.71      1000\n",
            "weighted avg       0.71      0.71      0.71      1000\n",
            "\n"
          ]
        }
      ]
    },
    {
      "cell_type": "markdown",
      "metadata": {
        "id": "Nuy8W-PX2Wco"
      },
      "source": [
        "**Observation: After removal of the column \" department_Sales & Marketing\" the model gives the accuracy of 71%**\n",
        "\n",
        "**Decision: We will not remove the column \"department_Sales & Marketing\"**"
      ]
    },
    {
      "cell_type": "markdown",
      "metadata": {
        "id": "AIhNQaAJULkS"
      },
      "source": [
        "##**X) Check for Outliers and handle them accordingly**"
      ]
    },
    {
      "cell_type": "markdown",
      "metadata": {
        "id": "-0yrqkCCxHe-"
      },
      "source": [
        "###**Outliers Detection**"
      ]
    },
    {
      "cell_type": "code",
      "metadata": {
        "id": "-yI7oGoT0QSu"
      },
      "source": [
        "df1=df"
      ],
      "execution_count": 23,
      "outputs": []
    },
    {
      "cell_type": "code",
      "metadata": {
        "id": "-2GLHo0PxiKt",
        "colab": {
          "base_uri": "https://localhost:8080/",
          "height": 243
        },
        "outputId": "0d3ad0ad-adff-47b5-e1ee-ebeb2e3b3ae1"
      },
      "source": [
        "df1.head()"
      ],
      "execution_count": 24,
      "outputs": [
        {
          "output_type": "execute_result",
          "data": {
            "text/html": [
              "<div>\n",
              "<style scoped>\n",
              "    .dataframe tbody tr th:only-of-type {\n",
              "        vertical-align: middle;\n",
              "    }\n",
              "\n",
              "    .dataframe tbody tr th {\n",
              "        vertical-align: top;\n",
              "    }\n",
              "\n",
              "    .dataframe thead th {\n",
              "        text-align: right;\n",
              "    }\n",
              "</style>\n",
              "<table border=\"1\" class=\"dataframe\">\n",
              "  <thead>\n",
              "    <tr style=\"text-align: right;\">\n",
              "      <th></th>\n",
              "      <th>education</th>\n",
              "      <th>no_of_trainings</th>\n",
              "      <th>age</th>\n",
              "      <th>previous_year_rating</th>\n",
              "      <th>length_of_service</th>\n",
              "      <th>KPIs_met&gt;80%</th>\n",
              "      <th>awards_won?</th>\n",
              "      <th>avg_training_score</th>\n",
              "      <th>department_Finance</th>\n",
              "      <th>department_HR</th>\n",
              "      <th>department_Legal</th>\n",
              "      <th>department_Operations</th>\n",
              "      <th>department_Procurement</th>\n",
              "      <th>department_R&amp;D</th>\n",
              "      <th>department_Sales &amp; Marketing</th>\n",
              "      <th>deartment_Technology</th>\n",
              "      <th>gender_m</th>\n",
              "      <th>recruitment_channel_referred</th>\n",
              "      <th>recruitment_channel_sourcing</th>\n",
              "      <th>is_promoted</th>\n",
              "    </tr>\n",
              "  </thead>\n",
              "  <tbody>\n",
              "    <tr>\n",
              "      <th>0</th>\n",
              "      <td>1.531419</td>\n",
              "      <td>-0.406222</td>\n",
              "      <td>0.043929</td>\n",
              "      <td>1.210876</td>\n",
              "      <td>0.497985</td>\n",
              "      <td>1.013694</td>\n",
              "      <td>-0.247681</td>\n",
              "      <td>-1.226037</td>\n",
              "      <td>-0.205185</td>\n",
              "      <td>-0.202524</td>\n",
              "      <td>-0.123404</td>\n",
              "      <td>-0.513404</td>\n",
              "      <td>-0.413142</td>\n",
              "      <td>-0.131507</td>\n",
              "      <td>1.596439</td>\n",
              "      <td>-0.419095</td>\n",
              "      <td>-1.510958</td>\n",
              "      <td>-0.163383</td>\n",
              "      <td>1.182891</td>\n",
              "      <td>0</td>\n",
              "    </tr>\n",
              "    <tr>\n",
              "      <th>1</th>\n",
              "      <td>-0.664164</td>\n",
              "      <td>-0.406222</td>\n",
              "      <td>-0.622875</td>\n",
              "      <td>1.210876</td>\n",
              "      <td>-0.436058</td>\n",
              "      <td>-0.986491</td>\n",
              "      <td>-0.247681</td>\n",
              "      <td>-0.466453</td>\n",
              "      <td>-0.205185</td>\n",
              "      <td>-0.202524</td>\n",
              "      <td>-0.123404</td>\n",
              "      <td>1.947784</td>\n",
              "      <td>-0.413142</td>\n",
              "      <td>-0.131507</td>\n",
              "      <td>-0.626394</td>\n",
              "      <td>-0.419095</td>\n",
              "      <td>0.661832</td>\n",
              "      <td>-0.163383</td>\n",
              "      <td>-0.845386</td>\n",
              "      <td>0</td>\n",
              "    </tr>\n",
              "    <tr>\n",
              "      <th>2</th>\n",
              "      <td>-0.664164</td>\n",
              "      <td>-0.406222</td>\n",
              "      <td>-0.089432</td>\n",
              "      <td>-0.487645</td>\n",
              "      <td>0.264474</td>\n",
              "      <td>-0.986491</td>\n",
              "      <td>-0.247681</td>\n",
              "      <td>-1.156984</td>\n",
              "      <td>-0.205185</td>\n",
              "      <td>-0.202524</td>\n",
              "      <td>-0.123404</td>\n",
              "      <td>-0.513404</td>\n",
              "      <td>-0.413142</td>\n",
              "      <td>-0.131507</td>\n",
              "      <td>1.596439</td>\n",
              "      <td>-0.419095</td>\n",
              "      <td>0.661832</td>\n",
              "      <td>-0.163383</td>\n",
              "      <td>1.182891</td>\n",
              "      <td>0</td>\n",
              "    </tr>\n",
              "    <tr>\n",
              "      <th>3</th>\n",
              "      <td>-0.664164</td>\n",
              "      <td>1.420317</td>\n",
              "      <td>0.577372</td>\n",
              "      <td>-2.186166</td>\n",
              "      <td>0.965007</td>\n",
              "      <td>-0.986491</td>\n",
              "      <td>-0.247681</td>\n",
              "      <td>-1.156984</td>\n",
              "      <td>-0.205185</td>\n",
              "      <td>-0.202524</td>\n",
              "      <td>-0.123404</td>\n",
              "      <td>-0.513404</td>\n",
              "      <td>-0.413142</td>\n",
              "      <td>-0.131507</td>\n",
              "      <td>1.596439</td>\n",
              "      <td>-0.419095</td>\n",
              "      <td>0.661832</td>\n",
              "      <td>-0.163383</td>\n",
              "      <td>-0.845386</td>\n",
              "      <td>0</td>\n",
              "    </tr>\n",
              "    <tr>\n",
              "      <th>4</th>\n",
              "      <td>-0.664164</td>\n",
              "      <td>-0.406222</td>\n",
              "      <td>1.377536</td>\n",
              "      <td>-0.487645</td>\n",
              "      <td>-0.903080</td>\n",
              "      <td>-0.986491</td>\n",
              "      <td>-0.247681</td>\n",
              "      <td>0.431236</td>\n",
              "      <td>-0.205185</td>\n",
              "      <td>-0.202524</td>\n",
              "      <td>-0.123404</td>\n",
              "      <td>-0.513404</td>\n",
              "      <td>-0.413142</td>\n",
              "      <td>-0.131507</td>\n",
              "      <td>-0.626394</td>\n",
              "      <td>2.386093</td>\n",
              "      <td>0.661832</td>\n",
              "      <td>-0.163383</td>\n",
              "      <td>-0.845386</td>\n",
              "      <td>0</td>\n",
              "    </tr>\n",
              "  </tbody>\n",
              "</table>\n",
              "</div>"
            ],
            "text/plain": [
              "   education  no_of_trainings  ...  recruitment_channel_sourcing  is_promoted\n",
              "0   1.531419        -0.406222  ...                      1.182891            0\n",
              "1  -0.664164        -0.406222  ...                     -0.845386            0\n",
              "2  -0.664164        -0.406222  ...                      1.182891            0\n",
              "3  -0.664164         1.420317  ...                     -0.845386            0\n",
              "4  -0.664164        -0.406222  ...                     -0.845386            0\n",
              "\n",
              "[5 rows x 20 columns]"
            ]
          },
          "metadata": {},
          "execution_count": 24
        }
      ]
    },
    {
      "cell_type": "code",
      "metadata": {
        "id": "CEs_Pu3DUM1y",
        "colab": {
          "base_uri": "https://localhost:8080/"
        },
        "outputId": "69458e29-eec9-46ea-b13d-fe68efdf8122"
      },
      "source": [
        "from scipy import stats\n",
        "import numpy as np\n",
        "z = np.abs(stats.zscore(df1))\n",
        "print(z[:9])"
      ],
      "execution_count": 25,
      "outputs": [
        {
          "output_type": "stream",
          "name": "stdout",
          "text": [
            "[[1.53141901 0.40622225 0.04392902 1.21087568 0.49798543 1.01369375\n",
            "  0.24768082 1.2260367  0.20518498 0.20252415 0.12340351 0.51340386\n",
            "  0.41314165 0.13150665 1.59643855 0.41909513 1.510958   0.16338312\n",
            "  1.18289148 0.91076419]\n",
            " [0.6641638  0.40622225 0.6228746  1.21087568 0.43605833 0.98649123\n",
            "  0.24768082 0.46645328 0.20518498 0.20252415 0.12340351 1.94778434\n",
            "  0.41314165 0.13150665 0.6263943  0.41909513 0.66183176 0.16338312\n",
            "  0.84538609 0.91076419]\n",
            " [0.6641638  0.40622225 0.0894317  0.4876454  0.26447449 0.98649123\n",
            "  0.24768082 1.15698366 0.20518498 0.20252415 0.12340351 0.51340386\n",
            "  0.41314165 0.13150665 1.59643855 0.41909513 0.66183176 0.16338312\n",
            "  1.18289148 0.91076419]\n",
            " [0.6641638  1.42031664 0.57737192 2.18616649 0.96500732 0.98649123\n",
            "  0.24768082 1.15698366 0.20518498 0.20252415 0.12340351 0.51340386\n",
            "  0.41314165 0.13150665 1.59643855 0.41909513 0.66183176 0.16338312\n",
            "  0.84538609 0.91076419]\n",
            " [0.6641638  0.40622225 1.37753627 0.4876454  0.90308021 0.98649123\n",
            "  0.24768082 0.43123623 0.20518498 0.20252415 0.12340351 0.51340386\n",
            "  0.41314165 0.13150665 0.6263943  2.38609313 0.66183176 0.16338312\n",
            "  0.84538609 0.91076419]\n",
            " [0.6641638  1.42031664 0.48951388 0.4876454  0.26447449 0.98649123\n",
            "  0.24768082 1.25987269 0.20518498 0.20252415 0.12340351 0.51340386\n",
            "  0.41314165 0.13150665 0.6263943  0.41909513 0.66183176 0.16338312\n",
            "  1.18289148 0.91076419]\n",
            " [0.6641638  0.40622225 0.48951388 0.4876454  0.20254739 0.98649123\n",
            "  0.24768082 0.53550631 0.20518498 0.20252415 0.12340351 1.94778434\n",
            "  0.41314165 0.13150665 0.6263943  0.41909513 1.510958   0.16338312\n",
            "  0.84538609 0.91076419]\n",
            " [1.53141901 0.40622225 0.22279243 0.4876454  0.03096355 0.98649123\n",
            "  0.24768082 0.25929416 0.20518498 0.20252415 0.12340351 1.94778434\n",
            "  0.41314165 0.13150665 0.6263943  0.41909513 0.66183176 0.16338312\n",
            "  1.18289148 0.91076419]\n",
            " [0.6641638  0.40622225 0.88959605 0.36161514 0.20254739 0.98649123\n",
            "  0.24768082 1.12176661 0.20518498 0.20252415 0.12340351 0.51340386\n",
            "  0.41314165 0.13150665 0.6263943  0.41909513 0.66183176 0.16338312\n",
            "  0.84538609 0.91076419]]\n"
          ]
        }
      ]
    },
    {
      "cell_type": "code",
      "metadata": {
        "id": "ejXFqWW6xr14",
        "colab": {
          "base_uri": "https://localhost:8080/"
        },
        "outputId": "88afa94b-e2e0-4daf-c368-17126f95627c"
      },
      "source": [
        "z.shape"
      ],
      "execution_count": 26,
      "outputs": [
        {
          "output_type": "execute_result",
          "data": {
            "text/plain": [
              "(5000, 20)"
            ]
          },
          "metadata": {},
          "execution_count": 26
        }
      ]
    },
    {
      "cell_type": "code",
      "metadata": {
        "id": "CtCPu5LVxxas"
      },
      "source": [
        "df2 = df1"
      ],
      "execution_count": 27,
      "outputs": []
    },
    {
      "cell_type": "code",
      "metadata": {
        "id": "unLklPf3x7sI",
        "colab": {
          "base_uri": "https://localhost:8080/"
        },
        "outputId": "25e55729-7ccd-43ad-827a-010e3c390304"
      },
      "source": [
        "threshold = 3\n",
        "print(np.where(z > 3))"
      ],
      "execution_count": 28,
      "outputs": [
        {
          "output_type": "stream",
          "name": "stdout",
          "text": [
            "(array([  14,   22,   24, ..., 4996, 4996, 4999]), array([13,  8,  8, ...,  1,  6,  1]))\n"
          ]
        }
      ]
    },
    {
      "cell_type": "code",
      "metadata": {
        "id": "AFwSakz9x9yw"
      },
      "source": [
        "df2 = df2[(z < 3).all(axis=1)]"
      ],
      "execution_count": 29,
      "outputs": []
    },
    {
      "cell_type": "code",
      "metadata": {
        "id": "4Bl5eGguyDiD",
        "colab": {
          "base_uri": "https://localhost:8080/"
        },
        "outputId": "b48f468d-968f-4eaa-a0ef-3ebbba0842ae"
      },
      "source": [
        "df2.shape"
      ],
      "execution_count": 30,
      "outputs": [
        {
          "output_type": "execute_result",
          "data": {
            "text/plain": [
              "(3822, 20)"
            ]
          },
          "metadata": {},
          "execution_count": 30
        }
      ]
    },
    {
      "cell_type": "code",
      "metadata": {
        "id": "huHBw-En0isC",
        "colab": {
          "base_uri": "https://localhost:8080/",
          "height": 243
        },
        "outputId": "90b58c56-b518-4986-f58a-94933003e518"
      },
      "source": [
        "X3 = df.drop(['is_promoted'], axis = 1)\n",
        "Y3 = df['is_promoted']\n",
        "X3.head()"
      ],
      "execution_count": 31,
      "outputs": [
        {
          "output_type": "execute_result",
          "data": {
            "text/html": [
              "<div>\n",
              "<style scoped>\n",
              "    .dataframe tbody tr th:only-of-type {\n",
              "        vertical-align: middle;\n",
              "    }\n",
              "\n",
              "    .dataframe tbody tr th {\n",
              "        vertical-align: top;\n",
              "    }\n",
              "\n",
              "    .dataframe thead th {\n",
              "        text-align: right;\n",
              "    }\n",
              "</style>\n",
              "<table border=\"1\" class=\"dataframe\">\n",
              "  <thead>\n",
              "    <tr style=\"text-align: right;\">\n",
              "      <th></th>\n",
              "      <th>education</th>\n",
              "      <th>no_of_trainings</th>\n",
              "      <th>age</th>\n",
              "      <th>previous_year_rating</th>\n",
              "      <th>length_of_service</th>\n",
              "      <th>KPIs_met&gt;80%</th>\n",
              "      <th>awards_won?</th>\n",
              "      <th>avg_training_score</th>\n",
              "      <th>department_Finance</th>\n",
              "      <th>department_HR</th>\n",
              "      <th>department_Legal</th>\n",
              "      <th>department_Operations</th>\n",
              "      <th>department_Procurement</th>\n",
              "      <th>department_R&amp;D</th>\n",
              "      <th>department_Sales &amp; Marketing</th>\n",
              "      <th>deartment_Technology</th>\n",
              "      <th>gender_m</th>\n",
              "      <th>recruitment_channel_referred</th>\n",
              "      <th>recruitment_channel_sourcing</th>\n",
              "    </tr>\n",
              "  </thead>\n",
              "  <tbody>\n",
              "    <tr>\n",
              "      <th>0</th>\n",
              "      <td>1.531419</td>\n",
              "      <td>-0.406222</td>\n",
              "      <td>0.043929</td>\n",
              "      <td>1.210876</td>\n",
              "      <td>0.497985</td>\n",
              "      <td>1.013694</td>\n",
              "      <td>-0.247681</td>\n",
              "      <td>-1.226037</td>\n",
              "      <td>-0.205185</td>\n",
              "      <td>-0.202524</td>\n",
              "      <td>-0.123404</td>\n",
              "      <td>-0.513404</td>\n",
              "      <td>-0.413142</td>\n",
              "      <td>-0.131507</td>\n",
              "      <td>1.596439</td>\n",
              "      <td>-0.419095</td>\n",
              "      <td>-1.510958</td>\n",
              "      <td>-0.163383</td>\n",
              "      <td>1.182891</td>\n",
              "    </tr>\n",
              "    <tr>\n",
              "      <th>1</th>\n",
              "      <td>-0.664164</td>\n",
              "      <td>-0.406222</td>\n",
              "      <td>-0.622875</td>\n",
              "      <td>1.210876</td>\n",
              "      <td>-0.436058</td>\n",
              "      <td>-0.986491</td>\n",
              "      <td>-0.247681</td>\n",
              "      <td>-0.466453</td>\n",
              "      <td>-0.205185</td>\n",
              "      <td>-0.202524</td>\n",
              "      <td>-0.123404</td>\n",
              "      <td>1.947784</td>\n",
              "      <td>-0.413142</td>\n",
              "      <td>-0.131507</td>\n",
              "      <td>-0.626394</td>\n",
              "      <td>-0.419095</td>\n",
              "      <td>0.661832</td>\n",
              "      <td>-0.163383</td>\n",
              "      <td>-0.845386</td>\n",
              "    </tr>\n",
              "    <tr>\n",
              "      <th>2</th>\n",
              "      <td>-0.664164</td>\n",
              "      <td>-0.406222</td>\n",
              "      <td>-0.089432</td>\n",
              "      <td>-0.487645</td>\n",
              "      <td>0.264474</td>\n",
              "      <td>-0.986491</td>\n",
              "      <td>-0.247681</td>\n",
              "      <td>-1.156984</td>\n",
              "      <td>-0.205185</td>\n",
              "      <td>-0.202524</td>\n",
              "      <td>-0.123404</td>\n",
              "      <td>-0.513404</td>\n",
              "      <td>-0.413142</td>\n",
              "      <td>-0.131507</td>\n",
              "      <td>1.596439</td>\n",
              "      <td>-0.419095</td>\n",
              "      <td>0.661832</td>\n",
              "      <td>-0.163383</td>\n",
              "      <td>1.182891</td>\n",
              "    </tr>\n",
              "    <tr>\n",
              "      <th>3</th>\n",
              "      <td>-0.664164</td>\n",
              "      <td>1.420317</td>\n",
              "      <td>0.577372</td>\n",
              "      <td>-2.186166</td>\n",
              "      <td>0.965007</td>\n",
              "      <td>-0.986491</td>\n",
              "      <td>-0.247681</td>\n",
              "      <td>-1.156984</td>\n",
              "      <td>-0.205185</td>\n",
              "      <td>-0.202524</td>\n",
              "      <td>-0.123404</td>\n",
              "      <td>-0.513404</td>\n",
              "      <td>-0.413142</td>\n",
              "      <td>-0.131507</td>\n",
              "      <td>1.596439</td>\n",
              "      <td>-0.419095</td>\n",
              "      <td>0.661832</td>\n",
              "      <td>-0.163383</td>\n",
              "      <td>-0.845386</td>\n",
              "    </tr>\n",
              "    <tr>\n",
              "      <th>4</th>\n",
              "      <td>-0.664164</td>\n",
              "      <td>-0.406222</td>\n",
              "      <td>1.377536</td>\n",
              "      <td>-0.487645</td>\n",
              "      <td>-0.903080</td>\n",
              "      <td>-0.986491</td>\n",
              "      <td>-0.247681</td>\n",
              "      <td>0.431236</td>\n",
              "      <td>-0.205185</td>\n",
              "      <td>-0.202524</td>\n",
              "      <td>-0.123404</td>\n",
              "      <td>-0.513404</td>\n",
              "      <td>-0.413142</td>\n",
              "      <td>-0.131507</td>\n",
              "      <td>-0.626394</td>\n",
              "      <td>2.386093</td>\n",
              "      <td>0.661832</td>\n",
              "      <td>-0.163383</td>\n",
              "      <td>-0.845386</td>\n",
              "    </tr>\n",
              "  </tbody>\n",
              "</table>\n",
              "</div>"
            ],
            "text/plain": [
              "   education  ...  recruitment_channel_sourcing\n",
              "0   1.531419  ...                      1.182891\n",
              "1  -0.664164  ...                     -0.845386\n",
              "2  -0.664164  ...                      1.182891\n",
              "3  -0.664164  ...                     -0.845386\n",
              "4  -0.664164  ...                     -0.845386\n",
              "\n",
              "[5 rows x 19 columns]"
            ]
          },
          "metadata": {},
          "execution_count": 31
        }
      ]
    },
    {
      "cell_type": "code",
      "metadata": {
        "id": "vs1ubsfXSSd_"
      },
      "source": [
        "columnNames = ['education','no_of_trainings', 'age', 'previous_year_rating', 'length_of_service', 'KPIs_met>80%', 'awards_won?', 'avg_training_score', 'department_Finance',\n",
        "               'department_HR', 'department_Legal', 'department_Operations', 'department_Procurement', 'department_R&D', 'department_Sales & Marketing', 'deartment_Technology',\n",
        "               'gender_m', 'recruitment_channel_referred', 'recruitment_channel_sourcing']"
      ],
      "execution_count": 32,
      "outputs": []
    },
    {
      "cell_type": "code",
      "metadata": {
        "id": "u5kkYPiU1JGF",
        "colab": {
          "base_uri": "https://localhost:8080/",
          "height": 243
        },
        "outputId": "28e54922-a13c-46ce-ff1d-e06e47abc026"
      },
      "source": [
        "std_scaler_object = preprocessing.StandardScaler()\n",
        "X3A = std_scaler_object.fit_transform(X3)\n",
        "X3A = pd.DataFrame(X3A , columns = columnNames)\n",
        "X3A.head()"
      ],
      "execution_count": 33,
      "outputs": [
        {
          "output_type": "execute_result",
          "data": {
            "text/html": [
              "<div>\n",
              "<style scoped>\n",
              "    .dataframe tbody tr th:only-of-type {\n",
              "        vertical-align: middle;\n",
              "    }\n",
              "\n",
              "    .dataframe tbody tr th {\n",
              "        vertical-align: top;\n",
              "    }\n",
              "\n",
              "    .dataframe thead th {\n",
              "        text-align: right;\n",
              "    }\n",
              "</style>\n",
              "<table border=\"1\" class=\"dataframe\">\n",
              "  <thead>\n",
              "    <tr style=\"text-align: right;\">\n",
              "      <th></th>\n",
              "      <th>education</th>\n",
              "      <th>no_of_trainings</th>\n",
              "      <th>age</th>\n",
              "      <th>previous_year_rating</th>\n",
              "      <th>length_of_service</th>\n",
              "      <th>KPIs_met&gt;80%</th>\n",
              "      <th>awards_won?</th>\n",
              "      <th>avg_training_score</th>\n",
              "      <th>department_Finance</th>\n",
              "      <th>department_HR</th>\n",
              "      <th>department_Legal</th>\n",
              "      <th>department_Operations</th>\n",
              "      <th>department_Procurement</th>\n",
              "      <th>department_R&amp;D</th>\n",
              "      <th>department_Sales &amp; Marketing</th>\n",
              "      <th>deartment_Technology</th>\n",
              "      <th>gender_m</th>\n",
              "      <th>recruitment_channel_referred</th>\n",
              "      <th>recruitment_channel_sourcing</th>\n",
              "    </tr>\n",
              "  </thead>\n",
              "  <tbody>\n",
              "    <tr>\n",
              "      <th>0</th>\n",
              "      <td>1.531419</td>\n",
              "      <td>-0.406222</td>\n",
              "      <td>0.043929</td>\n",
              "      <td>1.210876</td>\n",
              "      <td>0.497985</td>\n",
              "      <td>1.013694</td>\n",
              "      <td>-0.247681</td>\n",
              "      <td>-1.226037</td>\n",
              "      <td>-0.205185</td>\n",
              "      <td>-0.202524</td>\n",
              "      <td>-0.123404</td>\n",
              "      <td>-0.513404</td>\n",
              "      <td>-0.413142</td>\n",
              "      <td>-0.131507</td>\n",
              "      <td>1.596439</td>\n",
              "      <td>-0.419095</td>\n",
              "      <td>-1.510958</td>\n",
              "      <td>-0.163383</td>\n",
              "      <td>1.182891</td>\n",
              "    </tr>\n",
              "    <tr>\n",
              "      <th>1</th>\n",
              "      <td>-0.664164</td>\n",
              "      <td>-0.406222</td>\n",
              "      <td>-0.622875</td>\n",
              "      <td>1.210876</td>\n",
              "      <td>-0.436058</td>\n",
              "      <td>-0.986491</td>\n",
              "      <td>-0.247681</td>\n",
              "      <td>-0.466453</td>\n",
              "      <td>-0.205185</td>\n",
              "      <td>-0.202524</td>\n",
              "      <td>-0.123404</td>\n",
              "      <td>1.947784</td>\n",
              "      <td>-0.413142</td>\n",
              "      <td>-0.131507</td>\n",
              "      <td>-0.626394</td>\n",
              "      <td>-0.419095</td>\n",
              "      <td>0.661832</td>\n",
              "      <td>-0.163383</td>\n",
              "      <td>-0.845386</td>\n",
              "    </tr>\n",
              "    <tr>\n",
              "      <th>2</th>\n",
              "      <td>-0.664164</td>\n",
              "      <td>-0.406222</td>\n",
              "      <td>-0.089432</td>\n",
              "      <td>-0.487645</td>\n",
              "      <td>0.264474</td>\n",
              "      <td>-0.986491</td>\n",
              "      <td>-0.247681</td>\n",
              "      <td>-1.156984</td>\n",
              "      <td>-0.205185</td>\n",
              "      <td>-0.202524</td>\n",
              "      <td>-0.123404</td>\n",
              "      <td>-0.513404</td>\n",
              "      <td>-0.413142</td>\n",
              "      <td>-0.131507</td>\n",
              "      <td>1.596439</td>\n",
              "      <td>-0.419095</td>\n",
              "      <td>0.661832</td>\n",
              "      <td>-0.163383</td>\n",
              "      <td>1.182891</td>\n",
              "    </tr>\n",
              "    <tr>\n",
              "      <th>3</th>\n",
              "      <td>-0.664164</td>\n",
              "      <td>1.420317</td>\n",
              "      <td>0.577372</td>\n",
              "      <td>-2.186166</td>\n",
              "      <td>0.965007</td>\n",
              "      <td>-0.986491</td>\n",
              "      <td>-0.247681</td>\n",
              "      <td>-1.156984</td>\n",
              "      <td>-0.205185</td>\n",
              "      <td>-0.202524</td>\n",
              "      <td>-0.123404</td>\n",
              "      <td>-0.513404</td>\n",
              "      <td>-0.413142</td>\n",
              "      <td>-0.131507</td>\n",
              "      <td>1.596439</td>\n",
              "      <td>-0.419095</td>\n",
              "      <td>0.661832</td>\n",
              "      <td>-0.163383</td>\n",
              "      <td>-0.845386</td>\n",
              "    </tr>\n",
              "    <tr>\n",
              "      <th>4</th>\n",
              "      <td>-0.664164</td>\n",
              "      <td>-0.406222</td>\n",
              "      <td>1.377536</td>\n",
              "      <td>-0.487645</td>\n",
              "      <td>-0.903080</td>\n",
              "      <td>-0.986491</td>\n",
              "      <td>-0.247681</td>\n",
              "      <td>0.431236</td>\n",
              "      <td>-0.205185</td>\n",
              "      <td>-0.202524</td>\n",
              "      <td>-0.123404</td>\n",
              "      <td>-0.513404</td>\n",
              "      <td>-0.413142</td>\n",
              "      <td>-0.131507</td>\n",
              "      <td>-0.626394</td>\n",
              "      <td>2.386093</td>\n",
              "      <td>0.661832</td>\n",
              "      <td>-0.163383</td>\n",
              "      <td>-0.845386</td>\n",
              "    </tr>\n",
              "  </tbody>\n",
              "</table>\n",
              "</div>"
            ],
            "text/plain": [
              "   education  ...  recruitment_channel_sourcing\n",
              "0   1.531419  ...                      1.182891\n",
              "1  -0.664164  ...                     -0.845386\n",
              "2  -0.664164  ...                      1.182891\n",
              "3  -0.664164  ...                     -0.845386\n",
              "4  -0.664164  ...                     -0.845386\n",
              "\n",
              "[5 rows x 19 columns]"
            ]
          },
          "metadata": {},
          "execution_count": 33
        }
      ]
    },
    {
      "cell_type": "code",
      "metadata": {
        "id": "H46EA1ihzEwf"
      },
      "source": [
        "from sklearn.model_selection import train_test_split\n",
        "X3_train, X3_test, Y3_train, Y3_test = train_test_split(X3A, Y3, test_size = 0.2, random_state = 66)"
      ],
      "execution_count": 34,
      "outputs": []
    },
    {
      "cell_type": "code",
      "metadata": {
        "id": "XGZlCitY1h0Z",
        "colab": {
          "base_uri": "https://localhost:8080/"
        },
        "outputId": "e91b48d3-a908-4be3-fc30-0c7c0e9dfedd"
      },
      "source": [
        "from sklearn.linear_model import LogisticRegression\n",
        "#create an instance and fit the model \n",
        "logmodel2 = LogisticRegression()\n",
        "logmodel2.fit(X3_train, Y3_train)"
      ],
      "execution_count": 35,
      "outputs": [
        {
          "output_type": "execute_result",
          "data": {
            "text/plain": [
              "LogisticRegression()"
            ]
          },
          "metadata": {},
          "execution_count": 35
        }
      ]
    },
    {
      "cell_type": "code",
      "metadata": {
        "id": "4TUjX7JW1mcO"
      },
      "source": [
        "#predictions\n",
        "predictions4 = logmodel2.predict(X3_test)"
      ],
      "execution_count": 36,
      "outputs": []
    },
    {
      "cell_type": "code",
      "metadata": {
        "id": "psQTB9fm13Q-",
        "colab": {
          "base_uri": "https://localhost:8080/"
        },
        "outputId": "eb575594-c7fe-4386-8b49-5a6ed2abe2de"
      },
      "source": [
        "print(confusion_matrix(Y3_test, predictions4))\n",
        "print(classification_report(Y3_test,predictions4))"
      ],
      "execution_count": 37,
      "outputs": [
        {
          "output_type": "stream",
          "name": "stdout",
          "text": [
            "[[412 138]\n",
            " [ 94 356]]\n",
            "              precision    recall  f1-score   support\n",
            "\n",
            "           0       0.81      0.75      0.78       550\n",
            "           1       0.72      0.79      0.75       450\n",
            "\n",
            "    accuracy                           0.77      1000\n",
            "   macro avg       0.77      0.77      0.77      1000\n",
            "weighted avg       0.77      0.77      0.77      1000\n",
            "\n"
          ]
        }
      ]
    },
    {
      "cell_type": "markdown",
      "metadata": {
        "id": "odUb0Wrc2Ty_"
      },
      "source": [
        "**Observation: After Outliers removal we get the accuracy of 77%**\n",
        "\n",
        "**Decision: We will not remove the Outliers Data.**"
      ]
    },
    {
      "cell_type": "markdown",
      "metadata": {
        "id": "s_tr7C5NUNS8"
      },
      "source": [
        "##**XI) Check for Feature Selection/ Extraction and verify the accuracy**"
      ]
    },
    {
      "cell_type": "markdown",
      "metadata": {
        "id": "VjgvDA3X3ymi"
      },
      "source": [
        "###**Using Correlation Coefficient Method**"
      ]
    },
    {
      "cell_type": "code",
      "metadata": {
        "id": "2abvaoHnUOND",
        "colab": {
          "base_uri": "https://localhost:8080/"
        },
        "outputId": "faab0f77-3d36-4f29-9010-2b62f8b823b8"
      },
      "source": [
        "df.info()"
      ],
      "execution_count": 38,
      "outputs": [
        {
          "output_type": "stream",
          "name": "stdout",
          "text": [
            "<class 'pandas.core.frame.DataFrame'>\n",
            "RangeIndex: 5000 entries, 0 to 4999\n",
            "Data columns (total 20 columns):\n",
            " #   Column                        Non-Null Count  Dtype  \n",
            "---  ------                        --------------  -----  \n",
            " 0   education                     5000 non-null   float64\n",
            " 1   no_of_trainings               5000 non-null   float64\n",
            " 2   age                           5000 non-null   float64\n",
            " 3   previous_year_rating          5000 non-null   float64\n",
            " 4   length_of_service             5000 non-null   float64\n",
            " 5   KPIs_met>80%                  5000 non-null   float64\n",
            " 6   awards_won?                   5000 non-null   float64\n",
            " 7   avg_training_score            5000 non-null   float64\n",
            " 8   department_Finance            5000 non-null   float64\n",
            " 9   department_HR                 5000 non-null   float64\n",
            " 10  department_Legal              5000 non-null   float64\n",
            " 11  department_Operations         5000 non-null   float64\n",
            " 12  department_Procurement        5000 non-null   float64\n",
            " 13  department_R&D                5000 non-null   float64\n",
            " 14  department_Sales & Marketing  5000 non-null   float64\n",
            " 15  deartment_Technology          5000 non-null   float64\n",
            " 16  gender_m                      5000 non-null   float64\n",
            " 17  recruitment_channel_referred  5000 non-null   float64\n",
            " 18  recruitment_channel_sourcing  5000 non-null   float64\n",
            " 19  is_promoted                   5000 non-null   int64  \n",
            "dtypes: float64(19), int64(1)\n",
            "memory usage: 781.4 KB\n"
          ]
        }
      ]
    },
    {
      "cell_type": "code",
      "metadata": {
        "id": "pge5QxWg4D-x",
        "colab": {
          "base_uri": "https://localhost:8080/",
          "height": 714
        },
        "outputId": "29aa8fc3-f9fa-499f-8fec-9fdeaddde435"
      },
      "source": [
        "cor=df.corr()\n",
        "cor"
      ],
      "execution_count": 39,
      "outputs": [
        {
          "output_type": "execute_result",
          "data": {
            "text/html": [
              "<div>\n",
              "<style scoped>\n",
              "    .dataframe tbody tr th:only-of-type {\n",
              "        vertical-align: middle;\n",
              "    }\n",
              "\n",
              "    .dataframe tbody tr th {\n",
              "        vertical-align: top;\n",
              "    }\n",
              "\n",
              "    .dataframe thead th {\n",
              "        text-align: right;\n",
              "    }\n",
              "</style>\n",
              "<table border=\"1\" class=\"dataframe\">\n",
              "  <thead>\n",
              "    <tr style=\"text-align: right;\">\n",
              "      <th></th>\n",
              "      <th>education</th>\n",
              "      <th>no_of_trainings</th>\n",
              "      <th>age</th>\n",
              "      <th>previous_year_rating</th>\n",
              "      <th>length_of_service</th>\n",
              "      <th>KPIs_met&gt;80%</th>\n",
              "      <th>awards_won?</th>\n",
              "      <th>avg_training_score</th>\n",
              "      <th>department_Finance</th>\n",
              "      <th>department_HR</th>\n",
              "      <th>department_Legal</th>\n",
              "      <th>department_Operations</th>\n",
              "      <th>department_Procurement</th>\n",
              "      <th>department_R&amp;D</th>\n",
              "      <th>department_Sales &amp; Marketing</th>\n",
              "      <th>deartment_Technology</th>\n",
              "      <th>gender_m</th>\n",
              "      <th>recruitment_channel_referred</th>\n",
              "      <th>recruitment_channel_sourcing</th>\n",
              "      <th>is_promoted</th>\n",
              "    </tr>\n",
              "  </thead>\n",
              "  <tbody>\n",
              "    <tr>\n",
              "      <th>education</th>\n",
              "      <td>1.000000</td>\n",
              "      <td>-0.051637</td>\n",
              "      <td>0.383352</td>\n",
              "      <td>0.035436</td>\n",
              "      <td>0.266965</td>\n",
              "      <td>0.032528</td>\n",
              "      <td>0.018963</td>\n",
              "      <td>0.034312</td>\n",
              "      <td>-0.024766</td>\n",
              "      <td>0.043806</td>\n",
              "      <td>-0.036803</td>\n",
              "      <td>0.036197</td>\n",
              "      <td>0.109469</td>\n",
              "      <td>0.034945</td>\n",
              "      <td>-0.062686</td>\n",
              "      <td>-0.007967</td>\n",
              "      <td>-0.069929</td>\n",
              "      <td>-0.034010</td>\n",
              "      <td>0.001416</td>\n",
              "      <td>0.050483</td>\n",
              "    </tr>\n",
              "    <tr>\n",
              "      <th>no_of_trainings</th>\n",
              "      <td>-0.051637</td>\n",
              "      <td>1.000000</td>\n",
              "      <td>-0.091283</td>\n",
              "      <td>-0.053520</td>\n",
              "      <td>-0.054300</td>\n",
              "      <td>-0.029548</td>\n",
              "      <td>-0.023909</td>\n",
              "      <td>0.082625</td>\n",
              "      <td>0.005706</td>\n",
              "      <td>-0.072881</td>\n",
              "      <td>-0.038108</td>\n",
              "      <td>-0.035031</td>\n",
              "      <td>0.009182</td>\n",
              "      <td>0.048312</td>\n",
              "      <td>-0.038458</td>\n",
              "      <td>0.014211</td>\n",
              "      <td>0.079148</td>\n",
              "      <td>-0.013571</td>\n",
              "      <td>0.001866</td>\n",
              "      <td>-0.049298</td>\n",
              "    </tr>\n",
              "    <tr>\n",
              "      <th>age</th>\n",
              "      <td>0.383352</td>\n",
              "      <td>-0.091283</td>\n",
              "      <td>1.000000</td>\n",
              "      <td>0.037414</td>\n",
              "      <td>0.677262</td>\n",
              "      <td>-0.032420</td>\n",
              "      <td>-0.001006</td>\n",
              "      <td>-0.060699</td>\n",
              "      <td>-0.087843</td>\n",
              "      <td>-0.013862</td>\n",
              "      <td>-0.023983</td>\n",
              "      <td>0.125813</td>\n",
              "      <td>0.070903</td>\n",
              "      <td>-0.034457</td>\n",
              "      <td>-0.007937</td>\n",
              "      <td>-0.015857</td>\n",
              "      <td>-0.032609</td>\n",
              "      <td>-0.032378</td>\n",
              "      <td>-0.023345</td>\n",
              "      <td>-0.037035</td>\n",
              "    </tr>\n",
              "    <tr>\n",
              "      <th>previous_year_rating</th>\n",
              "      <td>0.035436</td>\n",
              "      <td>-0.053520</td>\n",
              "      <td>0.037414</td>\n",
              "      <td>1.000000</td>\n",
              "      <td>0.025292</td>\n",
              "      <td>0.294898</td>\n",
              "      <td>0.079375</td>\n",
              "      <td>0.112824</td>\n",
              "      <td>0.012087</td>\n",
              "      <td>0.019105</td>\n",
              "      <td>-0.014064</td>\n",
              "      <td>0.090342</td>\n",
              "      <td>-0.001247</td>\n",
              "      <td>0.022590</td>\n",
              "      <td>-0.101202</td>\n",
              "      <td>-0.018548</td>\n",
              "      <td>-0.020111</td>\n",
              "      <td>0.055880</td>\n",
              "      <td>-0.005730</td>\n",
              "      <td>0.287039</td>\n",
              "    </tr>\n",
              "    <tr>\n",
              "      <th>length_of_service</th>\n",
              "      <td>0.266965</td>\n",
              "      <td>-0.054300</td>\n",
              "      <td>0.677262</td>\n",
              "      <td>0.025292</td>\n",
              "      <td>1.000000</td>\n",
              "      <td>-0.045773</td>\n",
              "      <td>-0.053769</td>\n",
              "      <td>-0.035127</td>\n",
              "      <td>-0.072869</td>\n",
              "      <td>0.007231</td>\n",
              "      <td>-0.056116</td>\n",
              "      <td>0.087046</td>\n",
              "      <td>0.061889</td>\n",
              "      <td>-0.042532</td>\n",
              "      <td>-0.013409</td>\n",
              "      <td>-0.004054</td>\n",
              "      <td>-0.017956</td>\n",
              "      <td>-0.033093</td>\n",
              "      <td>-0.010861</td>\n",
              "      <td>-0.019550</td>\n",
              "    </tr>\n",
              "    <tr>\n",
              "      <th>KPIs_met&gt;80%</th>\n",
              "      <td>0.032528</td>\n",
              "      <td>-0.029548</td>\n",
              "      <td>-0.032420</td>\n",
              "      <td>0.294898</td>\n",
              "      <td>-0.045773</td>\n",
              "      <td>1.000000</td>\n",
              "      <td>0.052224</td>\n",
              "      <td>0.032766</td>\n",
              "      <td>-0.005336</td>\n",
              "      <td>-0.000330</td>\n",
              "      <td>-0.003258</td>\n",
              "      <td>0.049812</td>\n",
              "      <td>0.017522</td>\n",
              "      <td>0.012620</td>\n",
              "      <td>-0.075511</td>\n",
              "      <td>0.011872</td>\n",
              "      <td>-0.017259</td>\n",
              "      <td>0.034902</td>\n",
              "      <td>-0.021769</td>\n",
              "      <td>0.388057</td>\n",
              "    </tr>\n",
              "    <tr>\n",
              "      <th>awards_won?</th>\n",
              "      <td>0.018963</td>\n",
              "      <td>-0.023909</td>\n",
              "      <td>-0.001006</td>\n",
              "      <td>0.079375</td>\n",
              "      <td>-0.053769</td>\n",
              "      <td>0.052224</td>\n",
              "      <td>1.000000</td>\n",
              "      <td>0.172203</td>\n",
              "      <td>-0.002941</td>\n",
              "      <td>-0.006108</td>\n",
              "      <td>0.011739</td>\n",
              "      <td>0.022600</td>\n",
              "      <td>0.002098</td>\n",
              "      <td>-0.012683</td>\n",
              "      <td>-0.025604</td>\n",
              "      <td>0.018808</td>\n",
              "      <td>-0.009256</td>\n",
              "      <td>0.013388</td>\n",
              "      <td>-0.006006</td>\n",
              "      <td>0.216859</td>\n",
              "    </tr>\n",
              "    <tr>\n",
              "      <th>avg_training_score</th>\n",
              "      <td>0.034312</td>\n",
              "      <td>0.082625</td>\n",
              "      <td>-0.060699</td>\n",
              "      <td>0.112824</td>\n",
              "      <td>-0.035127</td>\n",
              "      <td>0.032766</td>\n",
              "      <td>0.172203</td>\n",
              "      <td>1.000000</td>\n",
              "      <td>-0.040648</td>\n",
              "      <td>-0.203224</td>\n",
              "      <td>-0.047564</td>\n",
              "      <td>-0.131729</td>\n",
              "      <td>0.168261</td>\n",
              "      <td>0.165575</td>\n",
              "      <td>-0.568318</td>\n",
              "      <td>0.427395</td>\n",
              "      <td>-0.039254</td>\n",
              "      <td>0.021510</td>\n",
              "      <td>-0.012785</td>\n",
              "      <td>0.271689</td>\n",
              "    </tr>\n",
              "    <tr>\n",
              "      <th>department_Finance</th>\n",
              "      <td>-0.024766</td>\n",
              "      <td>0.005706</td>\n",
              "      <td>-0.087843</td>\n",
              "      <td>0.012087</td>\n",
              "      <td>-0.072869</td>\n",
              "      <td>-0.005336</td>\n",
              "      <td>-0.002941</td>\n",
              "      <td>-0.040648</td>\n",
              "      <td>1.000000</td>\n",
              "      <td>-0.041555</td>\n",
              "      <td>-0.025321</td>\n",
              "      <td>-0.105343</td>\n",
              "      <td>-0.084770</td>\n",
              "      <td>-0.026983</td>\n",
              "      <td>-0.128527</td>\n",
              "      <td>-0.085992</td>\n",
              "      <td>0.018824</td>\n",
              "      <td>-0.033524</td>\n",
              "      <td>0.022264</td>\n",
              "      <td>-0.001197</td>\n",
              "    </tr>\n",
              "    <tr>\n",
              "      <th>department_HR</th>\n",
              "      <td>0.043806</td>\n",
              "      <td>-0.072881</td>\n",
              "      <td>-0.013862</td>\n",
              "      <td>0.019105</td>\n",
              "      <td>0.007231</td>\n",
              "      <td>-0.000330</td>\n",
              "      <td>-0.006108</td>\n",
              "      <td>-0.203224</td>\n",
              "      <td>-0.041555</td>\n",
              "      <td>1.000000</td>\n",
              "      <td>-0.024992</td>\n",
              "      <td>-0.103977</td>\n",
              "      <td>-0.083671</td>\n",
              "      <td>-0.026633</td>\n",
              "      <td>-0.126860</td>\n",
              "      <td>-0.084877</td>\n",
              "      <td>-0.062530</td>\n",
              "      <td>0.031513</td>\n",
              "      <td>-0.002314</td>\n",
              "      <td>-0.031636</td>\n",
              "    </tr>\n",
              "    <tr>\n",
              "      <th>department_Legal</th>\n",
              "      <td>-0.036803</td>\n",
              "      <td>-0.038108</td>\n",
              "      <td>-0.023983</td>\n",
              "      <td>-0.014064</td>\n",
              "      <td>-0.056116</td>\n",
              "      <td>-0.003258</td>\n",
              "      <td>0.011739</td>\n",
              "      <td>-0.047564</td>\n",
              "      <td>-0.025321</td>\n",
              "      <td>-0.024992</td>\n",
              "      <td>1.000000</td>\n",
              "      <td>-0.063356</td>\n",
              "      <td>-0.050983</td>\n",
              "      <td>-0.016228</td>\n",
              "      <td>-0.077299</td>\n",
              "      <td>-0.051718</td>\n",
              "      <td>0.056647</td>\n",
              "      <td>0.031536</td>\n",
              "      <td>-0.007542</td>\n",
              "      <td>-0.023153</td>\n",
              "    </tr>\n",
              "    <tr>\n",
              "      <th>department_Operations</th>\n",
              "      <td>0.036197</td>\n",
              "      <td>-0.035031</td>\n",
              "      <td>0.125813</td>\n",
              "      <td>0.090342</td>\n",
              "      <td>0.087046</td>\n",
              "      <td>0.049812</td>\n",
              "      <td>0.022600</td>\n",
              "      <td>-0.131729</td>\n",
              "      <td>-0.105343</td>\n",
              "      <td>-0.103977</td>\n",
              "      <td>-0.063356</td>\n",
              "      <td>1.000000</td>\n",
              "      <td>-0.212109</td>\n",
              "      <td>-0.067516</td>\n",
              "      <td>-0.321593</td>\n",
              "      <td>-0.215165</td>\n",
              "      <td>-0.122250</td>\n",
              "      <td>-0.034390</td>\n",
              "      <td>0.005269</td>\n",
              "      <td>0.020867</td>\n",
              "    </tr>\n",
              "    <tr>\n",
              "      <th>department_Procurement</th>\n",
              "      <td>0.109469</td>\n",
              "      <td>0.009182</td>\n",
              "      <td>0.070903</td>\n",
              "      <td>-0.001247</td>\n",
              "      <td>0.061889</td>\n",
              "      <td>0.017522</td>\n",
              "      <td>0.002098</td>\n",
              "      <td>0.168261</td>\n",
              "      <td>-0.084770</td>\n",
              "      <td>-0.083671</td>\n",
              "      <td>-0.050983</td>\n",
              "      <td>-0.212109</td>\n",
              "      <td>1.000000</td>\n",
              "      <td>-0.054331</td>\n",
              "      <td>-0.258790</td>\n",
              "      <td>-0.173146</td>\n",
              "      <td>-0.205573</td>\n",
              "      <td>-0.010520</td>\n",
              "      <td>-0.006721</td>\n",
              "      <td>0.000537</td>\n",
              "    </tr>\n",
              "    <tr>\n",
              "      <th>department_R&amp;D</th>\n",
              "      <td>0.034945</td>\n",
              "      <td>0.048312</td>\n",
              "      <td>-0.034457</td>\n",
              "      <td>0.022590</td>\n",
              "      <td>-0.042532</td>\n",
              "      <td>0.012620</td>\n",
              "      <td>-0.012683</td>\n",
              "      <td>0.165575</td>\n",
              "      <td>-0.026983</td>\n",
              "      <td>-0.026633</td>\n",
              "      <td>-0.016228</td>\n",
              "      <td>-0.067516</td>\n",
              "      <td>-0.054331</td>\n",
              "      <td>1.000000</td>\n",
              "      <td>-0.082375</td>\n",
              "      <td>-0.055114</td>\n",
              "      <td>0.066866</td>\n",
              "      <td>-0.021486</td>\n",
              "      <td>0.020623</td>\n",
              "      <td>-0.023430</td>\n",
              "    </tr>\n",
              "    <tr>\n",
              "      <th>department_Sales &amp; Marketing</th>\n",
              "      <td>-0.062686</td>\n",
              "      <td>-0.038458</td>\n",
              "      <td>-0.007937</td>\n",
              "      <td>-0.101202</td>\n",
              "      <td>-0.013409</td>\n",
              "      <td>-0.075511</td>\n",
              "      <td>-0.025604</td>\n",
              "      <td>-0.568318</td>\n",
              "      <td>-0.128527</td>\n",
              "      <td>-0.126860</td>\n",
              "      <td>-0.077299</td>\n",
              "      <td>-0.321593</td>\n",
              "      <td>-0.258790</td>\n",
              "      <td>-0.082375</td>\n",
              "      <td>1.000000</td>\n",
              "      <td>-0.262519</td>\n",
              "      <td>0.196263</td>\n",
              "      <td>-0.007358</td>\n",
              "      <td>0.013281</td>\n",
              "      <td>-0.040937</td>\n",
              "    </tr>\n",
              "    <tr>\n",
              "      <th>deartment_Technology</th>\n",
              "      <td>-0.007967</td>\n",
              "      <td>0.014211</td>\n",
              "      <td>-0.015857</td>\n",
              "      <td>-0.018548</td>\n",
              "      <td>-0.004054</td>\n",
              "      <td>0.011872</td>\n",
              "      <td>0.018808</td>\n",
              "      <td>0.427395</td>\n",
              "      <td>-0.085992</td>\n",
              "      <td>-0.084877</td>\n",
              "      <td>-0.051718</td>\n",
              "      <td>-0.215165</td>\n",
              "      <td>-0.173146</td>\n",
              "      <td>-0.055114</td>\n",
              "      <td>-0.262519</td>\n",
              "      <td>1.000000</td>\n",
              "      <td>-0.050545</td>\n",
              "      <td>0.076074</td>\n",
              "      <td>-0.029984</td>\n",
              "      <td>0.056699</td>\n",
              "    </tr>\n",
              "    <tr>\n",
              "      <th>gender_m</th>\n",
              "      <td>-0.069929</td>\n",
              "      <td>0.079148</td>\n",
              "      <td>-0.032609</td>\n",
              "      <td>-0.020111</td>\n",
              "      <td>-0.017956</td>\n",
              "      <td>-0.017259</td>\n",
              "      <td>-0.009256</td>\n",
              "      <td>-0.039254</td>\n",
              "      <td>0.018824</td>\n",
              "      <td>-0.062530</td>\n",
              "      <td>0.056647</td>\n",
              "      <td>-0.122250</td>\n",
              "      <td>-0.205573</td>\n",
              "      <td>0.066866</td>\n",
              "      <td>0.196263</td>\n",
              "      <td>-0.050545</td>\n",
              "      <td>1.000000</td>\n",
              "      <td>-0.012021</td>\n",
              "      <td>0.006863</td>\n",
              "      <td>-0.014378</td>\n",
              "    </tr>\n",
              "    <tr>\n",
              "      <th>recruitment_channel_referred</th>\n",
              "      <td>-0.034010</td>\n",
              "      <td>-0.013571</td>\n",
              "      <td>-0.032378</td>\n",
              "      <td>0.055880</td>\n",
              "      <td>-0.033093</td>\n",
              "      <td>0.034902</td>\n",
              "      <td>0.013388</td>\n",
              "      <td>0.021510</td>\n",
              "      <td>-0.033524</td>\n",
              "      <td>0.031513</td>\n",
              "      <td>0.031536</td>\n",
              "      <td>-0.034390</td>\n",
              "      <td>-0.010520</td>\n",
              "      <td>-0.021486</td>\n",
              "      <td>-0.007358</td>\n",
              "      <td>0.076074</td>\n",
              "      <td>-0.012021</td>\n",
              "      <td>1.000000</td>\n",
              "      <td>-0.138122</td>\n",
              "      <td>0.038015</td>\n",
              "    </tr>\n",
              "    <tr>\n",
              "      <th>recruitment_channel_sourcing</th>\n",
              "      <td>0.001416</td>\n",
              "      <td>0.001866</td>\n",
              "      <td>-0.023345</td>\n",
              "      <td>-0.005730</td>\n",
              "      <td>-0.010861</td>\n",
              "      <td>-0.021769</td>\n",
              "      <td>-0.006006</td>\n",
              "      <td>-0.012785</td>\n",
              "      <td>0.022264</td>\n",
              "      <td>-0.002314</td>\n",
              "      <td>-0.007542</td>\n",
              "      <td>0.005269</td>\n",
              "      <td>-0.006721</td>\n",
              "      <td>0.020623</td>\n",
              "      <td>0.013281</td>\n",
              "      <td>-0.029984</td>\n",
              "      <td>0.006863</td>\n",
              "      <td>-0.138122</td>\n",
              "      <td>1.000000</td>\n",
              "      <td>-0.012945</td>\n",
              "    </tr>\n",
              "    <tr>\n",
              "      <th>is_promoted</th>\n",
              "      <td>0.050483</td>\n",
              "      <td>-0.049298</td>\n",
              "      <td>-0.037035</td>\n",
              "      <td>0.287039</td>\n",
              "      <td>-0.019550</td>\n",
              "      <td>0.388057</td>\n",
              "      <td>0.216859</td>\n",
              "      <td>0.271689</td>\n",
              "      <td>-0.001197</td>\n",
              "      <td>-0.031636</td>\n",
              "      <td>-0.023153</td>\n",
              "      <td>0.020867</td>\n",
              "      <td>0.000537</td>\n",
              "      <td>-0.023430</td>\n",
              "      <td>-0.040937</td>\n",
              "      <td>0.056699</td>\n",
              "      <td>-0.014378</td>\n",
              "      <td>0.038015</td>\n",
              "      <td>-0.012945</td>\n",
              "      <td>1.000000</td>\n",
              "    </tr>\n",
              "  </tbody>\n",
              "</table>\n",
              "</div>"
            ],
            "text/plain": [
              "                              education  ...  is_promoted\n",
              "education                      1.000000  ...     0.050483\n",
              "no_of_trainings               -0.051637  ...    -0.049298\n",
              "age                            0.383352  ...    -0.037035\n",
              "previous_year_rating           0.035436  ...     0.287039\n",
              "length_of_service              0.266965  ...    -0.019550\n",
              "KPIs_met>80%                   0.032528  ...     0.388057\n",
              "awards_won?                    0.018963  ...     0.216859\n",
              "avg_training_score             0.034312  ...     0.271689\n",
              "department_Finance            -0.024766  ...    -0.001197\n",
              "department_HR                  0.043806  ...    -0.031636\n",
              "department_Legal              -0.036803  ...    -0.023153\n",
              "department_Operations          0.036197  ...     0.020867\n",
              "department_Procurement         0.109469  ...     0.000537\n",
              "department_R&D                 0.034945  ...    -0.023430\n",
              "department_Sales & Marketing  -0.062686  ...    -0.040937\n",
              "deartment_Technology          -0.007967  ...     0.056699\n",
              "gender_m                      -0.069929  ...    -0.014378\n",
              "recruitment_channel_referred  -0.034010  ...     0.038015\n",
              "recruitment_channel_sourcing   0.001416  ...    -0.012945\n",
              "is_promoted                    0.050483  ...     1.000000\n",
              "\n",
              "[20 rows x 20 columns]"
            ]
          },
          "metadata": {},
          "execution_count": 39
        }
      ]
    },
    {
      "cell_type": "code",
      "metadata": {
        "id": "AQDIuZFZ4NwW",
        "colab": {
          "base_uri": "https://localhost:8080/"
        },
        "outputId": "5ff718da-7120-4f21-c2a3-bc4ad5b90083"
      },
      "source": [
        "threshold=0.3\n",
        "a = abs(cor['is_promoted'])\n",
        "a"
      ],
      "execution_count": 40,
      "outputs": [
        {
          "output_type": "execute_result",
          "data": {
            "text/plain": [
              "education                       0.050483\n",
              "no_of_trainings                 0.049298\n",
              "age                             0.037035\n",
              "previous_year_rating            0.287039\n",
              "length_of_service               0.019550\n",
              "KPIs_met>80%                    0.388057\n",
              "awards_won?                     0.216859\n",
              "avg_training_score              0.271689\n",
              "department_Finance              0.001197\n",
              "department_HR                   0.031636\n",
              "department_Legal                0.023153\n",
              "department_Operations           0.020867\n",
              "department_Procurement          0.000537\n",
              "department_R&D                  0.023430\n",
              "department_Sales & Marketing    0.040937\n",
              "deartment_Technology            0.056699\n",
              "gender_m                        0.014378\n",
              "recruitment_channel_referred    0.038015\n",
              "recruitment_channel_sourcing    0.012945\n",
              "is_promoted                     1.000000\n",
              "Name: is_promoted, dtype: float64"
            ]
          },
          "metadata": {},
          "execution_count": 40
        }
      ]
    },
    {
      "cell_type": "code",
      "metadata": {
        "id": "O2wJ4U0z4WsA",
        "colab": {
          "base_uri": "https://localhost:8080/"
        },
        "outputId": "97fed300-a33e-43c0-99dd-cbf14ee5784b"
      },
      "source": [
        "result = a[a>0.3]\n",
        "result"
      ],
      "execution_count": 41,
      "outputs": [
        {
          "output_type": "execute_result",
          "data": {
            "text/plain": [
              "KPIs_met>80%    0.388057\n",
              "is_promoted     1.000000\n",
              "Name: is_promoted, dtype: float64"
            ]
          },
          "metadata": {},
          "execution_count": 41
        }
      ]
    },
    {
      "cell_type": "code",
      "metadata": {
        "id": "f32iTvcf4dnJ"
      },
      "source": [
        "df4=df.drop(['education','no_of_trainings', 'age', 'previous_year_rating', 'length_of_service', 'awards_won?', 'avg_training_score', 'department_Finance',\n",
        "               'department_HR', 'department_Legal', 'department_Operations', 'department_Procurement', 'department_R&D', 'department_Sales & Marketing', 'deartment_Technology',\n",
        "               'gender_m', 'recruitment_channel_referred', 'recruitment_channel_sourcing'], axis=1)"
      ],
      "execution_count": 42,
      "outputs": []
    },
    {
      "cell_type": "code",
      "metadata": {
        "id": "BwVR-lgH4nGs",
        "colab": {
          "base_uri": "https://localhost:8080/"
        },
        "outputId": "b648005d-81f7-4d5e-86da-f4605cbd3a4c"
      },
      "source": [
        "df4.info()"
      ],
      "execution_count": 43,
      "outputs": [
        {
          "output_type": "stream",
          "name": "stdout",
          "text": [
            "<class 'pandas.core.frame.DataFrame'>\n",
            "RangeIndex: 5000 entries, 0 to 4999\n",
            "Data columns (total 2 columns):\n",
            " #   Column        Non-Null Count  Dtype  \n",
            "---  ------        --------------  -----  \n",
            " 0   KPIs_met>80%  5000 non-null   float64\n",
            " 1   is_promoted   5000 non-null   int64  \n",
            "dtypes: float64(1), int64(1)\n",
            "memory usage: 78.2 KB\n"
          ]
        }
      ]
    },
    {
      "cell_type": "code",
      "metadata": {
        "id": "9FGzG3UI4u0J",
        "colab": {
          "base_uri": "https://localhost:8080/",
          "height": 206
        },
        "outputId": "b59d9d8b-3194-474f-b3f0-0c48bf21ad3f"
      },
      "source": [
        "X5 = df4.drop(['is_promoted'], axis = 1)\n",
        "Y5 = df4['is_promoted']\n",
        "X5.head()"
      ],
      "execution_count": 44,
      "outputs": [
        {
          "output_type": "execute_result",
          "data": {
            "text/html": [
              "<div>\n",
              "<style scoped>\n",
              "    .dataframe tbody tr th:only-of-type {\n",
              "        vertical-align: middle;\n",
              "    }\n",
              "\n",
              "    .dataframe tbody tr th {\n",
              "        vertical-align: top;\n",
              "    }\n",
              "\n",
              "    .dataframe thead th {\n",
              "        text-align: right;\n",
              "    }\n",
              "</style>\n",
              "<table border=\"1\" class=\"dataframe\">\n",
              "  <thead>\n",
              "    <tr style=\"text-align: right;\">\n",
              "      <th></th>\n",
              "      <th>KPIs_met&gt;80%</th>\n",
              "    </tr>\n",
              "  </thead>\n",
              "  <tbody>\n",
              "    <tr>\n",
              "      <th>0</th>\n",
              "      <td>1.013694</td>\n",
              "    </tr>\n",
              "    <tr>\n",
              "      <th>1</th>\n",
              "      <td>-0.986491</td>\n",
              "    </tr>\n",
              "    <tr>\n",
              "      <th>2</th>\n",
              "      <td>-0.986491</td>\n",
              "    </tr>\n",
              "    <tr>\n",
              "      <th>3</th>\n",
              "      <td>-0.986491</td>\n",
              "    </tr>\n",
              "    <tr>\n",
              "      <th>4</th>\n",
              "      <td>-0.986491</td>\n",
              "    </tr>\n",
              "  </tbody>\n",
              "</table>\n",
              "</div>"
            ],
            "text/plain": [
              "   KPIs_met>80%\n",
              "0      1.013694\n",
              "1     -0.986491\n",
              "2     -0.986491\n",
              "3     -0.986491\n",
              "4     -0.986491"
            ]
          },
          "metadata": {},
          "execution_count": 44
        }
      ]
    },
    {
      "cell_type": "code",
      "metadata": {
        "id": "CnB8EILz49mx",
        "colab": {
          "base_uri": "https://localhost:8080/"
        },
        "outputId": "a044354b-34fb-4ff2-8d25-868a935f9182"
      },
      "source": [
        "Y5.head()"
      ],
      "execution_count": 45,
      "outputs": [
        {
          "output_type": "execute_result",
          "data": {
            "text/plain": [
              "0    0\n",
              "1    0\n",
              "2    0\n",
              "3    0\n",
              "4    0\n",
              "Name: is_promoted, dtype: int64"
            ]
          },
          "metadata": {},
          "execution_count": 45
        }
      ]
    },
    {
      "cell_type": "code",
      "metadata": {
        "id": "HHzkw2bs5Bj5"
      },
      "source": [
        "from sklearn.model_selection import train_test_split\n",
        "X5_train, X5_test, Y5_train, Y5_test = train_test_split(X5, Y5, test_size = 0.2, random_state = 66)"
      ],
      "execution_count": 46,
      "outputs": []
    },
    {
      "cell_type": "code",
      "metadata": {
        "id": "Zrf_sPqb5O6w",
        "colab": {
          "base_uri": "https://localhost:8080/"
        },
        "outputId": "c5a1faab-bd61-4aa3-9c12-248c9a973067"
      },
      "source": [
        "print(X5_train.shape)\n",
        "print(Y5_train.shape)\n",
        "print(X5_test.shape)\n",
        "print(Y5_test.shape)"
      ],
      "execution_count": 47,
      "outputs": [
        {
          "output_type": "stream",
          "name": "stdout",
          "text": [
            "(4000, 1)\n",
            "(4000,)\n",
            "(1000, 1)\n",
            "(1000,)\n"
          ]
        }
      ]
    },
    {
      "cell_type": "code",
      "metadata": {
        "id": "eRtaqZiw5WPz",
        "colab": {
          "base_uri": "https://localhost:8080/"
        },
        "outputId": "0f02574a-73c3-4f36-9c57-9d62dece777b"
      },
      "source": [
        "from sklearn.linear_model import LogisticRegression\n",
        "#create an instance and fit the model \n",
        "logmodel2 = LogisticRegression()\n",
        "logmodel2.fit(X5_train, Y5_train)"
      ],
      "execution_count": 48,
      "outputs": [
        {
          "output_type": "execute_result",
          "data": {
            "text/plain": [
              "LogisticRegression()"
            ]
          },
          "metadata": {},
          "execution_count": 48
        }
      ]
    },
    {
      "cell_type": "code",
      "metadata": {
        "id": "0bNS4WDB5iLw"
      },
      "source": [
        "#predictions\n",
        "predictions5 = logmodel2.predict(X5_test)"
      ],
      "execution_count": 49,
      "outputs": []
    },
    {
      "cell_type": "code",
      "metadata": {
        "id": "qNzWNd_q5vHh",
        "colab": {
          "base_uri": "https://localhost:8080/"
        },
        "outputId": "ab9b2222-792e-4175-85ef-bc867f90e916"
      },
      "source": [
        "print(confusion_matrix(Y5_test, predictions5))\n",
        "print(classification_report(Y5_test,predictions5))"
      ],
      "execution_count": 50,
      "outputs": [
        {
          "output_type": "stream",
          "name": "stdout",
          "text": [
            "[[369 181]\n",
            " [142 308]]\n",
            "              precision    recall  f1-score   support\n",
            "\n",
            "           0       0.72      0.67      0.70       550\n",
            "           1       0.63      0.68      0.66       450\n",
            "\n",
            "    accuracy                           0.68      1000\n",
            "   macro avg       0.68      0.68      0.68      1000\n",
            "weighted avg       0.68      0.68      0.68      1000\n",
            "\n"
          ]
        }
      ]
    },
    {
      "cell_type": "markdown",
      "metadata": {
        "id": "GsXiAeFJ6AFg"
      },
      "source": [
        "**Observation: By having only one independent variable column \"KPIs_met>80%\", we get the accuracy of 68%**\n",
        "\n",
        "###**Decision: We cannot use \"KPIs_met>80%\" as the only Independent Variable Data**"
      ]
    },
    {
      "cell_type": "markdown",
      "metadata": {
        "id": "D8ZLSxFz7Sxz"
      },
      "source": [
        "###**Applying PCA**"
      ]
    },
    {
      "cell_type": "code",
      "metadata": {
        "id": "e78S41kk7VxH",
        "colab": {
          "base_uri": "https://localhost:8080/"
        },
        "outputId": "e02ef848-6ce3-4376-a7f3-5629f3603078"
      },
      "source": [
        "from sklearn.decomposition import PCA\n",
        "\n",
        "pca = PCA(n_components=2)\n",
        "X_train6 = pca.fit_transform(X_train)\n",
        "X_test6 = pca.transform(X_test)\n",
        "print(X_train6.shape)\n",
        "print(X_test6.shape)\n",
        "print(X_train6[:5])\n",
        "print(Y[:5])"
      ],
      "execution_count": 51,
      "outputs": [
        {
          "output_type": "stream",
          "name": "stdout",
          "text": [
            "(4000, 2)\n",
            "(1000, 2)\n",
            "[[ 1.22460944  0.13094297]\n",
            " [-1.84258267  1.34506597]\n",
            " [ 0.65647523 -1.38003196]\n",
            " [-1.83995575 -0.00465833]\n",
            " [ 0.32525361 -0.89904423]]\n",
            "0    0\n",
            "1    0\n",
            "2    0\n",
            "3    0\n",
            "4    0\n",
            "Name: is_promoted, dtype: int64\n"
          ]
        }
      ]
    },
    {
      "cell_type": "code",
      "metadata": {
        "id": "DnSdbHjh7bnI",
        "colab": {
          "base_uri": "https://localhost:8080/"
        },
        "outputId": "8576c179-3eec-4962-c38f-8d076ca9e1ff"
      },
      "source": [
        "from sklearn.linear_model import LogisticRegression\n",
        "#create an instance and fit the model \n",
        "logmodel2 = LogisticRegression()\n",
        "logmodel2.fit(X_train6, y_train)"
      ],
      "execution_count": 52,
      "outputs": [
        {
          "output_type": "execute_result",
          "data": {
            "text/plain": [
              "LogisticRegression()"
            ]
          },
          "metadata": {},
          "execution_count": 52
        }
      ]
    },
    {
      "cell_type": "code",
      "metadata": {
        "id": "5dVQmlXg8hpC"
      },
      "source": [
        "#predictions\n",
        "predictions6 = logmodel2.predict(X_test6)"
      ],
      "execution_count": 53,
      "outputs": []
    },
    {
      "cell_type": "code",
      "metadata": {
        "id": "xmh0zP7985Pb",
        "colab": {
          "base_uri": "https://localhost:8080/"
        },
        "outputId": "77cd76fc-eb6d-42ea-9d49-1ab9f6c6827c"
      },
      "source": [
        "from sklearn.metrics import classification_report, confusion_matrix  \n",
        "print(confusion_matrix(y_test,predictions6))  \n",
        "print(classification_report(y_test,predictions6))  "
      ],
      "execution_count": 54,
      "outputs": [
        {
          "output_type": "stream",
          "name": "stdout",
          "text": [
            "[[374 176]\n",
            " [226 224]]\n",
            "              precision    recall  f1-score   support\n",
            "\n",
            "           0       0.62      0.68      0.65       550\n",
            "           1       0.56      0.50      0.53       450\n",
            "\n",
            "    accuracy                           0.60      1000\n",
            "   macro avg       0.59      0.59      0.59      1000\n",
            "weighted avg       0.59      0.60      0.59      1000\n",
            "\n"
          ]
        }
      ]
    },
    {
      "cell_type": "markdown",
      "metadata": {
        "id": "J9kuqWhzRmKR"
      },
      "source": [
        "**Observation: By using the PCA Method, we get the accuracy of 59%**\n",
        "\n",
        "###**Decision: We will not use the PCA Method for reducing the features**"
      ]
    },
    {
      "cell_type": "markdown",
      "metadata": {
        "id": "QeWuow6z9Qvl"
      },
      "source": [
        "###**Using LDA**"
      ]
    },
    {
      "cell_type": "code",
      "metadata": {
        "id": "nt6NIzVE9U8e",
        "colab": {
          "base_uri": "https://localhost:8080/"
        },
        "outputId": "ba6a3dc2-0e74-45f3-e44e-6ec0c6ca77f1"
      },
      "source": [
        "from sklearn.discriminant_analysis import LinearDiscriminantAnalysis as LDA\n",
        "\n",
        "lda = LDA(n_components=1)\n",
        "X_train7 = lda.fit_transform(X_train, y_train)\n",
        "X_test7 = lda.transform(X_test)\n",
        "print(X_train7[:5])\n",
        "print()\n",
        "print(X_test7[:5])"
      ],
      "execution_count": 55,
      "outputs": [
        {
          "output_type": "stream",
          "name": "stdout",
          "text": [
            "[[ 3.2283724 ]\n",
            " [-0.903777  ]\n",
            " [-0.3328824 ]\n",
            " [-0.08878046]\n",
            " [-1.46928838]]\n",
            "\n",
            "[[-1.2704975 ]\n",
            " [-1.79896896]\n",
            " [ 1.09019099]\n",
            " [ 3.70798063]\n",
            " [ 3.88926977]]\n"
          ]
        }
      ]
    },
    {
      "cell_type": "code",
      "metadata": {
        "id": "iqN0bJ099f4F",
        "colab": {
          "base_uri": "https://localhost:8080/"
        },
        "outputId": "9e1aa3e6-9373-47bb-b899-868c02597516"
      },
      "source": [
        "from sklearn.linear_model import LogisticRegression\n",
        "#create an instance and fit the model \n",
        "logmodel2 = LogisticRegression()\n",
        "logmodel2.fit(X_train7, y_train)"
      ],
      "execution_count": 56,
      "outputs": [
        {
          "output_type": "execute_result",
          "data": {
            "text/plain": [
              "LogisticRegression()"
            ]
          },
          "metadata": {},
          "execution_count": 56
        }
      ]
    },
    {
      "cell_type": "code",
      "metadata": {
        "id": "mOyAlk5T9nB8"
      },
      "source": [
        "#predictions\n",
        "predictions7 = logmodel2.predict(X_test7)"
      ],
      "execution_count": 57,
      "outputs": []
    },
    {
      "cell_type": "code",
      "metadata": {
        "id": "MHsTgH-29t2Q",
        "colab": {
          "base_uri": "https://localhost:8080/"
        },
        "outputId": "b6f292d0-d224-42bc-a887-f47c5e4327b5"
      },
      "source": [
        "from sklearn.metrics import classification_report, confusion_matrix  \n",
        "print(confusion_matrix(y_test,predictions7))  \n",
        "print(classification_report(y_test,predictions7))  "
      ],
      "execution_count": 58,
      "outputs": [
        {
          "output_type": "stream",
          "name": "stdout",
          "text": [
            "[[400 150]\n",
            " [105 345]]\n",
            "              precision    recall  f1-score   support\n",
            "\n",
            "           0       0.79      0.73      0.76       550\n",
            "           1       0.70      0.77      0.73       450\n",
            "\n",
            "    accuracy                           0.74      1000\n",
            "   macro avg       0.74      0.75      0.74      1000\n",
            "weighted avg       0.75      0.74      0.75      1000\n",
            "\n"
          ]
        }
      ]
    },
    {
      "cell_type": "markdown",
      "metadata": {
        "id": "6khaXD-r-fcH"
      },
      "source": [
        "**Observation: By using the LDA Method, we get the accuracy of 74%**\n",
        "\n",
        "###**Decision: We will not use the LDA Method for reducing the features**"
      ]
    }
  ]
}