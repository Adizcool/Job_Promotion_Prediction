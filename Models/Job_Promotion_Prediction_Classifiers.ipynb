{
  "nbformat": 4,
  "nbformat_minor": 0,
  "metadata": {
    "colab": {
      "name": "Job_Promotion_Prediction_Classifiers.ipynb",
      "provenance": [],
      "collapsed_sections": [],
      "include_colab_link": true
    },
    "kernelspec": {
      "display_name": "Python 3",
      "name": "python3"
    },
    "language_info": {
      "name": "python"
    }
  },
  "cells": [
    {
      "cell_type": "markdown",
      "metadata": {
        "id": "view-in-github",
        "colab_type": "text"
      },
      "source": [
        "<a href=\"https://colab.research.google.com/github/Adizcool/Job_Promotion_Prediction/blob/main/Job_Promotion_Prediction_Classifiers.ipynb\" target=\"_parent\"><img src=\"https://colab.research.google.com/assets/colab-badge.svg\" alt=\"Open In Colab\"/></a>"
      ]
    },
    {
      "cell_type": "markdown",
      "metadata": {
        "id": "SaGuJ6KWewHM"
      },
      "source": [
        "###**Step 1: Import the required packages**"
      ]
    },
    {
      "cell_type": "code",
      "metadata": {
        "id": "jZ0XOpbxevVR"
      },
      "source": [
        "from sklearn.ensemble import AdaBoostClassifier\n",
        "from sklearn.preprocessing import LabelEncoder\n",
        "from sklearn.tree import DecisionTreeClassifier\n",
        "import pandas as pd\n",
        "import numpy as np\n",
        "# Import train_test_split function\n",
        "from sklearn.model_selection import train_test_split\n",
        "#Import scikit-learn metrics module for accuracy calculation\n",
        "from sklearn import metrics\n",
        "from sklearn.ensemble import GradientBoostingClassifier\n",
        "from sklearn.metrics import accuracy_score\n",
        "from sklearn.metrics import confusion_matrix\n",
        "from sklearn.metrics import classification_report\n",
        "from sklearn import svm\n",
        "from sklearn.svm import SVC\n",
        "from sklearn.ensemble import RandomForestClassifier\n",
        "from sklearn.linear_model import LogisticRegression\n",
        "from sklearn.naive_bayes import GaussianNB\n",
        "from sklearn.naive_bayes import MultinomialNB\n",
        "from sklearn.tree import DecisionTreeClassifier\n",
        "from sklearn.neighbors import KNeighborsClassifier\n",
        "from sklearn.model_selection import cross_val_score\n",
        "from sklearn import preprocessing\n",
        "%matplotlib inline\n",
        "import warnings\n",
        "warnings.filterwarnings(\"ignore\")"
      ],
      "execution_count": 1,
      "outputs": []
    },
    {
      "cell_type": "markdown",
      "metadata": {
        "id": "y7zQaBWIfWik"
      },
      "source": [
        "###**Step 2: Import the data set**"
      ]
    },
    {
      "cell_type": "code",
      "metadata": {
        "colab": {
          "base_uri": "https://localhost:8080/"
        },
        "id": "WOX5BiIqe6kv",
        "outputId": "3274ac11-833c-457d-e57b-f3a1a5d2f99a"
      },
      "source": [
        "# Mount the Google Drive\n",
        "from google.colab import drive\n",
        "drive.mount('/content/gdrive')"
      ],
      "execution_count": 2,
      "outputs": [
        {
          "output_type": "stream",
          "name": "stdout",
          "text": [
            "Mounted at /content/gdrive\n"
          ]
        }
      ]
    },
    {
      "cell_type": "code",
      "metadata": {
        "colab": {
          "base_uri": "https://localhost:8080/",
          "height": 261
        },
        "id": "qpHsKgkFVT3X",
        "outputId": "d7d262de-b9e9-4fe5-b94b-beabab4294e5"
      },
      "source": [
        "# Read the Diabetes Data from .csv file and check the data shape (number of Rows and Columns)\n",
        "#df = pd.read_csv('gdrive/My Drive/Indi_ML_Training/Training-Sessions/MLP-Session25-05-Jun-2021/train_final_df1.csv')\n",
        "df = pd.read_csv(\"gdrive/My Drive/Datasets/HR Analysis/train_HR_Analytics-Preprocessed.csv\")\n",
        "print(df.shape)\n",
        "df.head()"
      ],
      "execution_count": 3,
      "outputs": [
        {
          "output_type": "stream",
          "name": "stdout",
          "text": [
            "(5000, 20)\n"
          ]
        },
        {
          "output_type": "execute_result",
          "data": {
            "text/html": [
              "<div>\n",
              "<style scoped>\n",
              "    .dataframe tbody tr th:only-of-type {\n",
              "        vertical-align: middle;\n",
              "    }\n",
              "\n",
              "    .dataframe tbody tr th {\n",
              "        vertical-align: top;\n",
              "    }\n",
              "\n",
              "    .dataframe thead th {\n",
              "        text-align: right;\n",
              "    }\n",
              "</style>\n",
              "<table border=\"1\" class=\"dataframe\">\n",
              "  <thead>\n",
              "    <tr style=\"text-align: right;\">\n",
              "      <th></th>\n",
              "      <th>education</th>\n",
              "      <th>no_of_trainings</th>\n",
              "      <th>age</th>\n",
              "      <th>previous_year_rating</th>\n",
              "      <th>length_of_service</th>\n",
              "      <th>KPIs_met&gt;80%</th>\n",
              "      <th>awards_won?</th>\n",
              "      <th>avg_training_score</th>\n",
              "      <th>department_Finance</th>\n",
              "      <th>department_HR</th>\n",
              "      <th>department_Legal</th>\n",
              "      <th>department_Operations</th>\n",
              "      <th>department_Procurement</th>\n",
              "      <th>department_R&amp;D</th>\n",
              "      <th>department_Sales &amp; Marketing</th>\n",
              "      <th>deartment_Technology</th>\n",
              "      <th>gender_m</th>\n",
              "      <th>recruitment_channel_referred</th>\n",
              "      <th>recruitment_channel_sourcing</th>\n",
              "      <th>is_promoted</th>\n",
              "    </tr>\n",
              "  </thead>\n",
              "  <tbody>\n",
              "    <tr>\n",
              "      <th>0</th>\n",
              "      <td>1.531419</td>\n",
              "      <td>-0.406222</td>\n",
              "      <td>0.043929</td>\n",
              "      <td>1.210876</td>\n",
              "      <td>0.497985</td>\n",
              "      <td>1.013694</td>\n",
              "      <td>-0.247681</td>\n",
              "      <td>-1.226037</td>\n",
              "      <td>-0.205185</td>\n",
              "      <td>-0.202524</td>\n",
              "      <td>-0.123404</td>\n",
              "      <td>-0.513404</td>\n",
              "      <td>-0.413142</td>\n",
              "      <td>-0.131507</td>\n",
              "      <td>1.596439</td>\n",
              "      <td>-0.419095</td>\n",
              "      <td>-1.510958</td>\n",
              "      <td>-0.163383</td>\n",
              "      <td>1.182891</td>\n",
              "      <td>0</td>\n",
              "    </tr>\n",
              "    <tr>\n",
              "      <th>1</th>\n",
              "      <td>-0.664164</td>\n",
              "      <td>-0.406222</td>\n",
              "      <td>-0.622875</td>\n",
              "      <td>1.210876</td>\n",
              "      <td>-0.436058</td>\n",
              "      <td>-0.986491</td>\n",
              "      <td>-0.247681</td>\n",
              "      <td>-0.466453</td>\n",
              "      <td>-0.205185</td>\n",
              "      <td>-0.202524</td>\n",
              "      <td>-0.123404</td>\n",
              "      <td>1.947784</td>\n",
              "      <td>-0.413142</td>\n",
              "      <td>-0.131507</td>\n",
              "      <td>-0.626394</td>\n",
              "      <td>-0.419095</td>\n",
              "      <td>0.661832</td>\n",
              "      <td>-0.163383</td>\n",
              "      <td>-0.845386</td>\n",
              "      <td>0</td>\n",
              "    </tr>\n",
              "    <tr>\n",
              "      <th>2</th>\n",
              "      <td>-0.664164</td>\n",
              "      <td>-0.406222</td>\n",
              "      <td>-0.089432</td>\n",
              "      <td>-0.487645</td>\n",
              "      <td>0.264474</td>\n",
              "      <td>-0.986491</td>\n",
              "      <td>-0.247681</td>\n",
              "      <td>-1.156984</td>\n",
              "      <td>-0.205185</td>\n",
              "      <td>-0.202524</td>\n",
              "      <td>-0.123404</td>\n",
              "      <td>-0.513404</td>\n",
              "      <td>-0.413142</td>\n",
              "      <td>-0.131507</td>\n",
              "      <td>1.596439</td>\n",
              "      <td>-0.419095</td>\n",
              "      <td>0.661832</td>\n",
              "      <td>-0.163383</td>\n",
              "      <td>1.182891</td>\n",
              "      <td>0</td>\n",
              "    </tr>\n",
              "    <tr>\n",
              "      <th>3</th>\n",
              "      <td>-0.664164</td>\n",
              "      <td>1.420317</td>\n",
              "      <td>0.577372</td>\n",
              "      <td>-2.186166</td>\n",
              "      <td>0.965007</td>\n",
              "      <td>-0.986491</td>\n",
              "      <td>-0.247681</td>\n",
              "      <td>-1.156984</td>\n",
              "      <td>-0.205185</td>\n",
              "      <td>-0.202524</td>\n",
              "      <td>-0.123404</td>\n",
              "      <td>-0.513404</td>\n",
              "      <td>-0.413142</td>\n",
              "      <td>-0.131507</td>\n",
              "      <td>1.596439</td>\n",
              "      <td>-0.419095</td>\n",
              "      <td>0.661832</td>\n",
              "      <td>-0.163383</td>\n",
              "      <td>-0.845386</td>\n",
              "      <td>0</td>\n",
              "    </tr>\n",
              "    <tr>\n",
              "      <th>4</th>\n",
              "      <td>-0.664164</td>\n",
              "      <td>-0.406222</td>\n",
              "      <td>1.377536</td>\n",
              "      <td>-0.487645</td>\n",
              "      <td>-0.903080</td>\n",
              "      <td>-0.986491</td>\n",
              "      <td>-0.247681</td>\n",
              "      <td>0.431236</td>\n",
              "      <td>-0.205185</td>\n",
              "      <td>-0.202524</td>\n",
              "      <td>-0.123404</td>\n",
              "      <td>-0.513404</td>\n",
              "      <td>-0.413142</td>\n",
              "      <td>-0.131507</td>\n",
              "      <td>-0.626394</td>\n",
              "      <td>2.386093</td>\n",
              "      <td>0.661832</td>\n",
              "      <td>-0.163383</td>\n",
              "      <td>-0.845386</td>\n",
              "      <td>0</td>\n",
              "    </tr>\n",
              "  </tbody>\n",
              "</table>\n",
              "</div>"
            ],
            "text/plain": [
              "   education  no_of_trainings  ...  recruitment_channel_sourcing  is_promoted\n",
              "0   1.531419        -0.406222  ...                      1.182891            0\n",
              "1  -0.664164        -0.406222  ...                     -0.845386            0\n",
              "2  -0.664164        -0.406222  ...                      1.182891            0\n",
              "3  -0.664164         1.420317  ...                     -0.845386            0\n",
              "4  -0.664164        -0.406222  ...                     -0.845386            0\n",
              "\n",
              "[5 rows x 20 columns]"
            ]
          },
          "metadata": {},
          "execution_count": 3
        }
      ]
    },
    {
      "cell_type": "code",
      "metadata": {
        "colab": {
          "base_uri": "https://localhost:8080/"
        },
        "id": "ugoDNaKuVjrQ",
        "outputId": "4a9cc843-9b77-41b3-a446-d5a5e1f8f8d8"
      },
      "source": [
        "df.info()"
      ],
      "execution_count": 4,
      "outputs": [
        {
          "output_type": "stream",
          "name": "stdout",
          "text": [
            "<class 'pandas.core.frame.DataFrame'>\n",
            "RangeIndex: 5000 entries, 0 to 4999\n",
            "Data columns (total 20 columns):\n",
            " #   Column                        Non-Null Count  Dtype  \n",
            "---  ------                        --------------  -----  \n",
            " 0   education                     5000 non-null   float64\n",
            " 1   no_of_trainings               5000 non-null   float64\n",
            " 2   age                           5000 non-null   float64\n",
            " 3   previous_year_rating          5000 non-null   float64\n",
            " 4   length_of_service             5000 non-null   float64\n",
            " 5   KPIs_met>80%                  5000 non-null   float64\n",
            " 6   awards_won?                   5000 non-null   float64\n",
            " 7   avg_training_score            5000 non-null   float64\n",
            " 8   department_Finance            5000 non-null   float64\n",
            " 9   department_HR                 5000 non-null   float64\n",
            " 10  department_Legal              5000 non-null   float64\n",
            " 11  department_Operations         5000 non-null   float64\n",
            " 12  department_Procurement        5000 non-null   float64\n",
            " 13  department_R&D                5000 non-null   float64\n",
            " 14  department_Sales & Marketing  5000 non-null   float64\n",
            " 15  deartment_Technology          5000 non-null   float64\n",
            " 16  gender_m                      5000 non-null   float64\n",
            " 17  recruitment_channel_referred  5000 non-null   float64\n",
            " 18  recruitment_channel_sourcing  5000 non-null   float64\n",
            " 19  is_promoted                   5000 non-null   int64  \n",
            "dtypes: float64(19), int64(1)\n",
            "memory usage: 781.4 KB\n"
          ]
        }
      ]
    },
    {
      "cell_type": "code",
      "metadata": {
        "colab": {
          "base_uri": "https://localhost:8080/"
        },
        "id": "s5B68iDgVtk7",
        "outputId": "af317459-00d9-4884-c293-8090384786ba"
      },
      "source": [
        "df.isnull().sum()"
      ],
      "execution_count": 5,
      "outputs": [
        {
          "output_type": "execute_result",
          "data": {
            "text/plain": [
              "education                       0\n",
              "no_of_trainings                 0\n",
              "age                             0\n",
              "previous_year_rating            0\n",
              "length_of_service               0\n",
              "KPIs_met>80%                    0\n",
              "awards_won?                     0\n",
              "avg_training_score              0\n",
              "department_Finance              0\n",
              "department_HR                   0\n",
              "department_Legal                0\n",
              "department_Operations           0\n",
              "department_Procurement          0\n",
              "department_R&D                  0\n",
              "department_Sales & Marketing    0\n",
              "deartment_Technology            0\n",
              "gender_m                        0\n",
              "recruitment_channel_referred    0\n",
              "recruitment_channel_sourcing    0\n",
              "is_promoted                     0\n",
              "dtype: int64"
            ]
          },
          "metadata": {},
          "execution_count": 5
        }
      ]
    },
    {
      "cell_type": "markdown",
      "metadata": {
        "id": "z_Z9IO3pf6_q"
      },
      "source": [
        "###**Step 4: Data Slicing**"
      ]
    },
    {
      "cell_type": "code",
      "metadata": {
        "colab": {
          "base_uri": "https://localhost:8080/",
          "height": 243
        },
        "id": "pfwaOwx5fTwv",
        "outputId": "7d8040d2-dc0e-4c3c-98a6-cdd90cc8e87b"
      },
      "source": [
        "X1 = df.drop(['is_promoted'], axis = 1)\n",
        "Y = df['is_promoted']\n",
        "X1.head()"
      ],
      "execution_count": 6,
      "outputs": [
        {
          "output_type": "execute_result",
          "data": {
            "text/html": [
              "<div>\n",
              "<style scoped>\n",
              "    .dataframe tbody tr th:only-of-type {\n",
              "        vertical-align: middle;\n",
              "    }\n",
              "\n",
              "    .dataframe tbody tr th {\n",
              "        vertical-align: top;\n",
              "    }\n",
              "\n",
              "    .dataframe thead th {\n",
              "        text-align: right;\n",
              "    }\n",
              "</style>\n",
              "<table border=\"1\" class=\"dataframe\">\n",
              "  <thead>\n",
              "    <tr style=\"text-align: right;\">\n",
              "      <th></th>\n",
              "      <th>education</th>\n",
              "      <th>no_of_trainings</th>\n",
              "      <th>age</th>\n",
              "      <th>previous_year_rating</th>\n",
              "      <th>length_of_service</th>\n",
              "      <th>KPIs_met&gt;80%</th>\n",
              "      <th>awards_won?</th>\n",
              "      <th>avg_training_score</th>\n",
              "      <th>department_Finance</th>\n",
              "      <th>department_HR</th>\n",
              "      <th>department_Legal</th>\n",
              "      <th>department_Operations</th>\n",
              "      <th>department_Procurement</th>\n",
              "      <th>department_R&amp;D</th>\n",
              "      <th>department_Sales &amp; Marketing</th>\n",
              "      <th>deartment_Technology</th>\n",
              "      <th>gender_m</th>\n",
              "      <th>recruitment_channel_referred</th>\n",
              "      <th>recruitment_channel_sourcing</th>\n",
              "    </tr>\n",
              "  </thead>\n",
              "  <tbody>\n",
              "    <tr>\n",
              "      <th>0</th>\n",
              "      <td>1.531419</td>\n",
              "      <td>-0.406222</td>\n",
              "      <td>0.043929</td>\n",
              "      <td>1.210876</td>\n",
              "      <td>0.497985</td>\n",
              "      <td>1.013694</td>\n",
              "      <td>-0.247681</td>\n",
              "      <td>-1.226037</td>\n",
              "      <td>-0.205185</td>\n",
              "      <td>-0.202524</td>\n",
              "      <td>-0.123404</td>\n",
              "      <td>-0.513404</td>\n",
              "      <td>-0.413142</td>\n",
              "      <td>-0.131507</td>\n",
              "      <td>1.596439</td>\n",
              "      <td>-0.419095</td>\n",
              "      <td>-1.510958</td>\n",
              "      <td>-0.163383</td>\n",
              "      <td>1.182891</td>\n",
              "    </tr>\n",
              "    <tr>\n",
              "      <th>1</th>\n",
              "      <td>-0.664164</td>\n",
              "      <td>-0.406222</td>\n",
              "      <td>-0.622875</td>\n",
              "      <td>1.210876</td>\n",
              "      <td>-0.436058</td>\n",
              "      <td>-0.986491</td>\n",
              "      <td>-0.247681</td>\n",
              "      <td>-0.466453</td>\n",
              "      <td>-0.205185</td>\n",
              "      <td>-0.202524</td>\n",
              "      <td>-0.123404</td>\n",
              "      <td>1.947784</td>\n",
              "      <td>-0.413142</td>\n",
              "      <td>-0.131507</td>\n",
              "      <td>-0.626394</td>\n",
              "      <td>-0.419095</td>\n",
              "      <td>0.661832</td>\n",
              "      <td>-0.163383</td>\n",
              "      <td>-0.845386</td>\n",
              "    </tr>\n",
              "    <tr>\n",
              "      <th>2</th>\n",
              "      <td>-0.664164</td>\n",
              "      <td>-0.406222</td>\n",
              "      <td>-0.089432</td>\n",
              "      <td>-0.487645</td>\n",
              "      <td>0.264474</td>\n",
              "      <td>-0.986491</td>\n",
              "      <td>-0.247681</td>\n",
              "      <td>-1.156984</td>\n",
              "      <td>-0.205185</td>\n",
              "      <td>-0.202524</td>\n",
              "      <td>-0.123404</td>\n",
              "      <td>-0.513404</td>\n",
              "      <td>-0.413142</td>\n",
              "      <td>-0.131507</td>\n",
              "      <td>1.596439</td>\n",
              "      <td>-0.419095</td>\n",
              "      <td>0.661832</td>\n",
              "      <td>-0.163383</td>\n",
              "      <td>1.182891</td>\n",
              "    </tr>\n",
              "    <tr>\n",
              "      <th>3</th>\n",
              "      <td>-0.664164</td>\n",
              "      <td>1.420317</td>\n",
              "      <td>0.577372</td>\n",
              "      <td>-2.186166</td>\n",
              "      <td>0.965007</td>\n",
              "      <td>-0.986491</td>\n",
              "      <td>-0.247681</td>\n",
              "      <td>-1.156984</td>\n",
              "      <td>-0.205185</td>\n",
              "      <td>-0.202524</td>\n",
              "      <td>-0.123404</td>\n",
              "      <td>-0.513404</td>\n",
              "      <td>-0.413142</td>\n",
              "      <td>-0.131507</td>\n",
              "      <td>1.596439</td>\n",
              "      <td>-0.419095</td>\n",
              "      <td>0.661832</td>\n",
              "      <td>-0.163383</td>\n",
              "      <td>-0.845386</td>\n",
              "    </tr>\n",
              "    <tr>\n",
              "      <th>4</th>\n",
              "      <td>-0.664164</td>\n",
              "      <td>-0.406222</td>\n",
              "      <td>1.377536</td>\n",
              "      <td>-0.487645</td>\n",
              "      <td>-0.903080</td>\n",
              "      <td>-0.986491</td>\n",
              "      <td>-0.247681</td>\n",
              "      <td>0.431236</td>\n",
              "      <td>-0.205185</td>\n",
              "      <td>-0.202524</td>\n",
              "      <td>-0.123404</td>\n",
              "      <td>-0.513404</td>\n",
              "      <td>-0.413142</td>\n",
              "      <td>-0.131507</td>\n",
              "      <td>-0.626394</td>\n",
              "      <td>2.386093</td>\n",
              "      <td>0.661832</td>\n",
              "      <td>-0.163383</td>\n",
              "      <td>-0.845386</td>\n",
              "    </tr>\n",
              "  </tbody>\n",
              "</table>\n",
              "</div>"
            ],
            "text/plain": [
              "   education  ...  recruitment_channel_sourcing\n",
              "0   1.531419  ...                      1.182891\n",
              "1  -0.664164  ...                     -0.845386\n",
              "2  -0.664164  ...                      1.182891\n",
              "3  -0.664164  ...                     -0.845386\n",
              "4  -0.664164  ...                     -0.845386\n",
              "\n",
              "[5 rows x 19 columns]"
            ]
          },
          "metadata": {},
          "execution_count": 6
        }
      ]
    },
    {
      "cell_type": "code",
      "metadata": {
        "colab": {
          "base_uri": "https://localhost:8080/"
        },
        "id": "5ppamshHXREJ",
        "outputId": "d77d46f9-784d-4955-ae66-199f796e0b73"
      },
      "source": [
        "Y.head()"
      ],
      "execution_count": 7,
      "outputs": [
        {
          "output_type": "execute_result",
          "data": {
            "text/plain": [
              "0    0\n",
              "1    0\n",
              "2    0\n",
              "3    0\n",
              "4    0\n",
              "Name: is_promoted, dtype: int64"
            ]
          },
          "metadata": {},
          "execution_count": 7
        }
      ]
    },
    {
      "cell_type": "code",
      "metadata": {
        "id": "BM--dZxLXZiL"
      },
      "source": [
        "from sklearn.model_selection import train_test_split\n",
        "X_train1, X_test1, Y_train, Y_test = train_test_split(X1, Y, test_size = 0.2, random_state = 66)"
      ],
      "execution_count": 8,
      "outputs": []
    },
    {
      "cell_type": "code",
      "metadata": {
        "colab": {
          "base_uri": "https://localhost:8080/"
        },
        "id": "3xsjfX_AXehL",
        "outputId": "0e9fd78a-d052-405a-d1a0-ef1dd1a02765"
      },
      "source": [
        "print(X_train1.shape)\n",
        "print(Y_train.shape)\n",
        "print(X_test1.shape)\n",
        "print(Y_test.shape)"
      ],
      "execution_count": 9,
      "outputs": [
        {
          "output_type": "stream",
          "name": "stdout",
          "text": [
            "(4000, 19)\n",
            "(4000,)\n",
            "(1000, 19)\n",
            "(1000,)\n"
          ]
        }
      ]
    },
    {
      "cell_type": "code",
      "metadata": {
        "id": "X_RCAH_9vK5U"
      },
      "source": [
        "#columnNames = ['Dependents', 'Education', 'ApplicantIncome', 'CoapplicantIncome', 'LoanAmount', 'Loan_Amount_Term', 'Credit_History', 'Property_Area', 'Gender_Male', 'Married_Yes', 'Self_Employed_Yes']"
      ],
      "execution_count": 10,
      "outputs": []
    },
    {
      "cell_type": "markdown",
      "metadata": {
        "id": "YD0HKeNwlMSJ"
      },
      "source": [
        "###**Step 5: Using all the Classifiers including Boosting Classifiers**"
      ]
    },
    {
      "cell_type": "markdown",
      "metadata": {
        "id": "8m4Ynj6B9C7q"
      },
      "source": [
        "##**Hold-Out Method**"
      ]
    },
    {
      "cell_type": "markdown",
      "metadata": {
        "id": "mQIv2L4S9F5k"
      },
      "source": [
        "###**1) LogisticRegression**"
      ]
    },
    {
      "cell_type": "code",
      "metadata": {
        "colab": {
          "base_uri": "https://localhost:8080/"
        },
        "id": "MmV3p7eu9O8Y",
        "outputId": "bc318a3e-d922-4181-ec1f-228ccf3cc446"
      },
      "source": [
        "from sklearn.linear_model import LogisticRegression\n",
        "lr_clf = LogisticRegression(random_state = 0)\n",
        "lr_clf.fit(X_train1, Y_train)"
      ],
      "execution_count": 11,
      "outputs": [
        {
          "output_type": "execute_result",
          "data": {
            "text/plain": [
              "LogisticRegression(random_state=0)"
            ]
          },
          "metadata": {},
          "execution_count": 11
        }
      ]
    },
    {
      "cell_type": "code",
      "metadata": {
        "id": "N8aY7Blv9XnV"
      },
      "source": [
        "lr_clf_Train_acc= lr_clf.score(X_train1,Y_train)\n",
        "lr_clf_Test_acc= lr_clf.score(X_test1,Y_test)"
      ],
      "execution_count": 12,
      "outputs": []
    },
    {
      "cell_type": "code",
      "metadata": {
        "colab": {
          "base_uri": "https://localhost:8080/"
        },
        "id": "PY3hzNmp9jT_",
        "outputId": "129f7213-9901-4e9e-8775-e346d6e48b73"
      },
      "source": [
        "print('Accuracy on training set:',lr_clf_Train_acc)\n",
        "print('Accuracy on test set:',lr_clf_Test_acc)"
      ],
      "execution_count": 13,
      "outputs": [
        {
          "output_type": "stream",
          "name": "stdout",
          "text": [
            "Accuracy on training set: 0.77825\n",
            "Accuracy on test set: 0.768\n"
          ]
        }
      ]
    },
    {
      "cell_type": "markdown",
      "metadata": {
        "id": "sX_FKdw_9MLB"
      },
      "source": [
        "###**2) Naive Bayes Classifier**"
      ]
    },
    {
      "cell_type": "code",
      "metadata": {
        "colab": {
          "base_uri": "https://localhost:8080/"
        },
        "id": "19_FWErU9qc_",
        "outputId": "b80bb71b-4531-4276-91d4-d966bf81cc5b"
      },
      "source": [
        "from sklearn.naive_bayes import GaussianNB\n",
        "nb_clf= GaussianNB()\n",
        "nb_clf.fit(X_train1, Y_train)"
      ],
      "execution_count": 14,
      "outputs": [
        {
          "output_type": "execute_result",
          "data": {
            "text/plain": [
              "GaussianNB()"
            ]
          },
          "metadata": {},
          "execution_count": 14
        }
      ]
    },
    {
      "cell_type": "code",
      "metadata": {
        "id": "yUmEFCH79vwQ"
      },
      "source": [
        "nb_clf_Train_acc=nb_clf.score(X_train1,Y_train)\n",
        "nb_clf_Test_acc=nb_clf.score(X_test1,Y_test)"
      ],
      "execution_count": 15,
      "outputs": []
    },
    {
      "cell_type": "code",
      "metadata": {
        "colab": {
          "base_uri": "https://localhost:8080/"
        },
        "id": "POjlmGhX92fQ",
        "outputId": "05fe0dd0-7143-4eb1-eec5-96c2eb3305a2"
      },
      "source": [
        "print('Accuracy on training set:',nb_clf_Train_acc)\n",
        "print('Accuracy on test set:',nb_clf_Test_acc)"
      ],
      "execution_count": 16,
      "outputs": [
        {
          "output_type": "stream",
          "name": "stdout",
          "text": [
            "Accuracy on training set: 0.6745\n",
            "Accuracy on test set: 0.665\n"
          ]
        }
      ]
    },
    {
      "cell_type": "markdown",
      "metadata": {
        "id": "cy7C2xuj9Mji"
      },
      "source": [
        "###**3) RandomForest Classifier**"
      ]
    },
    {
      "cell_type": "code",
      "metadata": {
        "colab": {
          "base_uri": "https://localhost:8080/"
        },
        "id": "1maEijo0-BKz",
        "outputId": "d16dd914-88bf-46c5-cbbd-b05494872f49"
      },
      "source": [
        "from sklearn.ensemble import RandomForestRegressor\n",
        "rf_clf = RandomForestRegressor(n_estimators = 10, random_state = 0)\n",
        "rf_clf.fit(X_train1, Y_train)"
      ],
      "execution_count": 17,
      "outputs": [
        {
          "output_type": "execute_result",
          "data": {
            "text/plain": [
              "RandomForestRegressor(n_estimators=10, random_state=0)"
            ]
          },
          "metadata": {},
          "execution_count": 17
        }
      ]
    },
    {
      "cell_type": "code",
      "metadata": {
        "id": "PNK9nr5u-H5X"
      },
      "source": [
        "rf_clf_Train_acc = rf_clf.score(X_train1,Y_train)\n",
        "rf_clf_Test_acc=rf_clf.score(X_test1,Y_test)"
      ],
      "execution_count": 18,
      "outputs": []
    },
    {
      "cell_type": "code",
      "metadata": {
        "colab": {
          "base_uri": "https://localhost:8080/"
        },
        "id": "3KfLZTJw-Nau",
        "outputId": "0c700383-4b7f-4db5-b7d5-fa43043bd2f2"
      },
      "source": [
        "print('Accuracy on training set:',rf_clf_Train_acc)\n",
        "print('Accuracy on test set:',rf_clf_Test_acc)"
      ],
      "execution_count": 19,
      "outputs": [
        {
          "output_type": "stream",
          "name": "stdout",
          "text": [
            "Accuracy on training set: 0.8909447846958924\n",
            "Accuracy on test set: 0.38446042648709333\n"
          ]
        }
      ]
    },
    {
      "cell_type": "markdown",
      "metadata": {
        "id": "JtvupFbQ9M1u"
      },
      "source": [
        "###**4) DecisionTree Classifier**"
      ]
    },
    {
      "cell_type": "code",
      "metadata": {
        "colab": {
          "base_uri": "https://localhost:8080/"
        },
        "id": "bJq6eg0p-YXO",
        "outputId": "1515d8ff-90fa-421a-b424-7620e3c9380f"
      },
      "source": [
        "from sklearn.tree import DecisionTreeClassifier\n",
        "dec_clf = DecisionTreeClassifier()\n",
        "dec_clf.fit(X_train1, Y_train)"
      ],
      "execution_count": 20,
      "outputs": [
        {
          "output_type": "execute_result",
          "data": {
            "text/plain": [
              "DecisionTreeClassifier()"
            ]
          },
          "metadata": {},
          "execution_count": 20
        }
      ]
    },
    {
      "cell_type": "code",
      "metadata": {
        "id": "hxug8CQg-d0M"
      },
      "source": [
        "dec_clf_Train_acc=dec_clf.score(X_train1, Y_train)\n",
        "dec_clf_Test_acc=dec_clf.score(X_test1, Y_test)"
      ],
      "execution_count": 21,
      "outputs": []
    },
    {
      "cell_type": "code",
      "metadata": {
        "colab": {
          "base_uri": "https://localhost:8080/"
        },
        "id": "NPFTGOQh-j0m",
        "outputId": "4dba97e5-d8fe-4194-bcac-61d4fc1e2071"
      },
      "source": [
        "print('Accuracy on training set:', dec_clf_Train_acc)\n",
        "print('Accuracy on test set:',dec_clf_Test_acc)"
      ],
      "execution_count": 22,
      "outputs": [
        {
          "output_type": "stream",
          "name": "stdout",
          "text": [
            "Accuracy on training set: 0.999\n",
            "Accuracy on test set: 0.766\n"
          ]
        }
      ]
    },
    {
      "cell_type": "markdown",
      "metadata": {
        "id": "UOjBVdiV9NHc"
      },
      "source": [
        "###**5) k-NN Classifier**"
      ]
    },
    {
      "cell_type": "code",
      "metadata": {
        "colab": {
          "base_uri": "https://localhost:8080/"
        },
        "id": "KXfv0hXH-2p8",
        "outputId": "f7af935a-bcd8-445b-c0c9-bb1859be4a5e"
      },
      "source": [
        "#You can change these hypfrom sklearn.neighbors import KNeighborsClassifiererparameters like metric etc.\n",
        "knn_clf = KNeighborsClassifier(n_neighbors = 5, metric = 'minkowski', p = 2)  \n",
        "knn_clf.fit(X_train1, Y_train)"
      ],
      "execution_count": 23,
      "outputs": [
        {
          "output_type": "execute_result",
          "data": {
            "text/plain": [
              "KNeighborsClassifier()"
            ]
          },
          "metadata": {},
          "execution_count": 23
        }
      ]
    },
    {
      "cell_type": "code",
      "metadata": {
        "id": "oBo6PkmM_HAJ"
      },
      "source": [
        "kNN_Train_acc=knn_clf.score(X_train1,Y_train)\n",
        "kNN_Test_acc=knn_clf.score(X_test1,Y_test)"
      ],
      "execution_count": 24,
      "outputs": []
    },
    {
      "cell_type": "code",
      "metadata": {
        "colab": {
          "base_uri": "https://localhost:8080/"
        },
        "id": "Z6Mau5u7_NGQ",
        "outputId": "391a40f1-28dd-4023-e1ca-243fb9651e4a"
      },
      "source": [
        "print('Accuracy on training set:',kNN_Train_acc)\n",
        "print('Accuracy on test set:',kNN_Test_acc)"
      ],
      "execution_count": 25,
      "outputs": [
        {
          "output_type": "stream",
          "name": "stdout",
          "text": [
            "Accuracy on training set: 0.816\n",
            "Accuracy on test set: 0.698\n"
          ]
        }
      ]
    },
    {
      "cell_type": "markdown",
      "metadata": {
        "id": "ueyOKi1l9NYA"
      },
      "source": [
        "###**6) Support Vector Classifier**"
      ]
    },
    {
      "cell_type": "code",
      "metadata": {
        "colab": {
          "base_uri": "https://localhost:8080/"
        },
        "id": "zUZ9lZQn_XpS",
        "outputId": "7d265c16-ca72-40ee-d81e-228d11d4060c"
      },
      "source": [
        "from sklearn.svm import SVC\n",
        "svc_clf = SVC(kernel = 'rbf', random_state = 0)\n",
        "svc_clf.fit(X_train1, Y_train)"
      ],
      "execution_count": 26,
      "outputs": [
        {
          "output_type": "execute_result",
          "data": {
            "text/plain": [
              "SVC(random_state=0)"
            ]
          },
          "metadata": {},
          "execution_count": 26
        }
      ]
    },
    {
      "cell_type": "code",
      "metadata": {
        "id": "wNJjgogn_dYs"
      },
      "source": [
        "svc_Train_acc=svc_clf.score(X_train1,Y_train)\n",
        "svc_Test_acc=svc_clf.score(X_test1,Y_test)"
      ],
      "execution_count": 27,
      "outputs": []
    },
    {
      "cell_type": "code",
      "metadata": {
        "colab": {
          "base_uri": "https://localhost:8080/"
        },
        "id": "u8vKgOwjyjYO",
        "outputId": "d21fb955-e1eb-4511-b333-136e88e2d333"
      },
      "source": [
        "print('Accuracy on training set:',svc_Train_acc)\n",
        "print('Accuracy on test set:', svc_Test_acc)"
      ],
      "execution_count": 28,
      "outputs": [
        {
          "output_type": "stream",
          "name": "stdout",
          "text": [
            "Accuracy on training set: 0.80725\n",
            "Accuracy on test set: 0.769\n"
          ]
        }
      ]
    },
    {
      "cell_type": "markdown",
      "metadata": {
        "id": "jgUGJds50bVI"
      },
      "source": [
        "###**1) For SVC, Random Forest, LogisticRegression, Naive Bayes Classifier and Decision Tree Classifier**"
      ]
    },
    {
      "cell_type": "code",
      "metadata": {
        "id": "lSjzwH3S0qtN"
      },
      "source": [
        "model_params = {\n",
        "     'svc': {\n",
        "        'model': svm.SVC(gamma='auto'),\n",
        "        'params' : {\n",
        "            'C': [1,10,20],\n",
        "            'kernel': ['rbf','linear']\n",
        "        }  \n",
        "    },\n",
        "    'random_forest': {\n",
        "        'model': RandomForestClassifier(),\n",
        "        'params' : {\n",
        "            'n_estimators': [1,5,10,100,200]\n",
        "        }\n",
        "    },\n",
        "    'logistic_regression' : {\n",
        "        'model': LogisticRegression(solver='liblinear',multi_class='auto'),\n",
        "        'params': {\n",
        "            'C': [1,5,10]\n",
        "        }\n",
        "    },\n",
        "    'naive_bayes_gaussian': {\n",
        "        'model': GaussianNB(),\n",
        "        'params': {}\n",
        "    },\n",
        "    'decision_tree': {\n",
        "        'model': DecisionTreeClassifier(),\n",
        "        'params': {\n",
        "            'criterion': ['gini','entropy'],\n",
        "            \n",
        "        }\n",
        "    }     \n",
        "}"
      ],
      "execution_count": 29,
      "outputs": []
    },
    {
      "cell_type": "code",
      "metadata": {
        "colab": {
          "base_uri": "https://localhost:8080/",
          "height": 206
        },
        "id": "p7TSyQko0wsO",
        "outputId": "14bf980e-969b-450c-a884-d1687bcbc246"
      },
      "source": [
        "from sklearn.model_selection import GridSearchCV\n",
        "import pandas as pd\n",
        "scores = []\n",
        "\n",
        "for model_name, mp in model_params.items():\n",
        "    clf =  GridSearchCV(mp['model'], mp['params'], cv=5, return_train_score=False)\n",
        "    clf.fit(X1, Y)\n",
        "    scores.append({\n",
        "        'model': model_name,\n",
        "        'best_score': clf.best_score_,\n",
        "        'best_params': clf.best_params_\n",
        "    })\n",
        "    \n",
        "df = pd.DataFrame(scores,columns=['model','best_score','best_params'])\n",
        "df"
      ],
      "execution_count": 30,
      "outputs": [
        {
          "output_type": "execute_result",
          "data": {
            "text/html": [
              "<div>\n",
              "<style scoped>\n",
              "    .dataframe tbody tr th:only-of-type {\n",
              "        vertical-align: middle;\n",
              "    }\n",
              "\n",
              "    .dataframe tbody tr th {\n",
              "        vertical-align: top;\n",
              "    }\n",
              "\n",
              "    .dataframe thead th {\n",
              "        text-align: right;\n",
              "    }\n",
              "</style>\n",
              "<table border=\"1\" class=\"dataframe\">\n",
              "  <thead>\n",
              "    <tr style=\"text-align: right;\">\n",
              "      <th></th>\n",
              "      <th>model</th>\n",
              "      <th>best_score</th>\n",
              "      <th>best_params</th>\n",
              "    </tr>\n",
              "  </thead>\n",
              "  <tbody>\n",
              "    <tr>\n",
              "      <th>0</th>\n",
              "      <td>svc</td>\n",
              "      <td>0.7882</td>\n",
              "      <td>{'C': 10, 'kernel': 'linear'}</td>\n",
              "    </tr>\n",
              "    <tr>\n",
              "      <th>1</th>\n",
              "      <td>random_forest</td>\n",
              "      <td>0.7756</td>\n",
              "      <td>{'n_estimators': 200}</td>\n",
              "    </tr>\n",
              "    <tr>\n",
              "      <th>2</th>\n",
              "      <td>logistic_regression</td>\n",
              "      <td>0.7744</td>\n",
              "      <td>{'C': 10}</td>\n",
              "    </tr>\n",
              "    <tr>\n",
              "      <th>3</th>\n",
              "      <td>naive_bayes_gaussian</td>\n",
              "      <td>0.6746</td>\n",
              "      <td>{}</td>\n",
              "    </tr>\n",
              "    <tr>\n",
              "      <th>4</th>\n",
              "      <td>decision_tree</td>\n",
              "      <td>0.7522</td>\n",
              "      <td>{'criterion': 'entropy'}</td>\n",
              "    </tr>\n",
              "  </tbody>\n",
              "</table>\n",
              "</div>"
            ],
            "text/plain": [
              "                  model  best_score                    best_params\n",
              "0                   svc      0.7882  {'C': 10, 'kernel': 'linear'}\n",
              "1         random_forest      0.7756          {'n_estimators': 200}\n",
              "2   logistic_regression      0.7744                      {'C': 10}\n",
              "3  naive_bayes_gaussian      0.6746                             {}\n",
              "4         decision_tree      0.7522       {'criterion': 'entropy'}"
            ]
          },
          "metadata": {},
          "execution_count": 30
        }
      ]
    },
    {
      "cell_type": "markdown",
      "metadata": {
        "id": "IaFHNqjq4gdh"
      },
      "source": [
        "###**a) Using Logistic Regression**"
      ]
    },
    {
      "cell_type": "code",
      "metadata": {
        "colab": {
          "base_uri": "https://localhost:8080/"
        },
        "id": "0uslH2qn0y8M",
        "outputId": "92bdd8c5-04dd-413d-fc88-5557a693d9e1"
      },
      "source": [
        "# Logistic Regression\n",
        "lr_grid_acc = cross_val_score(LogisticRegression(C=5, solver='liblinear',multi_class='auto'),X1, Y, cv=5)\n",
        "print(\"lr_grid_acc (CV_based) :\", lr_grid_acc)\n",
        "lr_grid_acc_avg=np.average(lr_grid_acc)\n",
        "print()\n",
        "print(\"lr_grid_acc_avg : \", lr_grid_acc_avg)"
      ],
      "execution_count": 31,
      "outputs": [
        {
          "output_type": "stream",
          "name": "stdout",
          "text": [
            "lr_grid_acc (CV_based) : [0.749 0.787 0.781 0.78  0.774]\n",
            "\n",
            "lr_grid_acc_avg :  0.7742000000000001\n"
          ]
        }
      ]
    },
    {
      "cell_type": "markdown",
      "metadata": {
        "id": "p1B7K9RE4nqV"
      },
      "source": [
        "###**b) Using SVC Classifier**"
      ]
    },
    {
      "cell_type": "code",
      "metadata": {
        "colab": {
          "base_uri": "https://localhost:8080/"
        },
        "id": "h_VK4lWZ04wJ",
        "outputId": "964ddf39-399b-4946-b7ae-28ac89f1c192"
      },
      "source": [
        "#SVC Classifier\n",
        "svc_grid_acc = cross_val_score(SVC(C=10, kernel='linear', gamma = 'auto'),X1, Y, cv=5)\n",
        "print(\"svc_grid_acc (CV_based) :\", svc_grid_acc)\n",
        "svc_grid_acc_avg=np.average(svc_grid_acc)\n",
        "print()\n",
        "print(\"svc_grid_acc_avg : \", svc_grid_acc_avg)"
      ],
      "execution_count": 32,
      "outputs": [
        {
          "output_type": "stream",
          "name": "stdout",
          "text": [
            "svc_grid_acc (CV_based) : [0.778 0.792 0.781 0.796 0.794]\n",
            "\n",
            "svc_grid_acc_avg :  0.7882\n"
          ]
        }
      ]
    },
    {
      "cell_type": "markdown",
      "metadata": {
        "id": "E8aElZIR4vd_"
      },
      "source": [
        "###**c) Using Naive Bayes Classifer**"
      ]
    },
    {
      "cell_type": "code",
      "metadata": {
        "colab": {
          "base_uri": "https://localhost:8080/"
        },
        "id": "u-0GIT8U08Vh",
        "outputId": "faf84f29-b916-4ebf-f932-5e9fa8709c34"
      },
      "source": [
        "#Naive Bayes Classifier\n",
        "bayes_grid_acc = cross_val_score(GaussianNB(),X1, Y, cv=5)\n",
        "print(\"bayes_grid_acc (CV_based) :\", bayes_grid_acc)\n",
        "bayes_grid_acc_avg=np.average(bayes_grid_acc)\n",
        "print()\n",
        "print(\"bayes_grid_acc_avg : \", bayes_grid_acc_avg)"
      ],
      "execution_count": 33,
      "outputs": [
        {
          "output_type": "stream",
          "name": "stdout",
          "text": [
            "bayes_grid_acc (CV_based) : [0.674 0.676 0.678 0.673 0.672]\n",
            "\n",
            "bayes_grid_acc_avg :  0.6746000000000001\n"
          ]
        }
      ]
    },
    {
      "cell_type": "markdown",
      "metadata": {
        "id": "iTlz5B4D41Dx"
      },
      "source": [
        "###**d) Using Decision Tree Classifier**"
      ]
    },
    {
      "cell_type": "code",
      "metadata": {
        "colab": {
          "base_uri": "https://localhost:8080/"
        },
        "id": "3odgMLh31EPn",
        "outputId": "72596109-7a79-492a-bbbd-bac2507ad00b"
      },
      "source": [
        "#Decision Tree Classifier\n",
        "dtc_grid_acc = cross_val_score(DecisionTreeClassifier(criterion= 'entropy'), X1, Y, cv=5)\n",
        "print(\"dtc_grid_acc (CV_based) :\", dtc_grid_acc)\n",
        "dtc_grid_acc_avg=np.average(dtc_grid_acc)\n",
        "print()\n",
        "print(\"dtc_grid_acc_avg : \", dtc_grid_acc_avg)"
      ],
      "execution_count": 34,
      "outputs": [
        {
          "output_type": "stream",
          "name": "stdout",
          "text": [
            "dtc_grid_acc (CV_based) : [0.738 0.744 0.761 0.738 0.763]\n",
            "\n",
            "dtc_grid_acc_avg :  0.7487999999999999\n"
          ]
        }
      ]
    },
    {
      "cell_type": "markdown",
      "metadata": {
        "id": "GxMR83My48li"
      },
      "source": [
        "###**e) Using Random Forest Classifier**"
      ]
    },
    {
      "cell_type": "code",
      "metadata": {
        "colab": {
          "base_uri": "https://localhost:8080/"
        },
        "id": "YjopYdvt1HPr",
        "outputId": "020bfb7c-d12d-4946-a4b4-4cbe7b8e309a"
      },
      "source": [
        "# Random Forest Classifier\n",
        "rfc_grid_acc = cross_val_score(RandomForestClassifier(n_estimators=100), X1, Y, cv=5)\n",
        "print(\"rfc_grid_acc (CV_based) :\", rfc_grid_acc)\n",
        "rfc_grid_acc_avg=np.average(rfc_grid_acc)\n",
        "print()\n",
        "print(\"rfc_grid_acc_avg : \", rfc_grid_acc_avg)"
      ],
      "execution_count": 35,
      "outputs": [
        {
          "output_type": "stream",
          "name": "stdout",
          "text": [
            "rfc_grid_acc (CV_based) : [0.778 0.762 0.78  0.787 0.766]\n",
            "\n",
            "rfc_grid_acc_avg :  0.7746000000000001\n"
          ]
        }
      ]
    },
    {
      "cell_type": "markdown",
      "metadata": {
        "id": "LcVR5Q-S5JTj"
      },
      "source": [
        "###**f) Using K-NN Classifier**"
      ]
    },
    {
      "cell_type": "markdown",
      "metadata": {
        "id": "otEhA0Af1LZj"
      },
      "source": [
        "###**Hyperparameters tuning and using GridSearchCV for KNN Classifier**"
      ]
    },
    {
      "cell_type": "code",
      "metadata": {
        "colab": {
          "base_uri": "https://localhost:8080/"
        },
        "id": "WWjcMu2y1Ry3",
        "outputId": "87ea5d17-15fa-4812-ca8d-449e5960a0d7"
      },
      "source": [
        "k_range = list(range(1,31))\n",
        "weight_options = [\"uniform\", \"distance\"]\n",
        "\n",
        "param_grid_knn = dict(n_neighbors = k_range, weights = weight_options)\n",
        "#print (param_grid)\n",
        "knn = KNeighborsClassifier()\n",
        "\n",
        "grid_knn = GridSearchCV(knn, param_grid_knn, cv = 5, scoring = 'accuracy')\n",
        "\n",
        "grid_knn.fit(X1, Y)\n",
        "\n",
        "print (grid_knn.best_score_)\n",
        "print (grid_knn.best_params_)\n",
        "print (grid_knn.best_estimator_)"
      ],
      "execution_count": 36,
      "outputs": [
        {
          "output_type": "stream",
          "name": "stdout",
          "text": [
            "0.7304\n",
            "{'n_neighbors': 24, 'weights': 'distance'}\n",
            "KNeighborsClassifier(n_neighbors=24, weights='distance')\n"
          ]
        }
      ]
    },
    {
      "cell_type": "code",
      "metadata": {
        "colab": {
          "base_uri": "https://localhost:8080/"
        },
        "id": "evsC3vNA1Vkl",
        "outputId": "b08df475-f3d2-4f2c-eafd-2d9a7d40a542"
      },
      "source": [
        "# KNN Classifier\n",
        "kNN_grid_acc = cross_val_score(KNeighborsClassifier(algorithm='auto', leaf_size=30, metric='minkowski',\n",
        "                     metric_params=None, n_jobs=None, n_neighbors=14, p=2,\n",
        "                     weights='uniform'), X1, Y, cv =5)\n",
        "print(\"kNN_grid_acc (CV_based) :\", lr_grid_acc)\n",
        "kNN_grid_acc_avg=np.average(kNN_grid_acc)\n",
        "print()\n",
        "print(\"kNN_grid_acc_avg : \", kNN_grid_acc_avg)"
      ],
      "execution_count": 37,
      "outputs": [
        {
          "output_type": "stream",
          "name": "stdout",
          "text": [
            "kNN_grid_acc (CV_based) : [0.749 0.787 0.781 0.78  0.774]\n",
            "\n",
            "kNN_grid_acc_avg :  0.7098\n"
          ]
        }
      ]
    },
    {
      "cell_type": "markdown",
      "metadata": {
        "id": "KaKJVvS3gzrS"
      },
      "source": [
        "###**g) Using AdaBoostClassifer**"
      ]
    },
    {
      "cell_type": "code",
      "metadata": {
        "id": "QOyolZ8EgM6U"
      },
      "source": [
        "model = DecisionTreeClassifier(criterion='entropy', max_depth=1)\n",
        "AdaBoost = AdaBoostClassifier(base_estimator=model, n_estimators=400, learning_rate=1)"
      ],
      "execution_count": 38,
      "outputs": []
    },
    {
      "cell_type": "code",
      "metadata": {
        "id": "bAZ0skXhg7p4"
      },
      "source": [
        "#Fit the model with training data\n",
        "boostmodel = AdaBoost.fit(X_train1, Y_train)\n"
      ],
      "execution_count": 39,
      "outputs": []
    },
    {
      "cell_type": "code",
      "metadata": {
        "colab": {
          "base_uri": "https://localhost:8080/"
        },
        "id": "v2tYywF6hAhG",
        "outputId": "e72c4304-2c4a-4b7d-fa3f-17313fd03224"
      },
      "source": [
        "#Evaluate the accuracy of the model\n",
        "y_pred = boostmodel.predict(X_test1)\n",
        "AdaBoost_acc = metrics.accuracy_score(Y_test, y_pred)\n",
        "#Calculating the accuracy in percentage\n",
        "print('The accuracy is: ', AdaBoost_acc * 100, '%')\n"
      ],
      "execution_count": 40,
      "outputs": [
        {
          "output_type": "stream",
          "name": "stdout",
          "text": [
            "The accuracy is:  77.10000000000001 %\n"
          ]
        }
      ]
    },
    {
      "cell_type": "code",
      "metadata": {
        "colab": {
          "base_uri": "https://localhost:8080/"
        },
        "id": "H9B-2KPfE9nG",
        "outputId": "196b7d79-e42d-4c5c-d04e-b8866222199d"
      },
      "source": [
        "AdaBoost_Train_acc= boostmodel.score(X_train1,Y_train)\n",
        "AdaBoost_Test_acc= boostmodel.score(X_test1,Y_test)\n",
        "print('Accuracy on training set:',AdaBoost_Train_acc)\n",
        "print('Accuracy on test set:',AdaBoost_Test_acc)"
      ],
      "execution_count": 41,
      "outputs": [
        {
          "output_type": "stream",
          "name": "stdout",
          "text": [
            "Accuracy on training set: 0.79125\n",
            "Accuracy on test set: 0.771\n"
          ]
        }
      ]
    },
    {
      "cell_type": "markdown",
      "metadata": {
        "id": "wV6ycfRFksMS"
      },
      "source": [
        "###**h) Using GradientBoostingClassifier**"
      ]
    },
    {
      "cell_type": "code",
      "metadata": {
        "colab": {
          "base_uri": "https://localhost:8080/"
        },
        "id": "UAWeFONGiHtn",
        "outputId": "ae45033d-debe-4ba6-a9b5-a31e4c0451d3"
      },
      "source": [
        "lr_list = [0.05, 0.075, 0.1, 0.25, 0.5, 0.75, 1]\n",
        "\n",
        "for learning_rate in lr_list:\n",
        "    gb_clf = GradientBoostingClassifier(n_estimators=20, learning_rate=learning_rate, max_features=2, max_depth=2, random_state=0)\n",
        "    gb_clf.fit(X_train1, Y_train)\n",
        "\n",
        "    print(\"Learning rate: \", learning_rate)\n",
        "    print(\"Accuracy score (training): {0:.3f}\".format(gb_clf.score(X_train1, Y_train)))\n",
        "    print(\"Accuracy score (validation): {0:.3f}\".format(gb_clf.score(X_test1, Y_test)))"
      ],
      "execution_count": 42,
      "outputs": [
        {
          "output_type": "stream",
          "name": "stdout",
          "text": [
            "Learning rate:  0.05\n",
            "Accuracy score (training): 0.667\n",
            "Accuracy score (validation): 0.660\n",
            "Learning rate:  0.075\n",
            "Accuracy score (training): 0.698\n",
            "Accuracy score (validation): 0.673\n",
            "Learning rate:  0.1\n",
            "Accuracy score (training): 0.714\n",
            "Accuracy score (validation): 0.675\n",
            "Learning rate:  0.25\n",
            "Accuracy score (training): 0.728\n",
            "Accuracy score (validation): 0.700\n",
            "Learning rate:  0.5\n",
            "Accuracy score (training): 0.723\n",
            "Accuracy score (validation): 0.697\n",
            "Learning rate:  0.75\n",
            "Accuracy score (training): 0.727\n",
            "Accuracy score (validation): 0.702\n",
            "Learning rate:  1\n",
            "Accuracy score (training): 0.735\n",
            "Accuracy score (validation): 0.719\n"
          ]
        }
      ]
    },
    {
      "cell_type": "code",
      "metadata": {
        "colab": {
          "base_uri": "https://localhost:8080/"
        },
        "id": "82t3NSy0k2zq",
        "outputId": "47f5eee4-9287-44c4-ac6e-6832fcb98a7e"
      },
      "source": [
        "from array import array\n",
        "gb_clf2 = GradientBoostingClassifier(n_estimators=20, learning_rate=0.75, max_features=2, max_depth=2, random_state=0)\n",
        "gb_clf2.fit(X_train1, Y_train)\n",
        "predictions = gb_clf2.predict(X_test1)\n",
        "#GradientBoosting_acc=gb_clf2.score(Y_test, predictions)\n",
        "GradientBoosting_acc = metrics.accuracy_score(Y_test, predictions)\n",
        "print(\"GradientBoosting_acc =\", GradientBoosting_acc)"
      ],
      "execution_count": 43,
      "outputs": [
        {
          "output_type": "stream",
          "name": "stdout",
          "text": [
            "GradientBoosting_acc = 0.702\n"
          ]
        }
      ]
    },
    {
      "cell_type": "code",
      "metadata": {
        "colab": {
          "base_uri": "https://localhost:8080/"
        },
        "id": "qorpSV-lF-hW",
        "outputId": "37637a50-ce08-4a89-b858-532e9da0b44d"
      },
      "source": [
        "GradientBoost_Train_acc= gb_clf2.score(X_train1,Y_train)\n",
        "GradientBoost_Test_acc= gb_clf2.score(X_test1,Y_test)\n",
        "print('Accuracy on training set:',GradientBoost_Train_acc)\n",
        "print('Accuracy on test set:',GradientBoost_Test_acc)"
      ],
      "execution_count": 44,
      "outputs": [
        {
          "output_type": "stream",
          "name": "stdout",
          "text": [
            "Accuracy on training set: 0.7265\n",
            "Accuracy on test set: 0.702\n"
          ]
        }
      ]
    },
    {
      "cell_type": "markdown",
      "metadata": {
        "id": "nwek0rb7lXgf"
      },
      "source": [
        "###**i) Using XGBoostClassifier**"
      ]
    },
    {
      "cell_type": "code",
      "metadata": {
        "colab": {
          "base_uri": "https://localhost:8080/"
        },
        "id": "hGRraEZYlGlZ",
        "outputId": "403e3e0e-d2d2-48d1-fdad-a666496f6472"
      },
      "source": [
        "from xgboost import XGBClassifier\n",
        "xgb_clf = XGBClassifier()\n",
        "xgb_clf.fit(X_train1, Y_train)"
      ],
      "execution_count": 45,
      "outputs": [
        {
          "output_type": "execute_result",
          "data": {
            "text/plain": [
              "XGBClassifier()"
            ]
          },
          "metadata": {},
          "execution_count": 45
        }
      ]
    },
    {
      "cell_type": "code",
      "metadata": {
        "colab": {
          "base_uri": "https://localhost:8080/"
        },
        "id": "4otdgeCilcNT",
        "outputId": "10337f64-56d8-4977-d6ba-2c6db2c928fe"
      },
      "source": [
        "XGBoost_acc = xgb_clf.score(X_test1, Y_test)\n",
        "print(XGBoost_acc)"
      ],
      "execution_count": 46,
      "outputs": [
        {
          "output_type": "stream",
          "name": "stdout",
          "text": [
            "0.786\n"
          ]
        }
      ]
    },
    {
      "cell_type": "code",
      "metadata": {
        "colab": {
          "base_uri": "https://localhost:8080/"
        },
        "id": "wwPRZT5RGaXC",
        "outputId": "bb6bbca2-c586-4321-b134-14ad845c916a"
      },
      "source": [
        "XGBoost_Train_acc= xgb_clf.score(X_train1,Y_train)\n",
        "XGBoost_Test_acc= xgb_clf.score(X_test1,Y_test)\n",
        "print('Accuracy on training set:',XGBoost_Train_acc)\n",
        "print('Accuracy on test set:',XGBoost_Test_acc)"
      ],
      "execution_count": 47,
      "outputs": [
        {
          "output_type": "stream",
          "name": "stdout",
          "text": [
            "Accuracy on training set: 0.8135\n",
            "Accuracy on test set: 0.786\n"
          ]
        }
      ]
    },
    {
      "cell_type": "markdown",
      "metadata": {
        "id": "-j_6v4_JlxhQ"
      },
      "source": [
        "###**j) Using LightGBMClassifer**"
      ]
    },
    {
      "cell_type": "code",
      "metadata": {
        "colab": {
          "base_uri": "https://localhost:8080/"
        },
        "id": "iYYbnNAFlhIc",
        "outputId": "d5510cf7-1bf2-4576-d429-9b90fecd8acb"
      },
      "source": [
        "import lightgbm as lgb\n",
        "model_lgb = lgb.LGBMClassifier()\n",
        "# fit the model with the training data\n",
        "model_lgb.fit(X_train1,Y_train)"
      ],
      "execution_count": 48,
      "outputs": [
        {
          "output_type": "execute_result",
          "data": {
            "text/plain": [
              "LGBMClassifier()"
            ]
          },
          "metadata": {},
          "execution_count": 48
        }
      ]
    },
    {
      "cell_type": "code",
      "metadata": {
        "colab": {
          "base_uri": "https://localhost:8080/"
        },
        "id": "kAbUKkeSmA9o",
        "outputId": "28457dfd-3233-47f3-87fc-279f970d416f"
      },
      "source": [
        "predict_train = model_lgb.predict(X_train1)\n",
        "# Accuray Score on train dataset\n",
        "accuracy_train = accuracy_score(Y_train,predict_train)\n",
        "print('\\naccuracy_score on train dataset : ', accuracy_train)"
      ],
      "execution_count": 49,
      "outputs": [
        {
          "output_type": "stream",
          "name": "stdout",
          "text": [
            "\n",
            "accuracy_score on train dataset :  0.89975\n"
          ]
        }
      ]
    },
    {
      "cell_type": "code",
      "metadata": {
        "colab": {
          "base_uri": "https://localhost:8080/"
        },
        "id": "kIFHVnu0mMll",
        "outputId": "09b66f4b-f6d1-4fc5-ec6b-4bbdde5649ee"
      },
      "source": [
        "# predict the target on the test dataset\n",
        "predict_test = model_lgb.predict(X_test1)\n",
        "# Accuracy Score on test dataset\n",
        "LightGBM_acc = accuracy_score(Y_test,predict_test)\n",
        "print('\\naccuracy_score on test dataset : ', LightGBM_acc)"
      ],
      "execution_count": 50,
      "outputs": [
        {
          "output_type": "stream",
          "name": "stdout",
          "text": [
            "\n",
            "accuracy_score on test dataset :  0.795\n"
          ]
        }
      ]
    },
    {
      "cell_type": "code",
      "metadata": {
        "colab": {
          "base_uri": "https://localhost:8080/"
        },
        "id": "g5pa5QmvHDsy",
        "outputId": "d2b6dfec-aabf-4d25-a75a-a622befb1e74"
      },
      "source": [
        "LightGBM_Train_acc= model_lgb.score(X_train1,Y_train)\n",
        "LightGBM_Test_acc= model_lgb.score(X_test1,Y_test)\n",
        "print('Accuracy on training set:',LightGBM_Train_acc)\n",
        "print('Accuracy on test set:',LightGBM_Test_acc)"
      ],
      "execution_count": 51,
      "outputs": [
        {
          "output_type": "stream",
          "name": "stdout",
          "text": [
            "Accuracy on training set: 0.89975\n",
            "Accuracy on test set: 0.795\n"
          ]
        }
      ]
    },
    {
      "cell_type": "code",
      "metadata": {
        "colab": {
          "base_uri": "https://localhost:8080/",
          "height": 174
        },
        "id": "LQC6wFzumZeD",
        "outputId": "a3e58a08-046d-4627-abbd-653b55e6be15"
      },
      "source": [
        "results={'Accuracy':[AdaBoost_acc, GradientBoosting_acc, XGBoost_acc, LightGBM_acc]}\n",
        "columns=['ADABoostClassifer','GradientBoostClassifer','XGBoostClassifer', 'LightGBMClassifier']\n",
        "aov_table=pd.DataFrame(results,columns)\n",
        "aov_table"
      ],
      "execution_count": 52,
      "outputs": [
        {
          "output_type": "execute_result",
          "data": {
            "text/html": [
              "<div>\n",
              "<style scoped>\n",
              "    .dataframe tbody tr th:only-of-type {\n",
              "        vertical-align: middle;\n",
              "    }\n",
              "\n",
              "    .dataframe tbody tr th {\n",
              "        vertical-align: top;\n",
              "    }\n",
              "\n",
              "    .dataframe thead th {\n",
              "        text-align: right;\n",
              "    }\n",
              "</style>\n",
              "<table border=\"1\" class=\"dataframe\">\n",
              "  <thead>\n",
              "    <tr style=\"text-align: right;\">\n",
              "      <th></th>\n",
              "      <th>Accuracy</th>\n",
              "    </tr>\n",
              "  </thead>\n",
              "  <tbody>\n",
              "    <tr>\n",
              "      <th>ADABoostClassifer</th>\n",
              "      <td>0.771</td>\n",
              "    </tr>\n",
              "    <tr>\n",
              "      <th>GradientBoostClassifer</th>\n",
              "      <td>0.702</td>\n",
              "    </tr>\n",
              "    <tr>\n",
              "      <th>XGBoostClassifer</th>\n",
              "      <td>0.786</td>\n",
              "    </tr>\n",
              "    <tr>\n",
              "      <th>LightGBMClassifier</th>\n",
              "      <td>0.795</td>\n",
              "    </tr>\n",
              "  </tbody>\n",
              "</table>\n",
              "</div>"
            ],
            "text/plain": [
              "                        Accuracy\n",
              "ADABoostClassifer          0.771\n",
              "GradientBoostClassifer     0.702\n",
              "XGBoostClassifer           0.786\n",
              "LightGBMClassifier         0.795"
            ]
          },
          "metadata": {},
          "execution_count": 52
        }
      ]
    },
    {
      "cell_type": "markdown",
      "metadata": {
        "id": "xHv2TJ5j1m26"
      },
      "source": [
        "###**Finalizing a classification model based on performance**"
      ]
    },
    {
      "cell_type": "code",
      "metadata": {
        "colab": {
          "base_uri": "https://localhost:8080/",
          "height": 363
        },
        "id": "3audXDuf5lNe",
        "outputId": "8440509b-8d67-4d52-fb30-16cda801e5e4"
      },
      "source": [
        "df1 = pd.DataFrame({\n",
        "    'ML Algorithm': ['Logistic_Regression','Naive_Bayes','Random_Forest', 'Decicion_Tree', 'k-NN', 'Support Vector Classifier', 'AdaBoostClassifier', 'GradientBoostingClassifier', 'XGBoostClassifier', 'LightGBMClassifier'],\n",
        "    'Train_acc': [lr_clf_Train_acc, nb_clf_Train_acc, rf_clf_Train_acc, dec_clf_Train_acc, kNN_Train_acc, svc_Train_acc, AdaBoost_Train_acc, GradientBoost_Train_acc, XGBoost_Train_acc, LightGBM_Train_acc], \n",
        "    'Test_acc': [lr_clf_Test_acc, nb_clf_Test_acc, rf_clf_Test_acc, dec_clf_Test_acc, kNN_Test_acc, svc_Test_acc, AdaBoost_Test_acc, GradientBoost_Test_acc, XGBoost_Test_acc, LightGBM_Test_acc],\n",
        "    'GridSearchCV_based_acc': [lr_grid_acc_avg, bayes_grid_acc_avg, rfc_grid_acc_avg, dtc_grid_acc_avg, kNN_grid_acc_avg, svc_grid_acc_avg,'N/A',  'N/A' , 'N/A', 'N/A'],\n",
        "    'Suitability': ['Not Suitable', 'Not Suitable', 'Not Suitable', 'Not Suitable', 'Not Suitable', 'Suitable', 'Not Suitable', 'Not Suitable', 'Not Suitable', 'Suitable']})\n",
        "df1"
      ],
      "execution_count": 53,
      "outputs": [
        {
          "output_type": "execute_result",
          "data": {
            "text/html": [
              "<div>\n",
              "<style scoped>\n",
              "    .dataframe tbody tr th:only-of-type {\n",
              "        vertical-align: middle;\n",
              "    }\n",
              "\n",
              "    .dataframe tbody tr th {\n",
              "        vertical-align: top;\n",
              "    }\n",
              "\n",
              "    .dataframe thead th {\n",
              "        text-align: right;\n",
              "    }\n",
              "</style>\n",
              "<table border=\"1\" class=\"dataframe\">\n",
              "  <thead>\n",
              "    <tr style=\"text-align: right;\">\n",
              "      <th></th>\n",
              "      <th>ML Algorithm</th>\n",
              "      <th>Train_acc</th>\n",
              "      <th>Test_acc</th>\n",
              "      <th>GridSearchCV_based_acc</th>\n",
              "      <th>Suitability</th>\n",
              "    </tr>\n",
              "  </thead>\n",
              "  <tbody>\n",
              "    <tr>\n",
              "      <th>0</th>\n",
              "      <td>Logistic_Regression</td>\n",
              "      <td>0.778250</td>\n",
              "      <td>0.76800</td>\n",
              "      <td>0.7742</td>\n",
              "      <td>Not Suitable</td>\n",
              "    </tr>\n",
              "    <tr>\n",
              "      <th>1</th>\n",
              "      <td>Naive_Bayes</td>\n",
              "      <td>0.674500</td>\n",
              "      <td>0.66500</td>\n",
              "      <td>0.6746</td>\n",
              "      <td>Not Suitable</td>\n",
              "    </tr>\n",
              "    <tr>\n",
              "      <th>2</th>\n",
              "      <td>Random_Forest</td>\n",
              "      <td>0.890945</td>\n",
              "      <td>0.38446</td>\n",
              "      <td>0.7746</td>\n",
              "      <td>Not Suitable</td>\n",
              "    </tr>\n",
              "    <tr>\n",
              "      <th>3</th>\n",
              "      <td>Decicion_Tree</td>\n",
              "      <td>0.999000</td>\n",
              "      <td>0.76600</td>\n",
              "      <td>0.7488</td>\n",
              "      <td>Not Suitable</td>\n",
              "    </tr>\n",
              "    <tr>\n",
              "      <th>4</th>\n",
              "      <td>k-NN</td>\n",
              "      <td>0.816000</td>\n",
              "      <td>0.69800</td>\n",
              "      <td>0.7098</td>\n",
              "      <td>Not Suitable</td>\n",
              "    </tr>\n",
              "    <tr>\n",
              "      <th>5</th>\n",
              "      <td>Support Vector Classifier</td>\n",
              "      <td>0.807250</td>\n",
              "      <td>0.76900</td>\n",
              "      <td>0.7882</td>\n",
              "      <td>Suitable</td>\n",
              "    </tr>\n",
              "    <tr>\n",
              "      <th>6</th>\n",
              "      <td>AdaBoostClassifier</td>\n",
              "      <td>0.791250</td>\n",
              "      <td>0.77100</td>\n",
              "      <td>N/A</td>\n",
              "      <td>Not Suitable</td>\n",
              "    </tr>\n",
              "    <tr>\n",
              "      <th>7</th>\n",
              "      <td>GradientBoostingClassifier</td>\n",
              "      <td>0.726500</td>\n",
              "      <td>0.70200</td>\n",
              "      <td>N/A</td>\n",
              "      <td>Not Suitable</td>\n",
              "    </tr>\n",
              "    <tr>\n",
              "      <th>8</th>\n",
              "      <td>XGBoostClassifier</td>\n",
              "      <td>0.813500</td>\n",
              "      <td>0.78600</td>\n",
              "      <td>N/A</td>\n",
              "      <td>Not Suitable</td>\n",
              "    </tr>\n",
              "    <tr>\n",
              "      <th>9</th>\n",
              "      <td>LightGBMClassifier</td>\n",
              "      <td>0.899750</td>\n",
              "      <td>0.79500</td>\n",
              "      <td>N/A</td>\n",
              "      <td>Suitable</td>\n",
              "    </tr>\n",
              "  </tbody>\n",
              "</table>\n",
              "</div>"
            ],
            "text/plain": [
              "                 ML Algorithm  Train_acc  ...  GridSearchCV_based_acc   Suitability\n",
              "0         Logistic_Regression   0.778250  ...                  0.7742  Not Suitable\n",
              "1                 Naive_Bayes   0.674500  ...                  0.6746  Not Suitable\n",
              "2               Random_Forest   0.890945  ...                  0.7746  Not Suitable\n",
              "3               Decicion_Tree   0.999000  ...                  0.7488  Not Suitable\n",
              "4                        k-NN   0.816000  ...                  0.7098  Not Suitable\n",
              "5   Support Vector Classifier   0.807250  ...                  0.7882      Suitable\n",
              "6          AdaBoostClassifier   0.791250  ...                     N/A  Not Suitable\n",
              "7  GradientBoostingClassifier   0.726500  ...                     N/A  Not Suitable\n",
              "8           XGBoostClassifier   0.813500  ...                     N/A  Not Suitable\n",
              "9          LightGBMClassifier   0.899750  ...                     N/A      Suitable\n",
              "\n",
              "[10 rows x 5 columns]"
            ]
          },
          "metadata": {},
          "execution_count": 53
        }
      ]
    }
  ]
}
