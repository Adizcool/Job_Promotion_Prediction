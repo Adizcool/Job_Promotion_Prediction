{
  "nbformat": 4,
  "nbformat_minor": 0,
  "metadata": {
    "colab": {
      "name": "Job_Promotion_Prediction_Data_Preprocessing-1.ipynb",
      "provenance": [],
      "collapsed_sections": [],
      "include_colab_link": true
    },
    "kernelspec": {
      "display_name": "Python 3",
      "language": "python",
      "name": "python3"
    },
    "language_info": {
      "codemirror_mode": {
        "name": "ipython",
        "version": 3
      },
      "file_extension": ".py",
      "mimetype": "text/x-python",
      "name": "python",
      "nbconvert_exporter": "python",
      "pygments_lexer": "ipython3",
      "version": "3.7.3"
    }
  },
  "cells": [
    {
      "cell_type": "markdown",
      "metadata": {
        "id": "view-in-github",
        "colab_type": "text"
      },
      "source": [
        "<a href=\"https://colab.research.google.com/github/Adizcool/Job_Promotion_Prediction/blob/main/Job_Promotion_Prediction_Data_Preprocessing_1.ipynb\" target=\"_parent\"><img src=\"https://colab.research.google.com/assets/colab-badge.svg\" alt=\"Open In Colab\"/></a>"
      ]
    },
    {
      "cell_type": "markdown",
      "metadata": {
        "id": "1TZL5ZaxtH3j"
      },
      "source": [
        "##**Classification Project using Loan Status Data**"
      ]
    },
    {
      "cell_type": "markdown",
      "metadata": {
        "id": "qMQD92qt05jC"
      },
      "source": [
        "##**Main Goals of this Program:**\n",
        "**I) Check and decide the ML Learning Type and sub-type as applicable**\n",
        "\n",
        "**II) Check and remove the duplicate records, if any**\n",
        "\n",
        "**III) Check the class balance**\n",
        "\n",
        "**IV) Check for Missing Values and handle them as required**\n",
        "\n",
        "**V) Check for the necessity of creating new column(s) and create the columns as required**\n",
        "\n",
        "**VI) Check the unique Values of each column and observe the following and take actions as required:**\n",
        "* **1) Wrong Data in the columns, if any** \n",
        "* **2) Wrong format of the data in the columns, if any**\n",
        "* **3) Identify the columns which need to be categorically converted to numeric values by using Nominal method/ Ordinal Method**\n",
        "\n",
        "**VII) Check the Test accuracy using appropriate algorithm and Holdout Method.**\n",
        "\n",
        "**VIII) Implement the Scaling as required**\n",
        "\n",
        "**IX) Write out the transformed Input file for further usage**"
      ]
    },
    {
      "cell_type": "markdown",
      "metadata": {
        "id": "2GngkOcP4Pxi"
      },
      "source": [
        "**1) Install/ Import the required Python Packages/ Libraries**"
      ]
    },
    {
      "cell_type": "code",
      "metadata": {
        "id": "PJZqCSntal9U"
      },
      "source": [
        "#Import required python packages\n",
        "import pandas as pd\n",
        "import numpy as np\n",
        "import matplotlib.pyplot as plt\n",
        "import seaborn as sb\n",
        "from sklearn import preprocessing\n",
        "%matplotlib inline"
      ],
      "execution_count": 1,
      "outputs": []
    },
    {
      "cell_type": "code",
      "metadata": {
        "colab": {
          "base_uri": "https://localhost:8080/"
        },
        "id": "e8R-PbpQWsL4",
        "outputId": "5e31d945-93f1-4312-8543-9bf95af7e7ba"
      },
      "source": [
        "pip install category_encoders"
      ],
      "execution_count": 2,
      "outputs": [
        {
          "output_type": "stream",
          "name": "stdout",
          "text": [
            "Collecting category_encoders\n",
            "  Downloading category_encoders-2.3.0-py2.py3-none-any.whl (82 kB)\n",
            "\u001b[?25l\r\u001b[K     |████                            | 10 kB 13.2 MB/s eta 0:00:01\r\u001b[K     |████████                        | 20 kB 17.0 MB/s eta 0:00:01\r\u001b[K     |████████████                    | 30 kB 21.6 MB/s eta 0:00:01\r\u001b[K     |████████████████                | 40 kB 12.8 MB/s eta 0:00:01\r\u001b[K     |████████████████████            | 51 kB 5.8 MB/s eta 0:00:01\r\u001b[K     |████████████████████████        | 61 kB 6.0 MB/s eta 0:00:01\r\u001b[K     |████████████████████████████    | 71 kB 5.2 MB/s eta 0:00:01\r\u001b[K     |███████████████████████████████▉| 81 kB 5.6 MB/s eta 0:00:01\r\u001b[K     |████████████████████████████████| 82 kB 323 kB/s \n",
            "\u001b[?25hRequirement already satisfied: scikit-learn>=0.20.0 in /usr/local/lib/python3.7/dist-packages (from category_encoders) (1.0.1)\n",
            "Requirement already satisfied: statsmodels>=0.9.0 in /usr/local/lib/python3.7/dist-packages (from category_encoders) (0.10.2)\n",
            "Requirement already satisfied: numpy>=1.14.0 in /usr/local/lib/python3.7/dist-packages (from category_encoders) (1.19.5)\n",
            "Requirement already satisfied: scipy>=1.0.0 in /usr/local/lib/python3.7/dist-packages (from category_encoders) (1.4.1)\n",
            "Requirement already satisfied: pandas>=0.21.1 in /usr/local/lib/python3.7/dist-packages (from category_encoders) (1.1.5)\n",
            "Requirement already satisfied: patsy>=0.5.1 in /usr/local/lib/python3.7/dist-packages (from category_encoders) (0.5.2)\n",
            "Requirement already satisfied: python-dateutil>=2.7.3 in /usr/local/lib/python3.7/dist-packages (from pandas>=0.21.1->category_encoders) (2.8.2)\n",
            "Requirement already satisfied: pytz>=2017.2 in /usr/local/lib/python3.7/dist-packages (from pandas>=0.21.1->category_encoders) (2018.9)\n",
            "Requirement already satisfied: six in /usr/local/lib/python3.7/dist-packages (from patsy>=0.5.1->category_encoders) (1.15.0)\n",
            "Requirement already satisfied: joblib>=0.11 in /usr/local/lib/python3.7/dist-packages (from scikit-learn>=0.20.0->category_encoders) (1.1.0)\n",
            "Requirement already satisfied: threadpoolctl>=2.0.0 in /usr/local/lib/python3.7/dist-packages (from scikit-learn>=0.20.0->category_encoders) (3.0.0)\n",
            "Installing collected packages: category-encoders\n",
            "Successfully installed category-encoders-2.3.0\n"
          ]
        }
      ]
    },
    {
      "cell_type": "markdown",
      "metadata": {
        "id": "AglVkOKL4WLi"
      },
      "source": [
        "**2) Mounting the Google Drive**"
      ]
    },
    {
      "cell_type": "code",
      "metadata": {
        "colab": {
          "base_uri": "https://localhost:8080/"
        },
        "id": "puBepcUNbuXJ",
        "outputId": "6eaed1c6-4838-4d99-82b7-041c6e6a43a9"
      },
      "source": [
        "# Mount the Google Drive\n",
        "from google.colab import drive\n",
        "drive.mount('/content/gdrive')"
      ],
      "execution_count": 3,
      "outputs": [
        {
          "output_type": "stream",
          "name": "stdout",
          "text": [
            "Mounted at /content/gdrive\n"
          ]
        }
      ]
    },
    {
      "cell_type": "markdown",
      "metadata": {
        "id": "Y3DiPDcD4eDR"
      },
      "source": [
        "**3) Read the Data file and check**"
      ]
    },
    {
      "cell_type": "code",
      "metadata": {
        "colab": {
          "base_uri": "https://localhost:8080/",
          "height": 313
        },
        "id": "aIhTjhU0al9e",
        "outputId": "064aaaa5-9c0e-4a04-df9a-23de6695d1c7"
      },
      "source": [
        "# Read the Diabetes Data from .csv file and check the data shape (number of Rows and Columns)\n",
        "df = pd.read_csv('gdrive/My Drive/Datasets/HR Analysis/train_HR_Analytics.csv')\n",
        "print(df.shape)\n",
        "df.head()"
      ],
      "execution_count": 6,
      "outputs": [
        {
          "output_type": "stream",
          "name": "stdout",
          "text": [
            "(5000, 14)\n"
          ]
        },
        {
          "output_type": "execute_result",
          "data": {
            "text/html": [
              "<div>\n",
              "<style scoped>\n",
              "    .dataframe tbody tr th:only-of-type {\n",
              "        vertical-align: middle;\n",
              "    }\n",
              "\n",
              "    .dataframe tbody tr th {\n",
              "        vertical-align: top;\n",
              "    }\n",
              "\n",
              "    .dataframe thead th {\n",
              "        text-align: right;\n",
              "    }\n",
              "</style>\n",
              "<table border=\"1\" class=\"dataframe\">\n",
              "  <thead>\n",
              "    <tr style=\"text-align: right;\">\n",
              "      <th></th>\n",
              "      <th>employee_id</th>\n",
              "      <th>department</th>\n",
              "      <th>region</th>\n",
              "      <th>education</th>\n",
              "      <th>gender</th>\n",
              "      <th>recruitment_channel</th>\n",
              "      <th>no_of_trainings</th>\n",
              "      <th>age</th>\n",
              "      <th>previous_year_rating</th>\n",
              "      <th>length_of_service</th>\n",
              "      <th>KPIs_met &gt;80%</th>\n",
              "      <th>awards_won?</th>\n",
              "      <th>avg_training_score</th>\n",
              "      <th>is_promoted</th>\n",
              "    </tr>\n",
              "  </thead>\n",
              "  <tbody>\n",
              "    <tr>\n",
              "      <th>0</th>\n",
              "      <td>65438</td>\n",
              "      <td>Sales &amp; Marketing</td>\n",
              "      <td>region_7</td>\n",
              "      <td>Master's &amp; above</td>\n",
              "      <td>f</td>\n",
              "      <td>sourcing</td>\n",
              "      <td>1</td>\n",
              "      <td>35</td>\n",
              "      <td>5.0</td>\n",
              "      <td>8</td>\n",
              "      <td>1</td>\n",
              "      <td>0</td>\n",
              "      <td>49</td>\n",
              "      <td>0</td>\n",
              "    </tr>\n",
              "    <tr>\n",
              "      <th>1</th>\n",
              "      <td>65141</td>\n",
              "      <td>Operations</td>\n",
              "      <td>region_22</td>\n",
              "      <td>Bachelor's</td>\n",
              "      <td>m</td>\n",
              "      <td>other</td>\n",
              "      <td>1</td>\n",
              "      <td>30</td>\n",
              "      <td>5.0</td>\n",
              "      <td>4</td>\n",
              "      <td>0</td>\n",
              "      <td>0</td>\n",
              "      <td>60</td>\n",
              "      <td>0</td>\n",
              "    </tr>\n",
              "    <tr>\n",
              "      <th>2</th>\n",
              "      <td>7513</td>\n",
              "      <td>Sales &amp; Marketing</td>\n",
              "      <td>region_19</td>\n",
              "      <td>Bachelor's</td>\n",
              "      <td>m</td>\n",
              "      <td>sourcing</td>\n",
              "      <td>1</td>\n",
              "      <td>34</td>\n",
              "      <td>3.0</td>\n",
              "      <td>7</td>\n",
              "      <td>0</td>\n",
              "      <td>0</td>\n",
              "      <td>50</td>\n",
              "      <td>0</td>\n",
              "    </tr>\n",
              "    <tr>\n",
              "      <th>3</th>\n",
              "      <td>2542</td>\n",
              "      <td>Sales &amp; Marketing</td>\n",
              "      <td>region_23</td>\n",
              "      <td>Bachelor's</td>\n",
              "      <td>m</td>\n",
              "      <td>other</td>\n",
              "      <td>2</td>\n",
              "      <td>39</td>\n",
              "      <td>1.0</td>\n",
              "      <td>10</td>\n",
              "      <td>0</td>\n",
              "      <td>0</td>\n",
              "      <td>50</td>\n",
              "      <td>0</td>\n",
              "    </tr>\n",
              "    <tr>\n",
              "      <th>4</th>\n",
              "      <td>48945</td>\n",
              "      <td>Technology</td>\n",
              "      <td>region_26</td>\n",
              "      <td>Bachelor's</td>\n",
              "      <td>m</td>\n",
              "      <td>other</td>\n",
              "      <td>1</td>\n",
              "      <td>45</td>\n",
              "      <td>3.0</td>\n",
              "      <td>2</td>\n",
              "      <td>0</td>\n",
              "      <td>0</td>\n",
              "      <td>73</td>\n",
              "      <td>0</td>\n",
              "    </tr>\n",
              "  </tbody>\n",
              "</table>\n",
              "</div>"
            ],
            "text/plain": [
              "   employee_id         department  ... avg_training_score is_promoted\n",
              "0        65438  Sales & Marketing  ...                 49           0\n",
              "1        65141         Operations  ...                 60           0\n",
              "2         7513  Sales & Marketing  ...                 50           0\n",
              "3         2542  Sales & Marketing  ...                 50           0\n",
              "4        48945         Technology  ...                 73           0\n",
              "\n",
              "[5 rows x 14 columns]"
            ]
          },
          "metadata": {},
          "execution_count": 6
        }
      ]
    },
    {
      "cell_type": "markdown",
      "metadata": {
        "id": "_VW8JrrA6iQe"
      },
      "source": [
        "##**I) Check and decide the ML Learning Type and sub-type as applicable**"
      ]
    },
    {
      "cell_type": "code",
      "metadata": {
        "colab": {
          "base_uri": "https://localhost:8080/"
        },
        "id": "uXs6Bq5U6otr",
        "outputId": "13553140-7e05-434d-bfa2-527e63945a42"
      },
      "source": [
        "df.info()"
      ],
      "execution_count": 7,
      "outputs": [
        {
          "output_type": "stream",
          "name": "stdout",
          "text": [
            "<class 'pandas.core.frame.DataFrame'>\n",
            "RangeIndex: 5000 entries, 0 to 4999\n",
            "Data columns (total 14 columns):\n",
            " #   Column                Non-Null Count  Dtype  \n",
            "---  ------                --------------  -----  \n",
            " 0   employee_id           5000 non-null   int64  \n",
            " 1   department            5000 non-null   object \n",
            " 2   region                5000 non-null   object \n",
            " 3   education             4788 non-null   object \n",
            " 4   gender                5000 non-null   object \n",
            " 5   recruitment_channel   5000 non-null   object \n",
            " 6   no_of_trainings       5000 non-null   int64  \n",
            " 7   age                   5000 non-null   int64  \n",
            " 8   previous_year_rating  4624 non-null   float64\n",
            " 9   length_of_service     5000 non-null   int64  \n",
            " 10  KPIs_met >80%         5000 non-null   int64  \n",
            " 11  awards_won?           5000 non-null   int64  \n",
            " 12  avg_training_score    5000 non-null   int64  \n",
            " 13  is_promoted           5000 non-null   int64  \n",
            "dtypes: float64(1), int64(8), object(5)\n",
            "memory usage: 547.0+ KB\n"
          ]
        }
      ]
    },
    {
      "cell_type": "code",
      "metadata": {
        "colab": {
          "base_uri": "https://localhost:8080/"
        },
        "id": "Z0lI8mws6-BZ",
        "outputId": "25655fbf-d937-4e14-83f8-37aa482ef1e5"
      },
      "source": [
        "df.isnull().sum()"
      ],
      "execution_count": 8,
      "outputs": [
        {
          "output_type": "execute_result",
          "data": {
            "text/plain": [
              "employee_id               0\n",
              "department                0\n",
              "region                    0\n",
              "education               212\n",
              "gender                    0\n",
              "recruitment_channel       0\n",
              "no_of_trainings           0\n",
              "age                       0\n",
              "previous_year_rating    376\n",
              "length_of_service         0\n",
              "KPIs_met >80%             0\n",
              "awards_won?               0\n",
              "avg_training_score        0\n",
              "is_promoted               0\n",
              "dtype: int64"
            ]
          },
          "metadata": {},
          "execution_count": 8
        }
      ]
    },
    {
      "cell_type": "markdown",
      "metadata": {
        "id": "MUvQUVq47qN1"
      },
      "source": [
        "**Observations on the given Dataset:**\n",
        "* a) Number of Independet Variables: 12 (Identified)\n",
        "* b) Number of Dependent Variable : 1 (Loan_Status) (Identified)\n",
        "* c) There is no Missing Value in the Dependent Variable column \"Loan_Status\"\n"
      ]
    },
    {
      "cell_type": "markdown",
      "metadata": {
        "id": "yQaxmwGi79Er"
      },
      "source": [
        "**Conclusions:**\n",
        "###**a) The given dataset probably belongs to the\"Supervised Learning\" main-type**\n",
        "###**b) Since the Dependent variable values are categorical in nature, the given dataset is of \"Classification\" sub-type.**"
      ]
    },
    {
      "cell_type": "markdown",
      "metadata": {
        "id": "YT5x2qSo8XI0"
      },
      "source": [
        "##**II) Check and remove the duplicate records, if any**"
      ]
    },
    {
      "cell_type": "code",
      "metadata": {
        "colab": {
          "base_uri": "https://localhost:8080/"
        },
        "id": "4MJSKFY2890-",
        "outputId": "572865fc-80e0-4e66-f2a6-898a23aa598c"
      },
      "source": [
        "df.shape"
      ],
      "execution_count": 9,
      "outputs": [
        {
          "output_type": "execute_result",
          "data": {
            "text/plain": [
              "(5000, 14)"
            ]
          },
          "metadata": {},
          "execution_count": 9
        }
      ]
    },
    {
      "cell_type": "code",
      "metadata": {
        "colab": {
          "base_uri": "https://localhost:8080/"
        },
        "id": "pNbb9lB38yu7",
        "outputId": "115ccdd3-e864-4b2b-ca57-82a2aab321ba"
      },
      "source": [
        "# Returns True for every row that is a duplicate, othwerwise False:\n",
        "print(df.duplicated())"
      ],
      "execution_count": 10,
      "outputs": [
        {
          "output_type": "stream",
          "name": "stdout",
          "text": [
            "0       False\n",
            "1       False\n",
            "2       False\n",
            "3       False\n",
            "4       False\n",
            "        ...  \n",
            "4995    False\n",
            "4996    False\n",
            "4997    False\n",
            "4998    False\n",
            "4999    False\n",
            "Length: 5000, dtype: bool\n"
          ]
        }
      ]
    },
    {
      "cell_type": "code",
      "metadata": {
        "id": "Nt36o5TU87ip"
      },
      "source": [
        "# Remove all duplicates:\n",
        "df.drop_duplicates(inplace = True)"
      ],
      "execution_count": 11,
      "outputs": []
    },
    {
      "cell_type": "code",
      "metadata": {
        "colab": {
          "base_uri": "https://localhost:8080/"
        },
        "id": "ABx2aDc09BE0",
        "outputId": "dccad10a-f3cf-4cef-fc3a-df872361f8d6"
      },
      "source": [
        "df.shape"
      ],
      "execution_count": 12,
      "outputs": [
        {
          "output_type": "execute_result",
          "data": {
            "text/plain": [
              "(5000, 14)"
            ]
          },
          "metadata": {},
          "execution_count": 12
        }
      ]
    },
    {
      "cell_type": "markdown",
      "metadata": {
        "id": "ezru5FzY9D9j"
      },
      "source": [
        "###**Conclusion: No Duplicate Records**"
      ]
    },
    {
      "cell_type": "markdown",
      "metadata": {
        "id": "D9C5t_SD9LAe"
      },
      "source": [
        "##**III) Check the Class balance**"
      ]
    },
    {
      "cell_type": "code",
      "metadata": {
        "colab": {
          "base_uri": "https://localhost:8080/"
        },
        "id": "uOH_efjE9VwI",
        "outputId": "eaf38a02-ab6c-412c-d467-f3da307b98e9"
      },
      "source": [
        "df[\"is_promoted\"].value_counts()"
      ],
      "execution_count": 13,
      "outputs": [
        {
          "output_type": "execute_result",
          "data": {
            "text/plain": [
              "0    2733\n",
              "1    2267\n",
              "Name: is_promoted, dtype: int64"
            ]
          },
          "metadata": {},
          "execution_count": 13
        }
      ]
    },
    {
      "cell_type": "markdown",
      "metadata": {
        "id": "gwm5t02k-FzU"
      },
      "source": [
        "###**Conclusion: It is a Binary Classification with imbalanced Classes**"
      ]
    },
    {
      "cell_type": "markdown",
      "metadata": {
        "id": "Ash1lDZt-A2p"
      },
      "source": [
        "##**IV) Check for Missing Values and handle them as required**"
      ]
    },
    {
      "cell_type": "markdown",
      "metadata": {
        "id": "-DgLujtcR7bc"
      },
      "source": [
        "**a) Check the Missing Values, if any**"
      ]
    },
    {
      "cell_type": "code",
      "metadata": {
        "colab": {
          "base_uri": "https://localhost:8080/"
        },
        "id": "Aj9gcqzsSM1b",
        "outputId": "0d03394c-6822-4028-d8ec-287c71ac46ea"
      },
      "source": [
        "df.isnull().sum()"
      ],
      "execution_count": 14,
      "outputs": [
        {
          "output_type": "execute_result",
          "data": {
            "text/plain": [
              "employee_id               0\n",
              "department                0\n",
              "region                    0\n",
              "education               212\n",
              "gender                    0\n",
              "recruitment_channel       0\n",
              "no_of_trainings           0\n",
              "age                       0\n",
              "previous_year_rating    376\n",
              "length_of_service         0\n",
              "KPIs_met >80%             0\n",
              "awards_won?               0\n",
              "avg_training_score        0\n",
              "is_promoted               0\n",
              "dtype: int64"
            ]
          },
          "metadata": {},
          "execution_count": 14
        }
      ]
    },
    {
      "cell_type": "markdown",
      "metadata": {
        "id": "qfS2OcSlW3eL"
      },
      "source": [
        "**b) Checking the total number of rows having the missing Values**"
      ]
    },
    {
      "cell_type": "code",
      "metadata": {
        "colab": {
          "base_uri": "https://localhost:8080/",
          "height": 513
        },
        "id": "8U48rKVaVrB2",
        "outputId": "e8c0d026-2123-42a6-ef11-8e862440c391"
      },
      "source": [
        "df[df.isnull().any(axis=1)]"
      ],
      "execution_count": 15,
      "outputs": [
        {
          "output_type": "execute_result",
          "data": {
            "text/html": [
              "<div>\n",
              "<style scoped>\n",
              "    .dataframe tbody tr th:only-of-type {\n",
              "        vertical-align: middle;\n",
              "    }\n",
              "\n",
              "    .dataframe tbody tr th {\n",
              "        vertical-align: top;\n",
              "    }\n",
              "\n",
              "    .dataframe thead th {\n",
              "        text-align: right;\n",
              "    }\n",
              "</style>\n",
              "<table border=\"1\" class=\"dataframe\">\n",
              "  <thead>\n",
              "    <tr style=\"text-align: right;\">\n",
              "      <th></th>\n",
              "      <th>employee_id</th>\n",
              "      <th>department</th>\n",
              "      <th>region</th>\n",
              "      <th>education</th>\n",
              "      <th>gender</th>\n",
              "      <th>recruitment_channel</th>\n",
              "      <th>no_of_trainings</th>\n",
              "      <th>age</th>\n",
              "      <th>previous_year_rating</th>\n",
              "      <th>length_of_service</th>\n",
              "      <th>KPIs_met &gt;80%</th>\n",
              "      <th>awards_won?</th>\n",
              "      <th>avg_training_score</th>\n",
              "      <th>is_promoted</th>\n",
              "    </tr>\n",
              "  </thead>\n",
              "  <tbody>\n",
              "    <tr>\n",
              "      <th>10</th>\n",
              "      <td>29934</td>\n",
              "      <td>Technology</td>\n",
              "      <td>region_23</td>\n",
              "      <td>NaN</td>\n",
              "      <td>m</td>\n",
              "      <td>sourcing</td>\n",
              "      <td>1</td>\n",
              "      <td>30</td>\n",
              "      <td>NaN</td>\n",
              "      <td>1</td>\n",
              "      <td>0</td>\n",
              "      <td>0</td>\n",
              "      <td>77</td>\n",
              "      <td>0</td>\n",
              "    </tr>\n",
              "    <tr>\n",
              "      <th>21</th>\n",
              "      <td>33332</td>\n",
              "      <td>Operations</td>\n",
              "      <td>region_15</td>\n",
              "      <td>NaN</td>\n",
              "      <td>m</td>\n",
              "      <td>sourcing</td>\n",
              "      <td>1</td>\n",
              "      <td>41</td>\n",
              "      <td>4.0</td>\n",
              "      <td>11</td>\n",
              "      <td>0</td>\n",
              "      <td>0</td>\n",
              "      <td>57</td>\n",
              "      <td>0</td>\n",
              "    </tr>\n",
              "    <tr>\n",
              "      <th>23</th>\n",
              "      <td>71177</td>\n",
              "      <td>Procurement</td>\n",
              "      <td>region_5</td>\n",
              "      <td>Bachelor's</td>\n",
              "      <td>m</td>\n",
              "      <td>other</td>\n",
              "      <td>1</td>\n",
              "      <td>27</td>\n",
              "      <td>NaN</td>\n",
              "      <td>1</td>\n",
              "      <td>0</td>\n",
              "      <td>0</td>\n",
              "      <td>70</td>\n",
              "      <td>0</td>\n",
              "    </tr>\n",
              "    <tr>\n",
              "      <th>29</th>\n",
              "      <td>74759</td>\n",
              "      <td>Sales &amp; Marketing</td>\n",
              "      <td>region_4</td>\n",
              "      <td>Bachelor's</td>\n",
              "      <td>m</td>\n",
              "      <td>sourcing</td>\n",
              "      <td>1</td>\n",
              "      <td>26</td>\n",
              "      <td>NaN</td>\n",
              "      <td>1</td>\n",
              "      <td>0</td>\n",
              "      <td>0</td>\n",
              "      <td>44</td>\n",
              "      <td>0</td>\n",
              "    </tr>\n",
              "    <tr>\n",
              "      <th>32</th>\n",
              "      <td>35465</td>\n",
              "      <td>Sales &amp; Marketing</td>\n",
              "      <td>region_7</td>\n",
              "      <td>NaN</td>\n",
              "      <td>f</td>\n",
              "      <td>sourcing</td>\n",
              "      <td>1</td>\n",
              "      <td>24</td>\n",
              "      <td>1.0</td>\n",
              "      <td>2</td>\n",
              "      <td>0</td>\n",
              "      <td>0</td>\n",
              "      <td>48</td>\n",
              "      <td>0</td>\n",
              "    </tr>\n",
              "    <tr>\n",
              "      <th>...</th>\n",
              "      <td>...</td>\n",
              "      <td>...</td>\n",
              "      <td>...</td>\n",
              "      <td>...</td>\n",
              "      <td>...</td>\n",
              "      <td>...</td>\n",
              "      <td>...</td>\n",
              "      <td>...</td>\n",
              "      <td>...</td>\n",
              "      <td>...</td>\n",
              "      <td>...</td>\n",
              "      <td>...</td>\n",
              "      <td>...</td>\n",
              "      <td>...</td>\n",
              "    </tr>\n",
              "    <tr>\n",
              "      <th>4955</th>\n",
              "      <td>32626</td>\n",
              "      <td>Technology</td>\n",
              "      <td>region_17</td>\n",
              "      <td>Bachelor's</td>\n",
              "      <td>m</td>\n",
              "      <td>other</td>\n",
              "      <td>1</td>\n",
              "      <td>27</td>\n",
              "      <td>NaN</td>\n",
              "      <td>1</td>\n",
              "      <td>1</td>\n",
              "      <td>0</td>\n",
              "      <td>80</td>\n",
              "      <td>1</td>\n",
              "    </tr>\n",
              "    <tr>\n",
              "      <th>4963</th>\n",
              "      <td>54606</td>\n",
              "      <td>Sales &amp; Marketing</td>\n",
              "      <td>region_6</td>\n",
              "      <td>NaN</td>\n",
              "      <td>m</td>\n",
              "      <td>other</td>\n",
              "      <td>1</td>\n",
              "      <td>32</td>\n",
              "      <td>4.0</td>\n",
              "      <td>4</td>\n",
              "      <td>1</td>\n",
              "      <td>1</td>\n",
              "      <td>94</td>\n",
              "      <td>1</td>\n",
              "    </tr>\n",
              "    <tr>\n",
              "      <th>4969</th>\n",
              "      <td>18185</td>\n",
              "      <td>Technology</td>\n",
              "      <td>region_2</td>\n",
              "      <td>NaN</td>\n",
              "      <td>f</td>\n",
              "      <td>other</td>\n",
              "      <td>1</td>\n",
              "      <td>49</td>\n",
              "      <td>3.0</td>\n",
              "      <td>11</td>\n",
              "      <td>1</td>\n",
              "      <td>0</td>\n",
              "      <td>83</td>\n",
              "      <td>1</td>\n",
              "    </tr>\n",
              "    <tr>\n",
              "      <th>4995</th>\n",
              "      <td>61657</td>\n",
              "      <td>Technology</td>\n",
              "      <td>region_28</td>\n",
              "      <td>Bachelor's</td>\n",
              "      <td>f</td>\n",
              "      <td>other</td>\n",
              "      <td>1</td>\n",
              "      <td>30</td>\n",
              "      <td>NaN</td>\n",
              "      <td>1</td>\n",
              "      <td>1</td>\n",
              "      <td>0</td>\n",
              "      <td>77</td>\n",
              "      <td>1</td>\n",
              "    </tr>\n",
              "    <tr>\n",
              "      <th>4997</th>\n",
              "      <td>25529</td>\n",
              "      <td>Analytics</td>\n",
              "      <td>region_17</td>\n",
              "      <td>Bachelor's</td>\n",
              "      <td>m</td>\n",
              "      <td>other</td>\n",
              "      <td>2</td>\n",
              "      <td>27</td>\n",
              "      <td>NaN</td>\n",
              "      <td>1</td>\n",
              "      <td>1</td>\n",
              "      <td>0</td>\n",
              "      <td>84</td>\n",
              "      <td>1</td>\n",
              "    </tr>\n",
              "  </tbody>\n",
              "</table>\n",
              "<p>541 rows × 14 columns</p>\n",
              "</div>"
            ],
            "text/plain": [
              "      employee_id         department  ... avg_training_score is_promoted\n",
              "10          29934         Technology  ...                 77           0\n",
              "21          33332         Operations  ...                 57           0\n",
              "23          71177        Procurement  ...                 70           0\n",
              "29          74759  Sales & Marketing  ...                 44           0\n",
              "32          35465  Sales & Marketing  ...                 48           0\n",
              "...           ...                ...  ...                ...         ...\n",
              "4955        32626         Technology  ...                 80           1\n",
              "4963        54606  Sales & Marketing  ...                 94           1\n",
              "4969        18185         Technology  ...                 83           1\n",
              "4995        61657         Technology  ...                 77           1\n",
              "4997        25529          Analytics  ...                 84           1\n",
              "\n",
              "[541 rows x 14 columns]"
            ]
          },
          "metadata": {},
          "execution_count": 15
        }
      ]
    },
    {
      "cell_type": "markdown",
      "metadata": {
        "id": "tVG0vUnZXD0H"
      },
      "source": [
        "**c) Observations, Decisions and Actions**"
      ]
    },
    {
      "cell_type": "markdown",
      "metadata": {
        "id": "6FzLM1URSI5F"
      },
      "source": [
        "**Observations:**\n",
        "* a) Here, the data values of 7 columns are missing\n",
        "* b) The total number rows having missing values is 134 against the total number of rows (614) in the dataset. \n",
        "###**So, we cannot use the option of dropping the rows having missing values.**"
      ]
    },
    {
      "cell_type": "markdown",
      "metadata": {
        "id": "0dIjNc5VTZDG"
      },
      "source": [
        "**Decision and Actions:**\n",
        "\n",
        "###**Fill the missing values of the columns with that of the most_frequent values of the respective columns.**"
      ]
    },
    {
      "cell_type": "markdown",
      "metadata": {
        "id": "Df8TVX4fWtI8"
      },
      "source": [
        "**d) Imputation of Missing Values using the \"fillna\" command and checking**"
      ]
    },
    {
      "cell_type": "code",
      "metadata": {
        "id": "uYHxlqU_WZ9z"
      },
      "source": [
        "df.fillna(df.mode().iloc[0], inplace=True)"
      ],
      "execution_count": 16,
      "outputs": []
    },
    {
      "cell_type": "code",
      "metadata": {
        "colab": {
          "base_uri": "https://localhost:8080/"
        },
        "id": "7dTzD-ywWnsA",
        "outputId": "9a0ad0b6-bf57-4187-d717-b5964773b293"
      },
      "source": [
        "df.isnull().sum()"
      ],
      "execution_count": 17,
      "outputs": [
        {
          "output_type": "execute_result",
          "data": {
            "text/plain": [
              "employee_id             0\n",
              "department              0\n",
              "region                  0\n",
              "education               0\n",
              "gender                  0\n",
              "recruitment_channel     0\n",
              "no_of_trainings         0\n",
              "age                     0\n",
              "previous_year_rating    0\n",
              "length_of_service       0\n",
              "KPIs_met >80%           0\n",
              "awards_won?             0\n",
              "avg_training_score      0\n",
              "is_promoted             0\n",
              "dtype: int64"
            ]
          },
          "metadata": {},
          "execution_count": 17
        }
      ]
    },
    {
      "cell_type": "markdown",
      "metadata": {
        "id": "sUZeW1TFALBH"
      },
      "source": [
        "##**V) Check for necessity of creating new column(s) and create the columns as required**"
      ]
    },
    {
      "cell_type": "markdown",
      "metadata": {
        "id": "dgnaS9mIARt0"
      },
      "source": [
        "###**Decision: As of now, there is no necessity to create new column(s).**"
      ]
    },
    {
      "cell_type": "markdown",
      "metadata": {
        "id": "H_OB1b4x-rJD"
      },
      "source": [
        "##**VI) Check the unique Values of each column and observe the following and take actions as required:**\n",
        "* **a) Wrong Data in the columns, if any** \n",
        "* **b) Wrong format of the data in the columns, if any**\n",
        "* **c) Identify the columns which need to be categorically converted to numeric values by using Nominal method/ Ordinal Method**\n"
      ]
    },
    {
      "cell_type": "markdown",
      "metadata": {
        "id": "kWQ7O73EBPm2"
      },
      "source": [
        "###**Column-1: employee_id**"
      ]
    },
    {
      "cell_type": "code",
      "metadata": {
        "colab": {
          "base_uri": "https://localhost:8080/"
        },
        "id": "lDZ30PWa_OiD",
        "outputId": "d915023f-b7e0-415f-e0d7-92e5b7ea44c1"
      },
      "source": [
        "df['employee_id'].value_counts()"
      ],
      "execution_count": 18,
      "outputs": [
        {
          "output_type": "execute_result",
          "data": {
            "text/plain": [
              "26623    1\n",
              "4747     1\n",
              "47800    1\n",
              "72318    1\n",
              "60032    1\n",
              "        ..\n",
              "35501    1\n",
              "44331    1\n",
              "61449    1\n",
              "11567    1\n",
              "14764    1\n",
              "Name: employee_id, Length: 5000, dtype: int64"
            ]
          },
          "metadata": {},
          "execution_count": 18
        }
      ]
    },
    {
      "cell_type": "markdown",
      "metadata": {
        "id": "rhxhhqic_Vy1"
      },
      "source": [
        "**Observations:**\n",
        "* a) Data in this column will not be contributing to the prediction of the Depenedent variable\n",
        "\n",
        "**Decsion:**\n",
        "\n",
        "**We will be dropping this column**"
      ]
    },
    {
      "cell_type": "markdown",
      "metadata": {
        "id": "h0rXk5Egajld"
      },
      "source": [
        "**Action:**"
      ]
    },
    {
      "cell_type": "code",
      "metadata": {
        "colab": {
          "base_uri": "https://localhost:8080/"
        },
        "id": "BaZdUR-4aoZw",
        "outputId": "57ba7f67-f8e0-48be-bd50-4d21b2ad9d2c"
      },
      "source": [
        "df.drop(['employee_id'], axis = 1, inplace = True)\n",
        "df.info()"
      ],
      "execution_count": 19,
      "outputs": [
        {
          "output_type": "stream",
          "name": "stdout",
          "text": [
            "<class 'pandas.core.frame.DataFrame'>\n",
            "Int64Index: 5000 entries, 0 to 4999\n",
            "Data columns (total 13 columns):\n",
            " #   Column                Non-Null Count  Dtype  \n",
            "---  ------                --------------  -----  \n",
            " 0   department            5000 non-null   object \n",
            " 1   region                5000 non-null   object \n",
            " 2   education             5000 non-null   object \n",
            " 3   gender                5000 non-null   object \n",
            " 4   recruitment_channel   5000 non-null   object \n",
            " 5   no_of_trainings       5000 non-null   int64  \n",
            " 6   age                   5000 non-null   int64  \n",
            " 7   previous_year_rating  5000 non-null   float64\n",
            " 8   length_of_service     5000 non-null   int64  \n",
            " 9   KPIs_met >80%         5000 non-null   int64  \n",
            " 10  awards_won?           5000 non-null   int64  \n",
            " 11  avg_training_score    5000 non-null   int64  \n",
            " 12  is_promoted           5000 non-null   int64  \n",
            "dtypes: float64(1), int64(7), object(5)\n",
            "memory usage: 546.9+ KB\n"
          ]
        }
      ]
    },
    {
      "cell_type": "markdown",
      "metadata": {
        "id": "9eYY-SVDBaFp"
      },
      "source": [
        "###**Column-2: department**"
      ]
    },
    {
      "cell_type": "code",
      "metadata": {
        "colab": {
          "base_uri": "https://localhost:8080/"
        },
        "id": "v5DcYaUE924x",
        "outputId": "48ef1543-23c5-4101-81d0-c06b27d78830"
      },
      "source": [
        "df['department'].value_counts()"
      ],
      "execution_count": 20,
      "outputs": [
        {
          "output_type": "execute_result",
          "data": {
            "text/plain": [
              "Sales & Marketing    1409\n",
              "Operations           1043\n",
              "Technology            747\n",
              "Procurement           729\n",
              "Analytics             513\n",
              "Finance               202\n",
              "HR                    197\n",
              "R&D                    85\n",
              "Legal                  75\n",
              "Name: department, dtype: int64"
            ]
          },
          "metadata": {},
          "execution_count": 20
        }
      ]
    },
    {
      "cell_type": "markdown",
      "metadata": {
        "id": "wyLooRYq_7Mf"
      },
      "source": [
        "**Observations:**\n",
        "* a) Data in this column is of \"Object\" or \"String\" datatype. Also, the data levels are \"Nominal\" Type.\n",
        "\n",
        "**Decsion:**\n",
        "\n",
        "**We will be converting the data in this column into Numerical values using Nominal Type method \"pd.get_dummies\".**"
      ]
    },
    {
      "cell_type": "markdown",
      "metadata": {
        "id": "oy9fKzVra5U-"
      },
      "source": [
        "**Action:**"
      ]
    },
    {
      "cell_type": "code",
      "metadata": {
        "colab": {
          "base_uri": "https://localhost:8080/",
          "height": 423
        },
        "id": "P4A8MQzDbAm1",
        "outputId": "713358b1-dd73-4078-f2d5-a81356461a43"
      },
      "source": [
        "#encode the data\n",
        "dept = pd.DataFrame(df['department'])\n",
        "dept_encoded=pd.get_dummies(data= dept, drop_first=True)\n",
        "dept_encoded"
      ],
      "execution_count": 21,
      "outputs": [
        {
          "output_type": "execute_result",
          "data": {
            "text/html": [
              "<div>\n",
              "<style scoped>\n",
              "    .dataframe tbody tr th:only-of-type {\n",
              "        vertical-align: middle;\n",
              "    }\n",
              "\n",
              "    .dataframe tbody tr th {\n",
              "        vertical-align: top;\n",
              "    }\n",
              "\n",
              "    .dataframe thead th {\n",
              "        text-align: right;\n",
              "    }\n",
              "</style>\n",
              "<table border=\"1\" class=\"dataframe\">\n",
              "  <thead>\n",
              "    <tr style=\"text-align: right;\">\n",
              "      <th></th>\n",
              "      <th>department_Finance</th>\n",
              "      <th>department_HR</th>\n",
              "      <th>department_Legal</th>\n",
              "      <th>department_Operations</th>\n",
              "      <th>department_Procurement</th>\n",
              "      <th>department_R&amp;D</th>\n",
              "      <th>department_Sales &amp; Marketing</th>\n",
              "      <th>department_Technology</th>\n",
              "    </tr>\n",
              "  </thead>\n",
              "  <tbody>\n",
              "    <tr>\n",
              "      <th>0</th>\n",
              "      <td>0</td>\n",
              "      <td>0</td>\n",
              "      <td>0</td>\n",
              "      <td>0</td>\n",
              "      <td>0</td>\n",
              "      <td>0</td>\n",
              "      <td>1</td>\n",
              "      <td>0</td>\n",
              "    </tr>\n",
              "    <tr>\n",
              "      <th>1</th>\n",
              "      <td>0</td>\n",
              "      <td>0</td>\n",
              "      <td>0</td>\n",
              "      <td>1</td>\n",
              "      <td>0</td>\n",
              "      <td>0</td>\n",
              "      <td>0</td>\n",
              "      <td>0</td>\n",
              "    </tr>\n",
              "    <tr>\n",
              "      <th>2</th>\n",
              "      <td>0</td>\n",
              "      <td>0</td>\n",
              "      <td>0</td>\n",
              "      <td>0</td>\n",
              "      <td>0</td>\n",
              "      <td>0</td>\n",
              "      <td>1</td>\n",
              "      <td>0</td>\n",
              "    </tr>\n",
              "    <tr>\n",
              "      <th>3</th>\n",
              "      <td>0</td>\n",
              "      <td>0</td>\n",
              "      <td>0</td>\n",
              "      <td>0</td>\n",
              "      <td>0</td>\n",
              "      <td>0</td>\n",
              "      <td>1</td>\n",
              "      <td>0</td>\n",
              "    </tr>\n",
              "    <tr>\n",
              "      <th>4</th>\n",
              "      <td>0</td>\n",
              "      <td>0</td>\n",
              "      <td>0</td>\n",
              "      <td>0</td>\n",
              "      <td>0</td>\n",
              "      <td>0</td>\n",
              "      <td>0</td>\n",
              "      <td>1</td>\n",
              "    </tr>\n",
              "    <tr>\n",
              "      <th>...</th>\n",
              "      <td>...</td>\n",
              "      <td>...</td>\n",
              "      <td>...</td>\n",
              "      <td>...</td>\n",
              "      <td>...</td>\n",
              "      <td>...</td>\n",
              "      <td>...</td>\n",
              "      <td>...</td>\n",
              "    </tr>\n",
              "    <tr>\n",
              "      <th>4995</th>\n",
              "      <td>0</td>\n",
              "      <td>0</td>\n",
              "      <td>0</td>\n",
              "      <td>0</td>\n",
              "      <td>0</td>\n",
              "      <td>0</td>\n",
              "      <td>0</td>\n",
              "      <td>1</td>\n",
              "    </tr>\n",
              "    <tr>\n",
              "      <th>4996</th>\n",
              "      <td>0</td>\n",
              "      <td>0</td>\n",
              "      <td>0</td>\n",
              "      <td>0</td>\n",
              "      <td>0</td>\n",
              "      <td>0</td>\n",
              "      <td>0</td>\n",
              "      <td>0</td>\n",
              "    </tr>\n",
              "    <tr>\n",
              "      <th>4997</th>\n",
              "      <td>0</td>\n",
              "      <td>0</td>\n",
              "      <td>0</td>\n",
              "      <td>0</td>\n",
              "      <td>0</td>\n",
              "      <td>0</td>\n",
              "      <td>0</td>\n",
              "      <td>0</td>\n",
              "    </tr>\n",
              "    <tr>\n",
              "      <th>4998</th>\n",
              "      <td>0</td>\n",
              "      <td>0</td>\n",
              "      <td>0</td>\n",
              "      <td>0</td>\n",
              "      <td>0</td>\n",
              "      <td>0</td>\n",
              "      <td>0</td>\n",
              "      <td>0</td>\n",
              "    </tr>\n",
              "    <tr>\n",
              "      <th>4999</th>\n",
              "      <td>0</td>\n",
              "      <td>0</td>\n",
              "      <td>0</td>\n",
              "      <td>0</td>\n",
              "      <td>0</td>\n",
              "      <td>0</td>\n",
              "      <td>0</td>\n",
              "      <td>1</td>\n",
              "    </tr>\n",
              "  </tbody>\n",
              "</table>\n",
              "<p>5000 rows × 8 columns</p>\n",
              "</div>"
            ],
            "text/plain": [
              "      department_Finance  ...  department_Technology\n",
              "0                      0  ...                      0\n",
              "1                      0  ...                      0\n",
              "2                      0  ...                      0\n",
              "3                      0  ...                      0\n",
              "4                      0  ...                      1\n",
              "...                  ...  ...                    ...\n",
              "4995                   0  ...                      1\n",
              "4996                   0  ...                      0\n",
              "4997                   0  ...                      0\n",
              "4998                   0  ...                      0\n",
              "4999                   0  ...                      1\n",
              "\n",
              "[5000 rows x 8 columns]"
            ]
          },
          "metadata": {},
          "execution_count": 21
        }
      ]
    },
    {
      "cell_type": "markdown",
      "metadata": {
        "id": "jYoEuHC5BsP0"
      },
      "source": [
        "###**Column-3: Region**"
      ]
    },
    {
      "cell_type": "code",
      "metadata": {
        "colab": {
          "base_uri": "https://localhost:8080/"
        },
        "id": "msTlf88rB8tf",
        "outputId": "13e6248f-f172-4ebc-d29f-9c084f54fffe"
      },
      "source": [
        "df['region'].value_counts()"
      ],
      "execution_count": 22,
      "outputs": [
        {
          "output_type": "execute_result",
          "data": {
            "text/plain": [
              "region_2     1095\n",
              "region_22     660\n",
              "region_7      507\n",
              "region_13     263\n",
              "region_15     243\n",
              "region_4      209\n",
              "region_26     183\n",
              "region_31     147\n",
              "region_27     147\n",
              "region_28     130\n",
              "region_23     116\n",
              "region_16     115\n",
              "region_11     103\n",
              "region_17      95\n",
              "region_25      90\n",
              "region_29      86\n",
              "region_19      75\n",
              "region_14      69\n",
              "region_30      69\n",
              "region_32      63\n",
              "region_20      62\n",
              "region_1       61\n",
              "region_5       56\n",
              "region_8       55\n",
              "region_6       49\n",
              "region_12      45\n",
              "region_10      44\n",
              "region_24      37\n",
              "region_21      28\n",
              "region_3       28\n",
              "region_9       25\n",
              "region_34      24\n",
              "region_33      19\n",
              "region_18       2\n",
              "Name: region, dtype: int64"
            ]
          },
          "metadata": {},
          "execution_count": 22
        }
      ]
    },
    {
      "cell_type": "code",
      "metadata": {
        "colab": {
          "base_uri": "https://localhost:8080/"
        },
        "id": "QU7s-4yQCURP",
        "outputId": "d2344750-6d2f-4b9e-d4fe-52fa7f567614"
      },
      "source": [
        "df.info()"
      ],
      "execution_count": 23,
      "outputs": [
        {
          "output_type": "stream",
          "name": "stdout",
          "text": [
            "<class 'pandas.core.frame.DataFrame'>\n",
            "Int64Index: 5000 entries, 0 to 4999\n",
            "Data columns (total 13 columns):\n",
            " #   Column                Non-Null Count  Dtype  \n",
            "---  ------                --------------  -----  \n",
            " 0   department            5000 non-null   object \n",
            " 1   region                5000 non-null   object \n",
            " 2   education             5000 non-null   object \n",
            " 3   gender                5000 non-null   object \n",
            " 4   recruitment_channel   5000 non-null   object \n",
            " 5   no_of_trainings       5000 non-null   int64  \n",
            " 6   age                   5000 non-null   int64  \n",
            " 7   previous_year_rating  5000 non-null   float64\n",
            " 8   length_of_service     5000 non-null   int64  \n",
            " 9   KPIs_met >80%         5000 non-null   int64  \n",
            " 10  awards_won?           5000 non-null   int64  \n",
            " 11  avg_training_score    5000 non-null   int64  \n",
            " 12  is_promoted           5000 non-null   int64  \n",
            "dtypes: float64(1), int64(7), object(5)\n",
            "memory usage: 546.9+ KB\n"
          ]
        }
      ]
    },
    {
      "cell_type": "markdown",
      "metadata": {
        "id": "v0xuVQpUCB80"
      },
      "source": [
        "**Observations:**\n",
        "* a) Data in this column will not be contributing to the prediction of the Depenedent variable\n",
        "\n",
        "**Decision and Actions to be taken:**\n",
        "\n",
        "* We will be dropping this column\n"
      ]
    },
    {
      "cell_type": "markdown",
      "metadata": {
        "id": "hNdsUx04btAc"
      },
      "source": [
        "**Action:**"
      ]
    },
    {
      "cell_type": "code",
      "metadata": {
        "id": "549faJXNbvcG"
      },
      "source": [
        "df.drop(['region'], axis = 1, inplace = True)"
      ],
      "execution_count": 24,
      "outputs": []
    },
    {
      "cell_type": "code",
      "metadata": {
        "colab": {
          "base_uri": "https://localhost:8080/"
        },
        "id": "Wpra2Kb0daM7",
        "outputId": "11b5072c-6a21-44d8-ad42-a12358359ecc"
      },
      "source": [
        "df.info()"
      ],
      "execution_count": 25,
      "outputs": [
        {
          "output_type": "stream",
          "name": "stdout",
          "text": [
            "<class 'pandas.core.frame.DataFrame'>\n",
            "Int64Index: 5000 entries, 0 to 4999\n",
            "Data columns (total 12 columns):\n",
            " #   Column                Non-Null Count  Dtype  \n",
            "---  ------                --------------  -----  \n",
            " 0   department            5000 non-null   object \n",
            " 1   education             5000 non-null   object \n",
            " 2   gender                5000 non-null   object \n",
            " 3   recruitment_channel   5000 non-null   object \n",
            " 4   no_of_trainings       5000 non-null   int64  \n",
            " 5   age                   5000 non-null   int64  \n",
            " 6   previous_year_rating  5000 non-null   float64\n",
            " 7   length_of_service     5000 non-null   int64  \n",
            " 8   KPIs_met >80%         5000 non-null   int64  \n",
            " 9   awards_won?           5000 non-null   int64  \n",
            " 10  avg_training_score    5000 non-null   int64  \n",
            " 11  is_promoted           5000 non-null   int64  \n",
            "dtypes: float64(1), int64(7), object(4)\n",
            "memory usage: 507.8+ KB\n"
          ]
        }
      ]
    },
    {
      "cell_type": "markdown",
      "metadata": {
        "id": "RojkyIqmDgmq"
      },
      "source": [
        "###**Column-4: Education**"
      ]
    },
    {
      "cell_type": "code",
      "metadata": {
        "colab": {
          "base_uri": "https://localhost:8080/"
        },
        "id": "hHeCoASREZmu",
        "outputId": "583d9867-cbdd-4ea1-fa96-69da0288527b"
      },
      "source": [
        "df['education'].value_counts()"
      ],
      "execution_count": 26,
      "outputs": [
        {
          "output_type": "execute_result",
          "data": {
            "text/plain": [
              "Bachelor's          3452\n",
              "Master's & above    1477\n",
              "Below Secondary       71\n",
              "Name: education, dtype: int64"
            ]
          },
          "metadata": {},
          "execution_count": 26
        }
      ]
    },
    {
      "cell_type": "markdown",
      "metadata": {
        "id": "_2anV03LEYtq"
      },
      "source": [
        "**Observations:**\n",
        "* a) Data in this column is of \"Object\" or \"String\" datatype. Also, the data levels are \"Ordinal\" Type.\n",
        "\n",
        "**Decsion:**\n",
        "\n",
        "**We will be converting the data in this column into Numerical values using Ordnial Type method \"preprocessing.LabelEncoder()**"
      ]
    },
    {
      "cell_type": "markdown",
      "metadata": {
        "id": "lO_wFnf0bxaI"
      },
      "source": [
        "**Action:**"
      ]
    },
    {
      "cell_type": "code",
      "metadata": {
        "colab": {
          "base_uri": "https://localhost:8080/"
        },
        "id": "f6LFlTlJbwoF",
        "outputId": "a7d77ef0-d74c-4528-bc69-46fcfe68a1a2"
      },
      "source": [
        "le = preprocessing.LabelEncoder()\n",
        "df['education'] = le.fit_transform(df.education.values)\n",
        "df['education'].value_counts()"
      ],
      "execution_count": 27,
      "outputs": [
        {
          "output_type": "execute_result",
          "data": {
            "text/plain": [
              "0    3452\n",
              "2    1477\n",
              "1      71\n",
              "Name: education, dtype: int64"
            ]
          },
          "metadata": {},
          "execution_count": 27
        }
      ]
    },
    {
      "cell_type": "markdown",
      "metadata": {
        "id": "D8uO5iE6Be0e"
      },
      "source": [
        "###**Column-5: Gender**"
      ]
    },
    {
      "cell_type": "code",
      "metadata": {
        "colab": {
          "base_uri": "https://localhost:8080/"
        },
        "id": "6nu0eaAWA5Uq",
        "outputId": "7087f190-90e4-408e-f1cc-2def2a836049"
      },
      "source": [
        "df['gender'].value_counts()"
      ],
      "execution_count": 28,
      "outputs": [
        {
          "output_type": "execute_result",
          "data": {
            "text/plain": [
              "m    3477\n",
              "f    1523\n",
              "Name: gender, dtype: int64"
            ]
          },
          "metadata": {},
          "execution_count": 28
        }
      ]
    },
    {
      "cell_type": "markdown",
      "metadata": {
        "id": "s4JRIAMjBlWs"
      },
      "source": [
        "**Observations:**\n",
        "* a) Data in this column is of \"Object\" or \"String\" datatype. Also, the data levels are \"Nominal\" Type.\n",
        "\n",
        "**Decsion:**\n",
        "\n",
        "**We will be converting the data in this column into Numerical values using Nominal Type method \"pd.get_dummies\".**"
      ]
    },
    {
      "cell_type": "markdown",
      "metadata": {
        "id": "FnT5fObtbCU4"
      },
      "source": [
        "**Action:**"
      ]
    },
    {
      "cell_type": "code",
      "metadata": {
        "colab": {
          "base_uri": "https://localhost:8080/",
          "height": 423
        },
        "id": "2a3At12dbGnL",
        "outputId": "202bce4d-140f-45f3-a293-4203223b2047"
      },
      "source": [
        "#encode the data\n",
        "gender = pd.DataFrame(df['gender'])\n",
        "gender_encoded=pd.get_dummies(data= gender, drop_first=True)\n",
        "gender_encoded"
      ],
      "execution_count": 29,
      "outputs": [
        {
          "output_type": "execute_result",
          "data": {
            "text/html": [
              "<div>\n",
              "<style scoped>\n",
              "    .dataframe tbody tr th:only-of-type {\n",
              "        vertical-align: middle;\n",
              "    }\n",
              "\n",
              "    .dataframe tbody tr th {\n",
              "        vertical-align: top;\n",
              "    }\n",
              "\n",
              "    .dataframe thead th {\n",
              "        text-align: right;\n",
              "    }\n",
              "</style>\n",
              "<table border=\"1\" class=\"dataframe\">\n",
              "  <thead>\n",
              "    <tr style=\"text-align: right;\">\n",
              "      <th></th>\n",
              "      <th>gender_m</th>\n",
              "    </tr>\n",
              "  </thead>\n",
              "  <tbody>\n",
              "    <tr>\n",
              "      <th>0</th>\n",
              "      <td>0</td>\n",
              "    </tr>\n",
              "    <tr>\n",
              "      <th>1</th>\n",
              "      <td>1</td>\n",
              "    </tr>\n",
              "    <tr>\n",
              "      <th>2</th>\n",
              "      <td>1</td>\n",
              "    </tr>\n",
              "    <tr>\n",
              "      <th>3</th>\n",
              "      <td>1</td>\n",
              "    </tr>\n",
              "    <tr>\n",
              "      <th>4</th>\n",
              "      <td>1</td>\n",
              "    </tr>\n",
              "    <tr>\n",
              "      <th>...</th>\n",
              "      <td>...</td>\n",
              "    </tr>\n",
              "    <tr>\n",
              "      <th>4995</th>\n",
              "      <td>0</td>\n",
              "    </tr>\n",
              "    <tr>\n",
              "      <th>4996</th>\n",
              "      <td>1</td>\n",
              "    </tr>\n",
              "    <tr>\n",
              "      <th>4997</th>\n",
              "      <td>1</td>\n",
              "    </tr>\n",
              "    <tr>\n",
              "      <th>4998</th>\n",
              "      <td>1</td>\n",
              "    </tr>\n",
              "    <tr>\n",
              "      <th>4999</th>\n",
              "      <td>1</td>\n",
              "    </tr>\n",
              "  </tbody>\n",
              "</table>\n",
              "<p>5000 rows × 1 columns</p>\n",
              "</div>"
            ],
            "text/plain": [
              "      gender_m\n",
              "0            0\n",
              "1            1\n",
              "2            1\n",
              "3            1\n",
              "4            1\n",
              "...        ...\n",
              "4995         0\n",
              "4996         1\n",
              "4997         1\n",
              "4998         1\n",
              "4999         1\n",
              "\n",
              "[5000 rows x 1 columns]"
            ]
          },
          "metadata": {},
          "execution_count": 29
        }
      ]
    },
    {
      "cell_type": "markdown",
      "metadata": {
        "id": "N_e8BtkEE7UX"
      },
      "source": [
        "###**Column-6: recruitment channel**"
      ]
    },
    {
      "cell_type": "code",
      "metadata": {
        "colab": {
          "base_uri": "https://localhost:8080/"
        },
        "id": "6HXbGn2CFKN6",
        "outputId": "323b89a5-ac12-4395-edc8-f00376743cca"
      },
      "source": [
        "df['recruitment_channel'].value_counts()"
      ],
      "execution_count": 30,
      "outputs": [
        {
          "output_type": "execute_result",
          "data": {
            "text/plain": [
              "other       2786\n",
              "sourcing    2084\n",
              "referred     130\n",
              "Name: recruitment_channel, dtype: int64"
            ]
          },
          "metadata": {},
          "execution_count": 30
        }
      ]
    },
    {
      "cell_type": "markdown",
      "metadata": {
        "id": "WJ6X1QLFFJbc"
      },
      "source": [
        "**Observations:**\n",
        "* a) Data in this column is of \"Object\" or \"String\" datatype. Also, the data levels are \"Nominal\" Type.\n",
        "\n",
        "**Decsion:**\n",
        "\n",
        "**We will be converting the data in this column into Numerical values using Nominal Type method \"pd.get_dummies\".**"
      ]
    },
    {
      "cell_type": "markdown",
      "metadata": {
        "id": "CbGzJMHYbzrB"
      },
      "source": [
        "**Action:**"
      ]
    },
    {
      "cell_type": "code",
      "metadata": {
        "colab": {
          "base_uri": "https://localhost:8080/",
          "height": 423
        },
        "id": "XfVdSCRCb1Dv",
        "outputId": "ef243e3b-0d46-483a-f0a0-7c022ee16ac9"
      },
      "source": [
        "#encode the data\n",
        "recruitment_channel = pd.DataFrame(df['recruitment_channel'])\n",
        "recruitment_channel_encoded=pd.get_dummies(data= recruitment_channel, drop_first=True)\n",
        "recruitment_channel_encoded"
      ],
      "execution_count": 31,
      "outputs": [
        {
          "output_type": "execute_result",
          "data": {
            "text/html": [
              "<div>\n",
              "<style scoped>\n",
              "    .dataframe tbody tr th:only-of-type {\n",
              "        vertical-align: middle;\n",
              "    }\n",
              "\n",
              "    .dataframe tbody tr th {\n",
              "        vertical-align: top;\n",
              "    }\n",
              "\n",
              "    .dataframe thead th {\n",
              "        text-align: right;\n",
              "    }\n",
              "</style>\n",
              "<table border=\"1\" class=\"dataframe\">\n",
              "  <thead>\n",
              "    <tr style=\"text-align: right;\">\n",
              "      <th></th>\n",
              "      <th>recruitment_channel_referred</th>\n",
              "      <th>recruitment_channel_sourcing</th>\n",
              "    </tr>\n",
              "  </thead>\n",
              "  <tbody>\n",
              "    <tr>\n",
              "      <th>0</th>\n",
              "      <td>0</td>\n",
              "      <td>1</td>\n",
              "    </tr>\n",
              "    <tr>\n",
              "      <th>1</th>\n",
              "      <td>0</td>\n",
              "      <td>0</td>\n",
              "    </tr>\n",
              "    <tr>\n",
              "      <th>2</th>\n",
              "      <td>0</td>\n",
              "      <td>1</td>\n",
              "    </tr>\n",
              "    <tr>\n",
              "      <th>3</th>\n",
              "      <td>0</td>\n",
              "      <td>0</td>\n",
              "    </tr>\n",
              "    <tr>\n",
              "      <th>4</th>\n",
              "      <td>0</td>\n",
              "      <td>0</td>\n",
              "    </tr>\n",
              "    <tr>\n",
              "      <th>...</th>\n",
              "      <td>...</td>\n",
              "      <td>...</td>\n",
              "    </tr>\n",
              "    <tr>\n",
              "      <th>4995</th>\n",
              "      <td>0</td>\n",
              "      <td>0</td>\n",
              "    </tr>\n",
              "    <tr>\n",
              "      <th>4996</th>\n",
              "      <td>0</td>\n",
              "      <td>1</td>\n",
              "    </tr>\n",
              "    <tr>\n",
              "      <th>4997</th>\n",
              "      <td>0</td>\n",
              "      <td>0</td>\n",
              "    </tr>\n",
              "    <tr>\n",
              "      <th>4998</th>\n",
              "      <td>0</td>\n",
              "      <td>1</td>\n",
              "    </tr>\n",
              "    <tr>\n",
              "      <th>4999</th>\n",
              "      <td>0</td>\n",
              "      <td>0</td>\n",
              "    </tr>\n",
              "  </tbody>\n",
              "</table>\n",
              "<p>5000 rows × 2 columns</p>\n",
              "</div>"
            ],
            "text/plain": [
              "      recruitment_channel_referred  recruitment_channel_sourcing\n",
              "0                                0                             1\n",
              "1                                0                             0\n",
              "2                                0                             1\n",
              "3                                0                             0\n",
              "4                                0                             0\n",
              "...                            ...                           ...\n",
              "4995                             0                             0\n",
              "4996                             0                             1\n",
              "4997                             0                             0\n",
              "4998                             0                             1\n",
              "4999                             0                             0\n",
              "\n",
              "[5000 rows x 2 columns]"
            ]
          },
          "metadata": {},
          "execution_count": 31
        }
      ]
    },
    {
      "cell_type": "markdown",
      "metadata": {
        "id": "9So7WcHPGYtc"
      },
      "source": [
        "###**Column-7 to 14 : no_of_trainings, age, previous_year_rating, length_of_service, KPIs_met, awards_won, avg_trainging_score, is_promoted**"
      ]
    },
    {
      "cell_type": "code",
      "metadata": {
        "colab": {
          "base_uri": "https://localhost:8080/",
          "height": 300
        },
        "id": "Lt7jl0HWGZaf",
        "outputId": "d311b7e1-b6ed-4ab7-d046-905405d86cc4"
      },
      "source": [
        "df.describe()"
      ],
      "execution_count": 32,
      "outputs": [
        {
          "output_type": "execute_result",
          "data": {
            "text/html": [
              "<div>\n",
              "<style scoped>\n",
              "    .dataframe tbody tr th:only-of-type {\n",
              "        vertical-align: middle;\n",
              "    }\n",
              "\n",
              "    .dataframe tbody tr th {\n",
              "        vertical-align: top;\n",
              "    }\n",
              "\n",
              "    .dataframe thead th {\n",
              "        text-align: right;\n",
              "    }\n",
              "</style>\n",
              "<table border=\"1\" class=\"dataframe\">\n",
              "  <thead>\n",
              "    <tr style=\"text-align: right;\">\n",
              "      <th></th>\n",
              "      <th>education</th>\n",
              "      <th>no_of_trainings</th>\n",
              "      <th>age</th>\n",
              "      <th>previous_year_rating</th>\n",
              "      <th>length_of_service</th>\n",
              "      <th>KPIs_met &gt;80%</th>\n",
              "      <th>awards_won?</th>\n",
              "      <th>avg_training_score</th>\n",
              "      <th>is_promoted</th>\n",
              "    </tr>\n",
              "  </thead>\n",
              "  <tbody>\n",
              "    <tr>\n",
              "      <th>count</th>\n",
              "      <td>5000.000000</td>\n",
              "      <td>5000.000000</td>\n",
              "      <td>5000.00000</td>\n",
              "      <td>5000.000000</td>\n",
              "      <td>5000.000000</td>\n",
              "      <td>5000.000000</td>\n",
              "      <td>5000.000000</td>\n",
              "      <td>5000.00000</td>\n",
              "      <td>5000.000000</td>\n",
              "    </tr>\n",
              "    <tr>\n",
              "      <th>mean</th>\n",
              "      <td>0.605000</td>\n",
              "      <td>1.222400</td>\n",
              "      <td>34.67060</td>\n",
              "      <td>3.574200</td>\n",
              "      <td>5.867400</td>\n",
              "      <td>0.493200</td>\n",
              "      <td>0.057800</td>\n",
              "      <td>66.75500</td>\n",
              "      <td>0.453400</td>\n",
              "    </tr>\n",
              "    <tr>\n",
              "      <th>std</th>\n",
              "      <td>0.911011</td>\n",
              "      <td>0.547538</td>\n",
              "      <td>7.49921</td>\n",
              "      <td>1.177613</td>\n",
              "      <td>4.282883</td>\n",
              "      <td>0.500004</td>\n",
              "      <td>0.233388</td>\n",
              "      <td>14.48307</td>\n",
              "      <td>0.497873</td>\n",
              "    </tr>\n",
              "    <tr>\n",
              "      <th>min</th>\n",
              "      <td>0.000000</td>\n",
              "      <td>1.000000</td>\n",
              "      <td>20.00000</td>\n",
              "      <td>1.000000</td>\n",
              "      <td>1.000000</td>\n",
              "      <td>0.000000</td>\n",
              "      <td>0.000000</td>\n",
              "      <td>39.00000</td>\n",
              "      <td>0.000000</td>\n",
              "    </tr>\n",
              "    <tr>\n",
              "      <th>25%</th>\n",
              "      <td>0.000000</td>\n",
              "      <td>1.000000</td>\n",
              "      <td>29.00000</td>\n",
              "      <td>3.000000</td>\n",
              "      <td>3.000000</td>\n",
              "      <td>0.000000</td>\n",
              "      <td>0.000000</td>\n",
              "      <td>54.00000</td>\n",
              "      <td>0.000000</td>\n",
              "    </tr>\n",
              "    <tr>\n",
              "      <th>50%</th>\n",
              "      <td>0.000000</td>\n",
              "      <td>1.000000</td>\n",
              "      <td>33.00000</td>\n",
              "      <td>3.000000</td>\n",
              "      <td>5.000000</td>\n",
              "      <td>0.000000</td>\n",
              "      <td>0.000000</td>\n",
              "      <td>64.00000</td>\n",
              "      <td>0.000000</td>\n",
              "    </tr>\n",
              "    <tr>\n",
              "      <th>75%</th>\n",
              "      <td>2.000000</td>\n",
              "      <td>1.000000</td>\n",
              "      <td>38.00000</td>\n",
              "      <td>5.000000</td>\n",
              "      <td>8.000000</td>\n",
              "      <td>1.000000</td>\n",
              "      <td>0.000000</td>\n",
              "      <td>80.00000</td>\n",
              "      <td>1.000000</td>\n",
              "    </tr>\n",
              "    <tr>\n",
              "      <th>max</th>\n",
              "      <td>2.000000</td>\n",
              "      <td>7.000000</td>\n",
              "      <td>60.00000</td>\n",
              "      <td>5.000000</td>\n",
              "      <td>34.000000</td>\n",
              "      <td>1.000000</td>\n",
              "      <td>1.000000</td>\n",
              "      <td>99.00000</td>\n",
              "      <td>1.000000</td>\n",
              "    </tr>\n",
              "  </tbody>\n",
              "</table>\n",
              "</div>"
            ],
            "text/plain": [
              "         education  no_of_trainings  ...  avg_training_score  is_promoted\n",
              "count  5000.000000      5000.000000  ...          5000.00000  5000.000000\n",
              "mean      0.605000         1.222400  ...            66.75500     0.453400\n",
              "std       0.911011         0.547538  ...            14.48307     0.497873\n",
              "min       0.000000         1.000000  ...            39.00000     0.000000\n",
              "25%       0.000000         1.000000  ...            54.00000     0.000000\n",
              "50%       0.000000         1.000000  ...            64.00000     0.000000\n",
              "75%       2.000000         1.000000  ...            80.00000     1.000000\n",
              "max       2.000000         7.000000  ...            99.00000     1.000000\n",
              "\n",
              "[8 rows x 9 columns]"
            ]
          },
          "metadata": {},
          "execution_count": 32
        }
      ]
    },
    {
      "cell_type": "markdown",
      "metadata": {
        "id": "y6qDcn2WYR5w"
      },
      "source": [
        "**Observations:**\n",
        "\n",
        "\n",
        "* a) Here, all the Integer and float Column values are described.\n",
        "* b) Each column has got a Standard Deviation, Min and Max Values.\n",
        "* c) We can assume that there is no wrong data and wrong data format.\n",
        "* **d) Scaling is not required since all values are between 0 ans 100**"
      ]
    },
    {
      "cell_type": "markdown",
      "metadata": {
        "id": "QtCMX5nVekDi"
      },
      "source": [
        "###**Drop the columns which are to be categorically converted and include the their respective coverted Numeric Values**"
      ]
    },
    {
      "cell_type": "code",
      "metadata": {
        "colab": {
          "base_uri": "https://localhost:8080/"
        },
        "id": "S2TD4TLKekfK",
        "outputId": "f449f562-0e89-4669-fa4c-5277630f6ef9"
      },
      "source": [
        "df.drop(['department', 'gender', 'recruitment_channel'], axis = 1, inplace = True)\n",
        "df.info()"
      ],
      "execution_count": 33,
      "outputs": [
        {
          "output_type": "stream",
          "name": "stdout",
          "text": [
            "<class 'pandas.core.frame.DataFrame'>\n",
            "Int64Index: 5000 entries, 0 to 4999\n",
            "Data columns (total 9 columns):\n",
            " #   Column                Non-Null Count  Dtype  \n",
            "---  ------                --------------  -----  \n",
            " 0   education             5000 non-null   int64  \n",
            " 1   no_of_trainings       5000 non-null   int64  \n",
            " 2   age                   5000 non-null   int64  \n",
            " 3   previous_year_rating  5000 non-null   float64\n",
            " 4   length_of_service     5000 non-null   int64  \n",
            " 5   KPIs_met >80%         5000 non-null   int64  \n",
            " 6   awards_won?           5000 non-null   int64  \n",
            " 7   avg_training_score    5000 non-null   int64  \n",
            " 8   is_promoted           5000 non-null   int64  \n",
            "dtypes: float64(1), int64(8)\n",
            "memory usage: 390.6 KB\n"
          ]
        }
      ]
    },
    {
      "cell_type": "code",
      "metadata": {
        "colab": {
          "base_uri": "https://localhost:8080/"
        },
        "id": "b_c7rOuTe6GI",
        "outputId": "a295d695-c6df-4ecb-e66b-4e1110f08bfa"
      },
      "source": [
        "df = pd.concat([df,dept_encoded, gender_encoded, recruitment_channel_encoded], axis=1)\n",
        "df.info()"
      ],
      "execution_count": 34,
      "outputs": [
        {
          "output_type": "stream",
          "name": "stdout",
          "text": [
            "<class 'pandas.core.frame.DataFrame'>\n",
            "Int64Index: 5000 entries, 0 to 4999\n",
            "Data columns (total 20 columns):\n",
            " #   Column                        Non-Null Count  Dtype  \n",
            "---  ------                        --------------  -----  \n",
            " 0   education                     5000 non-null   int64  \n",
            " 1   no_of_trainings               5000 non-null   int64  \n",
            " 2   age                           5000 non-null   int64  \n",
            " 3   previous_year_rating          5000 non-null   float64\n",
            " 4   length_of_service             5000 non-null   int64  \n",
            " 5   KPIs_met >80%                 5000 non-null   int64  \n",
            " 6   awards_won?                   5000 non-null   int64  \n",
            " 7   avg_training_score            5000 non-null   int64  \n",
            " 8   is_promoted                   5000 non-null   int64  \n",
            " 9   department_Finance            5000 non-null   uint8  \n",
            " 10  department_HR                 5000 non-null   uint8  \n",
            " 11  department_Legal              5000 non-null   uint8  \n",
            " 12  department_Operations         5000 non-null   uint8  \n",
            " 13  department_Procurement        5000 non-null   uint8  \n",
            " 14  department_R&D                5000 non-null   uint8  \n",
            " 15  department_Sales & Marketing  5000 non-null   uint8  \n",
            " 16  department_Technology         5000 non-null   uint8  \n",
            " 17  gender_m                      5000 non-null   uint8  \n",
            " 18  recruitment_channel_referred  5000 non-null   uint8  \n",
            " 19  recruitment_channel_sourcing  5000 non-null   uint8  \n",
            "dtypes: float64(1), int64(8), uint8(11)\n",
            "memory usage: 444.3 KB\n"
          ]
        }
      ]
    },
    {
      "cell_type": "code",
      "metadata": {
        "colab": {
          "base_uri": "https://localhost:8080/",
          "height": 714
        },
        "id": "ojrJav9CxYO0",
        "outputId": "caebf8c5-f033-4a91-b41d-6008a1e85b8f"
      },
      "source": [
        "df.corr()"
      ],
      "execution_count": 35,
      "outputs": [
        {
          "output_type": "execute_result",
          "data": {
            "text/html": [
              "<div>\n",
              "<style scoped>\n",
              "    .dataframe tbody tr th:only-of-type {\n",
              "        vertical-align: middle;\n",
              "    }\n",
              "\n",
              "    .dataframe tbody tr th {\n",
              "        vertical-align: top;\n",
              "    }\n",
              "\n",
              "    .dataframe thead th {\n",
              "        text-align: right;\n",
              "    }\n",
              "</style>\n",
              "<table border=\"1\" class=\"dataframe\">\n",
              "  <thead>\n",
              "    <tr style=\"text-align: right;\">\n",
              "      <th></th>\n",
              "      <th>education</th>\n",
              "      <th>no_of_trainings</th>\n",
              "      <th>age</th>\n",
              "      <th>previous_year_rating</th>\n",
              "      <th>length_of_service</th>\n",
              "      <th>KPIs_met &gt;80%</th>\n",
              "      <th>awards_won?</th>\n",
              "      <th>avg_training_score</th>\n",
              "      <th>is_promoted</th>\n",
              "      <th>department_Finance</th>\n",
              "      <th>department_HR</th>\n",
              "      <th>department_Legal</th>\n",
              "      <th>department_Operations</th>\n",
              "      <th>department_Procurement</th>\n",
              "      <th>department_R&amp;D</th>\n",
              "      <th>department_Sales &amp; Marketing</th>\n",
              "      <th>department_Technology</th>\n",
              "      <th>gender_m</th>\n",
              "      <th>recruitment_channel_referred</th>\n",
              "      <th>recruitment_channel_sourcing</th>\n",
              "    </tr>\n",
              "  </thead>\n",
              "  <tbody>\n",
              "    <tr>\n",
              "      <th>education</th>\n",
              "      <td>1.000000</td>\n",
              "      <td>-0.051637</td>\n",
              "      <td>0.383352</td>\n",
              "      <td>0.035436</td>\n",
              "      <td>0.266965</td>\n",
              "      <td>0.032528</td>\n",
              "      <td>0.018963</td>\n",
              "      <td>0.034312</td>\n",
              "      <td>0.050483</td>\n",
              "      <td>-0.024766</td>\n",
              "      <td>0.043806</td>\n",
              "      <td>-0.036803</td>\n",
              "      <td>0.036197</td>\n",
              "      <td>0.109469</td>\n",
              "      <td>0.034945</td>\n",
              "      <td>-0.062686</td>\n",
              "      <td>-0.007967</td>\n",
              "      <td>-0.069929</td>\n",
              "      <td>-0.034010</td>\n",
              "      <td>0.001416</td>\n",
              "    </tr>\n",
              "    <tr>\n",
              "      <th>no_of_trainings</th>\n",
              "      <td>-0.051637</td>\n",
              "      <td>1.000000</td>\n",
              "      <td>-0.091283</td>\n",
              "      <td>-0.053520</td>\n",
              "      <td>-0.054300</td>\n",
              "      <td>-0.029548</td>\n",
              "      <td>-0.023909</td>\n",
              "      <td>0.082625</td>\n",
              "      <td>-0.049298</td>\n",
              "      <td>0.005706</td>\n",
              "      <td>-0.072881</td>\n",
              "      <td>-0.038108</td>\n",
              "      <td>-0.035031</td>\n",
              "      <td>0.009182</td>\n",
              "      <td>0.048312</td>\n",
              "      <td>-0.038458</td>\n",
              "      <td>0.014211</td>\n",
              "      <td>0.079148</td>\n",
              "      <td>-0.013571</td>\n",
              "      <td>0.001866</td>\n",
              "    </tr>\n",
              "    <tr>\n",
              "      <th>age</th>\n",
              "      <td>0.383352</td>\n",
              "      <td>-0.091283</td>\n",
              "      <td>1.000000</td>\n",
              "      <td>0.037414</td>\n",
              "      <td>0.677262</td>\n",
              "      <td>-0.032420</td>\n",
              "      <td>-0.001006</td>\n",
              "      <td>-0.060699</td>\n",
              "      <td>-0.037035</td>\n",
              "      <td>-0.087843</td>\n",
              "      <td>-0.013862</td>\n",
              "      <td>-0.023983</td>\n",
              "      <td>0.125813</td>\n",
              "      <td>0.070903</td>\n",
              "      <td>-0.034457</td>\n",
              "      <td>-0.007937</td>\n",
              "      <td>-0.015857</td>\n",
              "      <td>-0.032609</td>\n",
              "      <td>-0.032378</td>\n",
              "      <td>-0.023345</td>\n",
              "    </tr>\n",
              "    <tr>\n",
              "      <th>previous_year_rating</th>\n",
              "      <td>0.035436</td>\n",
              "      <td>-0.053520</td>\n",
              "      <td>0.037414</td>\n",
              "      <td>1.000000</td>\n",
              "      <td>0.025292</td>\n",
              "      <td>0.294898</td>\n",
              "      <td>0.079375</td>\n",
              "      <td>0.112824</td>\n",
              "      <td>0.287039</td>\n",
              "      <td>0.012087</td>\n",
              "      <td>0.019105</td>\n",
              "      <td>-0.014064</td>\n",
              "      <td>0.090342</td>\n",
              "      <td>-0.001247</td>\n",
              "      <td>0.022590</td>\n",
              "      <td>-0.101202</td>\n",
              "      <td>-0.018548</td>\n",
              "      <td>-0.020111</td>\n",
              "      <td>0.055880</td>\n",
              "      <td>-0.005730</td>\n",
              "    </tr>\n",
              "    <tr>\n",
              "      <th>length_of_service</th>\n",
              "      <td>0.266965</td>\n",
              "      <td>-0.054300</td>\n",
              "      <td>0.677262</td>\n",
              "      <td>0.025292</td>\n",
              "      <td>1.000000</td>\n",
              "      <td>-0.045773</td>\n",
              "      <td>-0.053769</td>\n",
              "      <td>-0.035127</td>\n",
              "      <td>-0.019550</td>\n",
              "      <td>-0.072869</td>\n",
              "      <td>0.007231</td>\n",
              "      <td>-0.056116</td>\n",
              "      <td>0.087046</td>\n",
              "      <td>0.061889</td>\n",
              "      <td>-0.042532</td>\n",
              "      <td>-0.013409</td>\n",
              "      <td>-0.004054</td>\n",
              "      <td>-0.017956</td>\n",
              "      <td>-0.033093</td>\n",
              "      <td>-0.010861</td>\n",
              "    </tr>\n",
              "    <tr>\n",
              "      <th>KPIs_met &gt;80%</th>\n",
              "      <td>0.032528</td>\n",
              "      <td>-0.029548</td>\n",
              "      <td>-0.032420</td>\n",
              "      <td>0.294898</td>\n",
              "      <td>-0.045773</td>\n",
              "      <td>1.000000</td>\n",
              "      <td>0.052224</td>\n",
              "      <td>0.032766</td>\n",
              "      <td>0.388057</td>\n",
              "      <td>-0.005336</td>\n",
              "      <td>-0.000330</td>\n",
              "      <td>-0.003258</td>\n",
              "      <td>0.049812</td>\n",
              "      <td>0.017522</td>\n",
              "      <td>0.012620</td>\n",
              "      <td>-0.075511</td>\n",
              "      <td>0.011872</td>\n",
              "      <td>-0.017259</td>\n",
              "      <td>0.034902</td>\n",
              "      <td>-0.021769</td>\n",
              "    </tr>\n",
              "    <tr>\n",
              "      <th>awards_won?</th>\n",
              "      <td>0.018963</td>\n",
              "      <td>-0.023909</td>\n",
              "      <td>-0.001006</td>\n",
              "      <td>0.079375</td>\n",
              "      <td>-0.053769</td>\n",
              "      <td>0.052224</td>\n",
              "      <td>1.000000</td>\n",
              "      <td>0.172203</td>\n",
              "      <td>0.216859</td>\n",
              "      <td>-0.002941</td>\n",
              "      <td>-0.006108</td>\n",
              "      <td>0.011739</td>\n",
              "      <td>0.022600</td>\n",
              "      <td>0.002098</td>\n",
              "      <td>-0.012683</td>\n",
              "      <td>-0.025604</td>\n",
              "      <td>0.018808</td>\n",
              "      <td>-0.009256</td>\n",
              "      <td>0.013388</td>\n",
              "      <td>-0.006006</td>\n",
              "    </tr>\n",
              "    <tr>\n",
              "      <th>avg_training_score</th>\n",
              "      <td>0.034312</td>\n",
              "      <td>0.082625</td>\n",
              "      <td>-0.060699</td>\n",
              "      <td>0.112824</td>\n",
              "      <td>-0.035127</td>\n",
              "      <td>0.032766</td>\n",
              "      <td>0.172203</td>\n",
              "      <td>1.000000</td>\n",
              "      <td>0.271689</td>\n",
              "      <td>-0.040648</td>\n",
              "      <td>-0.203224</td>\n",
              "      <td>-0.047564</td>\n",
              "      <td>-0.131729</td>\n",
              "      <td>0.168261</td>\n",
              "      <td>0.165575</td>\n",
              "      <td>-0.568318</td>\n",
              "      <td>0.427395</td>\n",
              "      <td>-0.039254</td>\n",
              "      <td>0.021510</td>\n",
              "      <td>-0.012785</td>\n",
              "    </tr>\n",
              "    <tr>\n",
              "      <th>is_promoted</th>\n",
              "      <td>0.050483</td>\n",
              "      <td>-0.049298</td>\n",
              "      <td>-0.037035</td>\n",
              "      <td>0.287039</td>\n",
              "      <td>-0.019550</td>\n",
              "      <td>0.388057</td>\n",
              "      <td>0.216859</td>\n",
              "      <td>0.271689</td>\n",
              "      <td>1.000000</td>\n",
              "      <td>-0.001197</td>\n",
              "      <td>-0.031636</td>\n",
              "      <td>-0.023153</td>\n",
              "      <td>0.020867</td>\n",
              "      <td>0.000537</td>\n",
              "      <td>-0.023430</td>\n",
              "      <td>-0.040937</td>\n",
              "      <td>0.056699</td>\n",
              "      <td>-0.014378</td>\n",
              "      <td>0.038015</td>\n",
              "      <td>-0.012945</td>\n",
              "    </tr>\n",
              "    <tr>\n",
              "      <th>department_Finance</th>\n",
              "      <td>-0.024766</td>\n",
              "      <td>0.005706</td>\n",
              "      <td>-0.087843</td>\n",
              "      <td>0.012087</td>\n",
              "      <td>-0.072869</td>\n",
              "      <td>-0.005336</td>\n",
              "      <td>-0.002941</td>\n",
              "      <td>-0.040648</td>\n",
              "      <td>-0.001197</td>\n",
              "      <td>1.000000</td>\n",
              "      <td>-0.041555</td>\n",
              "      <td>-0.025321</td>\n",
              "      <td>-0.105343</td>\n",
              "      <td>-0.084770</td>\n",
              "      <td>-0.026983</td>\n",
              "      <td>-0.128527</td>\n",
              "      <td>-0.085992</td>\n",
              "      <td>0.018824</td>\n",
              "      <td>-0.033524</td>\n",
              "      <td>0.022264</td>\n",
              "    </tr>\n",
              "    <tr>\n",
              "      <th>department_HR</th>\n",
              "      <td>0.043806</td>\n",
              "      <td>-0.072881</td>\n",
              "      <td>-0.013862</td>\n",
              "      <td>0.019105</td>\n",
              "      <td>0.007231</td>\n",
              "      <td>-0.000330</td>\n",
              "      <td>-0.006108</td>\n",
              "      <td>-0.203224</td>\n",
              "      <td>-0.031636</td>\n",
              "      <td>-0.041555</td>\n",
              "      <td>1.000000</td>\n",
              "      <td>-0.024992</td>\n",
              "      <td>-0.103977</td>\n",
              "      <td>-0.083671</td>\n",
              "      <td>-0.026633</td>\n",
              "      <td>-0.126860</td>\n",
              "      <td>-0.084877</td>\n",
              "      <td>-0.062530</td>\n",
              "      <td>0.031513</td>\n",
              "      <td>-0.002314</td>\n",
              "    </tr>\n",
              "    <tr>\n",
              "      <th>department_Legal</th>\n",
              "      <td>-0.036803</td>\n",
              "      <td>-0.038108</td>\n",
              "      <td>-0.023983</td>\n",
              "      <td>-0.014064</td>\n",
              "      <td>-0.056116</td>\n",
              "      <td>-0.003258</td>\n",
              "      <td>0.011739</td>\n",
              "      <td>-0.047564</td>\n",
              "      <td>-0.023153</td>\n",
              "      <td>-0.025321</td>\n",
              "      <td>-0.024992</td>\n",
              "      <td>1.000000</td>\n",
              "      <td>-0.063356</td>\n",
              "      <td>-0.050983</td>\n",
              "      <td>-0.016228</td>\n",
              "      <td>-0.077299</td>\n",
              "      <td>-0.051718</td>\n",
              "      <td>0.056647</td>\n",
              "      <td>0.031536</td>\n",
              "      <td>-0.007542</td>\n",
              "    </tr>\n",
              "    <tr>\n",
              "      <th>department_Operations</th>\n",
              "      <td>0.036197</td>\n",
              "      <td>-0.035031</td>\n",
              "      <td>0.125813</td>\n",
              "      <td>0.090342</td>\n",
              "      <td>0.087046</td>\n",
              "      <td>0.049812</td>\n",
              "      <td>0.022600</td>\n",
              "      <td>-0.131729</td>\n",
              "      <td>0.020867</td>\n",
              "      <td>-0.105343</td>\n",
              "      <td>-0.103977</td>\n",
              "      <td>-0.063356</td>\n",
              "      <td>1.000000</td>\n",
              "      <td>-0.212109</td>\n",
              "      <td>-0.067516</td>\n",
              "      <td>-0.321593</td>\n",
              "      <td>-0.215165</td>\n",
              "      <td>-0.122250</td>\n",
              "      <td>-0.034390</td>\n",
              "      <td>0.005269</td>\n",
              "    </tr>\n",
              "    <tr>\n",
              "      <th>department_Procurement</th>\n",
              "      <td>0.109469</td>\n",
              "      <td>0.009182</td>\n",
              "      <td>0.070903</td>\n",
              "      <td>-0.001247</td>\n",
              "      <td>0.061889</td>\n",
              "      <td>0.017522</td>\n",
              "      <td>0.002098</td>\n",
              "      <td>0.168261</td>\n",
              "      <td>0.000537</td>\n",
              "      <td>-0.084770</td>\n",
              "      <td>-0.083671</td>\n",
              "      <td>-0.050983</td>\n",
              "      <td>-0.212109</td>\n",
              "      <td>1.000000</td>\n",
              "      <td>-0.054331</td>\n",
              "      <td>-0.258790</td>\n",
              "      <td>-0.173146</td>\n",
              "      <td>-0.205573</td>\n",
              "      <td>-0.010520</td>\n",
              "      <td>-0.006721</td>\n",
              "    </tr>\n",
              "    <tr>\n",
              "      <th>department_R&amp;D</th>\n",
              "      <td>0.034945</td>\n",
              "      <td>0.048312</td>\n",
              "      <td>-0.034457</td>\n",
              "      <td>0.022590</td>\n",
              "      <td>-0.042532</td>\n",
              "      <td>0.012620</td>\n",
              "      <td>-0.012683</td>\n",
              "      <td>0.165575</td>\n",
              "      <td>-0.023430</td>\n",
              "      <td>-0.026983</td>\n",
              "      <td>-0.026633</td>\n",
              "      <td>-0.016228</td>\n",
              "      <td>-0.067516</td>\n",
              "      <td>-0.054331</td>\n",
              "      <td>1.000000</td>\n",
              "      <td>-0.082375</td>\n",
              "      <td>-0.055114</td>\n",
              "      <td>0.066866</td>\n",
              "      <td>-0.021486</td>\n",
              "      <td>0.020623</td>\n",
              "    </tr>\n",
              "    <tr>\n",
              "      <th>department_Sales &amp; Marketing</th>\n",
              "      <td>-0.062686</td>\n",
              "      <td>-0.038458</td>\n",
              "      <td>-0.007937</td>\n",
              "      <td>-0.101202</td>\n",
              "      <td>-0.013409</td>\n",
              "      <td>-0.075511</td>\n",
              "      <td>-0.025604</td>\n",
              "      <td>-0.568318</td>\n",
              "      <td>-0.040937</td>\n",
              "      <td>-0.128527</td>\n",
              "      <td>-0.126860</td>\n",
              "      <td>-0.077299</td>\n",
              "      <td>-0.321593</td>\n",
              "      <td>-0.258790</td>\n",
              "      <td>-0.082375</td>\n",
              "      <td>1.000000</td>\n",
              "      <td>-0.262519</td>\n",
              "      <td>0.196263</td>\n",
              "      <td>-0.007358</td>\n",
              "      <td>0.013281</td>\n",
              "    </tr>\n",
              "    <tr>\n",
              "      <th>department_Technology</th>\n",
              "      <td>-0.007967</td>\n",
              "      <td>0.014211</td>\n",
              "      <td>-0.015857</td>\n",
              "      <td>-0.018548</td>\n",
              "      <td>-0.004054</td>\n",
              "      <td>0.011872</td>\n",
              "      <td>0.018808</td>\n",
              "      <td>0.427395</td>\n",
              "      <td>0.056699</td>\n",
              "      <td>-0.085992</td>\n",
              "      <td>-0.084877</td>\n",
              "      <td>-0.051718</td>\n",
              "      <td>-0.215165</td>\n",
              "      <td>-0.173146</td>\n",
              "      <td>-0.055114</td>\n",
              "      <td>-0.262519</td>\n",
              "      <td>1.000000</td>\n",
              "      <td>-0.050545</td>\n",
              "      <td>0.076074</td>\n",
              "      <td>-0.029984</td>\n",
              "    </tr>\n",
              "    <tr>\n",
              "      <th>gender_m</th>\n",
              "      <td>-0.069929</td>\n",
              "      <td>0.079148</td>\n",
              "      <td>-0.032609</td>\n",
              "      <td>-0.020111</td>\n",
              "      <td>-0.017956</td>\n",
              "      <td>-0.017259</td>\n",
              "      <td>-0.009256</td>\n",
              "      <td>-0.039254</td>\n",
              "      <td>-0.014378</td>\n",
              "      <td>0.018824</td>\n",
              "      <td>-0.062530</td>\n",
              "      <td>0.056647</td>\n",
              "      <td>-0.122250</td>\n",
              "      <td>-0.205573</td>\n",
              "      <td>0.066866</td>\n",
              "      <td>0.196263</td>\n",
              "      <td>-0.050545</td>\n",
              "      <td>1.000000</td>\n",
              "      <td>-0.012021</td>\n",
              "      <td>0.006863</td>\n",
              "    </tr>\n",
              "    <tr>\n",
              "      <th>recruitment_channel_referred</th>\n",
              "      <td>-0.034010</td>\n",
              "      <td>-0.013571</td>\n",
              "      <td>-0.032378</td>\n",
              "      <td>0.055880</td>\n",
              "      <td>-0.033093</td>\n",
              "      <td>0.034902</td>\n",
              "      <td>0.013388</td>\n",
              "      <td>0.021510</td>\n",
              "      <td>0.038015</td>\n",
              "      <td>-0.033524</td>\n",
              "      <td>0.031513</td>\n",
              "      <td>0.031536</td>\n",
              "      <td>-0.034390</td>\n",
              "      <td>-0.010520</td>\n",
              "      <td>-0.021486</td>\n",
              "      <td>-0.007358</td>\n",
              "      <td>0.076074</td>\n",
              "      <td>-0.012021</td>\n",
              "      <td>1.000000</td>\n",
              "      <td>-0.138122</td>\n",
              "    </tr>\n",
              "    <tr>\n",
              "      <th>recruitment_channel_sourcing</th>\n",
              "      <td>0.001416</td>\n",
              "      <td>0.001866</td>\n",
              "      <td>-0.023345</td>\n",
              "      <td>-0.005730</td>\n",
              "      <td>-0.010861</td>\n",
              "      <td>-0.021769</td>\n",
              "      <td>-0.006006</td>\n",
              "      <td>-0.012785</td>\n",
              "      <td>-0.012945</td>\n",
              "      <td>0.022264</td>\n",
              "      <td>-0.002314</td>\n",
              "      <td>-0.007542</td>\n",
              "      <td>0.005269</td>\n",
              "      <td>-0.006721</td>\n",
              "      <td>0.020623</td>\n",
              "      <td>0.013281</td>\n",
              "      <td>-0.029984</td>\n",
              "      <td>0.006863</td>\n",
              "      <td>-0.138122</td>\n",
              "      <td>1.000000</td>\n",
              "    </tr>\n",
              "  </tbody>\n",
              "</table>\n",
              "</div>"
            ],
            "text/plain": [
              "                              education  ...  recruitment_channel_sourcing\n",
              "education                      1.000000  ...                      0.001416\n",
              "no_of_trainings               -0.051637  ...                      0.001866\n",
              "age                            0.383352  ...                     -0.023345\n",
              "previous_year_rating           0.035436  ...                     -0.005730\n",
              "length_of_service              0.266965  ...                     -0.010861\n",
              "KPIs_met >80%                  0.032528  ...                     -0.021769\n",
              "awards_won?                    0.018963  ...                     -0.006006\n",
              "avg_training_score             0.034312  ...                     -0.012785\n",
              "is_promoted                    0.050483  ...                     -0.012945\n",
              "department_Finance            -0.024766  ...                      0.022264\n",
              "department_HR                  0.043806  ...                     -0.002314\n",
              "department_Legal              -0.036803  ...                     -0.007542\n",
              "department_Operations          0.036197  ...                      0.005269\n",
              "department_Procurement         0.109469  ...                     -0.006721\n",
              "department_R&D                 0.034945  ...                      0.020623\n",
              "department_Sales & Marketing  -0.062686  ...                      0.013281\n",
              "department_Technology         -0.007967  ...                     -0.029984\n",
              "gender_m                      -0.069929  ...                      0.006863\n",
              "recruitment_channel_referred  -0.034010  ...                     -0.138122\n",
              "recruitment_channel_sourcing   0.001416  ...                      1.000000\n",
              "\n",
              "[20 rows x 20 columns]"
            ]
          },
          "metadata": {},
          "execution_count": 35
        }
      ]
    },
    {
      "cell_type": "markdown",
      "metadata": {
        "id": "2n55Z7lAQgkH"
      },
      "source": [
        "##**VII) Check the Test accuracy using appropriate algorithm and Holdout Method.**"
      ]
    },
    {
      "cell_type": "markdown",
      "metadata": {
        "id": "Fem9YW14fIU6"
      },
      "source": [
        "##**Step-5: Slice X and y Values**"
      ]
    },
    {
      "cell_type": "code",
      "metadata": {
        "colab": {
          "base_uri": "https://localhost:8080/",
          "height": 243
        },
        "id": "pfwaOwx5fTwv",
        "outputId": "55e3d6f1-a042-447d-94a3-ec1670206117"
      },
      "source": [
        "X = df.drop(['is_promoted'], axis = 1)\n",
        "Y = df['is_promoted']\n",
        "X.head()"
      ],
      "execution_count": 36,
      "outputs": [
        {
          "output_type": "execute_result",
          "data": {
            "text/html": [
              "<div>\n",
              "<style scoped>\n",
              "    .dataframe tbody tr th:only-of-type {\n",
              "        vertical-align: middle;\n",
              "    }\n",
              "\n",
              "    .dataframe tbody tr th {\n",
              "        vertical-align: top;\n",
              "    }\n",
              "\n",
              "    .dataframe thead th {\n",
              "        text-align: right;\n",
              "    }\n",
              "</style>\n",
              "<table border=\"1\" class=\"dataframe\">\n",
              "  <thead>\n",
              "    <tr style=\"text-align: right;\">\n",
              "      <th></th>\n",
              "      <th>education</th>\n",
              "      <th>no_of_trainings</th>\n",
              "      <th>age</th>\n",
              "      <th>previous_year_rating</th>\n",
              "      <th>length_of_service</th>\n",
              "      <th>KPIs_met &gt;80%</th>\n",
              "      <th>awards_won?</th>\n",
              "      <th>avg_training_score</th>\n",
              "      <th>department_Finance</th>\n",
              "      <th>department_HR</th>\n",
              "      <th>department_Legal</th>\n",
              "      <th>department_Operations</th>\n",
              "      <th>department_Procurement</th>\n",
              "      <th>department_R&amp;D</th>\n",
              "      <th>department_Sales &amp; Marketing</th>\n",
              "      <th>department_Technology</th>\n",
              "      <th>gender_m</th>\n",
              "      <th>recruitment_channel_referred</th>\n",
              "      <th>recruitment_channel_sourcing</th>\n",
              "    </tr>\n",
              "  </thead>\n",
              "  <tbody>\n",
              "    <tr>\n",
              "      <th>0</th>\n",
              "      <td>2</td>\n",
              "      <td>1</td>\n",
              "      <td>35</td>\n",
              "      <td>5.0</td>\n",
              "      <td>8</td>\n",
              "      <td>1</td>\n",
              "      <td>0</td>\n",
              "      <td>49</td>\n",
              "      <td>0</td>\n",
              "      <td>0</td>\n",
              "      <td>0</td>\n",
              "      <td>0</td>\n",
              "      <td>0</td>\n",
              "      <td>0</td>\n",
              "      <td>1</td>\n",
              "      <td>0</td>\n",
              "      <td>0</td>\n",
              "      <td>0</td>\n",
              "      <td>1</td>\n",
              "    </tr>\n",
              "    <tr>\n",
              "      <th>1</th>\n",
              "      <td>0</td>\n",
              "      <td>1</td>\n",
              "      <td>30</td>\n",
              "      <td>5.0</td>\n",
              "      <td>4</td>\n",
              "      <td>0</td>\n",
              "      <td>0</td>\n",
              "      <td>60</td>\n",
              "      <td>0</td>\n",
              "      <td>0</td>\n",
              "      <td>0</td>\n",
              "      <td>1</td>\n",
              "      <td>0</td>\n",
              "      <td>0</td>\n",
              "      <td>0</td>\n",
              "      <td>0</td>\n",
              "      <td>1</td>\n",
              "      <td>0</td>\n",
              "      <td>0</td>\n",
              "    </tr>\n",
              "    <tr>\n",
              "      <th>2</th>\n",
              "      <td>0</td>\n",
              "      <td>1</td>\n",
              "      <td>34</td>\n",
              "      <td>3.0</td>\n",
              "      <td>7</td>\n",
              "      <td>0</td>\n",
              "      <td>0</td>\n",
              "      <td>50</td>\n",
              "      <td>0</td>\n",
              "      <td>0</td>\n",
              "      <td>0</td>\n",
              "      <td>0</td>\n",
              "      <td>0</td>\n",
              "      <td>0</td>\n",
              "      <td>1</td>\n",
              "      <td>0</td>\n",
              "      <td>1</td>\n",
              "      <td>0</td>\n",
              "      <td>1</td>\n",
              "    </tr>\n",
              "    <tr>\n",
              "      <th>3</th>\n",
              "      <td>0</td>\n",
              "      <td>2</td>\n",
              "      <td>39</td>\n",
              "      <td>1.0</td>\n",
              "      <td>10</td>\n",
              "      <td>0</td>\n",
              "      <td>0</td>\n",
              "      <td>50</td>\n",
              "      <td>0</td>\n",
              "      <td>0</td>\n",
              "      <td>0</td>\n",
              "      <td>0</td>\n",
              "      <td>0</td>\n",
              "      <td>0</td>\n",
              "      <td>1</td>\n",
              "      <td>0</td>\n",
              "      <td>1</td>\n",
              "      <td>0</td>\n",
              "      <td>0</td>\n",
              "    </tr>\n",
              "    <tr>\n",
              "      <th>4</th>\n",
              "      <td>0</td>\n",
              "      <td>1</td>\n",
              "      <td>45</td>\n",
              "      <td>3.0</td>\n",
              "      <td>2</td>\n",
              "      <td>0</td>\n",
              "      <td>0</td>\n",
              "      <td>73</td>\n",
              "      <td>0</td>\n",
              "      <td>0</td>\n",
              "      <td>0</td>\n",
              "      <td>0</td>\n",
              "      <td>0</td>\n",
              "      <td>0</td>\n",
              "      <td>0</td>\n",
              "      <td>1</td>\n",
              "      <td>1</td>\n",
              "      <td>0</td>\n",
              "      <td>0</td>\n",
              "    </tr>\n",
              "  </tbody>\n",
              "</table>\n",
              "</div>"
            ],
            "text/plain": [
              "   education  ...  recruitment_channel_sourcing\n",
              "0          2  ...                             1\n",
              "1          0  ...                             0\n",
              "2          0  ...                             1\n",
              "3          0  ...                             0\n",
              "4          0  ...                             0\n",
              "\n",
              "[5 rows x 19 columns]"
            ]
          },
          "metadata": {},
          "execution_count": 36
        }
      ]
    },
    {
      "cell_type": "code",
      "metadata": {
        "colab": {
          "base_uri": "https://localhost:8080/"
        },
        "id": "5ZITjuHwfem-",
        "outputId": "216cb06d-29bd-4308-8d10-e5c5daccf031"
      },
      "source": [
        "Y.head()"
      ],
      "execution_count": 37,
      "outputs": [
        {
          "output_type": "execute_result",
          "data": {
            "text/plain": [
              "0    0\n",
              "1    0\n",
              "2    0\n",
              "3    0\n",
              "4    0\n",
              "Name: is_promoted, dtype: int64"
            ]
          },
          "metadata": {},
          "execution_count": 37
        }
      ]
    },
    {
      "cell_type": "markdown",
      "metadata": {
        "id": "j2EZEPCMfgu4"
      },
      "source": [
        "##**Step-6: Execute Train-Test-Split Command and Verify**"
      ]
    },
    {
      "cell_type": "code",
      "metadata": {
        "id": "gBNZDgNEfpZq"
      },
      "source": [
        "from sklearn.model_selection import train_test_split\n",
        "X_train, X_test, y_train, y_test = train_test_split(X, Y, test_size = 0.2, random_state = 66)"
      ],
      "execution_count": 38,
      "outputs": []
    },
    {
      "cell_type": "code",
      "metadata": {
        "colab": {
          "base_uri": "https://localhost:8080/"
        },
        "id": "--QAEH4QfyM1",
        "outputId": "8e518223-19af-40c4-dfe4-8606a428523b"
      },
      "source": [
        "print(X_train.shape)\n",
        "print(y_train.shape)\n",
        "print(X_test.shape)\n",
        "print(y_test.shape)"
      ],
      "execution_count": 39,
      "outputs": [
        {
          "output_type": "stream",
          "name": "stdout",
          "text": [
            "(4000, 19)\n",
            "(4000,)\n",
            "(1000, 19)\n",
            "(1000,)\n"
          ]
        }
      ]
    },
    {
      "cell_type": "markdown",
      "metadata": {
        "id": "jEJKsocUf_oo"
      },
      "source": [
        "##**Step-7: Learn the Data and Predict the dependent Variable values for the \"X_test\"data using \"LogisticRegression()\" algorithm**"
      ]
    },
    {
      "cell_type": "code",
      "metadata": {
        "colab": {
          "base_uri": "https://localhost:8080/"
        },
        "id": "dmkKEVZHf_06",
        "outputId": "eaaae6f6-5f9b-40ae-b5b7-386a47fce9a8"
      },
      "source": [
        "from sklearn.linear_model import LogisticRegression\n",
        "#create an instance and fit the model \n",
        "logmodel = LogisticRegression()\n",
        "logmodel.fit(X_train, y_train)"
      ],
      "execution_count": 40,
      "outputs": [
        {
          "output_type": "stream",
          "name": "stderr",
          "text": [
            "/usr/local/lib/python3.7/dist-packages/sklearn/linear_model/_logistic.py:818: ConvergenceWarning: lbfgs failed to converge (status=1):\n",
            "STOP: TOTAL NO. of ITERATIONS REACHED LIMIT.\n",
            "\n",
            "Increase the number of iterations (max_iter) or scale the data as shown in:\n",
            "    https://scikit-learn.org/stable/modules/preprocessing.html\n",
            "Please also refer to the documentation for alternative solver options:\n",
            "    https://scikit-learn.org/stable/modules/linear_model.html#logistic-regression\n",
            "  extra_warning_msg=_LOGISTIC_SOLVER_CONVERGENCE_MSG,\n"
          ]
        },
        {
          "output_type": "execute_result",
          "data": {
            "text/plain": [
              "LogisticRegression()"
            ]
          },
          "metadata": {},
          "execution_count": 40
        }
      ]
    },
    {
      "cell_type": "code",
      "metadata": {
        "colab": {
          "base_uri": "https://localhost:8080/"
        },
        "id": "T7nMzaZNgQVu",
        "outputId": "5b77ca13-ecef-40ee-8ff0-bf5894176548"
      },
      "source": [
        "y_pred = logmodel.predict(X_test)\n",
        "y_pred"
      ],
      "execution_count": 41,
      "outputs": [
        {
          "output_type": "execute_result",
          "data": {
            "text/plain": [
              "array([0, 0, 1, 1, 1, 0, 0, 1, 1, 1, 0, 0, 1, 0, 0, 1, 1, 0, 1, 1, 1, 0,\n",
              "       0, 1, 0, 0, 1, 1, 1, 0, 1, 0, 1, 1, 0, 1, 1, 1, 0, 1, 1, 1, 1, 0,\n",
              "       1, 0, 0, 1, 1, 0, 1, 1, 0, 0, 0, 0, 0, 0, 0, 1, 1, 0, 0, 0, 0, 0,\n",
              "       0, 0, 0, 0, 0, 1, 1, 0, 0, 0, 1, 1, 0, 1, 1, 1, 1, 0, 0, 0, 0, 0,\n",
              "       0, 0, 0, 0, 0, 0, 1, 0, 0, 0, 0, 1, 1, 1, 1, 1, 0, 0, 1, 0, 1, 0,\n",
              "       1, 0, 0, 1, 1, 0, 0, 0, 1, 1, 0, 1, 1, 0, 0, 0, 0, 0, 0, 1, 1, 0,\n",
              "       0, 1, 0, 0, 0, 0, 0, 0, 0, 0, 1, 1, 0, 0, 0, 0, 0, 1, 0, 0, 1, 1,\n",
              "       0, 1, 0, 0, 1, 0, 1, 1, 0, 1, 0, 1, 1, 0, 1, 0, 1, 0, 1, 1, 1, 1,\n",
              "       0, 0, 1, 0, 1, 0, 0, 0, 1, 1, 1, 1, 1, 0, 1, 0, 0, 0, 0, 0, 1, 0,\n",
              "       0, 1, 0, 0, 1, 0, 1, 1, 0, 1, 1, 0, 0, 0, 1, 0, 1, 0, 0, 1, 1, 0,\n",
              "       0, 0, 0, 0, 1, 0, 1, 0, 0, 1, 0, 0, 0, 0, 0, 1, 1, 0, 0, 0, 0, 0,\n",
              "       0, 0, 0, 1, 0, 1, 0, 0, 0, 1, 0, 1, 0, 1, 1, 0, 0, 0, 0, 0, 1, 1,\n",
              "       0, 0, 1, 0, 0, 0, 1, 1, 1, 1, 0, 0, 0, 0, 1, 1, 0, 1, 0, 0, 1, 0,\n",
              "       0, 1, 0, 0, 1, 1, 1, 0, 0, 1, 1, 1, 1, 0, 1, 1, 1, 0, 1, 1, 0, 1,\n",
              "       1, 1, 1, 0, 1, 0, 0, 1, 1, 0, 0, 1, 0, 1, 0, 0, 1, 0, 0, 0, 0, 0,\n",
              "       1, 1, 0, 0, 1, 1, 1, 0, 0, 1, 1, 1, 1, 1, 0, 1, 0, 1, 1, 1, 1, 1,\n",
              "       1, 1, 1, 0, 1, 1, 0, 0, 0, 0, 0, 0, 0, 1, 0, 1, 1, 1, 1, 1, 0, 0,\n",
              "       0, 0, 1, 1, 1, 0, 0, 0, 1, 0, 1, 0, 0, 1, 1, 1, 0, 0, 1, 0, 1, 1,\n",
              "       0, 0, 1, 1, 0, 0, 0, 0, 0, 0, 1, 1, 0, 0, 1, 0, 0, 1, 0, 0, 0, 0,\n",
              "       1, 0, 1, 0, 1, 0, 0, 0, 0, 0, 1, 1, 0, 1, 1, 1, 1, 0, 0, 0, 0, 1,\n",
              "       1, 1, 0, 0, 0, 0, 0, 0, 1, 1, 1, 1, 0, 1, 0, 1, 0, 1, 1, 0, 1, 0,\n",
              "       0, 1, 1, 0, 1, 1, 1, 0, 0, 1, 0, 0, 1, 0, 0, 0, 1, 0, 1, 1, 0, 1,\n",
              "       0, 0, 1, 0, 0, 1, 0, 0, 0, 0, 0, 0, 1, 0, 0, 0, 0, 1, 0, 0, 0, 0,\n",
              "       0, 1, 0, 0, 0, 1, 0, 0, 1, 0, 0, 1, 0, 0, 0, 0, 1, 1, 0, 0, 0, 0,\n",
              "       0, 1, 0, 1, 0, 1, 1, 0, 1, 1, 1, 0, 1, 1, 0, 1, 0, 0, 1, 0, 0, 1,\n",
              "       1, 0, 0, 1, 0, 0, 0, 0, 1, 1, 1, 0, 1, 0, 0, 0, 1, 0, 0, 1, 0, 0,\n",
              "       0, 1, 0, 1, 1, 0, 0, 0, 1, 1, 1, 1, 1, 0, 0, 1, 1, 1, 0, 0, 1, 1,\n",
              "       0, 0, 1, 0, 1, 0, 1, 1, 0, 0, 0, 1, 1, 0, 1, 1, 1, 1, 1, 0, 1, 1,\n",
              "       0, 0, 0, 0, 0, 0, 0, 0, 1, 0, 0, 0, 1, 0, 0, 0, 0, 1, 0, 0, 1, 1,\n",
              "       1, 0, 1, 1, 1, 1, 0, 0, 0, 1, 1, 0, 0, 1, 0, 0, 0, 1, 1, 0, 0, 1,\n",
              "       0, 1, 1, 0, 0, 0, 0, 0, 0, 1, 1, 1, 1, 1, 0, 0, 1, 0, 1, 0, 0, 0,\n",
              "       1, 0, 0, 0, 1, 0, 1, 1, 0, 0, 0, 1, 1, 0, 0, 0, 1, 0, 1, 0, 1, 0,\n",
              "       0, 1, 0, 1, 0, 0, 0, 0, 0, 0, 1, 1, 0, 1, 1, 1, 0, 1, 0, 0, 0, 1,\n",
              "       0, 0, 1, 0, 1, 1, 1, 0, 0, 0, 0, 0, 0, 1, 1, 1, 0, 0, 0, 1, 0, 0,\n",
              "       1, 1, 1, 1, 1, 0, 1, 1, 0, 1, 0, 0, 0, 0, 1, 1, 1, 0, 1, 1, 1, 0,\n",
              "       0, 0, 0, 1, 1, 1, 1, 0, 0, 0, 1, 0, 0, 0, 1, 0, 0, 1, 0, 1, 0, 0,\n",
              "       1, 1, 0, 0, 1, 0, 0, 1, 1, 1, 0, 0, 0, 0, 0, 0, 0, 1, 0, 1, 1, 1,\n",
              "       0, 0, 1, 0, 1, 0, 1, 0, 0, 1, 1, 1, 1, 1, 0, 0, 1, 0, 1, 1, 0, 0,\n",
              "       1, 0, 0, 0, 0, 1, 0, 1, 1, 0, 0, 0, 0, 1, 1, 0, 1, 0, 1, 0, 1, 0,\n",
              "       1, 0, 1, 1, 0, 1, 0, 0, 1, 1, 0, 0, 1, 0, 0, 1, 0, 1, 0, 0, 1, 0,\n",
              "       1, 0, 0, 1, 0, 0, 1, 0, 1, 0, 0, 0, 0, 0, 0, 1, 0, 0, 1, 1, 1, 0,\n",
              "       1, 1, 1, 0, 1, 0, 0, 0, 0, 0, 0, 0, 1, 1, 0, 1, 1, 1, 0, 1, 1, 0,\n",
              "       1, 0, 1, 0, 1, 1, 1, 0, 1, 1, 1, 0, 0, 0, 0, 0, 0, 0, 0, 1, 1, 0,\n",
              "       0, 0, 1, 0, 1, 0, 0, 1, 0, 1, 0, 1, 0, 0, 1, 0, 0, 0, 0, 1, 0, 0,\n",
              "       0, 1, 0, 1, 0, 1, 0, 1, 0, 0, 0, 1, 1, 1, 0, 0, 0, 0, 1, 1, 1, 0,\n",
              "       0, 0, 1, 0, 0, 0, 1, 1, 1, 0])"
            ]
          },
          "metadata": {},
          "execution_count": 41
        }
      ]
    },
    {
      "cell_type": "markdown",
      "metadata": {
        "id": "_P6AEsOBgmFg"
      },
      "source": [
        "##**Step-8: Calculate the Accuracy of the Model**"
      ]
    },
    {
      "cell_type": "code",
      "metadata": {
        "colab": {
          "base_uri": "https://localhost:8080/"
        },
        "id": "JrM62_U0gtDE",
        "outputId": "082497a3-942d-4115-e02a-53b5bd085e9b"
      },
      "source": [
        "accuracy_lr = logmodel.score(X_test, y_test)\n",
        "print(\"Accuracy of Logistic Regression on test set:\",accuracy_lr)"
      ],
      "execution_count": 42,
      "outputs": [
        {
          "output_type": "stream",
          "name": "stdout",
          "text": [
            "Accuracy of Logistic Regression on test set: 0.722\n"
          ]
        }
      ]
    },
    {
      "cell_type": "markdown",
      "metadata": {
        "id": "-aZmDuzBg1Ax"
      },
      "source": [
        "##**Step-9: Display the Confusion Matrix and Classification Report of the Model**"
      ]
    },
    {
      "cell_type": "code",
      "metadata": {
        "colab": {
          "base_uri": "https://localhost:8080/"
        },
        "id": "f2g6XZYcg1Mq",
        "outputId": "27cd8fbf-22b6-4795-94d8-852a39626dd3"
      },
      "source": [
        "from sklearn.metrics import classification_report, confusion_matrix  \n",
        "print(confusion_matrix(y_test,y_pred))  \n",
        "print(classification_report(y_test,y_pred))  "
      ],
      "execution_count": 43,
      "outputs": [
        {
          "output_type": "stream",
          "name": "stdout",
          "text": [
            "[[418 132]\n",
            " [146 304]]\n",
            "              precision    recall  f1-score   support\n",
            "\n",
            "           0       0.74      0.76      0.75       550\n",
            "           1       0.70      0.68      0.69       450\n",
            "\n",
            "    accuracy                           0.72      1000\n",
            "   macro avg       0.72      0.72      0.72      1000\n",
            "weighted avg       0.72      0.72      0.72      1000\n",
            "\n"
          ]
        }
      ]
    },
    {
      "cell_type": "markdown",
      "metadata": {
        "id": "aUAFgseiT0tB"
      },
      "source": [
        "##**VIII) Implement the Scaling as required**"
      ]
    },
    {
      "cell_type": "markdown",
      "metadata": {
        "id": "LQK-Vd4boE4T"
      },
      "source": [
        "###**Use Normalization**"
      ]
    },
    {
      "cell_type": "code",
      "metadata": {
        "colab": {
          "base_uri": "https://localhost:8080/"
        },
        "id": "f49k5CK4PvQb",
        "outputId": "abea0959-906b-4987-abac-c49a68794896"
      },
      "source": [
        "df.info()"
      ],
      "execution_count": 44,
      "outputs": [
        {
          "output_type": "stream",
          "name": "stdout",
          "text": [
            "<class 'pandas.core.frame.DataFrame'>\n",
            "Int64Index: 5000 entries, 0 to 4999\n",
            "Data columns (total 20 columns):\n",
            " #   Column                        Non-Null Count  Dtype  \n",
            "---  ------                        --------------  -----  \n",
            " 0   education                     5000 non-null   int64  \n",
            " 1   no_of_trainings               5000 non-null   int64  \n",
            " 2   age                           5000 non-null   int64  \n",
            " 3   previous_year_rating          5000 non-null   float64\n",
            " 4   length_of_service             5000 non-null   int64  \n",
            " 5   KPIs_met >80%                 5000 non-null   int64  \n",
            " 6   awards_won?                   5000 non-null   int64  \n",
            " 7   avg_training_score            5000 non-null   int64  \n",
            " 8   is_promoted                   5000 non-null   int64  \n",
            " 9   department_Finance            5000 non-null   uint8  \n",
            " 10  department_HR                 5000 non-null   uint8  \n",
            " 11  department_Legal              5000 non-null   uint8  \n",
            " 12  department_Operations         5000 non-null   uint8  \n",
            " 13  department_Procurement        5000 non-null   uint8  \n",
            " 14  department_R&D                5000 non-null   uint8  \n",
            " 15  department_Sales & Marketing  5000 non-null   uint8  \n",
            " 16  department_Technology         5000 non-null   uint8  \n",
            " 17  gender_m                      5000 non-null   uint8  \n",
            " 18  recruitment_channel_referred  5000 non-null   uint8  \n",
            " 19  recruitment_channel_sourcing  5000 non-null   uint8  \n",
            "dtypes: float64(1), int64(8), uint8(11)\n",
            "memory usage: 444.3 KB\n"
          ]
        }
      ]
    },
    {
      "cell_type": "code",
      "metadata": {
        "id": "prM8UaDDhian"
      },
      "source": [
        "columnNames = ['education','no_of_trainings', 'age', 'previous_year_rating', 'length_of_service', 'KPIs_met>80%', 'awards_won?', 'avg_training_score', 'department_Finance',\n",
        "               'department_HR', 'department_Legal', 'department_Operations', 'department_Procurement', 'department_R&D', 'department_Sales & Marketing', 'deartment_Technology',\n",
        "               'gender_m', 'recruitment_channel_referred', 'recruitment_channel_sourcing']"
      ],
      "execution_count": 45,
      "outputs": []
    },
    {
      "cell_type": "code",
      "metadata": {
        "colab": {
          "base_uri": "https://localhost:8080/",
          "height": 243
        },
        "id": "7X7zu-GDoSvN",
        "outputId": "e09867eb-d0a2-4e10-bce1-3f2dd1b2748e"
      },
      "source": [
        "min_max_scaler_object = preprocessing.MinMaxScaler()\n",
        "X_train1 = min_max_scaler_object.fit_transform(X_train)\n",
        "X_train1 = pd.DataFrame(X_train1 , columns = columnNames)\n",
        "X_train1.head()"
      ],
      "execution_count": 46,
      "outputs": [
        {
          "output_type": "execute_result",
          "data": {
            "text/html": [
              "<div>\n",
              "<style scoped>\n",
              "    .dataframe tbody tr th:only-of-type {\n",
              "        vertical-align: middle;\n",
              "    }\n",
              "\n",
              "    .dataframe tbody tr th {\n",
              "        vertical-align: top;\n",
              "    }\n",
              "\n",
              "    .dataframe thead th {\n",
              "        text-align: right;\n",
              "    }\n",
              "</style>\n",
              "<table border=\"1\" class=\"dataframe\">\n",
              "  <thead>\n",
              "    <tr style=\"text-align: right;\">\n",
              "      <th></th>\n",
              "      <th>education</th>\n",
              "      <th>no_of_trainings</th>\n",
              "      <th>age</th>\n",
              "      <th>previous_year_rating</th>\n",
              "      <th>length_of_service</th>\n",
              "      <th>KPIs_met&gt;80%</th>\n",
              "      <th>awards_won?</th>\n",
              "      <th>avg_training_score</th>\n",
              "      <th>department_Finance</th>\n",
              "      <th>department_HR</th>\n",
              "      <th>department_Legal</th>\n",
              "      <th>department_Operations</th>\n",
              "      <th>department_Procurement</th>\n",
              "      <th>department_R&amp;D</th>\n",
              "      <th>department_Sales &amp; Marketing</th>\n",
              "      <th>deartment_Technology</th>\n",
              "      <th>gender_m</th>\n",
              "      <th>recruitment_channel_referred</th>\n",
              "      <th>recruitment_channel_sourcing</th>\n",
              "    </tr>\n",
              "  </thead>\n",
              "  <tbody>\n",
              "    <tr>\n",
              "      <th>0</th>\n",
              "      <td>0.0</td>\n",
              "      <td>0.000000</td>\n",
              "      <td>0.425</td>\n",
              "      <td>1.0</td>\n",
              "      <td>0.212121</td>\n",
              "      <td>1.0</td>\n",
              "      <td>0.0</td>\n",
              "      <td>0.833333</td>\n",
              "      <td>0.0</td>\n",
              "      <td>0.0</td>\n",
              "      <td>0.0</td>\n",
              "      <td>1.0</td>\n",
              "      <td>0.0</td>\n",
              "      <td>0.0</td>\n",
              "      <td>0.0</td>\n",
              "      <td>0.0</td>\n",
              "      <td>1.0</td>\n",
              "      <td>0.0</td>\n",
              "      <td>1.0</td>\n",
              "    </tr>\n",
              "    <tr>\n",
              "      <th>1</th>\n",
              "      <td>0.0</td>\n",
              "      <td>0.000000</td>\n",
              "      <td>0.475</td>\n",
              "      <td>0.5</td>\n",
              "      <td>0.303030</td>\n",
              "      <td>0.0</td>\n",
              "      <td>0.0</td>\n",
              "      <td>0.250000</td>\n",
              "      <td>0.0</td>\n",
              "      <td>0.0</td>\n",
              "      <td>0.0</td>\n",
              "      <td>0.0</td>\n",
              "      <td>0.0</td>\n",
              "      <td>0.0</td>\n",
              "      <td>1.0</td>\n",
              "      <td>0.0</td>\n",
              "      <td>1.0</td>\n",
              "      <td>0.0</td>\n",
              "      <td>1.0</td>\n",
              "    </tr>\n",
              "    <tr>\n",
              "      <th>2</th>\n",
              "      <td>0.0</td>\n",
              "      <td>0.166667</td>\n",
              "      <td>0.275</td>\n",
              "      <td>0.5</td>\n",
              "      <td>0.151515</td>\n",
              "      <td>0.0</td>\n",
              "      <td>1.0</td>\n",
              "      <td>0.750000</td>\n",
              "      <td>0.0</td>\n",
              "      <td>0.0</td>\n",
              "      <td>0.0</td>\n",
              "      <td>0.0</td>\n",
              "      <td>0.0</td>\n",
              "      <td>0.0</td>\n",
              "      <td>0.0</td>\n",
              "      <td>0.0</td>\n",
              "      <td>1.0</td>\n",
              "      <td>0.0</td>\n",
              "      <td>0.0</td>\n",
              "    </tr>\n",
              "    <tr>\n",
              "      <th>3</th>\n",
              "      <td>0.0</td>\n",
              "      <td>0.000000</td>\n",
              "      <td>0.425</td>\n",
              "      <td>0.5</td>\n",
              "      <td>0.060606</td>\n",
              "      <td>0.0</td>\n",
              "      <td>0.0</td>\n",
              "      <td>0.416667</td>\n",
              "      <td>0.0</td>\n",
              "      <td>0.0</td>\n",
              "      <td>0.0</td>\n",
              "      <td>0.0</td>\n",
              "      <td>0.0</td>\n",
              "      <td>0.0</td>\n",
              "      <td>1.0</td>\n",
              "      <td>0.0</td>\n",
              "      <td>1.0</td>\n",
              "      <td>0.0</td>\n",
              "      <td>1.0</td>\n",
              "    </tr>\n",
              "    <tr>\n",
              "      <th>4</th>\n",
              "      <td>0.0</td>\n",
              "      <td>0.000000</td>\n",
              "      <td>0.200</td>\n",
              "      <td>0.5</td>\n",
              "      <td>0.030303</td>\n",
              "      <td>0.0</td>\n",
              "      <td>0.0</td>\n",
              "      <td>0.450000</td>\n",
              "      <td>0.0</td>\n",
              "      <td>0.0</td>\n",
              "      <td>0.0</td>\n",
              "      <td>0.0</td>\n",
              "      <td>1.0</td>\n",
              "      <td>0.0</td>\n",
              "      <td>0.0</td>\n",
              "      <td>0.0</td>\n",
              "      <td>0.0</td>\n",
              "      <td>0.0</td>\n",
              "      <td>1.0</td>\n",
              "    </tr>\n",
              "  </tbody>\n",
              "</table>\n",
              "</div>"
            ],
            "text/plain": [
              "   education  ...  recruitment_channel_sourcing\n",
              "0        0.0  ...                           1.0\n",
              "1        0.0  ...                           1.0\n",
              "2        0.0  ...                           0.0\n",
              "3        0.0  ...                           1.0\n",
              "4        0.0  ...                           1.0\n",
              "\n",
              "[5 rows x 19 columns]"
            ]
          },
          "metadata": {},
          "execution_count": 46
        }
      ]
    },
    {
      "cell_type": "code",
      "metadata": {
        "colab": {
          "base_uri": "https://localhost:8080/",
          "height": 243
        },
        "id": "lskag3r1od4N",
        "outputId": "f469ddf4-2664-48b8-d07b-0ef2b01e4564"
      },
      "source": [
        "min_max_scaler_object = preprocessing.MinMaxScaler()\n",
        "X_test1 = min_max_scaler_object.fit_transform(X_test)\n",
        "X_test1 = pd.DataFrame(X_test1 , columns = columnNames)\n",
        "X_test1.head()"
      ],
      "execution_count": 47,
      "outputs": [
        {
          "output_type": "execute_result",
          "data": {
            "text/html": [
              "<div>\n",
              "<style scoped>\n",
              "    .dataframe tbody tr th:only-of-type {\n",
              "        vertical-align: middle;\n",
              "    }\n",
              "\n",
              "    .dataframe tbody tr th {\n",
              "        vertical-align: top;\n",
              "    }\n",
              "\n",
              "    .dataframe thead th {\n",
              "        text-align: right;\n",
              "    }\n",
              "</style>\n",
              "<table border=\"1\" class=\"dataframe\">\n",
              "  <thead>\n",
              "    <tr style=\"text-align: right;\">\n",
              "      <th></th>\n",
              "      <th>education</th>\n",
              "      <th>no_of_trainings</th>\n",
              "      <th>age</th>\n",
              "      <th>previous_year_rating</th>\n",
              "      <th>length_of_service</th>\n",
              "      <th>KPIs_met&gt;80%</th>\n",
              "      <th>awards_won?</th>\n",
              "      <th>avg_training_score</th>\n",
              "      <th>department_Finance</th>\n",
              "      <th>department_HR</th>\n",
              "      <th>department_Legal</th>\n",
              "      <th>department_Operations</th>\n",
              "      <th>department_Procurement</th>\n",
              "      <th>department_R&amp;D</th>\n",
              "      <th>department_Sales &amp; Marketing</th>\n",
              "      <th>deartment_Technology</th>\n",
              "      <th>gender_m</th>\n",
              "      <th>recruitment_channel_referred</th>\n",
              "      <th>recruitment_channel_sourcing</th>\n",
              "    </tr>\n",
              "  </thead>\n",
              "  <tbody>\n",
              "    <tr>\n",
              "      <th>0</th>\n",
              "      <td>0.0</td>\n",
              "      <td>0.0</td>\n",
              "      <td>0.300</td>\n",
              "      <td>0.50</td>\n",
              "      <td>0.032258</td>\n",
              "      <td>0.0</td>\n",
              "      <td>0.0</td>\n",
              "      <td>0.491525</td>\n",
              "      <td>0.0</td>\n",
              "      <td>0.0</td>\n",
              "      <td>0.0</td>\n",
              "      <td>0.0</td>\n",
              "      <td>1.0</td>\n",
              "      <td>0.0</td>\n",
              "      <td>0.0</td>\n",
              "      <td>0.0</td>\n",
              "      <td>0.0</td>\n",
              "      <td>0.0</td>\n",
              "      <td>0.0</td>\n",
              "    </tr>\n",
              "    <tr>\n",
              "      <th>1</th>\n",
              "      <td>0.0</td>\n",
              "      <td>0.0</td>\n",
              "      <td>0.225</td>\n",
              "      <td>0.00</td>\n",
              "      <td>0.129032</td>\n",
              "      <td>0.0</td>\n",
              "      <td>0.0</td>\n",
              "      <td>0.135593</td>\n",
              "      <td>0.0</td>\n",
              "      <td>0.0</td>\n",
              "      <td>0.0</td>\n",
              "      <td>0.0</td>\n",
              "      <td>0.0</td>\n",
              "      <td>0.0</td>\n",
              "      <td>1.0</td>\n",
              "      <td>0.0</td>\n",
              "      <td>1.0</td>\n",
              "      <td>0.0</td>\n",
              "      <td>1.0</td>\n",
              "    </tr>\n",
              "    <tr>\n",
              "      <th>2</th>\n",
              "      <td>0.0</td>\n",
              "      <td>0.0</td>\n",
              "      <td>0.300</td>\n",
              "      <td>0.75</td>\n",
              "      <td>0.096774</td>\n",
              "      <td>1.0</td>\n",
              "      <td>1.0</td>\n",
              "      <td>0.288136</td>\n",
              "      <td>0.0</td>\n",
              "      <td>0.0</td>\n",
              "      <td>0.0</td>\n",
              "      <td>1.0</td>\n",
              "      <td>0.0</td>\n",
              "      <td>0.0</td>\n",
              "      <td>0.0</td>\n",
              "      <td>0.0</td>\n",
              "      <td>1.0</td>\n",
              "      <td>0.0</td>\n",
              "      <td>0.0</td>\n",
              "    </tr>\n",
              "    <tr>\n",
              "      <th>3</th>\n",
              "      <td>0.0</td>\n",
              "      <td>0.0</td>\n",
              "      <td>0.350</td>\n",
              "      <td>0.75</td>\n",
              "      <td>0.129032</td>\n",
              "      <td>1.0</td>\n",
              "      <td>0.0</td>\n",
              "      <td>0.966102</td>\n",
              "      <td>0.0</td>\n",
              "      <td>0.0</td>\n",
              "      <td>0.0</td>\n",
              "      <td>1.0</td>\n",
              "      <td>0.0</td>\n",
              "      <td>0.0</td>\n",
              "      <td>0.0</td>\n",
              "      <td>0.0</td>\n",
              "      <td>1.0</td>\n",
              "      <td>0.0</td>\n",
              "      <td>0.0</td>\n",
              "    </tr>\n",
              "    <tr>\n",
              "      <th>4</th>\n",
              "      <td>0.0</td>\n",
              "      <td>0.0</td>\n",
              "      <td>0.300</td>\n",
              "      <td>0.75</td>\n",
              "      <td>0.064516</td>\n",
              "      <td>1.0</td>\n",
              "      <td>0.0</td>\n",
              "      <td>0.830508</td>\n",
              "      <td>0.0</td>\n",
              "      <td>0.0</td>\n",
              "      <td>0.0</td>\n",
              "      <td>0.0</td>\n",
              "      <td>0.0</td>\n",
              "      <td>0.0</td>\n",
              "      <td>1.0</td>\n",
              "      <td>0.0</td>\n",
              "      <td>1.0</td>\n",
              "      <td>0.0</td>\n",
              "      <td>0.0</td>\n",
              "    </tr>\n",
              "  </tbody>\n",
              "</table>\n",
              "</div>"
            ],
            "text/plain": [
              "   education  ...  recruitment_channel_sourcing\n",
              "0        0.0  ...                           0.0\n",
              "1        0.0  ...                           1.0\n",
              "2        0.0  ...                           0.0\n",
              "3        0.0  ...                           0.0\n",
              "4        0.0  ...                           0.0\n",
              "\n",
              "[5 rows x 19 columns]"
            ]
          },
          "metadata": {},
          "execution_count": 47
        }
      ]
    },
    {
      "cell_type": "code",
      "metadata": {
        "colab": {
          "base_uri": "https://localhost:8080/"
        },
        "id": "_0rNf3u0ojWk",
        "outputId": "8f0042e7-5139-42b8-f2fd-b242d9bd5b93"
      },
      "source": [
        "from sklearn.linear_model import LogisticRegression\n",
        "#create an instance and fit the model \n",
        "logmodel1 = LogisticRegression()\n",
        "logmodel1.fit(X_train1, y_train)"
      ],
      "execution_count": 48,
      "outputs": [
        {
          "output_type": "execute_result",
          "data": {
            "text/plain": [
              "LogisticRegression()"
            ]
          },
          "metadata": {},
          "execution_count": 48
        }
      ]
    },
    {
      "cell_type": "code",
      "metadata": {
        "id": "xCHheY8Bon-9"
      },
      "source": [
        "#predictions\n",
        "predictions1 = logmodel1.predict(X_test1)"
      ],
      "execution_count": 49,
      "outputs": []
    },
    {
      "cell_type": "code",
      "metadata": {
        "colab": {
          "base_uri": "https://localhost:8080/"
        },
        "id": "F3jCEl3aor0g",
        "outputId": "b2611e95-600a-4ce4-c86f-270074507e39"
      },
      "source": [
        "print(confusion_matrix(y_test, predictions1))\n",
        "print(classification_report(y_test,predictions1))"
      ],
      "execution_count": 50,
      "outputs": [
        {
          "output_type": "stream",
          "name": "stdout",
          "text": [
            "[[422 128]\n",
            " [122 328]]\n",
            "              precision    recall  f1-score   support\n",
            "\n",
            "           0       0.78      0.77      0.77       550\n",
            "           1       0.72      0.73      0.72       450\n",
            "\n",
            "    accuracy                           0.75      1000\n",
            "   macro avg       0.75      0.75      0.75      1000\n",
            "weighted avg       0.75      0.75      0.75      1000\n",
            "\n"
          ]
        }
      ]
    },
    {
      "cell_type": "markdown",
      "metadata": {
        "id": "vnVD2QEVoxWb"
      },
      "source": [
        "###**Use Standardization**"
      ]
    },
    {
      "cell_type": "code",
      "metadata": {
        "colab": {
          "base_uri": "https://localhost:8080/",
          "height": 243
        },
        "id": "tu4xm4XJpDNO",
        "outputId": "98814861-5f86-47b6-e885-b6a77fd67223"
      },
      "source": [
        "from sklearn.preprocessing import StandardScaler\n",
        "std_scaler_object = preprocessing.StandardScaler()\n",
        "X_train2 = std_scaler_object.fit_transform(X_train)\n",
        "X_train2 = pd.DataFrame(X_train2 , columns = columnNames)\n",
        "X_train2.head()"
      ],
      "execution_count": 51,
      "outputs": [
        {
          "output_type": "execute_result",
          "data": {
            "text/html": [
              "<div>\n",
              "<style scoped>\n",
              "    .dataframe tbody tr th:only-of-type {\n",
              "        vertical-align: middle;\n",
              "    }\n",
              "\n",
              "    .dataframe tbody tr th {\n",
              "        vertical-align: top;\n",
              "    }\n",
              "\n",
              "    .dataframe thead th {\n",
              "        text-align: right;\n",
              "    }\n",
              "</style>\n",
              "<table border=\"1\" class=\"dataframe\">\n",
              "  <thead>\n",
              "    <tr style=\"text-align: right;\">\n",
              "      <th></th>\n",
              "      <th>education</th>\n",
              "      <th>no_of_trainings</th>\n",
              "      <th>age</th>\n",
              "      <th>previous_year_rating</th>\n",
              "      <th>length_of_service</th>\n",
              "      <th>KPIs_met&gt;80%</th>\n",
              "      <th>awards_won?</th>\n",
              "      <th>avg_training_score</th>\n",
              "      <th>department_Finance</th>\n",
              "      <th>department_HR</th>\n",
              "      <th>department_Legal</th>\n",
              "      <th>department_Operations</th>\n",
              "      <th>department_Procurement</th>\n",
              "      <th>department_R&amp;D</th>\n",
              "      <th>department_Sales &amp; Marketing</th>\n",
              "      <th>deartment_Technology</th>\n",
              "      <th>gender_m</th>\n",
              "      <th>recruitment_channel_referred</th>\n",
              "      <th>recruitment_channel_sourcing</th>\n",
              "    </tr>\n",
              "  </thead>\n",
              "  <tbody>\n",
              "    <tr>\n",
              "      <th>0</th>\n",
              "      <td>-0.663988</td>\n",
              "      <td>-0.405767</td>\n",
              "      <td>0.319692</td>\n",
              "      <td>1.213018</td>\n",
              "      <td>0.514540</td>\n",
              "      <td>1.011567</td>\n",
              "      <td>-0.249269</td>\n",
              "      <td>1.537710</td>\n",
              "      <td>-0.204788</td>\n",
              "      <td>-0.202122</td>\n",
              "      <td>-0.124443</td>\n",
              "      <td>1.945428</td>\n",
              "      <td>-0.416371</td>\n",
              "      <td>-0.129525</td>\n",
              "      <td>-0.620904</td>\n",
              "      <td>-0.422141</td>\n",
              "      <td>0.665193</td>\n",
              "      <td>-0.156813</td>\n",
              "      <td>1.173934</td>\n",
              "    </tr>\n",
              "    <tr>\n",
              "      <th>1</th>\n",
              "      <td>-0.663988</td>\n",
              "      <td>-0.405767</td>\n",
              "      <td>0.588538</td>\n",
              "      <td>-0.493955</td>\n",
              "      <td>1.220841</td>\n",
              "      <td>-0.988565</td>\n",
              "      <td>-0.249269</td>\n",
              "      <td>-0.884534</td>\n",
              "      <td>-0.204788</td>\n",
              "      <td>-0.202122</td>\n",
              "      <td>-0.124443</td>\n",
              "      <td>-0.514026</td>\n",
              "      <td>-0.416371</td>\n",
              "      <td>-0.129525</td>\n",
              "      <td>1.610556</td>\n",
              "      <td>-0.422141</td>\n",
              "      <td>0.665193</td>\n",
              "      <td>-0.156813</td>\n",
              "      <td>1.173934</td>\n",
              "    </tr>\n",
              "    <tr>\n",
              "      <th>2</th>\n",
              "      <td>-0.663988</td>\n",
              "      <td>1.477142</td>\n",
              "      <td>-0.486847</td>\n",
              "      <td>-0.493955</td>\n",
              "      <td>0.043673</td>\n",
              "      <td>-0.988565</td>\n",
              "      <td>4.011735</td>\n",
              "      <td>1.191675</td>\n",
              "      <td>-0.204788</td>\n",
              "      <td>-0.202122</td>\n",
              "      <td>-0.124443</td>\n",
              "      <td>-0.514026</td>\n",
              "      <td>-0.416371</td>\n",
              "      <td>-0.129525</td>\n",
              "      <td>-0.620904</td>\n",
              "      <td>-0.422141</td>\n",
              "      <td>0.665193</td>\n",
              "      <td>-0.156813</td>\n",
              "      <td>-0.851837</td>\n",
              "    </tr>\n",
              "    <tr>\n",
              "      <th>3</th>\n",
              "      <td>-0.663988</td>\n",
              "      <td>-0.405767</td>\n",
              "      <td>0.319692</td>\n",
              "      <td>-0.493955</td>\n",
              "      <td>-0.662628</td>\n",
              "      <td>-0.988565</td>\n",
              "      <td>-0.249269</td>\n",
              "      <td>-0.192465</td>\n",
              "      <td>-0.204788</td>\n",
              "      <td>-0.202122</td>\n",
              "      <td>-0.124443</td>\n",
              "      <td>-0.514026</td>\n",
              "      <td>-0.416371</td>\n",
              "      <td>-0.129525</td>\n",
              "      <td>1.610556</td>\n",
              "      <td>-0.422141</td>\n",
              "      <td>0.665193</td>\n",
              "      <td>-0.156813</td>\n",
              "      <td>1.173934</td>\n",
              "    </tr>\n",
              "    <tr>\n",
              "      <th>4</th>\n",
              "      <td>-0.663988</td>\n",
              "      <td>-0.405767</td>\n",
              "      <td>-0.890116</td>\n",
              "      <td>-0.493955</td>\n",
              "      <td>-0.898062</td>\n",
              "      <td>-0.988565</td>\n",
              "      <td>-0.249269</td>\n",
              "      <td>-0.054051</td>\n",
              "      <td>-0.204788</td>\n",
              "      <td>-0.202122</td>\n",
              "      <td>-0.124443</td>\n",
              "      <td>-0.514026</td>\n",
              "      <td>2.401706</td>\n",
              "      <td>-0.129525</td>\n",
              "      <td>-0.620904</td>\n",
              "      <td>-0.422141</td>\n",
              "      <td>-1.503324</td>\n",
              "      <td>-0.156813</td>\n",
              "      <td>1.173934</td>\n",
              "    </tr>\n",
              "  </tbody>\n",
              "</table>\n",
              "</div>"
            ],
            "text/plain": [
              "   education  ...  recruitment_channel_sourcing\n",
              "0  -0.663988  ...                      1.173934\n",
              "1  -0.663988  ...                      1.173934\n",
              "2  -0.663988  ...                     -0.851837\n",
              "3  -0.663988  ...                      1.173934\n",
              "4  -0.663988  ...                      1.173934\n",
              "\n",
              "[5 rows x 19 columns]"
            ]
          },
          "metadata": {},
          "execution_count": 51
        }
      ]
    },
    {
      "cell_type": "code",
      "metadata": {
        "colab": {
          "base_uri": "https://localhost:8080/",
          "height": 243
        },
        "id": "tW9FMNqOpIIi",
        "outputId": "f0d21b45-d45c-4671-8bdb-5dd8ea05a37c"
      },
      "source": [
        "from sklearn.preprocessing import StandardScaler\n",
        "std_scaler_object = preprocessing.StandardScaler()\n",
        "X_test2 = std_scaler_object.fit_transform(X_test)\n",
        "X_test2 = pd.DataFrame(X_test2 , columns = columnNames)\n",
        "X_test2.head()"
      ],
      "execution_count": 52,
      "outputs": [
        {
          "output_type": "execute_result",
          "data": {
            "text/html": [
              "<div>\n",
              "<style scoped>\n",
              "    .dataframe tbody tr th:only-of-type {\n",
              "        vertical-align: middle;\n",
              "    }\n",
              "\n",
              "    .dataframe tbody tr th {\n",
              "        vertical-align: top;\n",
              "    }\n",
              "\n",
              "    .dataframe thead th {\n",
              "        text-align: right;\n",
              "    }\n",
              "</style>\n",
              "<table border=\"1\" class=\"dataframe\">\n",
              "  <thead>\n",
              "    <tr style=\"text-align: right;\">\n",
              "      <th></th>\n",
              "      <th>education</th>\n",
              "      <th>no_of_trainings</th>\n",
              "      <th>age</th>\n",
              "      <th>previous_year_rating</th>\n",
              "      <th>length_of_service</th>\n",
              "      <th>KPIs_met&gt;80%</th>\n",
              "      <th>awards_won?</th>\n",
              "      <th>avg_training_score</th>\n",
              "      <th>department_Finance</th>\n",
              "      <th>department_HR</th>\n",
              "      <th>department_Legal</th>\n",
              "      <th>department_Operations</th>\n",
              "      <th>department_Procurement</th>\n",
              "      <th>department_R&amp;D</th>\n",
              "      <th>department_Sales &amp; Marketing</th>\n",
              "      <th>deartment_Technology</th>\n",
              "      <th>gender_m</th>\n",
              "      <th>recruitment_channel_referred</th>\n",
              "      <th>recruitment_channel_sourcing</th>\n",
              "    </tr>\n",
              "  </thead>\n",
              "  <tbody>\n",
              "    <tr>\n",
              "      <th>0</th>\n",
              "      <td>-0.664865</td>\n",
              "      <td>-0.411275</td>\n",
              "      <td>-0.370865</td>\n",
              "      <td>-0.463194</td>\n",
              "      <td>-0.924263</td>\n",
              "      <td>-0.978237</td>\n",
              "      <td>-0.241249</td>\n",
              "      <td>0.160788</td>\n",
              "      <td>-0.206768</td>\n",
              "      <td>-0.204124</td>\n",
              "      <td>-0.119159</td>\n",
              "      <td>-0.510915</td>\n",
              "      <td>2.499275</td>\n",
              "      <td>-0.139169</td>\n",
              "      <td>-0.648425</td>\n",
              "      <td>-0.406818</td>\n",
              "      <td>-1.542199</td>\n",
              "      <td>-0.187608</td>\n",
              "      <td>-0.819903</td>\n",
              "    </tr>\n",
              "    <tr>\n",
              "      <th>1</th>\n",
              "      <td>-0.664865</td>\n",
              "      <td>-0.411275</td>\n",
              "      <td>-0.759070</td>\n",
              "      <td>-2.129361</td>\n",
              "      <td>-0.244491</td>\n",
              "      <td>-0.978237</td>\n",
              "      <td>-0.241249</td>\n",
              "      <td>-1.276654</td>\n",
              "      <td>-0.206768</td>\n",
              "      <td>-0.204124</td>\n",
              "      <td>-0.119159</td>\n",
              "      <td>-0.510915</td>\n",
              "      <td>-0.400116</td>\n",
              "      <td>-0.139169</td>\n",
              "      <td>1.542199</td>\n",
              "      <td>-0.406818</td>\n",
              "      <td>0.648425</td>\n",
              "      <td>-0.187608</td>\n",
              "      <td>1.219657</td>\n",
              "    </tr>\n",
              "    <tr>\n",
              "      <th>2</th>\n",
              "      <td>-0.664865</td>\n",
              "      <td>-0.411275</td>\n",
              "      <td>-0.370865</td>\n",
              "      <td>0.369889</td>\n",
              "      <td>-0.471082</td>\n",
              "      <td>1.022247</td>\n",
              "      <td>4.145096</td>\n",
              "      <td>-0.660607</td>\n",
              "      <td>-0.206768</td>\n",
              "      <td>-0.204124</td>\n",
              "      <td>-0.119159</td>\n",
              "      <td>1.957273</td>\n",
              "      <td>-0.400116</td>\n",
              "      <td>-0.139169</td>\n",
              "      <td>-0.648425</td>\n",
              "      <td>-0.406818</td>\n",
              "      <td>0.648425</td>\n",
              "      <td>-0.187608</td>\n",
              "      <td>-0.819903</td>\n",
              "    </tr>\n",
              "    <tr>\n",
              "      <th>3</th>\n",
              "      <td>-0.664865</td>\n",
              "      <td>-0.411275</td>\n",
              "      <td>-0.112062</td>\n",
              "      <td>0.369889</td>\n",
              "      <td>-0.244491</td>\n",
              "      <td>1.022247</td>\n",
              "      <td>-0.241249</td>\n",
              "      <td>2.077378</td>\n",
              "      <td>-0.206768</td>\n",
              "      <td>-0.204124</td>\n",
              "      <td>-0.119159</td>\n",
              "      <td>1.957273</td>\n",
              "      <td>-0.400116</td>\n",
              "      <td>-0.139169</td>\n",
              "      <td>-0.648425</td>\n",
              "      <td>-0.406818</td>\n",
              "      <td>0.648425</td>\n",
              "      <td>-0.187608</td>\n",
              "      <td>-0.819903</td>\n",
              "    </tr>\n",
              "    <tr>\n",
              "      <th>4</th>\n",
              "      <td>-0.664865</td>\n",
              "      <td>-0.411275</td>\n",
              "      <td>-0.370865</td>\n",
              "      <td>0.369889</td>\n",
              "      <td>-0.697672</td>\n",
              "      <td>1.022247</td>\n",
              "      <td>-0.241249</td>\n",
              "      <td>1.529781</td>\n",
              "      <td>-0.206768</td>\n",
              "      <td>-0.204124</td>\n",
              "      <td>-0.119159</td>\n",
              "      <td>-0.510915</td>\n",
              "      <td>-0.400116</td>\n",
              "      <td>-0.139169</td>\n",
              "      <td>1.542199</td>\n",
              "      <td>-0.406818</td>\n",
              "      <td>0.648425</td>\n",
              "      <td>-0.187608</td>\n",
              "      <td>-0.819903</td>\n",
              "    </tr>\n",
              "  </tbody>\n",
              "</table>\n",
              "</div>"
            ],
            "text/plain": [
              "   education  ...  recruitment_channel_sourcing\n",
              "0  -0.664865  ...                     -0.819903\n",
              "1  -0.664865  ...                      1.219657\n",
              "2  -0.664865  ...                     -0.819903\n",
              "3  -0.664865  ...                     -0.819903\n",
              "4  -0.664865  ...                     -0.819903\n",
              "\n",
              "[5 rows x 19 columns]"
            ]
          },
          "metadata": {},
          "execution_count": 52
        }
      ]
    },
    {
      "cell_type": "code",
      "metadata": {
        "colab": {
          "base_uri": "https://localhost:8080/"
        },
        "id": "oZsq93lmpNwp",
        "outputId": "56d8bd89-7bf0-4304-d2cb-88436218b1dc"
      },
      "source": [
        "from sklearn.linear_model import LogisticRegression\n",
        "#create an instance and fit the model \n",
        "logmodel2 = LogisticRegression()\n",
        "logmodel2.fit(X_train2, y_train)"
      ],
      "execution_count": 53,
      "outputs": [
        {
          "output_type": "execute_result",
          "data": {
            "text/plain": [
              "LogisticRegression()"
            ]
          },
          "metadata": {},
          "execution_count": 53
        }
      ]
    },
    {
      "cell_type": "code",
      "metadata": {
        "id": "All1hP-5pS_J"
      },
      "source": [
        "#predictions\n",
        "predictions2 = logmodel2.predict(X_test2)"
      ],
      "execution_count": 54,
      "outputs": []
    },
    {
      "cell_type": "code",
      "metadata": {
        "colab": {
          "base_uri": "https://localhost:8080/"
        },
        "id": "WsW4U5x0pZHZ",
        "outputId": "d0ada358-3994-476f-8be5-d073c5f6379d"
      },
      "source": [
        "print(confusion_matrix(y_test, predictions2))\n",
        "print(classification_report(y_test,predictions2))"
      ],
      "execution_count": 55,
      "outputs": [
        {
          "output_type": "stream",
          "name": "stdout",
          "text": [
            "[[412 138]\n",
            " [ 97 353]]\n",
            "              precision    recall  f1-score   support\n",
            "\n",
            "           0       0.81      0.75      0.78       550\n",
            "           1       0.72      0.78      0.75       450\n",
            "\n",
            "    accuracy                           0.77      1000\n",
            "   macro avg       0.76      0.77      0.76      1000\n",
            "weighted avg       0.77      0.77      0.77      1000\n",
            "\n"
          ]
        }
      ]
    },
    {
      "cell_type": "markdown",
      "metadata": {
        "id": "Ms3b6XprpfcK"
      },
      "source": [
        "**Observation: Standardization method gives the accuracy of 77%**\n",
        "\n",
        "**Decision: We will use the \"Standardization\" method for our model.**\n"
      ]
    },
    {
      "cell_type": "markdown",
      "metadata": {
        "id": "REswnoO0-L2Y"
      },
      "source": [
        "##**IX) Write out the transformed Input file for further usage**"
      ]
    },
    {
      "cell_type": "code",
      "metadata": {
        "colab": {
          "base_uri": "https://localhost:8080/",
          "height": 243
        },
        "id": "12IjjVmsATnX",
        "outputId": "2d644d7d-3ca2-4319-c363-89465ddfa265"
      },
      "source": [
        "X1 = df.drop(['is_promoted'], axis = 1)\n",
        "Y1 = df['is_promoted']\n",
        "X.head()"
      ],
      "execution_count": 56,
      "outputs": [
        {
          "output_type": "execute_result",
          "data": {
            "text/html": [
              "<div>\n",
              "<style scoped>\n",
              "    .dataframe tbody tr th:only-of-type {\n",
              "        vertical-align: middle;\n",
              "    }\n",
              "\n",
              "    .dataframe tbody tr th {\n",
              "        vertical-align: top;\n",
              "    }\n",
              "\n",
              "    .dataframe thead th {\n",
              "        text-align: right;\n",
              "    }\n",
              "</style>\n",
              "<table border=\"1\" class=\"dataframe\">\n",
              "  <thead>\n",
              "    <tr style=\"text-align: right;\">\n",
              "      <th></th>\n",
              "      <th>education</th>\n",
              "      <th>no_of_trainings</th>\n",
              "      <th>age</th>\n",
              "      <th>previous_year_rating</th>\n",
              "      <th>length_of_service</th>\n",
              "      <th>KPIs_met &gt;80%</th>\n",
              "      <th>awards_won?</th>\n",
              "      <th>avg_training_score</th>\n",
              "      <th>department_Finance</th>\n",
              "      <th>department_HR</th>\n",
              "      <th>department_Legal</th>\n",
              "      <th>department_Operations</th>\n",
              "      <th>department_Procurement</th>\n",
              "      <th>department_R&amp;D</th>\n",
              "      <th>department_Sales &amp; Marketing</th>\n",
              "      <th>department_Technology</th>\n",
              "      <th>gender_m</th>\n",
              "      <th>recruitment_channel_referred</th>\n",
              "      <th>recruitment_channel_sourcing</th>\n",
              "    </tr>\n",
              "  </thead>\n",
              "  <tbody>\n",
              "    <tr>\n",
              "      <th>0</th>\n",
              "      <td>2</td>\n",
              "      <td>1</td>\n",
              "      <td>35</td>\n",
              "      <td>5.0</td>\n",
              "      <td>8</td>\n",
              "      <td>1</td>\n",
              "      <td>0</td>\n",
              "      <td>49</td>\n",
              "      <td>0</td>\n",
              "      <td>0</td>\n",
              "      <td>0</td>\n",
              "      <td>0</td>\n",
              "      <td>0</td>\n",
              "      <td>0</td>\n",
              "      <td>1</td>\n",
              "      <td>0</td>\n",
              "      <td>0</td>\n",
              "      <td>0</td>\n",
              "      <td>1</td>\n",
              "    </tr>\n",
              "    <tr>\n",
              "      <th>1</th>\n",
              "      <td>0</td>\n",
              "      <td>1</td>\n",
              "      <td>30</td>\n",
              "      <td>5.0</td>\n",
              "      <td>4</td>\n",
              "      <td>0</td>\n",
              "      <td>0</td>\n",
              "      <td>60</td>\n",
              "      <td>0</td>\n",
              "      <td>0</td>\n",
              "      <td>0</td>\n",
              "      <td>1</td>\n",
              "      <td>0</td>\n",
              "      <td>0</td>\n",
              "      <td>0</td>\n",
              "      <td>0</td>\n",
              "      <td>1</td>\n",
              "      <td>0</td>\n",
              "      <td>0</td>\n",
              "    </tr>\n",
              "    <tr>\n",
              "      <th>2</th>\n",
              "      <td>0</td>\n",
              "      <td>1</td>\n",
              "      <td>34</td>\n",
              "      <td>3.0</td>\n",
              "      <td>7</td>\n",
              "      <td>0</td>\n",
              "      <td>0</td>\n",
              "      <td>50</td>\n",
              "      <td>0</td>\n",
              "      <td>0</td>\n",
              "      <td>0</td>\n",
              "      <td>0</td>\n",
              "      <td>0</td>\n",
              "      <td>0</td>\n",
              "      <td>1</td>\n",
              "      <td>0</td>\n",
              "      <td>1</td>\n",
              "      <td>0</td>\n",
              "      <td>1</td>\n",
              "    </tr>\n",
              "    <tr>\n",
              "      <th>3</th>\n",
              "      <td>0</td>\n",
              "      <td>2</td>\n",
              "      <td>39</td>\n",
              "      <td>1.0</td>\n",
              "      <td>10</td>\n",
              "      <td>0</td>\n",
              "      <td>0</td>\n",
              "      <td>50</td>\n",
              "      <td>0</td>\n",
              "      <td>0</td>\n",
              "      <td>0</td>\n",
              "      <td>0</td>\n",
              "      <td>0</td>\n",
              "      <td>0</td>\n",
              "      <td>1</td>\n",
              "      <td>0</td>\n",
              "      <td>1</td>\n",
              "      <td>0</td>\n",
              "      <td>0</td>\n",
              "    </tr>\n",
              "    <tr>\n",
              "      <th>4</th>\n",
              "      <td>0</td>\n",
              "      <td>1</td>\n",
              "      <td>45</td>\n",
              "      <td>3.0</td>\n",
              "      <td>2</td>\n",
              "      <td>0</td>\n",
              "      <td>0</td>\n",
              "      <td>73</td>\n",
              "      <td>0</td>\n",
              "      <td>0</td>\n",
              "      <td>0</td>\n",
              "      <td>0</td>\n",
              "      <td>0</td>\n",
              "      <td>0</td>\n",
              "      <td>0</td>\n",
              "      <td>1</td>\n",
              "      <td>1</td>\n",
              "      <td>0</td>\n",
              "      <td>0</td>\n",
              "    </tr>\n",
              "  </tbody>\n",
              "</table>\n",
              "</div>"
            ],
            "text/plain": [
              "   education  ...  recruitment_channel_sourcing\n",
              "0          2  ...                             1\n",
              "1          0  ...                             0\n",
              "2          0  ...                             1\n",
              "3          0  ...                             0\n",
              "4          0  ...                             0\n",
              "\n",
              "[5 rows x 19 columns]"
            ]
          },
          "metadata": {},
          "execution_count": 56
        }
      ]
    },
    {
      "cell_type": "code",
      "metadata": {
        "colab": {
          "base_uri": "https://localhost:8080/",
          "height": 261
        },
        "id": "sadwwJ1IAwGn",
        "outputId": "326844e9-524a-4ab5-d66e-50f8483aface"
      },
      "source": [
        "std_scaler_object = preprocessing.StandardScaler()\n",
        "X2 = std_scaler_object.fit_transform(X1)\n",
        "X2 = pd.DataFrame(X2 , columns = columnNames)\n",
        "print(X2.shape)\n",
        "X2.head()"
      ],
      "execution_count": 57,
      "outputs": [
        {
          "output_type": "stream",
          "name": "stdout",
          "text": [
            "(5000, 19)\n"
          ]
        },
        {
          "output_type": "execute_result",
          "data": {
            "text/html": [
              "<div>\n",
              "<style scoped>\n",
              "    .dataframe tbody tr th:only-of-type {\n",
              "        vertical-align: middle;\n",
              "    }\n",
              "\n",
              "    .dataframe tbody tr th {\n",
              "        vertical-align: top;\n",
              "    }\n",
              "\n",
              "    .dataframe thead th {\n",
              "        text-align: right;\n",
              "    }\n",
              "</style>\n",
              "<table border=\"1\" class=\"dataframe\">\n",
              "  <thead>\n",
              "    <tr style=\"text-align: right;\">\n",
              "      <th></th>\n",
              "      <th>education</th>\n",
              "      <th>no_of_trainings</th>\n",
              "      <th>age</th>\n",
              "      <th>previous_year_rating</th>\n",
              "      <th>length_of_service</th>\n",
              "      <th>KPIs_met&gt;80%</th>\n",
              "      <th>awards_won?</th>\n",
              "      <th>avg_training_score</th>\n",
              "      <th>department_Finance</th>\n",
              "      <th>department_HR</th>\n",
              "      <th>department_Legal</th>\n",
              "      <th>department_Operations</th>\n",
              "      <th>department_Procurement</th>\n",
              "      <th>department_R&amp;D</th>\n",
              "      <th>department_Sales &amp; Marketing</th>\n",
              "      <th>deartment_Technology</th>\n",
              "      <th>gender_m</th>\n",
              "      <th>recruitment_channel_referred</th>\n",
              "      <th>recruitment_channel_sourcing</th>\n",
              "    </tr>\n",
              "  </thead>\n",
              "  <tbody>\n",
              "    <tr>\n",
              "      <th>0</th>\n",
              "      <td>1.531419</td>\n",
              "      <td>-0.406222</td>\n",
              "      <td>0.043929</td>\n",
              "      <td>1.210876</td>\n",
              "      <td>0.497985</td>\n",
              "      <td>1.013694</td>\n",
              "      <td>-0.247681</td>\n",
              "      <td>-1.226037</td>\n",
              "      <td>-0.205185</td>\n",
              "      <td>-0.202524</td>\n",
              "      <td>-0.123404</td>\n",
              "      <td>-0.513404</td>\n",
              "      <td>-0.413142</td>\n",
              "      <td>-0.131507</td>\n",
              "      <td>1.596439</td>\n",
              "      <td>-0.419095</td>\n",
              "      <td>-1.510958</td>\n",
              "      <td>-0.163383</td>\n",
              "      <td>1.182891</td>\n",
              "    </tr>\n",
              "    <tr>\n",
              "      <th>1</th>\n",
              "      <td>-0.664164</td>\n",
              "      <td>-0.406222</td>\n",
              "      <td>-0.622875</td>\n",
              "      <td>1.210876</td>\n",
              "      <td>-0.436058</td>\n",
              "      <td>-0.986491</td>\n",
              "      <td>-0.247681</td>\n",
              "      <td>-0.466453</td>\n",
              "      <td>-0.205185</td>\n",
              "      <td>-0.202524</td>\n",
              "      <td>-0.123404</td>\n",
              "      <td>1.947784</td>\n",
              "      <td>-0.413142</td>\n",
              "      <td>-0.131507</td>\n",
              "      <td>-0.626394</td>\n",
              "      <td>-0.419095</td>\n",
              "      <td>0.661832</td>\n",
              "      <td>-0.163383</td>\n",
              "      <td>-0.845386</td>\n",
              "    </tr>\n",
              "    <tr>\n",
              "      <th>2</th>\n",
              "      <td>-0.664164</td>\n",
              "      <td>-0.406222</td>\n",
              "      <td>-0.089432</td>\n",
              "      <td>-0.487645</td>\n",
              "      <td>0.264474</td>\n",
              "      <td>-0.986491</td>\n",
              "      <td>-0.247681</td>\n",
              "      <td>-1.156984</td>\n",
              "      <td>-0.205185</td>\n",
              "      <td>-0.202524</td>\n",
              "      <td>-0.123404</td>\n",
              "      <td>-0.513404</td>\n",
              "      <td>-0.413142</td>\n",
              "      <td>-0.131507</td>\n",
              "      <td>1.596439</td>\n",
              "      <td>-0.419095</td>\n",
              "      <td>0.661832</td>\n",
              "      <td>-0.163383</td>\n",
              "      <td>1.182891</td>\n",
              "    </tr>\n",
              "    <tr>\n",
              "      <th>3</th>\n",
              "      <td>-0.664164</td>\n",
              "      <td>1.420317</td>\n",
              "      <td>0.577372</td>\n",
              "      <td>-2.186166</td>\n",
              "      <td>0.965007</td>\n",
              "      <td>-0.986491</td>\n",
              "      <td>-0.247681</td>\n",
              "      <td>-1.156984</td>\n",
              "      <td>-0.205185</td>\n",
              "      <td>-0.202524</td>\n",
              "      <td>-0.123404</td>\n",
              "      <td>-0.513404</td>\n",
              "      <td>-0.413142</td>\n",
              "      <td>-0.131507</td>\n",
              "      <td>1.596439</td>\n",
              "      <td>-0.419095</td>\n",
              "      <td>0.661832</td>\n",
              "      <td>-0.163383</td>\n",
              "      <td>-0.845386</td>\n",
              "    </tr>\n",
              "    <tr>\n",
              "      <th>4</th>\n",
              "      <td>-0.664164</td>\n",
              "      <td>-0.406222</td>\n",
              "      <td>1.377536</td>\n",
              "      <td>-0.487645</td>\n",
              "      <td>-0.903080</td>\n",
              "      <td>-0.986491</td>\n",
              "      <td>-0.247681</td>\n",
              "      <td>0.431236</td>\n",
              "      <td>-0.205185</td>\n",
              "      <td>-0.202524</td>\n",
              "      <td>-0.123404</td>\n",
              "      <td>-0.513404</td>\n",
              "      <td>-0.413142</td>\n",
              "      <td>-0.131507</td>\n",
              "      <td>-0.626394</td>\n",
              "      <td>2.386093</td>\n",
              "      <td>0.661832</td>\n",
              "      <td>-0.163383</td>\n",
              "      <td>-0.845386</td>\n",
              "    </tr>\n",
              "  </tbody>\n",
              "</table>\n",
              "</div>"
            ],
            "text/plain": [
              "   education  ...  recruitment_channel_sourcing\n",
              "0   1.531419  ...                      1.182891\n",
              "1  -0.664164  ...                     -0.845386\n",
              "2  -0.664164  ...                      1.182891\n",
              "3  -0.664164  ...                     -0.845386\n",
              "4  -0.664164  ...                     -0.845386\n",
              "\n",
              "[5 rows x 19 columns]"
            ]
          },
          "metadata": {},
          "execution_count": 57
        }
      ]
    },
    {
      "cell_type": "code",
      "metadata": {
        "colab": {
          "base_uri": "https://localhost:8080/"
        },
        "id": "z0H93IUNBu5J",
        "outputId": "d33b6388-20ea-44a9-934d-cfb55f172394"
      },
      "source": [
        "df1 = pd.DataFrame(data=X2)\n",
        "df1.info()"
      ],
      "execution_count": 58,
      "outputs": [
        {
          "output_type": "stream",
          "name": "stdout",
          "text": [
            "<class 'pandas.core.frame.DataFrame'>\n",
            "RangeIndex: 5000 entries, 0 to 4999\n",
            "Data columns (total 19 columns):\n",
            " #   Column                        Non-Null Count  Dtype  \n",
            "---  ------                        --------------  -----  \n",
            " 0   education                     5000 non-null   float64\n",
            " 1   no_of_trainings               5000 non-null   float64\n",
            " 2   age                           5000 non-null   float64\n",
            " 3   previous_year_rating          5000 non-null   float64\n",
            " 4   length_of_service             5000 non-null   float64\n",
            " 5   KPIs_met>80%                  5000 non-null   float64\n",
            " 6   awards_won?                   5000 non-null   float64\n",
            " 7   avg_training_score            5000 non-null   float64\n",
            " 8   department_Finance            5000 non-null   float64\n",
            " 9   department_HR                 5000 non-null   float64\n",
            " 10  department_Legal              5000 non-null   float64\n",
            " 11  department_Operations         5000 non-null   float64\n",
            " 12  department_Procurement        5000 non-null   float64\n",
            " 13  department_R&D                5000 non-null   float64\n",
            " 14  department_Sales & Marketing  5000 non-null   float64\n",
            " 15  deartment_Technology          5000 non-null   float64\n",
            " 16  gender_m                      5000 non-null   float64\n",
            " 17  recruitment_channel_referred  5000 non-null   float64\n",
            " 18  recruitment_channel_sourcing  5000 non-null   float64\n",
            "dtypes: float64(19)\n",
            "memory usage: 742.3 KB\n"
          ]
        }
      ]
    },
    {
      "cell_type": "code",
      "metadata": {
        "colab": {
          "base_uri": "https://localhost:8080/",
          "height": 243
        },
        "id": "thAk9wBODUr6",
        "outputId": "70a87ec6-1006-4e3f-f2cb-f94481bfd444"
      },
      "source": [
        "df1.head()"
      ],
      "execution_count": 59,
      "outputs": [
        {
          "output_type": "execute_result",
          "data": {
            "text/html": [
              "<div>\n",
              "<style scoped>\n",
              "    .dataframe tbody tr th:only-of-type {\n",
              "        vertical-align: middle;\n",
              "    }\n",
              "\n",
              "    .dataframe tbody tr th {\n",
              "        vertical-align: top;\n",
              "    }\n",
              "\n",
              "    .dataframe thead th {\n",
              "        text-align: right;\n",
              "    }\n",
              "</style>\n",
              "<table border=\"1\" class=\"dataframe\">\n",
              "  <thead>\n",
              "    <tr style=\"text-align: right;\">\n",
              "      <th></th>\n",
              "      <th>education</th>\n",
              "      <th>no_of_trainings</th>\n",
              "      <th>age</th>\n",
              "      <th>previous_year_rating</th>\n",
              "      <th>length_of_service</th>\n",
              "      <th>KPIs_met&gt;80%</th>\n",
              "      <th>awards_won?</th>\n",
              "      <th>avg_training_score</th>\n",
              "      <th>department_Finance</th>\n",
              "      <th>department_HR</th>\n",
              "      <th>department_Legal</th>\n",
              "      <th>department_Operations</th>\n",
              "      <th>department_Procurement</th>\n",
              "      <th>department_R&amp;D</th>\n",
              "      <th>department_Sales &amp; Marketing</th>\n",
              "      <th>deartment_Technology</th>\n",
              "      <th>gender_m</th>\n",
              "      <th>recruitment_channel_referred</th>\n",
              "      <th>recruitment_channel_sourcing</th>\n",
              "    </tr>\n",
              "  </thead>\n",
              "  <tbody>\n",
              "    <tr>\n",
              "      <th>0</th>\n",
              "      <td>1.531419</td>\n",
              "      <td>-0.406222</td>\n",
              "      <td>0.043929</td>\n",
              "      <td>1.210876</td>\n",
              "      <td>0.497985</td>\n",
              "      <td>1.013694</td>\n",
              "      <td>-0.247681</td>\n",
              "      <td>-1.226037</td>\n",
              "      <td>-0.205185</td>\n",
              "      <td>-0.202524</td>\n",
              "      <td>-0.123404</td>\n",
              "      <td>-0.513404</td>\n",
              "      <td>-0.413142</td>\n",
              "      <td>-0.131507</td>\n",
              "      <td>1.596439</td>\n",
              "      <td>-0.419095</td>\n",
              "      <td>-1.510958</td>\n",
              "      <td>-0.163383</td>\n",
              "      <td>1.182891</td>\n",
              "    </tr>\n",
              "    <tr>\n",
              "      <th>1</th>\n",
              "      <td>-0.664164</td>\n",
              "      <td>-0.406222</td>\n",
              "      <td>-0.622875</td>\n",
              "      <td>1.210876</td>\n",
              "      <td>-0.436058</td>\n",
              "      <td>-0.986491</td>\n",
              "      <td>-0.247681</td>\n",
              "      <td>-0.466453</td>\n",
              "      <td>-0.205185</td>\n",
              "      <td>-0.202524</td>\n",
              "      <td>-0.123404</td>\n",
              "      <td>1.947784</td>\n",
              "      <td>-0.413142</td>\n",
              "      <td>-0.131507</td>\n",
              "      <td>-0.626394</td>\n",
              "      <td>-0.419095</td>\n",
              "      <td>0.661832</td>\n",
              "      <td>-0.163383</td>\n",
              "      <td>-0.845386</td>\n",
              "    </tr>\n",
              "    <tr>\n",
              "      <th>2</th>\n",
              "      <td>-0.664164</td>\n",
              "      <td>-0.406222</td>\n",
              "      <td>-0.089432</td>\n",
              "      <td>-0.487645</td>\n",
              "      <td>0.264474</td>\n",
              "      <td>-0.986491</td>\n",
              "      <td>-0.247681</td>\n",
              "      <td>-1.156984</td>\n",
              "      <td>-0.205185</td>\n",
              "      <td>-0.202524</td>\n",
              "      <td>-0.123404</td>\n",
              "      <td>-0.513404</td>\n",
              "      <td>-0.413142</td>\n",
              "      <td>-0.131507</td>\n",
              "      <td>1.596439</td>\n",
              "      <td>-0.419095</td>\n",
              "      <td>0.661832</td>\n",
              "      <td>-0.163383</td>\n",
              "      <td>1.182891</td>\n",
              "    </tr>\n",
              "    <tr>\n",
              "      <th>3</th>\n",
              "      <td>-0.664164</td>\n",
              "      <td>1.420317</td>\n",
              "      <td>0.577372</td>\n",
              "      <td>-2.186166</td>\n",
              "      <td>0.965007</td>\n",
              "      <td>-0.986491</td>\n",
              "      <td>-0.247681</td>\n",
              "      <td>-1.156984</td>\n",
              "      <td>-0.205185</td>\n",
              "      <td>-0.202524</td>\n",
              "      <td>-0.123404</td>\n",
              "      <td>-0.513404</td>\n",
              "      <td>-0.413142</td>\n",
              "      <td>-0.131507</td>\n",
              "      <td>1.596439</td>\n",
              "      <td>-0.419095</td>\n",
              "      <td>0.661832</td>\n",
              "      <td>-0.163383</td>\n",
              "      <td>-0.845386</td>\n",
              "    </tr>\n",
              "    <tr>\n",
              "      <th>4</th>\n",
              "      <td>-0.664164</td>\n",
              "      <td>-0.406222</td>\n",
              "      <td>1.377536</td>\n",
              "      <td>-0.487645</td>\n",
              "      <td>-0.903080</td>\n",
              "      <td>-0.986491</td>\n",
              "      <td>-0.247681</td>\n",
              "      <td>0.431236</td>\n",
              "      <td>-0.205185</td>\n",
              "      <td>-0.202524</td>\n",
              "      <td>-0.123404</td>\n",
              "      <td>-0.513404</td>\n",
              "      <td>-0.413142</td>\n",
              "      <td>-0.131507</td>\n",
              "      <td>-0.626394</td>\n",
              "      <td>2.386093</td>\n",
              "      <td>0.661832</td>\n",
              "      <td>-0.163383</td>\n",
              "      <td>-0.845386</td>\n",
              "    </tr>\n",
              "  </tbody>\n",
              "</table>\n",
              "</div>"
            ],
            "text/plain": [
              "   education  ...  recruitment_channel_sourcing\n",
              "0   1.531419  ...                      1.182891\n",
              "1  -0.664164  ...                     -0.845386\n",
              "2  -0.664164  ...                      1.182891\n",
              "3  -0.664164  ...                     -0.845386\n",
              "4  -0.664164  ...                     -0.845386\n",
              "\n",
              "[5 rows x 19 columns]"
            ]
          },
          "metadata": {},
          "execution_count": 59
        }
      ]
    },
    {
      "cell_type": "code",
      "metadata": {
        "colab": {
          "base_uri": "https://localhost:8080/"
        },
        "id": "ABYesUFwDaLv",
        "outputId": "ebf8c396-0f92-41cf-fb2c-88ceec9491f0"
      },
      "source": [
        "df1 = pd.concat([df1,Y1], axis=1)\n",
        "df1.info()"
      ],
      "execution_count": 60,
      "outputs": [
        {
          "output_type": "stream",
          "name": "stdout",
          "text": [
            "<class 'pandas.core.frame.DataFrame'>\n",
            "RangeIndex: 5000 entries, 0 to 4999\n",
            "Data columns (total 20 columns):\n",
            " #   Column                        Non-Null Count  Dtype  \n",
            "---  ------                        --------------  -----  \n",
            " 0   education                     5000 non-null   float64\n",
            " 1   no_of_trainings               5000 non-null   float64\n",
            " 2   age                           5000 non-null   float64\n",
            " 3   previous_year_rating          5000 non-null   float64\n",
            " 4   length_of_service             5000 non-null   float64\n",
            " 5   KPIs_met>80%                  5000 non-null   float64\n",
            " 6   awards_won?                   5000 non-null   float64\n",
            " 7   avg_training_score            5000 non-null   float64\n",
            " 8   department_Finance            5000 non-null   float64\n",
            " 9   department_HR                 5000 non-null   float64\n",
            " 10  department_Legal              5000 non-null   float64\n",
            " 11  department_Operations         5000 non-null   float64\n",
            " 12  department_Procurement        5000 non-null   float64\n",
            " 13  department_R&D                5000 non-null   float64\n",
            " 14  department_Sales & Marketing  5000 non-null   float64\n",
            " 15  deartment_Technology          5000 non-null   float64\n",
            " 16  gender_m                      5000 non-null   float64\n",
            " 17  recruitment_channel_referred  5000 non-null   float64\n",
            " 18  recruitment_channel_sourcing  5000 non-null   float64\n",
            " 19  is_promoted                   5000 non-null   int64  \n",
            "dtypes: float64(19), int64(1)\n",
            "memory usage: 781.4 KB\n"
          ]
        }
      ]
    },
    {
      "cell_type": "code",
      "metadata": {
        "colab": {
          "base_uri": "https://localhost:8080/",
          "height": 243
        },
        "id": "MemBnca1D3La",
        "outputId": "4b19a7ea-5d1d-4313-81fe-38a3d7d4979f"
      },
      "source": [
        "df1.head()"
      ],
      "execution_count": 61,
      "outputs": [
        {
          "output_type": "execute_result",
          "data": {
            "text/html": [
              "<div>\n",
              "<style scoped>\n",
              "    .dataframe tbody tr th:only-of-type {\n",
              "        vertical-align: middle;\n",
              "    }\n",
              "\n",
              "    .dataframe tbody tr th {\n",
              "        vertical-align: top;\n",
              "    }\n",
              "\n",
              "    .dataframe thead th {\n",
              "        text-align: right;\n",
              "    }\n",
              "</style>\n",
              "<table border=\"1\" class=\"dataframe\">\n",
              "  <thead>\n",
              "    <tr style=\"text-align: right;\">\n",
              "      <th></th>\n",
              "      <th>education</th>\n",
              "      <th>no_of_trainings</th>\n",
              "      <th>age</th>\n",
              "      <th>previous_year_rating</th>\n",
              "      <th>length_of_service</th>\n",
              "      <th>KPIs_met&gt;80%</th>\n",
              "      <th>awards_won?</th>\n",
              "      <th>avg_training_score</th>\n",
              "      <th>department_Finance</th>\n",
              "      <th>department_HR</th>\n",
              "      <th>department_Legal</th>\n",
              "      <th>department_Operations</th>\n",
              "      <th>department_Procurement</th>\n",
              "      <th>department_R&amp;D</th>\n",
              "      <th>department_Sales &amp; Marketing</th>\n",
              "      <th>deartment_Technology</th>\n",
              "      <th>gender_m</th>\n",
              "      <th>recruitment_channel_referred</th>\n",
              "      <th>recruitment_channel_sourcing</th>\n",
              "      <th>is_promoted</th>\n",
              "    </tr>\n",
              "  </thead>\n",
              "  <tbody>\n",
              "    <tr>\n",
              "      <th>0</th>\n",
              "      <td>1.531419</td>\n",
              "      <td>-0.406222</td>\n",
              "      <td>0.043929</td>\n",
              "      <td>1.210876</td>\n",
              "      <td>0.497985</td>\n",
              "      <td>1.013694</td>\n",
              "      <td>-0.247681</td>\n",
              "      <td>-1.226037</td>\n",
              "      <td>-0.205185</td>\n",
              "      <td>-0.202524</td>\n",
              "      <td>-0.123404</td>\n",
              "      <td>-0.513404</td>\n",
              "      <td>-0.413142</td>\n",
              "      <td>-0.131507</td>\n",
              "      <td>1.596439</td>\n",
              "      <td>-0.419095</td>\n",
              "      <td>-1.510958</td>\n",
              "      <td>-0.163383</td>\n",
              "      <td>1.182891</td>\n",
              "      <td>0</td>\n",
              "    </tr>\n",
              "    <tr>\n",
              "      <th>1</th>\n",
              "      <td>-0.664164</td>\n",
              "      <td>-0.406222</td>\n",
              "      <td>-0.622875</td>\n",
              "      <td>1.210876</td>\n",
              "      <td>-0.436058</td>\n",
              "      <td>-0.986491</td>\n",
              "      <td>-0.247681</td>\n",
              "      <td>-0.466453</td>\n",
              "      <td>-0.205185</td>\n",
              "      <td>-0.202524</td>\n",
              "      <td>-0.123404</td>\n",
              "      <td>1.947784</td>\n",
              "      <td>-0.413142</td>\n",
              "      <td>-0.131507</td>\n",
              "      <td>-0.626394</td>\n",
              "      <td>-0.419095</td>\n",
              "      <td>0.661832</td>\n",
              "      <td>-0.163383</td>\n",
              "      <td>-0.845386</td>\n",
              "      <td>0</td>\n",
              "    </tr>\n",
              "    <tr>\n",
              "      <th>2</th>\n",
              "      <td>-0.664164</td>\n",
              "      <td>-0.406222</td>\n",
              "      <td>-0.089432</td>\n",
              "      <td>-0.487645</td>\n",
              "      <td>0.264474</td>\n",
              "      <td>-0.986491</td>\n",
              "      <td>-0.247681</td>\n",
              "      <td>-1.156984</td>\n",
              "      <td>-0.205185</td>\n",
              "      <td>-0.202524</td>\n",
              "      <td>-0.123404</td>\n",
              "      <td>-0.513404</td>\n",
              "      <td>-0.413142</td>\n",
              "      <td>-0.131507</td>\n",
              "      <td>1.596439</td>\n",
              "      <td>-0.419095</td>\n",
              "      <td>0.661832</td>\n",
              "      <td>-0.163383</td>\n",
              "      <td>1.182891</td>\n",
              "      <td>0</td>\n",
              "    </tr>\n",
              "    <tr>\n",
              "      <th>3</th>\n",
              "      <td>-0.664164</td>\n",
              "      <td>1.420317</td>\n",
              "      <td>0.577372</td>\n",
              "      <td>-2.186166</td>\n",
              "      <td>0.965007</td>\n",
              "      <td>-0.986491</td>\n",
              "      <td>-0.247681</td>\n",
              "      <td>-1.156984</td>\n",
              "      <td>-0.205185</td>\n",
              "      <td>-0.202524</td>\n",
              "      <td>-0.123404</td>\n",
              "      <td>-0.513404</td>\n",
              "      <td>-0.413142</td>\n",
              "      <td>-0.131507</td>\n",
              "      <td>1.596439</td>\n",
              "      <td>-0.419095</td>\n",
              "      <td>0.661832</td>\n",
              "      <td>-0.163383</td>\n",
              "      <td>-0.845386</td>\n",
              "      <td>0</td>\n",
              "    </tr>\n",
              "    <tr>\n",
              "      <th>4</th>\n",
              "      <td>-0.664164</td>\n",
              "      <td>-0.406222</td>\n",
              "      <td>1.377536</td>\n",
              "      <td>-0.487645</td>\n",
              "      <td>-0.903080</td>\n",
              "      <td>-0.986491</td>\n",
              "      <td>-0.247681</td>\n",
              "      <td>0.431236</td>\n",
              "      <td>-0.205185</td>\n",
              "      <td>-0.202524</td>\n",
              "      <td>-0.123404</td>\n",
              "      <td>-0.513404</td>\n",
              "      <td>-0.413142</td>\n",
              "      <td>-0.131507</td>\n",
              "      <td>-0.626394</td>\n",
              "      <td>2.386093</td>\n",
              "      <td>0.661832</td>\n",
              "      <td>-0.163383</td>\n",
              "      <td>-0.845386</td>\n",
              "      <td>0</td>\n",
              "    </tr>\n",
              "  </tbody>\n",
              "</table>\n",
              "</div>"
            ],
            "text/plain": [
              "   education  no_of_trainings  ...  recruitment_channel_sourcing  is_promoted\n",
              "0   1.531419        -0.406222  ...                      1.182891            0\n",
              "1  -0.664164        -0.406222  ...                     -0.845386            0\n",
              "2  -0.664164        -0.406222  ...                      1.182891            0\n",
              "3  -0.664164         1.420317  ...                     -0.845386            0\n",
              "4  -0.664164        -0.406222  ...                     -0.845386            0\n",
              "\n",
              "[5 rows x 20 columns]"
            ]
          },
          "metadata": {},
          "execution_count": 61
        }
      ]
    },
    {
      "cell_type": "code",
      "metadata": {
        "id": "ltfv9aVr-Exm"
      },
      "source": [
        "from google.colab import files\n",
        "df1.to_csv(\"gdrive/My Drive/Datasets/train_HR_Analytics-Preprocessed.csv\",index = False)"
      ],
      "execution_count": 62,
      "outputs": []
    }
  ]
}
