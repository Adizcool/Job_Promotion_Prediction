{
  "nbformat": 4,
  "nbformat_minor": 0,
  "metadata": {
    "colab": {
      "name": "Job_Promotion_Prediction_Final.ipynb",
      "provenance": [],
      "collapsed_sections": [],
      "include_colab_link": true
    },
    "language_info": {
      "codemirror_mode": {
        "name": "ipython",
        "version": 3
      },
      "file_extension": ".py",
      "mimetype": "text/x-python",
      "name": "python",
      "nbconvert_exporter": "python",
      "pygments_lexer": "ipython3",
      "version": "3.7.3"
    },
    "kernelspec": {
      "display_name": "Python 3",
      "language": "python",
      "name": "python3"
    }
  },
  "cells": [
    {
      "cell_type": "markdown",
      "metadata": {
        "id": "view-in-github",
        "colab_type": "text"
      },
      "source": [
        "<a href=\"https://colab.research.google.com/github/Adizcool/Job_Promotion_Prediction/blob/main/Job_Promotion_Prediction_Final.ipynb\" target=\"_parent\"><img src=\"https://colab.research.google.com/assets/colab-badge.svg\" alt=\"Open In Colab\"/></a>"
      ]
    },
    {
      "cell_type": "markdown",
      "metadata": {
        "id": "3otE7Add4yMt"
      },
      "source": [
        "##**Step-1: Install/ Import the required Python Packages/ Libraries, Mount the Google Drive and read and check the Data and Customer files**"
      ]
    },
    {
      "cell_type": "markdown",
      "metadata": {
        "id": "2GngkOcP4Pxi"
      },
      "source": [
        "**1) Install/ Import the required Python Packages/ Libraries**"
      ]
    },
    {
      "cell_type": "code",
      "metadata": {
        "id": "PJZqCSntal9U"
      },
      "source": [
        "#Import required python packages\n",
        "import pandas as pd\n",
        "import numpy as np\n",
        "import matplotlib.pyplot as plt\n",
        "import seaborn as sb\n",
        "from sklearn.impute import SimpleImputer\n",
        "from sklearn import preprocessing\n",
        "from sklearn import svm\n",
        "from sklearn.model_selection import cross_val_score\n",
        "import warnings\n",
        "warnings.filterwarnings(\"ignore\")\n",
        "%matplotlib inline"
      ],
      "execution_count": 1,
      "outputs": []
    },
    {
      "cell_type": "code",
      "metadata": {
        "colab": {
          "base_uri": "https://localhost:8080/"
        },
        "id": "e8R-PbpQWsL4",
        "outputId": "d7fe93ca-7de1-42a6-d352-a0b269c5af10"
      },
      "source": [
        "pip install category_encoders"
      ],
      "execution_count": 2,
      "outputs": [
        {
          "output_type": "stream",
          "name": "stdout",
          "text": [
            "Collecting category_encoders\n",
            "  Downloading category_encoders-2.3.0-py2.py3-none-any.whl (82 kB)\n",
            "\u001b[?25l\r\u001b[K     |████                            | 10 kB 18.0 MB/s eta 0:00:01\r\u001b[K     |████████                        | 20 kB 12.8 MB/s eta 0:00:01\r\u001b[K     |████████████                    | 30 kB 9.5 MB/s eta 0:00:01\r\u001b[K     |████████████████                | 40 kB 8.5 MB/s eta 0:00:01\r\u001b[K     |████████████████████            | 51 kB 5.0 MB/s eta 0:00:01\r\u001b[K     |████████████████████████        | 61 kB 5.5 MB/s eta 0:00:01\r\u001b[K     |████████████████████████████    | 71 kB 5.6 MB/s eta 0:00:01\r\u001b[K     |███████████████████████████████▉| 81 kB 6.2 MB/s eta 0:00:01\r\u001b[K     |████████████████████████████████| 82 kB 209 kB/s \n",
            "\u001b[?25hRequirement already satisfied: scipy>=1.0.0 in /usr/local/lib/python3.7/dist-packages (from category_encoders) (1.4.1)\n",
            "Requirement already satisfied: statsmodels>=0.9.0 in /usr/local/lib/python3.7/dist-packages (from category_encoders) (0.10.2)\n",
            "Requirement already satisfied: numpy>=1.14.0 in /usr/local/lib/python3.7/dist-packages (from category_encoders) (1.19.5)\n",
            "Requirement already satisfied: scikit-learn>=0.20.0 in /usr/local/lib/python3.7/dist-packages (from category_encoders) (1.0.1)\n",
            "Requirement already satisfied: patsy>=0.5.1 in /usr/local/lib/python3.7/dist-packages (from category_encoders) (0.5.2)\n",
            "Requirement already satisfied: pandas>=0.21.1 in /usr/local/lib/python3.7/dist-packages (from category_encoders) (1.1.5)\n",
            "Requirement already satisfied: python-dateutil>=2.7.3 in /usr/local/lib/python3.7/dist-packages (from pandas>=0.21.1->category_encoders) (2.8.2)\n",
            "Requirement already satisfied: pytz>=2017.2 in /usr/local/lib/python3.7/dist-packages (from pandas>=0.21.1->category_encoders) (2018.9)\n",
            "Requirement already satisfied: six in /usr/local/lib/python3.7/dist-packages (from patsy>=0.5.1->category_encoders) (1.15.0)\n",
            "Requirement already satisfied: threadpoolctl>=2.0.0 in /usr/local/lib/python3.7/dist-packages (from scikit-learn>=0.20.0->category_encoders) (3.0.0)\n",
            "Requirement already satisfied: joblib>=0.11 in /usr/local/lib/python3.7/dist-packages (from scikit-learn>=0.20.0->category_encoders) (1.1.0)\n",
            "Installing collected packages: category-encoders\n",
            "Successfully installed category-encoders-2.3.0\n"
          ]
        }
      ]
    },
    {
      "cell_type": "markdown",
      "metadata": {
        "id": "AglVkOKL4WLi"
      },
      "source": [
        "**2) Mounting the Google Drive**"
      ]
    },
    {
      "cell_type": "code",
      "metadata": {
        "id": "puBepcUNbuXJ",
        "colab": {
          "base_uri": "https://localhost:8080/"
        },
        "outputId": "0b361a54-84b9-4ec1-952f-4cacf43f2876"
      },
      "source": [
        "# Mount the Google Drive\n",
        "from google.colab import drive\n",
        "drive.mount('/content/gdrive')"
      ],
      "execution_count": 3,
      "outputs": [
        {
          "output_type": "stream",
          "name": "stdout",
          "text": [
            "Mounted at /content/gdrive\n"
          ]
        }
      ]
    },
    {
      "cell_type": "markdown",
      "metadata": {
        "id": "Y3DiPDcD4eDR"
      },
      "source": [
        "**3) Read the Data file and Customer file and check**"
      ]
    },
    {
      "cell_type": "code",
      "metadata": {
        "id": "aIhTjhU0al9e",
        "colab": {
          "base_uri": "https://localhost:8080/"
        },
        "outputId": "ec6aa28a-18b9-4a21-f621-bf0ef17c98be"
      },
      "source": [
        "# Read the Diabetes Data from .csv file and check the data shape (number of Rows and Columns)\n",
        "train_df = pd.read_csv('gdrive/My Drive/Datasets/HR Analysis/train_HR_Analytics.csv')\n",
        "test_df = pd.read_csv('gdrive/My Drive/Datasets/HR Analysis/customer_HR_Analytics.csv')\n",
        "print(train_df.shape)\n",
        "print(test_df.shape)"
      ],
      "execution_count": 4,
      "outputs": [
        {
          "output_type": "stream",
          "name": "stdout",
          "text": [
            "(5000, 14)\n",
            "(1000, 13)\n"
          ]
        }
      ]
    },
    {
      "cell_type": "markdown",
      "metadata": {
        "id": "70jPgAxG4P4x"
      },
      "source": [
        "##**Step-2: Combine the Train and Test File**"
      ]
    },
    {
      "cell_type": "code",
      "metadata": {
        "id": "8ZWBu9l12xwS"
      },
      "source": [
        "train_df['train']=1\n",
        "test_df['test'] = 0"
      ],
      "execution_count": 5,
      "outputs": []
    },
    {
      "cell_type": "code",
      "metadata": {
        "colab": {
          "base_uri": "https://localhost:8080/"
        },
        "id": "1-psn-jX21jK",
        "outputId": "3dc23bb8-e60a-4233-b0db-c3c28aabb186"
      },
      "source": [
        "print(train_df.shape)\n",
        "print(test_df.shape)"
      ],
      "execution_count": 6,
      "outputs": [
        {
          "output_type": "stream",
          "name": "stdout",
          "text": [
            "(5000, 15)\n",
            "(1000, 14)\n"
          ]
        }
      ]
    },
    {
      "cell_type": "code",
      "metadata": {
        "colab": {
          "base_uri": "https://localhost:8080/"
        },
        "id": "nbA6A1qB2c72",
        "outputId": "49e31981-645d-48e4-d6ff-a3d4282be9bc"
      },
      "source": [
        "train_df.info()\n",
        "print()\n",
        "test_df.info()"
      ],
      "execution_count": 7,
      "outputs": [
        {
          "output_type": "stream",
          "name": "stdout",
          "text": [
            "<class 'pandas.core.frame.DataFrame'>\n",
            "RangeIndex: 5000 entries, 0 to 4999\n",
            "Data columns (total 15 columns):\n",
            " #   Column                Non-Null Count  Dtype  \n",
            "---  ------                --------------  -----  \n",
            " 0   employee_id           5000 non-null   int64  \n",
            " 1   department            5000 non-null   object \n",
            " 2   region                5000 non-null   object \n",
            " 3   education             4788 non-null   object \n",
            " 4   gender                5000 non-null   object \n",
            " 5   recruitment_channel   5000 non-null   object \n",
            " 6   no_of_trainings       5000 non-null   int64  \n",
            " 7   age                   5000 non-null   int64  \n",
            " 8   previous_year_rating  4624 non-null   float64\n",
            " 9   length_of_service     5000 non-null   int64  \n",
            " 10  KPIs_met >80%         5000 non-null   int64  \n",
            " 11  awards_won?           5000 non-null   int64  \n",
            " 12  avg_training_score    5000 non-null   int64  \n",
            " 13  is_promoted           5000 non-null   int64  \n",
            " 14  train                 5000 non-null   int64  \n",
            "dtypes: float64(1), int64(9), object(5)\n",
            "memory usage: 586.1+ KB\n",
            "\n",
            "<class 'pandas.core.frame.DataFrame'>\n",
            "RangeIndex: 1000 entries, 0 to 999\n",
            "Data columns (total 14 columns):\n",
            " #   Column                Non-Null Count  Dtype  \n",
            "---  ------                --------------  -----  \n",
            " 0   employee_id           1000 non-null   int64  \n",
            " 1   department            1000 non-null   object \n",
            " 2   region                1000 non-null   object \n",
            " 3   education             964 non-null    object \n",
            " 4   gender                1000 non-null   object \n",
            " 5   recruitment_channel   1000 non-null   object \n",
            " 6   no_of_trainings       1000 non-null   int64  \n",
            " 7   age                   1000 non-null   int64  \n",
            " 8   previous_year_rating  917 non-null    float64\n",
            " 9   length_of_service     1000 non-null   int64  \n",
            " 10  KPIs_met >80%         1000 non-null   int64  \n",
            " 11  awards_won?           1000 non-null   int64  \n",
            " 12  avg_training_score    1000 non-null   int64  \n",
            " 13  test                  1000 non-null   int64  \n",
            "dtypes: float64(1), int64(8), object(5)\n",
            "memory usage: 109.5+ KB\n"
          ]
        }
      ]
    },
    {
      "cell_type": "code",
      "metadata": {
        "colab": {
          "base_uri": "https://localhost:8080/"
        },
        "id": "YcKwAqS03Dmk",
        "outputId": "a7b7e8a0-0e4b-4624-bf89-1556477b34b6"
      },
      "source": [
        "combined_df  = pd.concat([train_df, test_df])\n",
        "combined_df.shape"
      ],
      "execution_count": 8,
      "outputs": [
        {
          "output_type": "execute_result",
          "data": {
            "text/plain": [
              "(6000, 16)"
            ]
          },
          "metadata": {},
          "execution_count": 8
        }
      ]
    },
    {
      "cell_type": "code",
      "metadata": {
        "colab": {
          "base_uri": "https://localhost:8080/"
        },
        "id": "6RRGPwvi3LNi",
        "outputId": "e793e0cf-2938-4971-9b07-df5e62e7bc48"
      },
      "source": [
        "combined_df.info()"
      ],
      "execution_count": 9,
      "outputs": [
        {
          "output_type": "stream",
          "name": "stdout",
          "text": [
            "<class 'pandas.core.frame.DataFrame'>\n",
            "Int64Index: 6000 entries, 0 to 999\n",
            "Data columns (total 16 columns):\n",
            " #   Column                Non-Null Count  Dtype  \n",
            "---  ------                --------------  -----  \n",
            " 0   employee_id           6000 non-null   int64  \n",
            " 1   department            6000 non-null   object \n",
            " 2   region                6000 non-null   object \n",
            " 3   education             5752 non-null   object \n",
            " 4   gender                6000 non-null   object \n",
            " 5   recruitment_channel   6000 non-null   object \n",
            " 6   no_of_trainings       6000 non-null   int64  \n",
            " 7   age                   6000 non-null   int64  \n",
            " 8   previous_year_rating  5541 non-null   float64\n",
            " 9   length_of_service     6000 non-null   int64  \n",
            " 10  KPIs_met >80%         6000 non-null   int64  \n",
            " 11  awards_won?           6000 non-null   int64  \n",
            " 12  avg_training_score    6000 non-null   int64  \n",
            " 13  is_promoted           5000 non-null   float64\n",
            " 14  train                 5000 non-null   float64\n",
            " 15  test                  1000 non-null   float64\n",
            "dtypes: float64(4), int64(7), object(5)\n",
            "memory usage: 796.9+ KB\n"
          ]
        }
      ]
    },
    {
      "cell_type": "markdown",
      "metadata": {
        "id": "mDDmeHlA92FT"
      },
      "source": [
        "##**Step-3: Check the Data Types of the Columns as well as Missing Data**"
      ]
    },
    {
      "cell_type": "markdown",
      "metadata": {
        "id": "igt1Ktuv5xKr"
      },
      "source": [
        "**1) Execute the \"info()\" command and check datatypes of the Columns and Missing Data**"
      ]
    },
    {
      "cell_type": "code",
      "metadata": {
        "id": "gvl8L_8P44CL",
        "colab": {
          "base_uri": "https://localhost:8080/"
        },
        "outputId": "eb85e213-ce98-4d95-d497-e7010bb5ac31"
      },
      "source": [
        "combined_df.info()"
      ],
      "execution_count": 10,
      "outputs": [
        {
          "output_type": "stream",
          "name": "stdout",
          "text": [
            "<class 'pandas.core.frame.DataFrame'>\n",
            "Int64Index: 6000 entries, 0 to 999\n",
            "Data columns (total 16 columns):\n",
            " #   Column                Non-Null Count  Dtype  \n",
            "---  ------                --------------  -----  \n",
            " 0   employee_id           6000 non-null   int64  \n",
            " 1   department            6000 non-null   object \n",
            " 2   region                6000 non-null   object \n",
            " 3   education             5752 non-null   object \n",
            " 4   gender                6000 non-null   object \n",
            " 5   recruitment_channel   6000 non-null   object \n",
            " 6   no_of_trainings       6000 non-null   int64  \n",
            " 7   age                   6000 non-null   int64  \n",
            " 8   previous_year_rating  5541 non-null   float64\n",
            " 9   length_of_service     6000 non-null   int64  \n",
            " 10  KPIs_met >80%         6000 non-null   int64  \n",
            " 11  awards_won?           6000 non-null   int64  \n",
            " 12  avg_training_score    6000 non-null   int64  \n",
            " 13  is_promoted           5000 non-null   float64\n",
            " 14  train                 5000 non-null   float64\n",
            " 15  test                  1000 non-null   float64\n",
            "dtypes: float64(4), int64(7), object(5)\n",
            "memory usage: 796.9+ KB\n"
          ]
        }
      ]
    },
    {
      "cell_type": "markdown",
      "metadata": {
        "id": "1ZNybzOi6LpM"
      },
      "source": [
        "**2) Summarize the columnwise Missing Data**"
      ]
    },
    {
      "cell_type": "code",
      "metadata": {
        "colab": {
          "base_uri": "https://localhost:8080/"
        },
        "id": "OmfU4Fs9tmDG",
        "outputId": "dfc68edf-9d0e-4ebd-ce41-97ea16ca8518"
      },
      "source": [
        "combined_df.isnull().sum()"
      ],
      "execution_count": 11,
      "outputs": [
        {
          "output_type": "execute_result",
          "data": {
            "text/plain": [
              "employee_id                0\n",
              "department                 0\n",
              "region                     0\n",
              "education                248\n",
              "gender                     0\n",
              "recruitment_channel        0\n",
              "no_of_trainings            0\n",
              "age                        0\n",
              "previous_year_rating     459\n",
              "length_of_service          0\n",
              "KPIs_met >80%              0\n",
              "awards_won?                0\n",
              "avg_training_score         0\n",
              "is_promoted             1000\n",
              "train                   1000\n",
              "test                    5000\n",
              "dtype: int64"
            ]
          },
          "metadata": {},
          "execution_count": 11
        }
      ]
    },
    {
      "cell_type": "markdown",
      "metadata": {
        "id": "A7ZRSo21V0c9"
      },
      "source": [
        "**Observations:**\n",
        "* **a) We have the missing data, hence we need to handle this.**"
      ]
    },
    {
      "cell_type": "markdown",
      "metadata": {
        "id": "K6jfnwFU78WI"
      },
      "source": [
        "##**Step-4: Check on Data Preprocessing applicability (Initial)**\n"
      ]
    },
    {
      "cell_type": "markdown",
      "metadata": {
        "id": "HMU6II88XV_p"
      },
      "source": [
        "###**1) Checking the Missing Values and its Handling**"
      ]
    },
    {
      "cell_type": "markdown",
      "metadata": {
        "id": "-DgLujtcR7bc"
      },
      "source": [
        "**a) Check the Missing Values, if any**"
      ]
    },
    {
      "cell_type": "code",
      "metadata": {
        "colab": {
          "base_uri": "https://localhost:8080/"
        },
        "id": "Aj9gcqzsSM1b",
        "outputId": "5b578cf9-becc-40bd-e3c8-8a0b330ad5ee"
      },
      "source": [
        "combined_df.isnull().sum()"
      ],
      "execution_count": 12,
      "outputs": [
        {
          "output_type": "execute_result",
          "data": {
            "text/plain": [
              "employee_id                0\n",
              "department                 0\n",
              "region                     0\n",
              "education                248\n",
              "gender                     0\n",
              "recruitment_channel        0\n",
              "no_of_trainings            0\n",
              "age                        0\n",
              "previous_year_rating     459\n",
              "length_of_service          0\n",
              "KPIs_met >80%              0\n",
              "awards_won?                0\n",
              "avg_training_score         0\n",
              "is_promoted             1000\n",
              "train                   1000\n",
              "test                    5000\n",
              "dtype: int64"
            ]
          },
          "metadata": {},
          "execution_count": 12
        }
      ]
    },
    {
      "cell_type": "markdown",
      "metadata": {
        "id": "qfS2OcSlW3eL"
      },
      "source": [
        "**b) Checking the total number of rows having the missing Values**"
      ]
    },
    {
      "cell_type": "code",
      "metadata": {
        "colab": {
          "base_uri": "https://localhost:8080/",
          "height": 565
        },
        "id": "8U48rKVaVrB2",
        "outputId": "893959d4-c7f1-4f6b-f5f6-0927eb10e061"
      },
      "source": [
        "combined_df[combined_df.isnull().any(axis=1)]"
      ],
      "execution_count": 13,
      "outputs": [
        {
          "output_type": "execute_result",
          "data": {
            "text/html": [
              "<div>\n",
              "<style scoped>\n",
              "    .dataframe tbody tr th:only-of-type {\n",
              "        vertical-align: middle;\n",
              "    }\n",
              "\n",
              "    .dataframe tbody tr th {\n",
              "        vertical-align: top;\n",
              "    }\n",
              "\n",
              "    .dataframe thead th {\n",
              "        text-align: right;\n",
              "    }\n",
              "</style>\n",
              "<table border=\"1\" class=\"dataframe\">\n",
              "  <thead>\n",
              "    <tr style=\"text-align: right;\">\n",
              "      <th></th>\n",
              "      <th>employee_id</th>\n",
              "      <th>department</th>\n",
              "      <th>region</th>\n",
              "      <th>education</th>\n",
              "      <th>gender</th>\n",
              "      <th>recruitment_channel</th>\n",
              "      <th>no_of_trainings</th>\n",
              "      <th>age</th>\n",
              "      <th>previous_year_rating</th>\n",
              "      <th>length_of_service</th>\n",
              "      <th>KPIs_met &gt;80%</th>\n",
              "      <th>awards_won?</th>\n",
              "      <th>avg_training_score</th>\n",
              "      <th>is_promoted</th>\n",
              "      <th>train</th>\n",
              "      <th>test</th>\n",
              "    </tr>\n",
              "  </thead>\n",
              "  <tbody>\n",
              "    <tr>\n",
              "      <th>0</th>\n",
              "      <td>65438</td>\n",
              "      <td>Sales &amp; Marketing</td>\n",
              "      <td>region_7</td>\n",
              "      <td>Master's &amp; above</td>\n",
              "      <td>f</td>\n",
              "      <td>sourcing</td>\n",
              "      <td>1</td>\n",
              "      <td>35</td>\n",
              "      <td>5.0</td>\n",
              "      <td>8</td>\n",
              "      <td>1</td>\n",
              "      <td>0</td>\n",
              "      <td>49</td>\n",
              "      <td>0.0</td>\n",
              "      <td>1.0</td>\n",
              "      <td>NaN</td>\n",
              "    </tr>\n",
              "    <tr>\n",
              "      <th>1</th>\n",
              "      <td>65141</td>\n",
              "      <td>Operations</td>\n",
              "      <td>region_22</td>\n",
              "      <td>Bachelor's</td>\n",
              "      <td>m</td>\n",
              "      <td>other</td>\n",
              "      <td>1</td>\n",
              "      <td>30</td>\n",
              "      <td>5.0</td>\n",
              "      <td>4</td>\n",
              "      <td>0</td>\n",
              "      <td>0</td>\n",
              "      <td>60</td>\n",
              "      <td>0.0</td>\n",
              "      <td>1.0</td>\n",
              "      <td>NaN</td>\n",
              "    </tr>\n",
              "    <tr>\n",
              "      <th>2</th>\n",
              "      <td>7513</td>\n",
              "      <td>Sales &amp; Marketing</td>\n",
              "      <td>region_19</td>\n",
              "      <td>Bachelor's</td>\n",
              "      <td>m</td>\n",
              "      <td>sourcing</td>\n",
              "      <td>1</td>\n",
              "      <td>34</td>\n",
              "      <td>3.0</td>\n",
              "      <td>7</td>\n",
              "      <td>0</td>\n",
              "      <td>0</td>\n",
              "      <td>50</td>\n",
              "      <td>0.0</td>\n",
              "      <td>1.0</td>\n",
              "      <td>NaN</td>\n",
              "    </tr>\n",
              "    <tr>\n",
              "      <th>3</th>\n",
              "      <td>2542</td>\n",
              "      <td>Sales &amp; Marketing</td>\n",
              "      <td>region_23</td>\n",
              "      <td>Bachelor's</td>\n",
              "      <td>m</td>\n",
              "      <td>other</td>\n",
              "      <td>2</td>\n",
              "      <td>39</td>\n",
              "      <td>1.0</td>\n",
              "      <td>10</td>\n",
              "      <td>0</td>\n",
              "      <td>0</td>\n",
              "      <td>50</td>\n",
              "      <td>0.0</td>\n",
              "      <td>1.0</td>\n",
              "      <td>NaN</td>\n",
              "    </tr>\n",
              "    <tr>\n",
              "      <th>4</th>\n",
              "      <td>48945</td>\n",
              "      <td>Technology</td>\n",
              "      <td>region_26</td>\n",
              "      <td>Bachelor's</td>\n",
              "      <td>m</td>\n",
              "      <td>other</td>\n",
              "      <td>1</td>\n",
              "      <td>45</td>\n",
              "      <td>3.0</td>\n",
              "      <td>2</td>\n",
              "      <td>0</td>\n",
              "      <td>0</td>\n",
              "      <td>73</td>\n",
              "      <td>0.0</td>\n",
              "      <td>1.0</td>\n",
              "      <td>NaN</td>\n",
              "    </tr>\n",
              "    <tr>\n",
              "      <th>...</th>\n",
              "      <td>...</td>\n",
              "      <td>...</td>\n",
              "      <td>...</td>\n",
              "      <td>...</td>\n",
              "      <td>...</td>\n",
              "      <td>...</td>\n",
              "      <td>...</td>\n",
              "      <td>...</td>\n",
              "      <td>...</td>\n",
              "      <td>...</td>\n",
              "      <td>...</td>\n",
              "      <td>...</td>\n",
              "      <td>...</td>\n",
              "      <td>...</td>\n",
              "      <td>...</td>\n",
              "      <td>...</td>\n",
              "    </tr>\n",
              "    <tr>\n",
              "      <th>995</th>\n",
              "      <td>68388</td>\n",
              "      <td>Operations</td>\n",
              "      <td>region_22</td>\n",
              "      <td>Bachelor's</td>\n",
              "      <td>f</td>\n",
              "      <td>other</td>\n",
              "      <td>1</td>\n",
              "      <td>36</td>\n",
              "      <td>4.0</td>\n",
              "      <td>9</td>\n",
              "      <td>0</td>\n",
              "      <td>0</td>\n",
              "      <td>74</td>\n",
              "      <td>NaN</td>\n",
              "      <td>NaN</td>\n",
              "      <td>0.0</td>\n",
              "    </tr>\n",
              "    <tr>\n",
              "      <th>996</th>\n",
              "      <td>32344</td>\n",
              "      <td>Sales &amp; Marketing</td>\n",
              "      <td>region_19</td>\n",
              "      <td>Bachelor's</td>\n",
              "      <td>m</td>\n",
              "      <td>other</td>\n",
              "      <td>1</td>\n",
              "      <td>35</td>\n",
              "      <td>3.0</td>\n",
              "      <td>5</td>\n",
              "      <td>1</td>\n",
              "      <td>0</td>\n",
              "      <td>49</td>\n",
              "      <td>NaN</td>\n",
              "      <td>NaN</td>\n",
              "      <td>0.0</td>\n",
              "    </tr>\n",
              "    <tr>\n",
              "      <th>997</th>\n",
              "      <td>71931</td>\n",
              "      <td>Legal</td>\n",
              "      <td>region_31</td>\n",
              "      <td>Bachelor's</td>\n",
              "      <td>m</td>\n",
              "      <td>other</td>\n",
              "      <td>1</td>\n",
              "      <td>35</td>\n",
              "      <td>3.0</td>\n",
              "      <td>6</td>\n",
              "      <td>0</td>\n",
              "      <td>0</td>\n",
              "      <td>61</td>\n",
              "      <td>NaN</td>\n",
              "      <td>NaN</td>\n",
              "      <td>0.0</td>\n",
              "    </tr>\n",
              "    <tr>\n",
              "      <th>998</th>\n",
              "      <td>55130</td>\n",
              "      <td>Technology</td>\n",
              "      <td>region_11</td>\n",
              "      <td>Master's &amp; above</td>\n",
              "      <td>m</td>\n",
              "      <td>other</td>\n",
              "      <td>1</td>\n",
              "      <td>41</td>\n",
              "      <td>2.0</td>\n",
              "      <td>2</td>\n",
              "      <td>0</td>\n",
              "      <td>0</td>\n",
              "      <td>81</td>\n",
              "      <td>NaN</td>\n",
              "      <td>NaN</td>\n",
              "      <td>0.0</td>\n",
              "    </tr>\n",
              "    <tr>\n",
              "      <th>999</th>\n",
              "      <td>47604</td>\n",
              "      <td>Sales &amp; Marketing</td>\n",
              "      <td>region_2</td>\n",
              "      <td>Master's &amp; above</td>\n",
              "      <td>m</td>\n",
              "      <td>sourcing</td>\n",
              "      <td>1</td>\n",
              "      <td>32</td>\n",
              "      <td>5.0</td>\n",
              "      <td>5</td>\n",
              "      <td>0</td>\n",
              "      <td>0</td>\n",
              "      <td>55</td>\n",
              "      <td>NaN</td>\n",
              "      <td>NaN</td>\n",
              "      <td>0.0</td>\n",
              "    </tr>\n",
              "  </tbody>\n",
              "</table>\n",
              "<p>6000 rows × 16 columns</p>\n",
              "</div>"
            ],
            "text/plain": [
              "     employee_id         department     region  ... is_promoted train test\n",
              "0          65438  Sales & Marketing   region_7  ...         0.0   1.0  NaN\n",
              "1          65141         Operations  region_22  ...         0.0   1.0  NaN\n",
              "2           7513  Sales & Marketing  region_19  ...         0.0   1.0  NaN\n",
              "3           2542  Sales & Marketing  region_23  ...         0.0   1.0  NaN\n",
              "4          48945         Technology  region_26  ...         0.0   1.0  NaN\n",
              "..           ...                ...        ...  ...         ...   ...  ...\n",
              "995        68388         Operations  region_22  ...         NaN   NaN  0.0\n",
              "996        32344  Sales & Marketing  region_19  ...         NaN   NaN  0.0\n",
              "997        71931              Legal  region_31  ...         NaN   NaN  0.0\n",
              "998        55130         Technology  region_11  ...         NaN   NaN  0.0\n",
              "999        47604  Sales & Marketing   region_2  ...         NaN   NaN  0.0\n",
              "\n",
              "[6000 rows x 16 columns]"
            ]
          },
          "metadata": {},
          "execution_count": 13
        }
      ]
    },
    {
      "cell_type": "markdown",
      "metadata": {
        "id": "tVG0vUnZXD0H"
      },
      "source": [
        "**c) Observations, Decisions and Actions**"
      ]
    },
    {
      "cell_type": "markdown",
      "metadata": {
        "id": "6FzLM1URSI5F"
      },
      "source": [
        "**Observations:**\n",
        "* a) Here, the data values of 2 columns are missing\n",
        "* b) The total number rows having missing values is 6000 against the total number of rows (6000) in the dataset. \n",
        "###**So, we cannot use the option of dropping the rows having missing values.**"
      ]
    },
    {
      "cell_type": "markdown",
      "metadata": {
        "id": "0dIjNc5VTZDG"
      },
      "source": [
        "**Decision and Actions:**\n",
        "\n",
        "###**Fill the missing values of the columns with that of the most_frequent values of the respective columns.**"
      ]
    },
    {
      "cell_type": "markdown",
      "metadata": {
        "id": "Df8TVX4fWtI8"
      },
      "source": [
        "**d) Imputation of Missing Values using the \"fillna\" command and checking**"
      ]
    },
    {
      "cell_type": "code",
      "metadata": {
        "id": "uYHxlqU_WZ9z"
      },
      "source": [
        "combined_df['education'].fillna(combined_df['education'].mode().iloc[0], inplace=True)\n",
        "combined_df['previous_year_rating'].fillna(combined_df['previous_year_rating'].mode().iloc[0], inplace=True)\n",
        "combined_df['is_promoted'].fillna(combined_df['is_promoted'].mode().iloc[0], inplace=True)"
      ],
      "execution_count": 14,
      "outputs": []
    },
    {
      "cell_type": "code",
      "metadata": {
        "colab": {
          "base_uri": "https://localhost:8080/"
        },
        "id": "7dTzD-ywWnsA",
        "outputId": "c01b9ac4-587b-4d16-f530-186fb74b6392"
      },
      "source": [
        "combined_df.isnull().sum()"
      ],
      "execution_count": 15,
      "outputs": [
        {
          "output_type": "execute_result",
          "data": {
            "text/plain": [
              "employee_id                0\n",
              "department                 0\n",
              "region                     0\n",
              "education                  0\n",
              "gender                     0\n",
              "recruitment_channel        0\n",
              "no_of_trainings            0\n",
              "age                        0\n",
              "previous_year_rating       0\n",
              "length_of_service          0\n",
              "KPIs_met >80%              0\n",
              "awards_won?                0\n",
              "avg_training_score         0\n",
              "is_promoted                0\n",
              "train                   1000\n",
              "test                    5000\n",
              "dtype: int64"
            ]
          },
          "metadata": {},
          "execution_count": 15
        }
      ]
    },
    {
      "cell_type": "markdown",
      "metadata": {
        "id": "H_OB1b4x-rJD"
      },
      "source": [
        "###**2) Check the unique Values of each column and observe the following:**\n",
        "* **a) Wrong Data in the columns, if any** \n",
        "* **b) Wrong format of the data in the columns, if any**\n",
        "* **c) Identify the columns which need to be categorically converted to numeric values by using Nominal method/ Ordinal Method**\n"
      ]
    },
    {
      "cell_type": "markdown",
      "metadata": {
        "id": "kWQ7O73EBPm2"
      },
      "source": [
        "###**Column-1: employee_id**"
      ]
    },
    {
      "cell_type": "code",
      "metadata": {
        "colab": {
          "base_uri": "https://localhost:8080/"
        },
        "id": "lDZ30PWa_OiD",
        "outputId": "75a87227-8e4a-4f6b-824a-1cb4521fd3d6"
      },
      "source": [
        "combined_df['employee_id'].value_counts()"
      ],
      "execution_count": 16,
      "outputs": [
        {
          "output_type": "execute_result",
          "data": {
            "text/plain": [
              "26623    1\n",
              "11930    1\n",
              "41625    1\n",
              "12955    1\n",
              "43676    1\n",
              "        ..\n",
              "71000    1\n",
              "7513     1\n",
              "60763    1\n",
              "62812    1\n",
              "24099    1\n",
              "Name: employee_id, Length: 6000, dtype: int64"
            ]
          },
          "metadata": {},
          "execution_count": 16
        }
      ]
    },
    {
      "cell_type": "markdown",
      "metadata": {
        "id": "rhxhhqic_Vy1"
      },
      "source": [
        "**Observations:**\n",
        "* a) Data in this column will not be contributing to the prediction of the Depenedent variable\n",
        "\n",
        "**Decsion:**\n",
        "\n",
        "**We will be dropping this column**"
      ]
    },
    {
      "cell_type": "markdown",
      "metadata": {
        "id": "h0rXk5Egajld"
      },
      "source": [
        "**Action:**"
      ]
    },
    {
      "cell_type": "code",
      "metadata": {
        "colab": {
          "base_uri": "https://localhost:8080/"
        },
        "id": "BaZdUR-4aoZw",
        "outputId": "40169728-7192-4a22-cee0-fbe9c75f97a6"
      },
      "source": [
        "combined_df.drop(['employee_id'], axis = 1, inplace = True)\n",
        "combined_df.info()"
      ],
      "execution_count": 17,
      "outputs": [
        {
          "output_type": "stream",
          "name": "stdout",
          "text": [
            "<class 'pandas.core.frame.DataFrame'>\n",
            "Int64Index: 6000 entries, 0 to 999\n",
            "Data columns (total 15 columns):\n",
            " #   Column                Non-Null Count  Dtype  \n",
            "---  ------                --------------  -----  \n",
            " 0   department            6000 non-null   object \n",
            " 1   region                6000 non-null   object \n",
            " 2   education             6000 non-null   object \n",
            " 3   gender                6000 non-null   object \n",
            " 4   recruitment_channel   6000 non-null   object \n",
            " 5   no_of_trainings       6000 non-null   int64  \n",
            " 6   age                   6000 non-null   int64  \n",
            " 7   previous_year_rating  6000 non-null   float64\n",
            " 8   length_of_service     6000 non-null   int64  \n",
            " 9   KPIs_met >80%         6000 non-null   int64  \n",
            " 10  awards_won?           6000 non-null   int64  \n",
            " 11  avg_training_score    6000 non-null   int64  \n",
            " 12  is_promoted           6000 non-null   float64\n",
            " 13  train                 5000 non-null   float64\n",
            " 14  test                  1000 non-null   float64\n",
            "dtypes: float64(4), int64(6), object(5)\n",
            "memory usage: 750.0+ KB\n"
          ]
        }
      ]
    },
    {
      "cell_type": "markdown",
      "metadata": {
        "id": "9eYY-SVDBaFp"
      },
      "source": [
        "###**Column-2: department**"
      ]
    },
    {
      "cell_type": "code",
      "metadata": {
        "colab": {
          "base_uri": "https://localhost:8080/"
        },
        "id": "v5DcYaUE924x",
        "outputId": "51b405ee-e880-4278-beab-6eea65c0c9c9"
      },
      "source": [
        "combined_df['department'].value_counts()"
      ],
      "execution_count": 18,
      "outputs": [
        {
          "output_type": "execute_result",
          "data": {
            "text/plain": [
              "Sales & Marketing    1720\n",
              "Operations           1235\n",
              "Technology            883\n",
              "Procurement           851\n",
              "Analytics             620\n",
              "Finance               249\n",
              "HR                    245\n",
              "R&D                   104\n",
              "Legal                  93\n",
              "Name: department, dtype: int64"
            ]
          },
          "metadata": {},
          "execution_count": 18
        }
      ]
    },
    {
      "cell_type": "markdown",
      "metadata": {
        "id": "wyLooRYq_7Mf"
      },
      "source": [
        "**Observations:**\n",
        "* a) Data in this column is of \"Object\" or \"String\" datatype. Also, the data levels are \"Nominal\" Type.\n",
        "\n",
        "**Decsion:**\n",
        "\n",
        "**We will be converting the data in this column into Numerical values using Nominal Type method \"pd.get_dummies\".**"
      ]
    },
    {
      "cell_type": "markdown",
      "metadata": {
        "id": "oy9fKzVra5U-"
      },
      "source": [
        "**Action:**"
      ]
    },
    {
      "cell_type": "code",
      "metadata": {
        "colab": {
          "base_uri": "https://localhost:8080/",
          "height": 423
        },
        "id": "P4A8MQzDbAm1",
        "outputId": "29806d07-8514-4a3b-ab2c-c6c6440dee9c"
      },
      "source": [
        "#encode the data\n",
        "dept = pd.DataFrame(combined_df['department'])\n",
        "dept_encoded=pd.get_dummies(data= dept, drop_first=True)\n",
        "dept_encoded"
      ],
      "execution_count": 19,
      "outputs": [
        {
          "output_type": "execute_result",
          "data": {
            "text/html": [
              "<div>\n",
              "<style scoped>\n",
              "    .dataframe tbody tr th:only-of-type {\n",
              "        vertical-align: middle;\n",
              "    }\n",
              "\n",
              "    .dataframe tbody tr th {\n",
              "        vertical-align: top;\n",
              "    }\n",
              "\n",
              "    .dataframe thead th {\n",
              "        text-align: right;\n",
              "    }\n",
              "</style>\n",
              "<table border=\"1\" class=\"dataframe\">\n",
              "  <thead>\n",
              "    <tr style=\"text-align: right;\">\n",
              "      <th></th>\n",
              "      <th>department_Finance</th>\n",
              "      <th>department_HR</th>\n",
              "      <th>department_Legal</th>\n",
              "      <th>department_Operations</th>\n",
              "      <th>department_Procurement</th>\n",
              "      <th>department_R&amp;D</th>\n",
              "      <th>department_Sales &amp; Marketing</th>\n",
              "      <th>department_Technology</th>\n",
              "    </tr>\n",
              "  </thead>\n",
              "  <tbody>\n",
              "    <tr>\n",
              "      <th>0</th>\n",
              "      <td>0</td>\n",
              "      <td>0</td>\n",
              "      <td>0</td>\n",
              "      <td>0</td>\n",
              "      <td>0</td>\n",
              "      <td>0</td>\n",
              "      <td>1</td>\n",
              "      <td>0</td>\n",
              "    </tr>\n",
              "    <tr>\n",
              "      <th>1</th>\n",
              "      <td>0</td>\n",
              "      <td>0</td>\n",
              "      <td>0</td>\n",
              "      <td>1</td>\n",
              "      <td>0</td>\n",
              "      <td>0</td>\n",
              "      <td>0</td>\n",
              "      <td>0</td>\n",
              "    </tr>\n",
              "    <tr>\n",
              "      <th>2</th>\n",
              "      <td>0</td>\n",
              "      <td>0</td>\n",
              "      <td>0</td>\n",
              "      <td>0</td>\n",
              "      <td>0</td>\n",
              "      <td>0</td>\n",
              "      <td>1</td>\n",
              "      <td>0</td>\n",
              "    </tr>\n",
              "    <tr>\n",
              "      <th>3</th>\n",
              "      <td>0</td>\n",
              "      <td>0</td>\n",
              "      <td>0</td>\n",
              "      <td>0</td>\n",
              "      <td>0</td>\n",
              "      <td>0</td>\n",
              "      <td>1</td>\n",
              "      <td>0</td>\n",
              "    </tr>\n",
              "    <tr>\n",
              "      <th>4</th>\n",
              "      <td>0</td>\n",
              "      <td>0</td>\n",
              "      <td>0</td>\n",
              "      <td>0</td>\n",
              "      <td>0</td>\n",
              "      <td>0</td>\n",
              "      <td>0</td>\n",
              "      <td>1</td>\n",
              "    </tr>\n",
              "    <tr>\n",
              "      <th>...</th>\n",
              "      <td>...</td>\n",
              "      <td>...</td>\n",
              "      <td>...</td>\n",
              "      <td>...</td>\n",
              "      <td>...</td>\n",
              "      <td>...</td>\n",
              "      <td>...</td>\n",
              "      <td>...</td>\n",
              "    </tr>\n",
              "    <tr>\n",
              "      <th>995</th>\n",
              "      <td>0</td>\n",
              "      <td>0</td>\n",
              "      <td>0</td>\n",
              "      <td>1</td>\n",
              "      <td>0</td>\n",
              "      <td>0</td>\n",
              "      <td>0</td>\n",
              "      <td>0</td>\n",
              "    </tr>\n",
              "    <tr>\n",
              "      <th>996</th>\n",
              "      <td>0</td>\n",
              "      <td>0</td>\n",
              "      <td>0</td>\n",
              "      <td>0</td>\n",
              "      <td>0</td>\n",
              "      <td>0</td>\n",
              "      <td>1</td>\n",
              "      <td>0</td>\n",
              "    </tr>\n",
              "    <tr>\n",
              "      <th>997</th>\n",
              "      <td>0</td>\n",
              "      <td>0</td>\n",
              "      <td>1</td>\n",
              "      <td>0</td>\n",
              "      <td>0</td>\n",
              "      <td>0</td>\n",
              "      <td>0</td>\n",
              "      <td>0</td>\n",
              "    </tr>\n",
              "    <tr>\n",
              "      <th>998</th>\n",
              "      <td>0</td>\n",
              "      <td>0</td>\n",
              "      <td>0</td>\n",
              "      <td>0</td>\n",
              "      <td>0</td>\n",
              "      <td>0</td>\n",
              "      <td>0</td>\n",
              "      <td>1</td>\n",
              "    </tr>\n",
              "    <tr>\n",
              "      <th>999</th>\n",
              "      <td>0</td>\n",
              "      <td>0</td>\n",
              "      <td>0</td>\n",
              "      <td>0</td>\n",
              "      <td>0</td>\n",
              "      <td>0</td>\n",
              "      <td>1</td>\n",
              "      <td>0</td>\n",
              "    </tr>\n",
              "  </tbody>\n",
              "</table>\n",
              "<p>6000 rows × 8 columns</p>\n",
              "</div>"
            ],
            "text/plain": [
              "     department_Finance  ...  department_Technology\n",
              "0                     0  ...                      0\n",
              "1                     0  ...                      0\n",
              "2                     0  ...                      0\n",
              "3                     0  ...                      0\n",
              "4                     0  ...                      1\n",
              "..                  ...  ...                    ...\n",
              "995                   0  ...                      0\n",
              "996                   0  ...                      0\n",
              "997                   0  ...                      0\n",
              "998                   0  ...                      1\n",
              "999                   0  ...                      0\n",
              "\n",
              "[6000 rows x 8 columns]"
            ]
          },
          "metadata": {},
          "execution_count": 19
        }
      ]
    },
    {
      "cell_type": "markdown",
      "metadata": {
        "id": "D8uO5iE6Be0e"
      },
      "source": [
        "###**Column-3: region**"
      ]
    },
    {
      "cell_type": "code",
      "metadata": {
        "colab": {
          "base_uri": "https://localhost:8080/"
        },
        "id": "6nu0eaAWA5Uq",
        "outputId": "34d9982e-cef7-4937-acbb-c9d5ecddff8f"
      },
      "source": [
        "combined_df['region'].value_counts()"
      ],
      "execution_count": 20,
      "outputs": [
        {
          "output_type": "execute_result",
          "data": {
            "text/plain": [
              "region_2     1313\n",
              "region_22     793\n",
              "region_7      575\n",
              "region_13     318\n",
              "region_15     288\n",
              "region_4      250\n",
              "region_26     231\n",
              "region_31     181\n",
              "region_27     174\n",
              "region_28     155\n",
              "region_16     141\n",
              "region_23     130\n",
              "region_11     126\n",
              "region_17     112\n",
              "region_29     107\n",
              "region_25     106\n",
              "region_19      92\n",
              "region_14      89\n",
              "region_30      84\n",
              "region_20      79\n",
              "region_32      76\n",
              "region_1       73\n",
              "region_5       73\n",
              "region_8       65\n",
              "region_6       59\n",
              "region_10      54\n",
              "region_12      51\n",
              "region_24      45\n",
              "region_21      39\n",
              "region_3       31\n",
              "region_34      30\n",
              "region_9       30\n",
              "region_33      27\n",
              "region_18       3\n",
              "Name: region, dtype: int64"
            ]
          },
          "metadata": {},
          "execution_count": 20
        }
      ]
    },
    {
      "cell_type": "markdown",
      "metadata": {
        "id": "s4JRIAMjBlWs"
      },
      "source": [
        "**Observations:**\n",
        "* a) Data in this column will not be contributing to the prediction of the Depenedent variable\n",
        "\n",
        "**Decision and Actions to be taken:**\n",
        "\n",
        "* We will be dropping this column"
      ]
    },
    {
      "cell_type": "markdown",
      "metadata": {
        "id": "FnT5fObtbCU4"
      },
      "source": [
        "**Action:**"
      ]
    },
    {
      "cell_type": "code",
      "metadata": {
        "id": "2a3At12dbGnL"
      },
      "source": [
        "combined_df.drop(['region'], axis = 1, inplace = True)"
      ],
      "execution_count": 21,
      "outputs": []
    },
    {
      "cell_type": "markdown",
      "metadata": {
        "id": "7A09ldPnaQ8k"
      },
      "source": [
        "###**Column-4: education**"
      ]
    },
    {
      "cell_type": "code",
      "metadata": {
        "colab": {
          "base_uri": "https://localhost:8080/"
        },
        "id": "hHeCoASREZmu",
        "outputId": "cc2796d7-6e5f-4e28-94a8-060aac1ab903"
      },
      "source": [
        "combined_df['education'].value_counts()"
      ],
      "execution_count": 22,
      "outputs": [
        {
          "output_type": "execute_result",
          "data": {
            "text/plain": [
              "Bachelor's          4157\n",
              "Master's & above    1754\n",
              "Below Secondary       89\n",
              "Name: education, dtype: int64"
            ]
          },
          "metadata": {},
          "execution_count": 22
        }
      ]
    },
    {
      "cell_type": "markdown",
      "metadata": {
        "id": "_2anV03LEYtq"
      },
      "source": [
        "**Observations:**\n",
        "* a) Data in this column is of \"Object\" or \"String\" datatype. Also, the data levels are \"Ordinal\" Type.\n",
        "\n",
        "**Decsion:**\n",
        "\n",
        "**We will be converting the data in this column into Numerical values using Ordnial Type method \"preprocessing.LabelEncoder()**"
      ]
    },
    {
      "cell_type": "markdown",
      "metadata": {
        "id": "lO_wFnf0bxaI"
      },
      "source": [
        "**Action:**"
      ]
    },
    {
      "cell_type": "code",
      "metadata": {
        "colab": {
          "base_uri": "https://localhost:8080/"
        },
        "id": "f6LFlTlJbwoF",
        "outputId": "b55c4adf-f235-470b-a87d-61e3b53e160f"
      },
      "source": [
        "le = preprocessing.LabelEncoder()\n",
        "combined_df['education'] = le.fit_transform(combined_df.education.values)\n",
        "combined_df['education'].value_counts()"
      ],
      "execution_count": 23,
      "outputs": [
        {
          "output_type": "execute_result",
          "data": {
            "text/plain": [
              "0    4157\n",
              "2    1754\n",
              "1      89\n",
              "Name: education, dtype: int64"
            ]
          },
          "metadata": {},
          "execution_count": 23
        }
      ]
    },
    {
      "cell_type": "markdown",
      "metadata": {
        "id": "N_e8BtkEE7UX"
      },
      "source": [
        "###**Column-5: Gender**"
      ]
    },
    {
      "cell_type": "code",
      "metadata": {
        "colab": {
          "base_uri": "https://localhost:8080/"
        },
        "id": "6HXbGn2CFKN6",
        "outputId": "5544a6be-3490-4a72-b4a5-49af71a872a0"
      },
      "source": [
        "combined_df['gender'].value_counts()"
      ],
      "execution_count": 24,
      "outputs": [
        {
          "output_type": "execute_result",
          "data": {
            "text/plain": [
              "m    4203\n",
              "f    1797\n",
              "Name: gender, dtype: int64"
            ]
          },
          "metadata": {},
          "execution_count": 24
        }
      ]
    },
    {
      "cell_type": "markdown",
      "metadata": {
        "id": "WJ6X1QLFFJbc"
      },
      "source": [
        "**Observations:**\n",
        "* a) Data in this column is of \"Object\" or \"String\" datatype. Also, the data levels are \"Nominal\" Type.\n",
        "\n",
        "**Decsion:**\n",
        "\n",
        "**We will be converting the data in this column into Numerical values using Nominal Type method \"pd.get_dummies\".**"
      ]
    },
    {
      "cell_type": "markdown",
      "metadata": {
        "id": "CbGzJMHYbzrB"
      },
      "source": [
        "**Action:**"
      ]
    },
    {
      "cell_type": "code",
      "metadata": {
        "colab": {
          "base_uri": "https://localhost:8080/",
          "height": 423
        },
        "id": "XfVdSCRCb1Dv",
        "outputId": "df78fea8-a130-4d2f-a40f-0b6745ce5599"
      },
      "source": [
        "#encode the data\n",
        "gender = pd.DataFrame(combined_df['gender'])\n",
        "gender_encoded=pd.get_dummies(data= gender, drop_first=True)\n",
        "gender_encoded"
      ],
      "execution_count": 25,
      "outputs": [
        {
          "output_type": "execute_result",
          "data": {
            "text/html": [
              "<div>\n",
              "<style scoped>\n",
              "    .dataframe tbody tr th:only-of-type {\n",
              "        vertical-align: middle;\n",
              "    }\n",
              "\n",
              "    .dataframe tbody tr th {\n",
              "        vertical-align: top;\n",
              "    }\n",
              "\n",
              "    .dataframe thead th {\n",
              "        text-align: right;\n",
              "    }\n",
              "</style>\n",
              "<table border=\"1\" class=\"dataframe\">\n",
              "  <thead>\n",
              "    <tr style=\"text-align: right;\">\n",
              "      <th></th>\n",
              "      <th>gender_m</th>\n",
              "    </tr>\n",
              "  </thead>\n",
              "  <tbody>\n",
              "    <tr>\n",
              "      <th>0</th>\n",
              "      <td>0</td>\n",
              "    </tr>\n",
              "    <tr>\n",
              "      <th>1</th>\n",
              "      <td>1</td>\n",
              "    </tr>\n",
              "    <tr>\n",
              "      <th>2</th>\n",
              "      <td>1</td>\n",
              "    </tr>\n",
              "    <tr>\n",
              "      <th>3</th>\n",
              "      <td>1</td>\n",
              "    </tr>\n",
              "    <tr>\n",
              "      <th>4</th>\n",
              "      <td>1</td>\n",
              "    </tr>\n",
              "    <tr>\n",
              "      <th>...</th>\n",
              "      <td>...</td>\n",
              "    </tr>\n",
              "    <tr>\n",
              "      <th>995</th>\n",
              "      <td>0</td>\n",
              "    </tr>\n",
              "    <tr>\n",
              "      <th>996</th>\n",
              "      <td>1</td>\n",
              "    </tr>\n",
              "    <tr>\n",
              "      <th>997</th>\n",
              "      <td>1</td>\n",
              "    </tr>\n",
              "    <tr>\n",
              "      <th>998</th>\n",
              "      <td>1</td>\n",
              "    </tr>\n",
              "    <tr>\n",
              "      <th>999</th>\n",
              "      <td>1</td>\n",
              "    </tr>\n",
              "  </tbody>\n",
              "</table>\n",
              "<p>6000 rows × 1 columns</p>\n",
              "</div>"
            ],
            "text/plain": [
              "     gender_m\n",
              "0           0\n",
              "1           1\n",
              "2           1\n",
              "3           1\n",
              "4           1\n",
              "..        ...\n",
              "995         0\n",
              "996         1\n",
              "997         1\n",
              "998         1\n",
              "999         1\n",
              "\n",
              "[6000 rows x 1 columns]"
            ]
          },
          "metadata": {},
          "execution_count": 25
        }
      ]
    },
    {
      "cell_type": "markdown",
      "metadata": {
        "id": "O2vSRMF5az1i"
      },
      "source": [
        "###**Column-6: recruitment channel**"
      ]
    },
    {
      "cell_type": "code",
      "metadata": {
        "colab": {
          "base_uri": "https://localhost:8080/"
        },
        "id": "QZhI1-cka2ze",
        "outputId": "72e44ad8-9587-4d1f-bfa3-de6ed4396a15"
      },
      "source": [
        "combined_df['recruitment_channel'].value_counts()"
      ],
      "execution_count": 26,
      "outputs": [
        {
          "output_type": "execute_result",
          "data": {
            "text/plain": [
              "other       3365\n",
              "sourcing    2488\n",
              "referred     147\n",
              "Name: recruitment_channel, dtype: int64"
            ]
          },
          "metadata": {},
          "execution_count": 26
        }
      ]
    },
    {
      "cell_type": "markdown",
      "metadata": {
        "id": "db2QtL3tbB9X"
      },
      "source": [
        "**Observations:**\n",
        "* a) Data in this column is of \"Object\" or \"String\" datatype. Also, the data levels are \"Nominal\" Type.\n",
        "\n",
        "**Decsion:**\n",
        "\n",
        "**We will be converting the data in this column into Numerical values using Nominal Type method \"pd.get_dummies\".**"
      ]
    },
    {
      "cell_type": "markdown",
      "metadata": {
        "id": "akOF_WdsbJS9"
      },
      "source": [
        "**Action:**"
      ]
    },
    {
      "cell_type": "code",
      "metadata": {
        "colab": {
          "base_uri": "https://localhost:8080/",
          "height": 423
        },
        "id": "umeXrWvlbLFe",
        "outputId": "b4fa29f4-ee3c-46f8-ff9e-522143930f4f"
      },
      "source": [
        "#encode the data\n",
        "recruitment_channel = pd.DataFrame(combined_df['recruitment_channel'])\n",
        "recruitment_channel_encoded=pd.get_dummies(data= recruitment_channel, drop_first=True)\n",
        "recruitment_channel_encoded"
      ],
      "execution_count": 27,
      "outputs": [
        {
          "output_type": "execute_result",
          "data": {
            "text/html": [
              "<div>\n",
              "<style scoped>\n",
              "    .dataframe tbody tr th:only-of-type {\n",
              "        vertical-align: middle;\n",
              "    }\n",
              "\n",
              "    .dataframe tbody tr th {\n",
              "        vertical-align: top;\n",
              "    }\n",
              "\n",
              "    .dataframe thead th {\n",
              "        text-align: right;\n",
              "    }\n",
              "</style>\n",
              "<table border=\"1\" class=\"dataframe\">\n",
              "  <thead>\n",
              "    <tr style=\"text-align: right;\">\n",
              "      <th></th>\n",
              "      <th>recruitment_channel_referred</th>\n",
              "      <th>recruitment_channel_sourcing</th>\n",
              "    </tr>\n",
              "  </thead>\n",
              "  <tbody>\n",
              "    <tr>\n",
              "      <th>0</th>\n",
              "      <td>0</td>\n",
              "      <td>1</td>\n",
              "    </tr>\n",
              "    <tr>\n",
              "      <th>1</th>\n",
              "      <td>0</td>\n",
              "      <td>0</td>\n",
              "    </tr>\n",
              "    <tr>\n",
              "      <th>2</th>\n",
              "      <td>0</td>\n",
              "      <td>1</td>\n",
              "    </tr>\n",
              "    <tr>\n",
              "      <th>3</th>\n",
              "      <td>0</td>\n",
              "      <td>0</td>\n",
              "    </tr>\n",
              "    <tr>\n",
              "      <th>4</th>\n",
              "      <td>0</td>\n",
              "      <td>0</td>\n",
              "    </tr>\n",
              "    <tr>\n",
              "      <th>...</th>\n",
              "      <td>...</td>\n",
              "      <td>...</td>\n",
              "    </tr>\n",
              "    <tr>\n",
              "      <th>995</th>\n",
              "      <td>0</td>\n",
              "      <td>0</td>\n",
              "    </tr>\n",
              "    <tr>\n",
              "      <th>996</th>\n",
              "      <td>0</td>\n",
              "      <td>0</td>\n",
              "    </tr>\n",
              "    <tr>\n",
              "      <th>997</th>\n",
              "      <td>0</td>\n",
              "      <td>0</td>\n",
              "    </tr>\n",
              "    <tr>\n",
              "      <th>998</th>\n",
              "      <td>0</td>\n",
              "      <td>0</td>\n",
              "    </tr>\n",
              "    <tr>\n",
              "      <th>999</th>\n",
              "      <td>0</td>\n",
              "      <td>1</td>\n",
              "    </tr>\n",
              "  </tbody>\n",
              "</table>\n",
              "<p>6000 rows × 2 columns</p>\n",
              "</div>"
            ],
            "text/plain": [
              "     recruitment_channel_referred  recruitment_channel_sourcing\n",
              "0                               0                             1\n",
              "1                               0                             0\n",
              "2                               0                             1\n",
              "3                               0                             0\n",
              "4                               0                             0\n",
              "..                            ...                           ...\n",
              "995                             0                             0\n",
              "996                             0                             0\n",
              "997                             0                             0\n",
              "998                             0                             0\n",
              "999                             0                             1\n",
              "\n",
              "[6000 rows x 2 columns]"
            ]
          },
          "metadata": {},
          "execution_count": 27
        }
      ]
    },
    {
      "cell_type": "markdown",
      "metadata": {
        "id": "9So7WcHPGYtc"
      },
      "source": [
        "###**Column-7 to 14 : no_of_trainings, age, previous_year_rating, length_of_service, KPIs_met, awards_won, avg_trainging_score, is_promoted**"
      ]
    },
    {
      "cell_type": "code",
      "metadata": {
        "colab": {
          "base_uri": "https://localhost:8080/",
          "height": 300
        },
        "id": "Lt7jl0HWGZaf",
        "outputId": "4d6ca78a-6a07-4112-970c-b1a19ac57bc3"
      },
      "source": [
        "combined_df.describe()"
      ],
      "execution_count": 28,
      "outputs": [
        {
          "output_type": "execute_result",
          "data": {
            "text/html": [
              "<div>\n",
              "<style scoped>\n",
              "    .dataframe tbody tr th:only-of-type {\n",
              "        vertical-align: middle;\n",
              "    }\n",
              "\n",
              "    .dataframe tbody tr th {\n",
              "        vertical-align: top;\n",
              "    }\n",
              "\n",
              "    .dataframe thead th {\n",
              "        text-align: right;\n",
              "    }\n",
              "</style>\n",
              "<table border=\"1\" class=\"dataframe\">\n",
              "  <thead>\n",
              "    <tr style=\"text-align: right;\">\n",
              "      <th></th>\n",
              "      <th>education</th>\n",
              "      <th>no_of_trainings</th>\n",
              "      <th>age</th>\n",
              "      <th>previous_year_rating</th>\n",
              "      <th>length_of_service</th>\n",
              "      <th>KPIs_met &gt;80%</th>\n",
              "      <th>awards_won?</th>\n",
              "      <th>avg_training_score</th>\n",
              "      <th>is_promoted</th>\n",
              "      <th>train</th>\n",
              "      <th>test</th>\n",
              "    </tr>\n",
              "  </thead>\n",
              "  <tbody>\n",
              "    <tr>\n",
              "      <th>count</th>\n",
              "      <td>6000.000000</td>\n",
              "      <td>6000.00000</td>\n",
              "      <td>6000.000000</td>\n",
              "      <td>6000.000000</td>\n",
              "      <td>6000.000000</td>\n",
              "      <td>6000.000000</td>\n",
              "      <td>6000.000000</td>\n",
              "      <td>6000.000000</td>\n",
              "      <td>6000.000000</td>\n",
              "      <td>5000.0</td>\n",
              "      <td>1000.0</td>\n",
              "    </tr>\n",
              "    <tr>\n",
              "      <th>mean</th>\n",
              "      <td>0.599500</td>\n",
              "      <td>1.22750</td>\n",
              "      <td>34.720167</td>\n",
              "      <td>3.534000</td>\n",
              "      <td>5.876333</td>\n",
              "      <td>0.470000</td>\n",
              "      <td>0.052000</td>\n",
              "      <td>66.205167</td>\n",
              "      <td>0.377833</td>\n",
              "      <td>1.0</td>\n",
              "      <td>0.0</td>\n",
              "    </tr>\n",
              "    <tr>\n",
              "      <th>std</th>\n",
              "      <td>0.908242</td>\n",
              "      <td>0.55178</td>\n",
              "      <td>7.532152</td>\n",
              "      <td>1.185219</td>\n",
              "      <td>4.253123</td>\n",
              "      <td>0.499141</td>\n",
              "      <td>0.222046</td>\n",
              "      <td>14.395437</td>\n",
              "      <td>0.484886</td>\n",
              "      <td>0.0</td>\n",
              "      <td>0.0</td>\n",
              "    </tr>\n",
              "    <tr>\n",
              "      <th>min</th>\n",
              "      <td>0.000000</td>\n",
              "      <td>1.00000</td>\n",
              "      <td>20.000000</td>\n",
              "      <td>1.000000</td>\n",
              "      <td>1.000000</td>\n",
              "      <td>0.000000</td>\n",
              "      <td>0.000000</td>\n",
              "      <td>39.000000</td>\n",
              "      <td>0.000000</td>\n",
              "      <td>1.0</td>\n",
              "      <td>0.0</td>\n",
              "    </tr>\n",
              "    <tr>\n",
              "      <th>25%</th>\n",
              "      <td>0.000000</td>\n",
              "      <td>1.00000</td>\n",
              "      <td>29.000000</td>\n",
              "      <td>3.000000</td>\n",
              "      <td>3.000000</td>\n",
              "      <td>0.000000</td>\n",
              "      <td>0.000000</td>\n",
              "      <td>53.000000</td>\n",
              "      <td>0.000000</td>\n",
              "      <td>1.0</td>\n",
              "      <td>0.0</td>\n",
              "    </tr>\n",
              "    <tr>\n",
              "      <th>50%</th>\n",
              "      <td>0.000000</td>\n",
              "      <td>1.00000</td>\n",
              "      <td>33.000000</td>\n",
              "      <td>3.000000</td>\n",
              "      <td>5.000000</td>\n",
              "      <td>0.000000</td>\n",
              "      <td>0.000000</td>\n",
              "      <td>63.000000</td>\n",
              "      <td>0.000000</td>\n",
              "      <td>1.0</td>\n",
              "      <td>0.0</td>\n",
              "    </tr>\n",
              "    <tr>\n",
              "      <th>75%</th>\n",
              "      <td>2.000000</td>\n",
              "      <td>1.00000</td>\n",
              "      <td>38.000000</td>\n",
              "      <td>5.000000</td>\n",
              "      <td>8.000000</td>\n",
              "      <td>1.000000</td>\n",
              "      <td>0.000000</td>\n",
              "      <td>80.000000</td>\n",
              "      <td>1.000000</td>\n",
              "      <td>1.0</td>\n",
              "      <td>0.0</td>\n",
              "    </tr>\n",
              "    <tr>\n",
              "      <th>max</th>\n",
              "      <td>2.000000</td>\n",
              "      <td>7.00000</td>\n",
              "      <td>60.000000</td>\n",
              "      <td>5.000000</td>\n",
              "      <td>34.000000</td>\n",
              "      <td>1.000000</td>\n",
              "      <td>1.000000</td>\n",
              "      <td>99.000000</td>\n",
              "      <td>1.000000</td>\n",
              "      <td>1.0</td>\n",
              "      <td>0.0</td>\n",
              "    </tr>\n",
              "  </tbody>\n",
              "</table>\n",
              "</div>"
            ],
            "text/plain": [
              "         education  no_of_trainings          age  ...  is_promoted   train    test\n",
              "count  6000.000000       6000.00000  6000.000000  ...  6000.000000  5000.0  1000.0\n",
              "mean      0.599500          1.22750    34.720167  ...     0.377833     1.0     0.0\n",
              "std       0.908242          0.55178     7.532152  ...     0.484886     0.0     0.0\n",
              "min       0.000000          1.00000    20.000000  ...     0.000000     1.0     0.0\n",
              "25%       0.000000          1.00000    29.000000  ...     0.000000     1.0     0.0\n",
              "50%       0.000000          1.00000    33.000000  ...     0.000000     1.0     0.0\n",
              "75%       2.000000          1.00000    38.000000  ...     1.000000     1.0     0.0\n",
              "max       2.000000          7.00000    60.000000  ...     1.000000     1.0     0.0\n",
              "\n",
              "[8 rows x 11 columns]"
            ]
          },
          "metadata": {},
          "execution_count": 28
        }
      ]
    },
    {
      "cell_type": "markdown",
      "metadata": {
        "id": "y6qDcn2WYR5w"
      },
      "source": [
        "**Observations:**\n",
        "* a) Here, all the Integer and float Column values are described.\n",
        "* b) Each column has got a Standard Deviation, Min and Max Values.\n",
        "* c) We can assume that there is no wrong data and wrong data format.\n",
        "* **d) But we need to do Scaling**"
      ]
    },
    {
      "cell_type": "markdown",
      "metadata": {
        "id": "QtCMX5nVekDi"
      },
      "source": [
        "##**Step-6: Drop the columns which are to be categorically converted and include the their respective coverted Numeric Values**"
      ]
    },
    {
      "cell_type": "code",
      "metadata": {
        "colab": {
          "base_uri": "https://localhost:8080/"
        },
        "id": "S2TD4TLKekfK",
        "outputId": "2b794744-b9bb-4c6f-df77-cb40a96a6d33"
      },
      "source": [
        "combined_df.drop(['department', 'gender', 'recruitment_channel'], axis = 1, inplace = True)\n",
        "combined_df.info()"
      ],
      "execution_count": 29,
      "outputs": [
        {
          "output_type": "stream",
          "name": "stdout",
          "text": [
            "<class 'pandas.core.frame.DataFrame'>\n",
            "Int64Index: 6000 entries, 0 to 999\n",
            "Data columns (total 11 columns):\n",
            " #   Column                Non-Null Count  Dtype  \n",
            "---  ------                --------------  -----  \n",
            " 0   education             6000 non-null   int64  \n",
            " 1   no_of_trainings       6000 non-null   int64  \n",
            " 2   age                   6000 non-null   int64  \n",
            " 3   previous_year_rating  6000 non-null   float64\n",
            " 4   length_of_service     6000 non-null   int64  \n",
            " 5   KPIs_met >80%         6000 non-null   int64  \n",
            " 6   awards_won?           6000 non-null   int64  \n",
            " 7   avg_training_score    6000 non-null   int64  \n",
            " 8   is_promoted           6000 non-null   float64\n",
            " 9   train                 5000 non-null   float64\n",
            " 10  test                  1000 non-null   float64\n",
            "dtypes: float64(4), int64(7)\n",
            "memory usage: 562.5 KB\n"
          ]
        }
      ]
    },
    {
      "cell_type": "code",
      "metadata": {
        "colab": {
          "base_uri": "https://localhost:8080/"
        },
        "id": "b_c7rOuTe6GI",
        "outputId": "7bbd4b0f-291d-4748-be6b-2af09a8a3e38"
      },
      "source": [
        "combined_df = pd.concat([combined_df,dept_encoded, gender_encoded, recruitment_channel_encoded], axis=1)\n",
        "combined_df.info()"
      ],
      "execution_count": 30,
      "outputs": [
        {
          "output_type": "stream",
          "name": "stdout",
          "text": [
            "<class 'pandas.core.frame.DataFrame'>\n",
            "Int64Index: 6000 entries, 0 to 999\n",
            "Data columns (total 22 columns):\n",
            " #   Column                        Non-Null Count  Dtype  \n",
            "---  ------                        --------------  -----  \n",
            " 0   education                     6000 non-null   int64  \n",
            " 1   no_of_trainings               6000 non-null   int64  \n",
            " 2   age                           6000 non-null   int64  \n",
            " 3   previous_year_rating          6000 non-null   float64\n",
            " 4   length_of_service             6000 non-null   int64  \n",
            " 5   KPIs_met >80%                 6000 non-null   int64  \n",
            " 6   awards_won?                   6000 non-null   int64  \n",
            " 7   avg_training_score            6000 non-null   int64  \n",
            " 8   is_promoted                   6000 non-null   float64\n",
            " 9   train                         5000 non-null   float64\n",
            " 10  test                          1000 non-null   float64\n",
            " 11  department_Finance            6000 non-null   uint8  \n",
            " 12  department_HR                 6000 non-null   uint8  \n",
            " 13  department_Legal              6000 non-null   uint8  \n",
            " 14  department_Operations         6000 non-null   uint8  \n",
            " 15  department_Procurement        6000 non-null   uint8  \n",
            " 16  department_R&D                6000 non-null   uint8  \n",
            " 17  department_Sales & Marketing  6000 non-null   uint8  \n",
            " 18  department_Technology         6000 non-null   uint8  \n",
            " 19  gender_m                      6000 non-null   uint8  \n",
            " 20  recruitment_channel_referred  6000 non-null   uint8  \n",
            " 21  recruitment_channel_sourcing  6000 non-null   uint8  \n",
            "dtypes: float64(4), int64(7), uint8(11)\n",
            "memory usage: 627.0 KB\n"
          ]
        }
      ]
    },
    {
      "cell_type": "markdown",
      "metadata": {
        "id": "8oPbiGG37g-x"
      },
      "source": [
        "##**Step-5: Seggregate the Train and Test Data**"
      ]
    },
    {
      "cell_type": "code",
      "metadata": {
        "id": "QdryXUzi7pO2"
      },
      "source": [
        "train_df1 = combined_df[combined_df[\"train\"] == 1]\n",
        "test_df1 = combined_df[combined_df[\"test\"] == 0]\n",
        "train_df1.drop([\"train\", \"test\"], axis=1, inplace=True)\n",
        "test_df1.drop([\"test\", \"train\", \"is_promoted\"], axis=1, inplace=True)"
      ],
      "execution_count": 31,
      "outputs": []
    },
    {
      "cell_type": "code",
      "metadata": {
        "colab": {
          "base_uri": "https://localhost:8080/"
        },
        "id": "Y8B5eJZw74Hy",
        "outputId": "f1c08439-47d3-42b4-e7e1-cdadd22d00e7"
      },
      "source": [
        "train_df1.shape"
      ],
      "execution_count": 32,
      "outputs": [
        {
          "output_type": "execute_result",
          "data": {
            "text/plain": [
              "(5000, 20)"
            ]
          },
          "metadata": {},
          "execution_count": 32
        }
      ]
    },
    {
      "cell_type": "code",
      "metadata": {
        "colab": {
          "base_uri": "https://localhost:8080/"
        },
        "id": "SNXTZHeq8BsY",
        "outputId": "ad0b8273-dd3d-4b14-f4f0-28f0c4b520f1"
      },
      "source": [
        "test_df1.shape"
      ],
      "execution_count": 33,
      "outputs": [
        {
          "output_type": "execute_result",
          "data": {
            "text/plain": [
              "(1000, 19)"
            ]
          },
          "metadata": {},
          "execution_count": 33
        }
      ]
    },
    {
      "cell_type": "markdown",
      "metadata": {
        "id": "Fem9YW14fIU6"
      },
      "source": [
        "##**Step-5: Slice X and y Values**"
      ]
    },
    {
      "cell_type": "code",
      "metadata": {
        "colab": {
          "base_uri": "https://localhost:8080/",
          "height": 243
        },
        "id": "pfwaOwx5fTwv",
        "outputId": "1540256a-aaa4-4daf-bf9c-caa3edb6973f"
      },
      "source": [
        "X = train_df1.drop(['is_promoted'], axis = 1)\n",
        "y = train_df1['is_promoted']\n",
        "X.head()"
      ],
      "execution_count": 34,
      "outputs": [
        {
          "output_type": "execute_result",
          "data": {
            "text/html": [
              "<div>\n",
              "<style scoped>\n",
              "    .dataframe tbody tr th:only-of-type {\n",
              "        vertical-align: middle;\n",
              "    }\n",
              "\n",
              "    .dataframe tbody tr th {\n",
              "        vertical-align: top;\n",
              "    }\n",
              "\n",
              "    .dataframe thead th {\n",
              "        text-align: right;\n",
              "    }\n",
              "</style>\n",
              "<table border=\"1\" class=\"dataframe\">\n",
              "  <thead>\n",
              "    <tr style=\"text-align: right;\">\n",
              "      <th></th>\n",
              "      <th>education</th>\n",
              "      <th>no_of_trainings</th>\n",
              "      <th>age</th>\n",
              "      <th>previous_year_rating</th>\n",
              "      <th>length_of_service</th>\n",
              "      <th>KPIs_met &gt;80%</th>\n",
              "      <th>awards_won?</th>\n",
              "      <th>avg_training_score</th>\n",
              "      <th>department_Finance</th>\n",
              "      <th>department_HR</th>\n",
              "      <th>department_Legal</th>\n",
              "      <th>department_Operations</th>\n",
              "      <th>department_Procurement</th>\n",
              "      <th>department_R&amp;D</th>\n",
              "      <th>department_Sales &amp; Marketing</th>\n",
              "      <th>department_Technology</th>\n",
              "      <th>gender_m</th>\n",
              "      <th>recruitment_channel_referred</th>\n",
              "      <th>recruitment_channel_sourcing</th>\n",
              "    </tr>\n",
              "  </thead>\n",
              "  <tbody>\n",
              "    <tr>\n",
              "      <th>0</th>\n",
              "      <td>2</td>\n",
              "      <td>1</td>\n",
              "      <td>35</td>\n",
              "      <td>5.0</td>\n",
              "      <td>8</td>\n",
              "      <td>1</td>\n",
              "      <td>0</td>\n",
              "      <td>49</td>\n",
              "      <td>0</td>\n",
              "      <td>0</td>\n",
              "      <td>0</td>\n",
              "      <td>0</td>\n",
              "      <td>0</td>\n",
              "      <td>0</td>\n",
              "      <td>1</td>\n",
              "      <td>0</td>\n",
              "      <td>0</td>\n",
              "      <td>0</td>\n",
              "      <td>1</td>\n",
              "    </tr>\n",
              "    <tr>\n",
              "      <th>1</th>\n",
              "      <td>0</td>\n",
              "      <td>1</td>\n",
              "      <td>30</td>\n",
              "      <td>5.0</td>\n",
              "      <td>4</td>\n",
              "      <td>0</td>\n",
              "      <td>0</td>\n",
              "      <td>60</td>\n",
              "      <td>0</td>\n",
              "      <td>0</td>\n",
              "      <td>0</td>\n",
              "      <td>1</td>\n",
              "      <td>0</td>\n",
              "      <td>0</td>\n",
              "      <td>0</td>\n",
              "      <td>0</td>\n",
              "      <td>1</td>\n",
              "      <td>0</td>\n",
              "      <td>0</td>\n",
              "    </tr>\n",
              "    <tr>\n",
              "      <th>2</th>\n",
              "      <td>0</td>\n",
              "      <td>1</td>\n",
              "      <td>34</td>\n",
              "      <td>3.0</td>\n",
              "      <td>7</td>\n",
              "      <td>0</td>\n",
              "      <td>0</td>\n",
              "      <td>50</td>\n",
              "      <td>0</td>\n",
              "      <td>0</td>\n",
              "      <td>0</td>\n",
              "      <td>0</td>\n",
              "      <td>0</td>\n",
              "      <td>0</td>\n",
              "      <td>1</td>\n",
              "      <td>0</td>\n",
              "      <td>1</td>\n",
              "      <td>0</td>\n",
              "      <td>1</td>\n",
              "    </tr>\n",
              "    <tr>\n",
              "      <th>3</th>\n",
              "      <td>0</td>\n",
              "      <td>2</td>\n",
              "      <td>39</td>\n",
              "      <td>1.0</td>\n",
              "      <td>10</td>\n",
              "      <td>0</td>\n",
              "      <td>0</td>\n",
              "      <td>50</td>\n",
              "      <td>0</td>\n",
              "      <td>0</td>\n",
              "      <td>0</td>\n",
              "      <td>0</td>\n",
              "      <td>0</td>\n",
              "      <td>0</td>\n",
              "      <td>1</td>\n",
              "      <td>0</td>\n",
              "      <td>1</td>\n",
              "      <td>0</td>\n",
              "      <td>0</td>\n",
              "    </tr>\n",
              "    <tr>\n",
              "      <th>4</th>\n",
              "      <td>0</td>\n",
              "      <td>1</td>\n",
              "      <td>45</td>\n",
              "      <td>3.0</td>\n",
              "      <td>2</td>\n",
              "      <td>0</td>\n",
              "      <td>0</td>\n",
              "      <td>73</td>\n",
              "      <td>0</td>\n",
              "      <td>0</td>\n",
              "      <td>0</td>\n",
              "      <td>0</td>\n",
              "      <td>0</td>\n",
              "      <td>0</td>\n",
              "      <td>0</td>\n",
              "      <td>1</td>\n",
              "      <td>1</td>\n",
              "      <td>0</td>\n",
              "      <td>0</td>\n",
              "    </tr>\n",
              "  </tbody>\n",
              "</table>\n",
              "</div>"
            ],
            "text/plain": [
              "   education  ...  recruitment_channel_sourcing\n",
              "0          2  ...                             1\n",
              "1          0  ...                             0\n",
              "2          0  ...                             1\n",
              "3          0  ...                             0\n",
              "4          0  ...                             0\n",
              "\n",
              "[5 rows x 19 columns]"
            ]
          },
          "metadata": {},
          "execution_count": 34
        }
      ]
    },
    {
      "cell_type": "code",
      "metadata": {
        "colab": {
          "base_uri": "https://localhost:8080/"
        },
        "id": "5ZITjuHwfem-",
        "outputId": "351bcb16-1414-452f-97d7-94ea004adbbe"
      },
      "source": [
        "y.head()"
      ],
      "execution_count": 35,
      "outputs": [
        {
          "output_type": "execute_result",
          "data": {
            "text/plain": [
              "0    0.0\n",
              "1    0.0\n",
              "2    0.0\n",
              "3    0.0\n",
              "4    0.0\n",
              "Name: is_promoted, dtype: float64"
            ]
          },
          "metadata": {},
          "execution_count": 35
        }
      ]
    },
    {
      "cell_type": "code",
      "metadata": {
        "id": "X9jmCktqN22h"
      },
      "source": [
        "columnNames = ['education','no_of_trainings', 'age', 'previous_year_rating', 'length_of_service', 'KPIs_met>80%', 'awards_won?', 'avg_training_score', 'department_Finance',\n",
        "               'department_HR', 'department_Legal', 'department_Operations', 'department_Procurement', 'department_R&D', 'department_Sales & Marketing', 'deartment_Technology',\n",
        "               'gender_m', 'recruitment_channel_referred', 'recruitment_channel_sourcing']"
      ],
      "execution_count": 36,
      "outputs": []
    },
    {
      "cell_type": "code",
      "metadata": {
        "colab": {
          "base_uri": "https://localhost:8080/",
          "height": 243
        },
        "id": "UkA9XAe_OGe0",
        "outputId": "28359d56-b8ca-41e2-cc69-72af80536195"
      },
      "source": [
        "std_scaler_object = preprocessing.StandardScaler()\n",
        "X1 = std_scaler_object.fit_transform(X)\n",
        "X1 = pd.DataFrame(X1 , columns = columnNames)\n",
        "X1.head()"
      ],
      "execution_count": 37,
      "outputs": [
        {
          "output_type": "execute_result",
          "data": {
            "text/html": [
              "<div>\n",
              "<style scoped>\n",
              "    .dataframe tbody tr th:only-of-type {\n",
              "        vertical-align: middle;\n",
              "    }\n",
              "\n",
              "    .dataframe tbody tr th {\n",
              "        vertical-align: top;\n",
              "    }\n",
              "\n",
              "    .dataframe thead th {\n",
              "        text-align: right;\n",
              "    }\n",
              "</style>\n",
              "<table border=\"1\" class=\"dataframe\">\n",
              "  <thead>\n",
              "    <tr style=\"text-align: right;\">\n",
              "      <th></th>\n",
              "      <th>education</th>\n",
              "      <th>no_of_trainings</th>\n",
              "      <th>age</th>\n",
              "      <th>previous_year_rating</th>\n",
              "      <th>length_of_service</th>\n",
              "      <th>KPIs_met&gt;80%</th>\n",
              "      <th>awards_won?</th>\n",
              "      <th>avg_training_score</th>\n",
              "      <th>department_Finance</th>\n",
              "      <th>department_HR</th>\n",
              "      <th>department_Legal</th>\n",
              "      <th>department_Operations</th>\n",
              "      <th>department_Procurement</th>\n",
              "      <th>department_R&amp;D</th>\n",
              "      <th>department_Sales &amp; Marketing</th>\n",
              "      <th>deartment_Technology</th>\n",
              "      <th>gender_m</th>\n",
              "      <th>recruitment_channel_referred</th>\n",
              "      <th>recruitment_channel_sourcing</th>\n",
              "    </tr>\n",
              "  </thead>\n",
              "  <tbody>\n",
              "    <tr>\n",
              "      <th>0</th>\n",
              "      <td>1.531419</td>\n",
              "      <td>-0.406222</td>\n",
              "      <td>0.043929</td>\n",
              "      <td>1.210876</td>\n",
              "      <td>0.497985</td>\n",
              "      <td>1.013694</td>\n",
              "      <td>-0.247681</td>\n",
              "      <td>-1.226037</td>\n",
              "      <td>-0.205185</td>\n",
              "      <td>-0.202524</td>\n",
              "      <td>-0.123404</td>\n",
              "      <td>-0.513404</td>\n",
              "      <td>-0.413142</td>\n",
              "      <td>-0.131507</td>\n",
              "      <td>1.596439</td>\n",
              "      <td>-0.419095</td>\n",
              "      <td>-1.510958</td>\n",
              "      <td>-0.163383</td>\n",
              "      <td>1.182891</td>\n",
              "    </tr>\n",
              "    <tr>\n",
              "      <th>1</th>\n",
              "      <td>-0.664164</td>\n",
              "      <td>-0.406222</td>\n",
              "      <td>-0.622875</td>\n",
              "      <td>1.210876</td>\n",
              "      <td>-0.436058</td>\n",
              "      <td>-0.986491</td>\n",
              "      <td>-0.247681</td>\n",
              "      <td>-0.466453</td>\n",
              "      <td>-0.205185</td>\n",
              "      <td>-0.202524</td>\n",
              "      <td>-0.123404</td>\n",
              "      <td>1.947784</td>\n",
              "      <td>-0.413142</td>\n",
              "      <td>-0.131507</td>\n",
              "      <td>-0.626394</td>\n",
              "      <td>-0.419095</td>\n",
              "      <td>0.661832</td>\n",
              "      <td>-0.163383</td>\n",
              "      <td>-0.845386</td>\n",
              "    </tr>\n",
              "    <tr>\n",
              "      <th>2</th>\n",
              "      <td>-0.664164</td>\n",
              "      <td>-0.406222</td>\n",
              "      <td>-0.089432</td>\n",
              "      <td>-0.487645</td>\n",
              "      <td>0.264474</td>\n",
              "      <td>-0.986491</td>\n",
              "      <td>-0.247681</td>\n",
              "      <td>-1.156984</td>\n",
              "      <td>-0.205185</td>\n",
              "      <td>-0.202524</td>\n",
              "      <td>-0.123404</td>\n",
              "      <td>-0.513404</td>\n",
              "      <td>-0.413142</td>\n",
              "      <td>-0.131507</td>\n",
              "      <td>1.596439</td>\n",
              "      <td>-0.419095</td>\n",
              "      <td>0.661832</td>\n",
              "      <td>-0.163383</td>\n",
              "      <td>1.182891</td>\n",
              "    </tr>\n",
              "    <tr>\n",
              "      <th>3</th>\n",
              "      <td>-0.664164</td>\n",
              "      <td>1.420317</td>\n",
              "      <td>0.577372</td>\n",
              "      <td>-2.186166</td>\n",
              "      <td>0.965007</td>\n",
              "      <td>-0.986491</td>\n",
              "      <td>-0.247681</td>\n",
              "      <td>-1.156984</td>\n",
              "      <td>-0.205185</td>\n",
              "      <td>-0.202524</td>\n",
              "      <td>-0.123404</td>\n",
              "      <td>-0.513404</td>\n",
              "      <td>-0.413142</td>\n",
              "      <td>-0.131507</td>\n",
              "      <td>1.596439</td>\n",
              "      <td>-0.419095</td>\n",
              "      <td>0.661832</td>\n",
              "      <td>-0.163383</td>\n",
              "      <td>-0.845386</td>\n",
              "    </tr>\n",
              "    <tr>\n",
              "      <th>4</th>\n",
              "      <td>-0.664164</td>\n",
              "      <td>-0.406222</td>\n",
              "      <td>1.377536</td>\n",
              "      <td>-0.487645</td>\n",
              "      <td>-0.903080</td>\n",
              "      <td>-0.986491</td>\n",
              "      <td>-0.247681</td>\n",
              "      <td>0.431236</td>\n",
              "      <td>-0.205185</td>\n",
              "      <td>-0.202524</td>\n",
              "      <td>-0.123404</td>\n",
              "      <td>-0.513404</td>\n",
              "      <td>-0.413142</td>\n",
              "      <td>-0.131507</td>\n",
              "      <td>-0.626394</td>\n",
              "      <td>2.386093</td>\n",
              "      <td>0.661832</td>\n",
              "      <td>-0.163383</td>\n",
              "      <td>-0.845386</td>\n",
              "    </tr>\n",
              "  </tbody>\n",
              "</table>\n",
              "</div>"
            ],
            "text/plain": [
              "   education  ...  recruitment_channel_sourcing\n",
              "0   1.531419  ...                      1.182891\n",
              "1  -0.664164  ...                     -0.845386\n",
              "2  -0.664164  ...                      1.182891\n",
              "3  -0.664164  ...                     -0.845386\n",
              "4  -0.664164  ...                     -0.845386\n",
              "\n",
              "[5 rows x 19 columns]"
            ]
          },
          "metadata": {},
          "execution_count": 37
        }
      ]
    },
    {
      "cell_type": "markdown",
      "metadata": {
        "id": "j2EZEPCMfgu4"
      },
      "source": [
        "##**Step-6: Execute Train-Test-Split Command and Verify**"
      ]
    },
    {
      "cell_type": "code",
      "metadata": {
        "id": "gBNZDgNEfpZq"
      },
      "source": [
        "from sklearn.model_selection import train_test_split\n",
        "X_train, X_test, y_train, y_test = train_test_split(X1, y, test_size = 0.2, random_state = 66)"
      ],
      "execution_count": 38,
      "outputs": []
    },
    {
      "cell_type": "code",
      "metadata": {
        "colab": {
          "base_uri": "https://localhost:8080/"
        },
        "id": "--QAEH4QfyM1",
        "outputId": "b796afc3-b249-43b8-8488-ee0db4f4e4dc"
      },
      "source": [
        "print(X_train.shape)\n",
        "print(y_train.shape)\n",
        "print(X_test.shape)\n",
        "print(y_test.shape)"
      ],
      "execution_count": 39,
      "outputs": [
        {
          "output_type": "stream",
          "name": "stdout",
          "text": [
            "(4000, 19)\n",
            "(4000,)\n",
            "(1000, 19)\n",
            "(1000,)\n"
          ]
        }
      ]
    },
    {
      "cell_type": "markdown",
      "metadata": {
        "id": "jEJKsocUf_oo"
      },
      "source": [
        "##**Step-7: Learn the Data and Predict the dependent Variable values for the \"X_test\"data using \"SVC()\" algorithm**"
      ]
    },
    {
      "cell_type": "code",
      "metadata": {
        "colab": {
          "base_uri": "https://localhost:8080/"
        },
        "id": "3A4XGo5jOm8N",
        "outputId": "06c50740-0d9f-4371-bd2d-ae4a9ac7e8cd"
      },
      "source": [
        "from sklearn.svm import SVC\n",
        "svc_clf = SVC(kernel = 'rbf', random_state = 0)\n",
        "svc_clf.fit(X_train, y_train)"
      ],
      "execution_count": 40,
      "outputs": [
        {
          "output_type": "execute_result",
          "data": {
            "text/plain": [
              "SVC(random_state=0)"
            ]
          },
          "metadata": {},
          "execution_count": 40
        }
      ]
    },
    {
      "cell_type": "code",
      "metadata": {
        "id": "t_ivKG--LvaL"
      },
      "source": [
        "#predictions\n",
        "y_pred = svc_clf.predict(X_test)"
      ],
      "execution_count": 41,
      "outputs": []
    },
    {
      "cell_type": "code",
      "metadata": {
        "id": "SIxkbULDK_L0"
      },
      "source": [
        "svc_Train_acc=svc_clf.score(X_train,y_train)\n",
        "svc_Test_acc=svc_clf.score(X_test,y_test)"
      ],
      "execution_count": 42,
      "outputs": []
    },
    {
      "cell_type": "markdown",
      "metadata": {
        "id": "4lytBKPtLc5-"
      },
      "source": [
        "##**Step-8: Calculate the Accuracy of the Model**"
      ]
    },
    {
      "cell_type": "code",
      "metadata": {
        "colab": {
          "base_uri": "https://localhost:8080/"
        },
        "id": "KYrjaFPjLCka",
        "outputId": "89556b58-3a7a-4c8e-cd45-451f8efbd200"
      },
      "source": [
        "print('Accuracy on training set:',svc_Train_acc)\n",
        "print('Accuracy on test set:',svc_Test_acc)"
      ],
      "execution_count": 43,
      "outputs": [
        {
          "output_type": "stream",
          "name": "stdout",
          "text": [
            "Accuracy on training set: 0.80725\n",
            "Accuracy on test set: 0.769\n"
          ]
        }
      ]
    },
    {
      "cell_type": "markdown",
      "metadata": {
        "id": "-aZmDuzBg1Ax"
      },
      "source": [
        "##**Step-9: Display the Confusion Matrix and Classification Report of the Model**"
      ]
    },
    {
      "cell_type": "code",
      "metadata": {
        "colab": {
          "base_uri": "https://localhost:8080/"
        },
        "id": "f2g6XZYcg1Mq",
        "outputId": "43349e93-6a83-433d-a9e8-5062bd3eaec4"
      },
      "source": [
        "from sklearn.metrics import classification_report, confusion_matrix  \n",
        "print(confusion_matrix(y_test,y_pred))  \n",
        "print(classification_report(y_test,y_pred))  "
      ],
      "execution_count": 44,
      "outputs": [
        {
          "output_type": "stream",
          "name": "stdout",
          "text": [
            "[[374 176]\n",
            " [ 55 395]]\n",
            "              precision    recall  f1-score   support\n",
            "\n",
            "         0.0       0.87      0.68      0.76       550\n",
            "         1.0       0.69      0.88      0.77       450\n",
            "\n",
            "    accuracy                           0.77      1000\n",
            "   macro avg       0.78      0.78      0.77      1000\n",
            "weighted avg       0.79      0.77      0.77      1000\n",
            "\n"
          ]
        }
      ]
    },
    {
      "cell_type": "markdown",
      "metadata": {
        "id": "hDZoADRonINE"
      },
      "source": [
        "##**Step-10: SVC Algorithm Parameters Fine Tuning using GridSearch CV Method**"
      ]
    },
    {
      "cell_type": "code",
      "metadata": {
        "id": "04RWt-kWnIwh"
      },
      "source": [
        "model_params = {\n",
        "     'svc': {\n",
        "        'model': svm.SVC(gamma='auto'),\n",
        "        'params' : {\n",
        "            'C': [1,5,10,15,20],\n",
        "            'kernel': ['rbf','linear','sigmoid']\n",
        "        }  \n",
        "    },\n",
        " }"
      ],
      "execution_count": 45,
      "outputs": []
    },
    {
      "cell_type": "code",
      "metadata": {
        "colab": {
          "base_uri": "https://localhost:8080/",
          "height": 81
        },
        "id": "V3lUnxy2ndo2",
        "outputId": "75b10348-67f3-450e-d5b4-0cc80d0020e2"
      },
      "source": [
        "from sklearn.model_selection import GridSearchCV\n",
        "import pandas as pd\n",
        "scores = []\n",
        "\n",
        "for model_name, mp in model_params.items():\n",
        "    clf =  GridSearchCV(mp['model'], mp['params'], cv=5, return_train_score=False)\n",
        "    clf.fit(X1, y)\n",
        "    scores.append({\n",
        "        'model': model_name,\n",
        "        'best_score': clf.best_score_,\n",
        "        'best_params': clf.best_params_\n",
        "    })\n",
        "    \n",
        "df = pd.DataFrame(scores,columns=['model','best_score','best_params'])\n",
        "df"
      ],
      "execution_count": 46,
      "outputs": [
        {
          "output_type": "execute_result",
          "data": {
            "text/html": [
              "<div>\n",
              "<style scoped>\n",
              "    .dataframe tbody tr th:only-of-type {\n",
              "        vertical-align: middle;\n",
              "    }\n",
              "\n",
              "    .dataframe tbody tr th {\n",
              "        vertical-align: top;\n",
              "    }\n",
              "\n",
              "    .dataframe thead th {\n",
              "        text-align: right;\n",
              "    }\n",
              "</style>\n",
              "<table border=\"1\" class=\"dataframe\">\n",
              "  <thead>\n",
              "    <tr style=\"text-align: right;\">\n",
              "      <th></th>\n",
              "      <th>model</th>\n",
              "      <th>best_score</th>\n",
              "      <th>best_params</th>\n",
              "    </tr>\n",
              "  </thead>\n",
              "  <tbody>\n",
              "    <tr>\n",
              "      <th>0</th>\n",
              "      <td>svc</td>\n",
              "      <td>0.7886</td>\n",
              "      <td>{'C': 5, 'kernel': 'linear'}</td>\n",
              "    </tr>\n",
              "  </tbody>\n",
              "</table>\n",
              "</div>"
            ],
            "text/plain": [
              "  model  best_score                   best_params\n",
              "0   svc      0.7886  {'C': 5, 'kernel': 'linear'}"
            ]
          },
          "metadata": {},
          "execution_count": 46
        }
      ]
    },
    {
      "cell_type": "code",
      "metadata": {
        "colab": {
          "base_uri": "https://localhost:8080/"
        },
        "id": "hnE48e4toYF2",
        "outputId": "57d49f77-acbf-4a8f-82c9-483ca068d9ff"
      },
      "source": [
        "#SV Classifier\n",
        "svc_grid_acc = cross_val_score(SVC(C=5, kernel='linear', gamma = 'auto'),X1, y, cv=5)\n",
        "print(\"svc_grid_acc (CV_based) :\", svc_grid_acc)\n",
        "svc_grid_acc_avg=np.average(svc_grid_acc)\n",
        "print()\n",
        "print(\"svc_grid_acc_avg : \", svc_grid_acc_avg)"
      ],
      "execution_count": 47,
      "outputs": [
        {
          "output_type": "stream",
          "name": "stdout",
          "text": [
            "svc_grid_acc (CV_based) : [0.778 0.792 0.781 0.798 0.794]\n",
            "\n",
            "svc_grid_acc_avg :  0.7886\n"
          ]
        }
      ]
    },
    {
      "cell_type": "code",
      "metadata": {
        "colab": {
          "base_uri": "https://localhost:8080/",
          "height": 243
        },
        "id": "iojdLOul_Mww",
        "outputId": "743c2424-ed48-4c50-94b4-5424ee86ed8a"
      },
      "source": [
        "std_scaler_object = preprocessing.StandardScaler()\n",
        "test_df2 = std_scaler_object.fit_transform(test_df1)\n",
        "test_df3 = pd.DataFrame(test_df2 , columns = columnNames)\n",
        "test_df3.head()"
      ],
      "execution_count": 48,
      "outputs": [
        {
          "output_type": "execute_result",
          "data": {
            "text/html": [
              "<div>\n",
              "<style scoped>\n",
              "    .dataframe tbody tr th:only-of-type {\n",
              "        vertical-align: middle;\n",
              "    }\n",
              "\n",
              "    .dataframe tbody tr th {\n",
              "        vertical-align: top;\n",
              "    }\n",
              "\n",
              "    .dataframe thead th {\n",
              "        text-align: right;\n",
              "    }\n",
              "</style>\n",
              "<table border=\"1\" class=\"dataframe\">\n",
              "  <thead>\n",
              "    <tr style=\"text-align: right;\">\n",
              "      <th></th>\n",
              "      <th>education</th>\n",
              "      <th>no_of_trainings</th>\n",
              "      <th>age</th>\n",
              "      <th>previous_year_rating</th>\n",
              "      <th>length_of_service</th>\n",
              "      <th>KPIs_met&gt;80%</th>\n",
              "      <th>awards_won?</th>\n",
              "      <th>avg_training_score</th>\n",
              "      <th>department_Finance</th>\n",
              "      <th>department_HR</th>\n",
              "      <th>department_Legal</th>\n",
              "      <th>department_Operations</th>\n",
              "      <th>department_Procurement</th>\n",
              "      <th>department_R&amp;D</th>\n",
              "      <th>department_Sales &amp; Marketing</th>\n",
              "      <th>deartment_Technology</th>\n",
              "      <th>gender_m</th>\n",
              "      <th>recruitment_channel_referred</th>\n",
              "      <th>recruitment_channel_sourcing</th>\n",
              "    </tr>\n",
              "  </thead>\n",
              "  <tbody>\n",
              "    <tr>\n",
              "      <th>0</th>\n",
              "      <td>-0.639989</td>\n",
              "      <td>-0.442438</td>\n",
              "      <td>-1.426281</td>\n",
              "      <td>-0.276913</td>\n",
              "      <td>-1.200003</td>\n",
              "      <td>1.350873</td>\n",
              "      <td>-0.153432</td>\n",
              "      <td>0.994410</td>\n",
              "      <td>-0.222076</td>\n",
              "      <td>-0.224544</td>\n",
              "      <td>-0.135388</td>\n",
              "      <td>-0.487467</td>\n",
              "      <td>-0.372763</td>\n",
              "      <td>-0.139169</td>\n",
              "      <td>-0.671847</td>\n",
              "      <td>2.520504</td>\n",
              "      <td>0.614337</td>\n",
              "      <td>-0.131507</td>\n",
              "      <td>1.214598</td>\n",
              "    </tr>\n",
              "    <tr>\n",
              "      <th>1</th>\n",
              "      <td>-0.639989</td>\n",
              "      <td>-0.442438</td>\n",
              "      <td>-0.516000</td>\n",
              "      <td>-0.276913</td>\n",
              "      <td>-0.224589</td>\n",
              "      <td>-0.740262</td>\n",
              "      <td>-0.153432</td>\n",
              "      <td>-0.914528</td>\n",
              "      <td>-0.222076</td>\n",
              "      <td>4.453463</td>\n",
              "      <td>-0.135388</td>\n",
              "      <td>-0.487467</td>\n",
              "      <td>-0.372763</td>\n",
              "      <td>-0.139169</td>\n",
              "      <td>-0.671847</td>\n",
              "      <td>-0.396746</td>\n",
              "      <td>-1.627770</td>\n",
              "      <td>-0.131507</td>\n",
              "      <td>-0.823318</td>\n",
              "    </tr>\n",
              "    <tr>\n",
              "      <th>2</th>\n",
              "      <td>-0.639989</td>\n",
              "      <td>-0.442438</td>\n",
              "      <td>-0.516000</td>\n",
              "      <td>-1.940054</td>\n",
              "      <td>-0.468442</td>\n",
              "      <td>-0.740262</td>\n",
              "      <td>-0.153432</td>\n",
              "      <td>-1.208211</td>\n",
              "      <td>-0.222076</td>\n",
              "      <td>-0.224544</td>\n",
              "      <td>-0.135388</td>\n",
              "      <td>-0.487467</td>\n",
              "      <td>-0.372763</td>\n",
              "      <td>-0.139169</td>\n",
              "      <td>1.488433</td>\n",
              "      <td>-0.396746</td>\n",
              "      <td>0.614337</td>\n",
              "      <td>-0.131507</td>\n",
              "      <td>-0.823318</td>\n",
              "    </tr>\n",
              "    <tr>\n",
              "      <th>3</th>\n",
              "      <td>-0.639989</td>\n",
              "      <td>3.055097</td>\n",
              "      <td>-0.516000</td>\n",
              "      <td>-1.108484</td>\n",
              "      <td>0.750825</td>\n",
              "      <td>-0.740262</td>\n",
              "      <td>-0.153432</td>\n",
              "      <td>0.113362</td>\n",
              "      <td>-0.222076</td>\n",
              "      <td>-0.224544</td>\n",
              "      <td>-0.135388</td>\n",
              "      <td>-0.487467</td>\n",
              "      <td>2.682671</td>\n",
              "      <td>-0.139169</td>\n",
              "      <td>-0.671847</td>\n",
              "      <td>-0.396746</td>\n",
              "      <td>-1.627770</td>\n",
              "      <td>-0.131507</td>\n",
              "      <td>-0.823318</td>\n",
              "    </tr>\n",
              "    <tr>\n",
              "      <th>4</th>\n",
              "      <td>-0.639989</td>\n",
              "      <td>-0.442438</td>\n",
              "      <td>-0.646040</td>\n",
              "      <td>0.554658</td>\n",
              "      <td>0.263118</td>\n",
              "      <td>-0.740262</td>\n",
              "      <td>-0.153432</td>\n",
              "      <td>-0.180321</td>\n",
              "      <td>4.502954</td>\n",
              "      <td>-0.224544</td>\n",
              "      <td>-0.135388</td>\n",
              "      <td>-0.487467</td>\n",
              "      <td>-0.372763</td>\n",
              "      <td>-0.139169</td>\n",
              "      <td>-0.671847</td>\n",
              "      <td>-0.396746</td>\n",
              "      <td>0.614337</td>\n",
              "      <td>-0.131507</td>\n",
              "      <td>1.214598</td>\n",
              "    </tr>\n",
              "  </tbody>\n",
              "</table>\n",
              "</div>"
            ],
            "text/plain": [
              "   education  ...  recruitment_channel_sourcing\n",
              "0  -0.639989  ...                      1.214598\n",
              "1  -0.639989  ...                     -0.823318\n",
              "2  -0.639989  ...                     -0.823318\n",
              "3  -0.639989  ...                     -0.823318\n",
              "4  -0.639989  ...                      1.214598\n",
              "\n",
              "[5 rows x 19 columns]"
            ]
          },
          "metadata": {},
          "execution_count": 48
        }
      ]
    },
    {
      "cell_type": "code",
      "metadata": {
        "id": "I_l1TpNH_sqE"
      },
      "source": [
        "#predictions for Customer Data\n",
        "cust_data_pred = svc_clf.predict(test_df3)"
      ],
      "execution_count": 49,
      "outputs": []
    },
    {
      "cell_type": "code",
      "metadata": {
        "colab": {
          "base_uri": "https://localhost:8080/"
        },
        "id": "qrqzcPhivGc8",
        "outputId": "cd77c3fa-41d5-4523-8300-c0e81423743a"
      },
      "source": [
        "test_df.info()"
      ],
      "execution_count": 50,
      "outputs": [
        {
          "output_type": "stream",
          "name": "stdout",
          "text": [
            "<class 'pandas.core.frame.DataFrame'>\n",
            "RangeIndex: 1000 entries, 0 to 999\n",
            "Data columns (total 14 columns):\n",
            " #   Column                Non-Null Count  Dtype  \n",
            "---  ------                --------------  -----  \n",
            " 0   employee_id           1000 non-null   int64  \n",
            " 1   department            1000 non-null   object \n",
            " 2   region                1000 non-null   object \n",
            " 3   education             964 non-null    object \n",
            " 4   gender                1000 non-null   object \n",
            " 5   recruitment_channel   1000 non-null   object \n",
            " 6   no_of_trainings       1000 non-null   int64  \n",
            " 7   age                   1000 non-null   int64  \n",
            " 8   previous_year_rating  917 non-null    float64\n",
            " 9   length_of_service     1000 non-null   int64  \n",
            " 10  KPIs_met >80%         1000 non-null   int64  \n",
            " 11  awards_won?           1000 non-null   int64  \n",
            " 12  avg_training_score    1000 non-null   int64  \n",
            " 13  test                  1000 non-null   int64  \n",
            "dtypes: float64(1), int64(8), object(5)\n",
            "memory usage: 109.5+ KB\n"
          ]
        }
      ]
    },
    {
      "cell_type": "code",
      "metadata": {
        "colab": {
          "base_uri": "https://localhost:8080/"
        },
        "id": "cAE-TJdgvTWM",
        "outputId": "e3617e4d-91ab-449c-ec67-1e2a1043b150"
      },
      "source": [
        "test_df.drop([\"test\"], axis=1, inplace=True)\n",
        "test_df.info()"
      ],
      "execution_count": 51,
      "outputs": [
        {
          "output_type": "stream",
          "name": "stdout",
          "text": [
            "<class 'pandas.core.frame.DataFrame'>\n",
            "RangeIndex: 1000 entries, 0 to 999\n",
            "Data columns (total 13 columns):\n",
            " #   Column                Non-Null Count  Dtype  \n",
            "---  ------                --------------  -----  \n",
            " 0   employee_id           1000 non-null   int64  \n",
            " 1   department            1000 non-null   object \n",
            " 2   region                1000 non-null   object \n",
            " 3   education             964 non-null    object \n",
            " 4   gender                1000 non-null   object \n",
            " 5   recruitment_channel   1000 non-null   object \n",
            " 6   no_of_trainings       1000 non-null   int64  \n",
            " 7   age                   1000 non-null   int64  \n",
            " 8   previous_year_rating  917 non-null    float64\n",
            " 9   length_of_service     1000 non-null   int64  \n",
            " 10  KPIs_met >80%         1000 non-null   int64  \n",
            " 11  awards_won?           1000 non-null   int64  \n",
            " 12  avg_training_score    1000 non-null   int64  \n",
            "dtypes: float64(1), int64(7), object(5)\n",
            "memory usage: 101.7+ KB\n"
          ]
        }
      ]
    },
    {
      "cell_type": "code",
      "metadata": {
        "colab": {
          "base_uri": "https://localhost:8080/",
          "height": 278
        },
        "id": "2vtdmpd-q4ZW",
        "outputId": "37599843-bcba-4299-8640-00227310cbc5"
      },
      "source": [
        "test_df[\"is_promoted\"]=cust_data_pred\n",
        "print(test_df.shape)\n",
        "test_df.head()"
      ],
      "execution_count": 52,
      "outputs": [
        {
          "output_type": "stream",
          "name": "stdout",
          "text": [
            "(1000, 14)\n"
          ]
        },
        {
          "output_type": "execute_result",
          "data": {
            "text/html": [
              "<div>\n",
              "<style scoped>\n",
              "    .dataframe tbody tr th:only-of-type {\n",
              "        vertical-align: middle;\n",
              "    }\n",
              "\n",
              "    .dataframe tbody tr th {\n",
              "        vertical-align: top;\n",
              "    }\n",
              "\n",
              "    .dataframe thead th {\n",
              "        text-align: right;\n",
              "    }\n",
              "</style>\n",
              "<table border=\"1\" class=\"dataframe\">\n",
              "  <thead>\n",
              "    <tr style=\"text-align: right;\">\n",
              "      <th></th>\n",
              "      <th>employee_id</th>\n",
              "      <th>department</th>\n",
              "      <th>region</th>\n",
              "      <th>education</th>\n",
              "      <th>gender</th>\n",
              "      <th>recruitment_channel</th>\n",
              "      <th>no_of_trainings</th>\n",
              "      <th>age</th>\n",
              "      <th>previous_year_rating</th>\n",
              "      <th>length_of_service</th>\n",
              "      <th>KPIs_met &gt;80%</th>\n",
              "      <th>awards_won?</th>\n",
              "      <th>avg_training_score</th>\n",
              "      <th>is_promoted</th>\n",
              "    </tr>\n",
              "  </thead>\n",
              "  <tbody>\n",
              "    <tr>\n",
              "      <th>0</th>\n",
              "      <td>8724</td>\n",
              "      <td>Technology</td>\n",
              "      <td>region_26</td>\n",
              "      <td>Bachelor's</td>\n",
              "      <td>m</td>\n",
              "      <td>sourcing</td>\n",
              "      <td>1</td>\n",
              "      <td>24</td>\n",
              "      <td>NaN</td>\n",
              "      <td>1</td>\n",
              "      <td>1</td>\n",
              "      <td>0</td>\n",
              "      <td>77</td>\n",
              "      <td>1.0</td>\n",
              "    </tr>\n",
              "    <tr>\n",
              "      <th>1</th>\n",
              "      <td>74430</td>\n",
              "      <td>HR</td>\n",
              "      <td>region_4</td>\n",
              "      <td>Bachelor's</td>\n",
              "      <td>f</td>\n",
              "      <td>other</td>\n",
              "      <td>1</td>\n",
              "      <td>31</td>\n",
              "      <td>3.0</td>\n",
              "      <td>5</td>\n",
              "      <td>0</td>\n",
              "      <td>0</td>\n",
              "      <td>51</td>\n",
              "      <td>0.0</td>\n",
              "    </tr>\n",
              "    <tr>\n",
              "      <th>2</th>\n",
              "      <td>72255</td>\n",
              "      <td>Sales &amp; Marketing</td>\n",
              "      <td>region_13</td>\n",
              "      <td>Bachelor's</td>\n",
              "      <td>m</td>\n",
              "      <td>other</td>\n",
              "      <td>1</td>\n",
              "      <td>31</td>\n",
              "      <td>1.0</td>\n",
              "      <td>4</td>\n",
              "      <td>0</td>\n",
              "      <td>0</td>\n",
              "      <td>47</td>\n",
              "      <td>0.0</td>\n",
              "    </tr>\n",
              "    <tr>\n",
              "      <th>3</th>\n",
              "      <td>38562</td>\n",
              "      <td>Procurement</td>\n",
              "      <td>region_2</td>\n",
              "      <td>Bachelor's</td>\n",
              "      <td>f</td>\n",
              "      <td>other</td>\n",
              "      <td>3</td>\n",
              "      <td>31</td>\n",
              "      <td>2.0</td>\n",
              "      <td>9</td>\n",
              "      <td>0</td>\n",
              "      <td>0</td>\n",
              "      <td>65</td>\n",
              "      <td>0.0</td>\n",
              "    </tr>\n",
              "    <tr>\n",
              "      <th>4</th>\n",
              "      <td>64486</td>\n",
              "      <td>Finance</td>\n",
              "      <td>region_29</td>\n",
              "      <td>Bachelor's</td>\n",
              "      <td>m</td>\n",
              "      <td>sourcing</td>\n",
              "      <td>1</td>\n",
              "      <td>30</td>\n",
              "      <td>4.0</td>\n",
              "      <td>7</td>\n",
              "      <td>0</td>\n",
              "      <td>0</td>\n",
              "      <td>61</td>\n",
              "      <td>0.0</td>\n",
              "    </tr>\n",
              "  </tbody>\n",
              "</table>\n",
              "</div>"
            ],
            "text/plain": [
              "   employee_id         department  ... avg_training_score is_promoted\n",
              "0         8724         Technology  ...                 77         1.0\n",
              "1        74430                 HR  ...                 51         0.0\n",
              "2        72255  Sales & Marketing  ...                 47         0.0\n",
              "3        38562        Procurement  ...                 65         0.0\n",
              "4        64486            Finance  ...                 61         0.0\n",
              "\n",
              "[5 rows x 14 columns]"
            ]
          },
          "metadata": {},
          "execution_count": 52
        }
      ]
    },
    {
      "cell_type": "code",
      "metadata": {
        "colab": {
          "base_uri": "https://localhost:8080/"
        },
        "id": "jGxUV6aDt1jF",
        "outputId": "7c518b73-894d-451b-c0b2-37fc5716fe91"
      },
      "source": [
        "test_df.info()"
      ],
      "execution_count": 53,
      "outputs": [
        {
          "output_type": "stream",
          "name": "stdout",
          "text": [
            "<class 'pandas.core.frame.DataFrame'>\n",
            "RangeIndex: 1000 entries, 0 to 999\n",
            "Data columns (total 14 columns):\n",
            " #   Column                Non-Null Count  Dtype  \n",
            "---  ------                --------------  -----  \n",
            " 0   employee_id           1000 non-null   int64  \n",
            " 1   department            1000 non-null   object \n",
            " 2   region                1000 non-null   object \n",
            " 3   education             964 non-null    object \n",
            " 4   gender                1000 non-null   object \n",
            " 5   recruitment_channel   1000 non-null   object \n",
            " 6   no_of_trainings       1000 non-null   int64  \n",
            " 7   age                   1000 non-null   int64  \n",
            " 8   previous_year_rating  917 non-null    float64\n",
            " 9   length_of_service     1000 non-null   int64  \n",
            " 10  KPIs_met >80%         1000 non-null   int64  \n",
            " 11  awards_won?           1000 non-null   int64  \n",
            " 12  avg_training_score    1000 non-null   int64  \n",
            " 13  is_promoted           1000 non-null   float64\n",
            "dtypes: float64(2), int64(7), object(5)\n",
            "memory usage: 109.5+ KB\n"
          ]
        }
      ]
    },
    {
      "cell_type": "code",
      "metadata": {
        "colab": {
          "base_uri": "https://localhost:8080/"
        },
        "id": "As9QalXEuHXz",
        "outputId": "1d8b8659-6b80-44ca-c26c-5f634c47e9a4"
      },
      "source": [
        "test_df['is_promoted']=test_df['is_promoted'].astype(str)\n",
        "test_df.info()"
      ],
      "execution_count": 54,
      "outputs": [
        {
          "output_type": "stream",
          "name": "stdout",
          "text": [
            "<class 'pandas.core.frame.DataFrame'>\n",
            "RangeIndex: 1000 entries, 0 to 999\n",
            "Data columns (total 14 columns):\n",
            " #   Column                Non-Null Count  Dtype  \n",
            "---  ------                --------------  -----  \n",
            " 0   employee_id           1000 non-null   int64  \n",
            " 1   department            1000 non-null   object \n",
            " 2   region                1000 non-null   object \n",
            " 3   education             964 non-null    object \n",
            " 4   gender                1000 non-null   object \n",
            " 5   recruitment_channel   1000 non-null   object \n",
            " 6   no_of_trainings       1000 non-null   int64  \n",
            " 7   age                   1000 non-null   int64  \n",
            " 8   previous_year_rating  917 non-null    float64\n",
            " 9   length_of_service     1000 non-null   int64  \n",
            " 10  KPIs_met >80%         1000 non-null   int64  \n",
            " 11  awards_won?           1000 non-null   int64  \n",
            " 12  avg_training_score    1000 non-null   int64  \n",
            " 13  is_promoted           1000 non-null   object \n",
            "dtypes: float64(1), int64(7), object(6)\n",
            "memory usage: 109.5+ KB\n"
          ]
        }
      ]
    },
    {
      "cell_type": "code",
      "metadata": {
        "id": "qq3-XpaLtNXh"
      },
      "source": [
        "test_df['is_promoted'].replace(\"1.0\", \"Y\", inplace=True)\n",
        "test_df['is_promoted'].replace(\"0.0\", \"N\", inplace=True)"
      ],
      "execution_count": 55,
      "outputs": []
    },
    {
      "cell_type": "code",
      "metadata": {
        "colab": {
          "base_uri": "https://localhost:8080/",
          "height": 261
        },
        "id": "KqokjyzRtap5",
        "outputId": "2a901ce4-9b11-490a-8f56-d615f9048c17"
      },
      "source": [
        "test_df.head()"
      ],
      "execution_count": 56,
      "outputs": [
        {
          "output_type": "execute_result",
          "data": {
            "text/html": [
              "<div>\n",
              "<style scoped>\n",
              "    .dataframe tbody tr th:only-of-type {\n",
              "        vertical-align: middle;\n",
              "    }\n",
              "\n",
              "    .dataframe tbody tr th {\n",
              "        vertical-align: top;\n",
              "    }\n",
              "\n",
              "    .dataframe thead th {\n",
              "        text-align: right;\n",
              "    }\n",
              "</style>\n",
              "<table border=\"1\" class=\"dataframe\">\n",
              "  <thead>\n",
              "    <tr style=\"text-align: right;\">\n",
              "      <th></th>\n",
              "      <th>employee_id</th>\n",
              "      <th>department</th>\n",
              "      <th>region</th>\n",
              "      <th>education</th>\n",
              "      <th>gender</th>\n",
              "      <th>recruitment_channel</th>\n",
              "      <th>no_of_trainings</th>\n",
              "      <th>age</th>\n",
              "      <th>previous_year_rating</th>\n",
              "      <th>length_of_service</th>\n",
              "      <th>KPIs_met &gt;80%</th>\n",
              "      <th>awards_won?</th>\n",
              "      <th>avg_training_score</th>\n",
              "      <th>is_promoted</th>\n",
              "    </tr>\n",
              "  </thead>\n",
              "  <tbody>\n",
              "    <tr>\n",
              "      <th>0</th>\n",
              "      <td>8724</td>\n",
              "      <td>Technology</td>\n",
              "      <td>region_26</td>\n",
              "      <td>Bachelor's</td>\n",
              "      <td>m</td>\n",
              "      <td>sourcing</td>\n",
              "      <td>1</td>\n",
              "      <td>24</td>\n",
              "      <td>NaN</td>\n",
              "      <td>1</td>\n",
              "      <td>1</td>\n",
              "      <td>0</td>\n",
              "      <td>77</td>\n",
              "      <td>Y</td>\n",
              "    </tr>\n",
              "    <tr>\n",
              "      <th>1</th>\n",
              "      <td>74430</td>\n",
              "      <td>HR</td>\n",
              "      <td>region_4</td>\n",
              "      <td>Bachelor's</td>\n",
              "      <td>f</td>\n",
              "      <td>other</td>\n",
              "      <td>1</td>\n",
              "      <td>31</td>\n",
              "      <td>3.0</td>\n",
              "      <td>5</td>\n",
              "      <td>0</td>\n",
              "      <td>0</td>\n",
              "      <td>51</td>\n",
              "      <td>N</td>\n",
              "    </tr>\n",
              "    <tr>\n",
              "      <th>2</th>\n",
              "      <td>72255</td>\n",
              "      <td>Sales &amp; Marketing</td>\n",
              "      <td>region_13</td>\n",
              "      <td>Bachelor's</td>\n",
              "      <td>m</td>\n",
              "      <td>other</td>\n",
              "      <td>1</td>\n",
              "      <td>31</td>\n",
              "      <td>1.0</td>\n",
              "      <td>4</td>\n",
              "      <td>0</td>\n",
              "      <td>0</td>\n",
              "      <td>47</td>\n",
              "      <td>N</td>\n",
              "    </tr>\n",
              "    <tr>\n",
              "      <th>3</th>\n",
              "      <td>38562</td>\n",
              "      <td>Procurement</td>\n",
              "      <td>region_2</td>\n",
              "      <td>Bachelor's</td>\n",
              "      <td>f</td>\n",
              "      <td>other</td>\n",
              "      <td>3</td>\n",
              "      <td>31</td>\n",
              "      <td>2.0</td>\n",
              "      <td>9</td>\n",
              "      <td>0</td>\n",
              "      <td>0</td>\n",
              "      <td>65</td>\n",
              "      <td>N</td>\n",
              "    </tr>\n",
              "    <tr>\n",
              "      <th>4</th>\n",
              "      <td>64486</td>\n",
              "      <td>Finance</td>\n",
              "      <td>region_29</td>\n",
              "      <td>Bachelor's</td>\n",
              "      <td>m</td>\n",
              "      <td>sourcing</td>\n",
              "      <td>1</td>\n",
              "      <td>30</td>\n",
              "      <td>4.0</td>\n",
              "      <td>7</td>\n",
              "      <td>0</td>\n",
              "      <td>0</td>\n",
              "      <td>61</td>\n",
              "      <td>N</td>\n",
              "    </tr>\n",
              "  </tbody>\n",
              "</table>\n",
              "</div>"
            ],
            "text/plain": [
              "   employee_id         department  ... avg_training_score is_promoted\n",
              "0         8724         Technology  ...                 77           Y\n",
              "1        74430                 HR  ...                 51           N\n",
              "2        72255  Sales & Marketing  ...                 47           N\n",
              "3        38562        Procurement  ...                 65           N\n",
              "4        64486            Finance  ...                 61           N\n",
              "\n",
              "[5 rows x 14 columns]"
            ]
          },
          "metadata": {},
          "execution_count": 56
        }
      ]
    },
    {
      "cell_type": "code",
      "metadata": {
        "id": "Eai7imtgGmXP"
      },
      "source": [
        "from google.colab import files\n",
        "test_df.to_csv(\"gdrive/My Drive/Datasets/Customer_HR_Analysis_with_Predicted_Status_Values.csv\", index = False)"
      ],
      "execution_count": 57,
      "outputs": []
    }
  ]
}
